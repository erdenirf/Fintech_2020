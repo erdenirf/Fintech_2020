{
 "cells": [
  {
   "cell_type": "markdown",
   "metadata": {},
   "source": [
    "# Предсказание победителя в матче игры DOTA2 \n",
    "\n",
    "https://www.kaggle.com/c/dota-2-prediction/data?select=train.csv\n",
    "\n",
    "В данном ДЗ вам нужно будет предсказывать результат победителя в матче по DOTA2 при помощи информации, котороая доступна на первые 5 минут игры (в среднем игра длится 30-40 минут).\n",
    "\n",
    "**Описание признаков: (игроки команды Radiant (свет) имеют префикс rN, команды Dire (Тьма) - dN )**:\n",
    "\n",
    "- r1_hero : player's hero (mapping can be found in hero_names.json)\n",
    "\n",
    "- r1_level : maximum hero level reached (by the first 5 minutes of the game)\n",
    "\n",
    "- r1_xp : maximum experience gained\n",
    "\n",
    "- r1_gold : amount of gold earned\n",
    "\n",
    "- r1_lh : last hits, number of creeps killed\n",
    "\n",
    "- r1_kills : number of players killed\n",
    "\n",
    "- r1_deaths : the number of deaths for the hero\n",
    "\n",
    "- r1_items : the number of items purchased\n",
    "\n",
    "**Признаки для первой крови (кто первый убьет персонажа):**\n",
    "\n",
    "- first_blood_time : time for the first blood\n",
    "\n",
    "- first_blood_team : the team that committed the first blood (0 - Radiant, 1 - Dire)\n",
    "\n",
    "- first_blood_player1 : index of player who got the kill\n",
    "\n",
    "- first_blood_player2 : index of player who got killed\n",
    "\n",
    "**Признаки для команд (префиксы radiant_ and dire_ ):**\n",
    "\n",
    "- radiant_bottle_time : the time the team first purchased the item \"bottle\"\n",
    "\n",
    "- radiant_courier_time : acquisition time of the \"courier\" item\n",
    "\n",
    "- radiant_flying_courier_time : acquisition time of the \"flying_courier\" item\n",
    "\n",
    "- radiant_tpscroll_count : the number of tpscroll items bought in the first 5 minutes\n",
    "\n",
    "- radiant_boots_count : the number of \"boots\" for the team in the first 5 minutes\n",
    "\n",
    "- radiant_ward_observer_count : the number of \"ward_observer\" items\n",
    "\n",
    "- radiant_ward_sentry_count : the number of \"ward_sentry\" items\n",
    "\n",
    "- radiant_first_ward_time : the time for the first placed ward for the team\n",
    "\n",
    "Временные признаки выражены в секундах, начиная с начала игры"
   ]
  },
  {
   "cell_type": "code",
   "execution_count": 12,
   "metadata": {},
   "outputs": [],
   "source": [
    "import pandas as pd\n",
    "import os\n",
    "import warnings \n",
    "import re # модуль для регулярных выражений\n",
    "warnings.filterwarnings(\"ignore\")\n",
    "os.chdir(\"/Users/iakubovskii/Machine_Learning/RANEPA/Fintech_2020/Машинное обучение/Данные/ДЗ1/\")\n",
    "df = pd.read_csv(\"dota.csv.zip\")"
   ]
  },
  {
   "cell_type": "code",
   "execution_count": 13,
   "metadata": {},
   "outputs": [
    {
     "name": "stdout",
     "output_type": "stream",
     "text": [
      "['match_id', 'r1_hero', 'r1_level', 'r1_xp', 'r1_gold', 'r1_lh', 'r1_kills', 'r1_deaths', 'r1_items', 'r2_hero', 'r2_level', 'r2_xp', 'r2_gold', 'r2_lh', 'r2_kills', 'r2_deaths', 'r2_items', 'r3_hero', 'r3_level', 'r3_xp', 'r3_gold', 'r3_lh', 'r3_kills', 'r3_deaths', 'r3_items', 'r4_hero', 'r4_level', 'r4_xp', 'r4_gold', 'r4_lh', 'r4_kills', 'r4_deaths', 'r4_items', 'r5_hero', 'r5_level', 'r5_xp', 'r5_gold', 'r5_lh', 'r5_kills', 'r5_deaths', 'r5_items', 'd1_hero', 'd1_level', 'd1_xp', 'd1_gold', 'd1_lh', 'd1_kills', 'd1_deaths', 'd1_items', 'd2_hero', 'd2_level', 'd2_xp', 'd2_gold', 'd2_lh', 'd2_kills', 'd2_deaths', 'd2_items', 'd3_hero', 'd3_level', 'd3_xp', 'd3_gold', 'd3_lh', 'd3_kills', 'd3_deaths', 'd3_items', 'd4_hero', 'd4_level', 'd4_xp', 'd4_gold', 'd4_lh', 'd4_kills', 'd4_deaths', 'd4_items', 'd5_hero', 'd5_level', 'd5_xp', 'd5_gold', 'd5_lh', 'd5_kills', 'd5_deaths', 'd5_items', 'first_blood_time', 'first_blood_team', 'first_blood_player1', 'first_blood_player2', 'radiant_bottle_time', 'radiant_courier_time', 'radiant_flying_courier_time', 'radiant_tpscroll_count', 'radiant_boots_count', 'radiant_ward_observer_count', 'radiant_ward_sentry_count', 'radiant_first_ward_time', 'dire_bottle_time', 'dire_courier_time', 'dire_flying_courier_time', 'dire_tpscroll_count', 'dire_boots_count', 'dire_ward_observer_count', 'dire_ward_sentry_count', 'dire_first_ward_time', 'duration', 'radiant_win']\n"
     ]
    }
   ],
   "source": [
    "cols = df.columns.tolist()\n",
    "print(cols)"
   ]
  },
  {
   "cell_type": "markdown",
   "metadata": {},
   "source": [
    "# Предобработка данных"
   ]
  },
  {
   "cell_type": "markdown",
   "metadata": {},
   "source": [
    "Заменим в датасете факторы, связанные с золотом, опытом и т.д. для каждого игрока на описательные статистики\n",
    "для каждой команды. Например, нас будет интересовать среднее количество золота команды, медианное количество золота, стандартное отклонение. \n"
   ]
  },
  {
   "cell_type": "code",
   "execution_count": 14,
   "metadata": {},
   "outputs": [],
   "source": [
    "def get_new_df(df):\n",
    "    '''Функция принимает на вход исходный датасет, а на выходе выдает обработанный датасет для \n",
    "    обучения модели\n",
    "    '''\n",
    "    # Преобразуем признаки, связанные с первым убийством так,\n",
    "    # чтобы в итоге он принимал 3 значения: \n",
    "    # Noone - если не было; Radiant; Dire\n",
    "    df['first_blood'] = np.where(df['first_blood_time'].isna(), 'Noone', \n",
    "                                  np.where(df['first_blood_team'] == 0, \"Radiant\", \"Dire\"))\n",
    "    # Добавим столбец с первой кровью (первое убийство)\n",
    "    new_df = df[['match_id', 'first_blood']].copy()\n",
    "    # Добавим статистики для команд по золоту, уровню, опыту, убийствам героев и крипов, а также смертям\n",
    "    for team in ['radiant', 'dire']:\n",
    "        for agg_col in ['level', 'xp', 'gold', 'lh', 'kills', 'deaths']:\n",
    "            if team == \"radiant\":\n",
    "                cols = [\"r\" + str(i) + \"_\" + agg_col for i in range(1,6)]\n",
    "                new_df[team + \"_\" + \"mean\" + '_' + agg_col] = df[cols].values.mean(axis=1)\n",
    "                new_df[team + \"_\" + \"std\" + '_' + agg_col] = df[cols].values.std(axis=1)\n",
    "                new_df[team + \"_\" + \"median\" + '_' + agg_col] = np.median(df[cols].values, axis=1)\n",
    "            else:\n",
    "                cols = [\"d\" + str(i) + \"_\" + agg_col for i in range(1,6)]\n",
    "                new_df[team + \"_\" + \"mean\" + '_' + agg_col] = df[cols].values.mean(axis=1)\n",
    "                new_df[team + \"_\" + \"std\" + '_' + agg_col] = df[cols].values.std(axis=1)\n",
    "                new_df[team + \"_\" + \"median\" + '_' + agg_col] = np.median(df[cols].values, axis=1)\n",
    "    radiant_cols = [col for col in df.columns if 'radiant' in col]\n",
    "    dire_cols = [col for col in df.columns if 'dire' in col]\n",
    "    rad_dire = list(set(radiant_cols).union(dire_cols))\n",
    "    rad_dire = [col for col in rad_dire if not re.search(r\"time\", col)]\n",
    "    new_df = pd.concat([new_df, df[rad_dire]], axis=1)\n",
    "    \n",
    "    # Преобразуем переменную первого убийства дамми-кодированием\n",
    "    new_df = pd.concat([new_df.drop(\"first_blood\", axis=1),\n",
    "                          pd.get_dummies(new_df['first_blood'], drop_first=True)],\n",
    "                         axis=1).set_index(\"match_id\")\n",
    "    \n",
    "    return new_df\n",
    "df = get_new_df(df)"
   ]
  },
  {
   "cell_type": "code",
   "execution_count": 21,
   "metadata": {},
   "outputs": [],
   "source": [
    "# Определим целевую переменную \n",
    "X, y = df.drop(\"radiant_win\", axis=1), df['radiant_win'].map({\"True\":1, \"False\":0})\n",
    "\n",
    "# Разобьем на тренировочную и тестовую\n",
    "from sklearn.model_selection import train_test_split\n",
    "X_train, X_test, y_train, y_test = train_test_split(X, y, test_size=0.3,\n",
    "                                                   random_state=17)"
   ]
  },
  {
   "cell_type": "markdown",
   "metadata": {},
   "source": [
    "##############################################################################################################\n",
    "# Задания\n",
    "\n",
    "ВНИМАНИЕ!!!\n",
    "ВЕЗДЕ, где есть параметр **random_state**, устанавливайте его равным **17**, иначе у нас могут не совпасть результаты и будет плохо.\n",
    "\n",
    "Результаты округляем до 3 знака после запятой. Например, ROC AUC = 0.561\n",
    "\n",
    "Задание *найти оптимальный гиперпараметр* подразумевает 5 фолдовую кросс-валидацию с random_state=17. \n",
    "\n",
    "По умолчанию мы используем ВСЕ ПРИЗНАКИ из датасетов."
   ]
  },
  {
   "cell_type": "markdown",
   "metadata": {},
   "source": [
    "1. При помощи метода ближайших соседей сделайте прогноз для числа соседей *со всеми объясняющими признаками*, равным 11. Чему равен `Recall` на тестовой выборке?"
   ]
  },
  {
   "cell_type": "markdown",
   "metadata": {},
   "source": [
    "2. Среди следующих значений коэффициентов регуляризации выберите тот, для которого `ROC AUC` score на тестовой выборке для логистической регрессии *со всеми факторами* будет минимальным.\n",
    "\n",
    "$$ C = [0, 0.05, 0.1, 0.3, 0.5, 0.75, 0.9, 1] $$"
   ]
  },
  {
   "cell_type": "markdown",
   "metadata": {},
   "source": [
    "3. Чему равен `Precision` для дерева решений с параметрами по умолчанию (реализация sklearn, random_state=17)?"
   ]
  },
  {
   "cell_type": "markdown",
   "metadata": {},
   "source": [
    "4. Удалите признаки, для которых корреляция с целевой переменной меньше 0.1 и сделайте прогноз для логистической регрессии с оптимальным гиперпараметром C = [0, 0.5, 1] (максимизируем `ROC AUC`) из тренировочной выборки для тестового набора данных. В качестве ответа укажите `ROC AUC` на тестовом датасете."
   ]
  },
  {
   "cell_type": "markdown",
   "metadata": {},
   "source": [
    "5. Повтотрите 4 пункт для случая дерева решений."
   ]
  },
  {
   "cell_type": "markdown",
   "metadata": {},
   "source": [
    "6. Обучите модель бэггинга на тренирочном наборе данных для всех признаков для количества деревьев, равного 200. Чему равна `OOB ошибка` на тренировочной выборке?"
   ]
  },
  {
   "cell_type": "markdown",
   "metadata": {},
   "source": [
    "7. Обучите на тренировочном датасете модель бэггинга с числом деревьев, равным 300, и сделайте прогноз на тестовой выборке. Чему равна `F1 мера`?"
   ]
  },
  {
   "cell_type": "markdown",
   "metadata": {},
   "source": [
    "8. На тренировочном датасете выберите оптимальные гиперпараметры (через `Accuracy`) для дерева решений из такого множества:\n",
    "\n",
    " - max_depth = [1,3,5,10]\n",
    " - max_features = [5, 15, 20]\n",
    " \n",
    "Чему равен `Accuracy` на тестовом наборе данных с таким набором гиперпараметров?"
   ]
  },
  {
   "cell_type": "markdown",
   "metadata": {},
   "source": [
    "9. На тренировочной выборке найдите оптимальное количество соседей (через `Accuracy`) для метода kNN и сделайте прогноз на тестовых данных. Чему равен `ROC AUC`?"
   ]
  },
  {
   "cell_type": "markdown",
   "metadata": {},
   "source": [
    "10. Подберите оптимальный коэффициент регуляризации для логистической регрессии (через `Accuracy`) и сделайте прогноз на тестовом наборе данных. Чему равен `Accuracy`?\n",
    "\n",
    "С = [0.01, 0.05, 0.1, 0.2, 0.25, 0.3, 0.5, 0.8, 0.85, 0.9, 0.99]"
   ]
  },
  {
   "cell_type": "code",
   "execution_count": null,
   "metadata": {},
   "outputs": [],
   "source": []
  }
 ],
 "metadata": {
  "kernelspec": {
   "display_name": "Python 3",
   "language": "python",
   "name": "python3"
  },
  "language_info": {
   "codemirror_mode": {
    "name": "ipython",
    "version": 3
   },
   "file_extension": ".py",
   "mimetype": "text/x-python",
   "name": "python",
   "nbconvert_exporter": "python",
   "pygments_lexer": "ipython3",
   "version": "3.8.3"
  },
  "toc": {
   "base_numbering": 1,
   "nav_menu": {},
   "number_sections": true,
   "sideBar": true,
   "skip_h1_title": false,
   "title_cell": "Table of Contents",
   "title_sidebar": "Contents",
   "toc_cell": false,
   "toc_position": {},
   "toc_section_display": true,
   "toc_window_display": false
  },
  "varInspector": {
   "cols": {
    "lenName": 16,
    "lenType": 16,
    "lenVar": 40
   },
   "kernels_config": {
    "python": {
     "delete_cmd_postfix": "",
     "delete_cmd_prefix": "del ",
     "library": "var_list.py",
     "varRefreshCmd": "print(var_dic_list())"
    },
    "r": {
     "delete_cmd_postfix": ") ",
     "delete_cmd_prefix": "rm(",
     "library": "var_list.r",
     "varRefreshCmd": "cat(var_dic_list()) "
    }
   },
   "types_to_exclude": [
    "module",
    "function",
    "builtin_function_or_method",
    "instance",
    "_Feature"
   ],
   "window_display": false
  }
 },
 "nbformat": 4,
 "nbformat_minor": 4
}
