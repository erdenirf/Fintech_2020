{
 "cells": [
  {
   "cell_type": "code",
   "execution_count": 170,
   "metadata": {},
   "outputs": [],
   "source": [
    "# Импорт необходимых пакетов\n",
    "\n",
    "# Анализ данных\n",
    "import pandas as pd\n",
    "import numpy as np\n",
    "\n",
    "# Графики\n",
    "import matplotlib.pyplot as plt\n",
    "import seaborn as sns\n",
    "plt.rcParams['figure.figsize'] = (10,5)\n",
    "# Работа с файлами\n",
    "import os\n",
    "import glob\n",
    "\n",
    "year_path_to_ML_folder = \"/Users/iakubovskii/Machine_Learning/RANEPA/MachineLearning/\"\n",
    "os.chdir(year_path_to_ML_folder + \"Data\")\n",
    "\n",
    "# Отключаем предупреждения юпитера\n",
    "import warnings\n",
    "warnings.filterwarnings(\"ignore\")"
   ]
  },
  {
   "cell_type": "markdown",
   "metadata": {},
   "source": [
    "# 1. Линейная регрессия в науке о данных\n",
    "\n",
    "Основная цель любого аналитика - приблизиться к понимаю взаимосвязей между исследуемыми величинами. Например, найти зависимость между затратами на рекламу и продажами товара (рисунок ниже). "
   ]
  },
  {
   "cell_type": "code",
   "execution_count": 3,
   "metadata": {
    "scrolled": true
   },
   "outputs": [
    {
     "data": {
      "image/png": "[encoded data removed]",
      "text/plain": [
       "<Figure size 720x360 with 1 Axes>"
      ]
     },
     "metadata": {
      "needs_background": "light"
     },
     "output_type": "display_data"
    }
   ],
   "source": [
    "advert = pd.read_csv(\"Advertising.csv\")\n",
    "advert['Advert'] = advert.drop(\"Sales\", axis=1).sum(axis=1)\n",
    "sns.regplot(data = advert, x = \"Advert\", y = \"Sales\");"
   ]
  },
  {
   "cell_type": "markdown",
   "metadata": {},
   "source": [
    "На рисунке выше изображена диаграмма рассеивания, где по оси абсцисс затраты на рекламу (тыс. долл.), а по оси ординат - продажи (тыс. единиц товара). Чем более вытянуто облако точек по диагонали, тем более тесная линейная взаимосвязь наблюдается между переменными. Если же облако точек выглядит горизонтально или вертикально, то это свидетельствует об отсутсвии связи между переменными.\n",
    "\n",
    "Линия, которая проходит сквозь данное облако точек характеризует линейную взаимосвязь между переменными. Переменная *Sales* в нашем случае является зависимой (объясняемой), а *Advert* - зависящей (объясняющей).\n",
    "\n",
    "**Линейная взаимосвязь** (по параметру) - взаимосвязь в случае, когда факторы в модели с оцененными для них коэффициентами составляют линеную комбинацию:\n",
    "\n",
    "$$ y = w_1*x_1 + w_2*x_2 + ... + w_p*x_p$$.\n",
    "\n",
    "**Нелинейная взаимосвязь** (по параметру) - любая зависимость, отличная от линейной комбинации. Например, такая:\n",
    "\n",
    "$$ y = w_1*x_1 + \\frac{w_2*x_2}{w_3 + x_2} $$\n",
    "\n",
    "**Нелинейная взаимосвязь** (между переменными) - взаимосвязь между переменными в линейной регрессии, где объясняющая переменная принимает нелинейную форму. Например, зависимость заработной платы от возраста в большинстве случаев будет иметь нелинейный вид:\n",
    "\n",
    "$$ wage = w_0 + w_1*age + w_2 * age^2 $$\n",
    "\n",
    "Нелинейную взаимосвязь между переменными стоит отличать от нелинейных оценок по параметру. Если в первом случае, мы загоняем в модель нелинейные факторы, то во втором - нелинейные параметры."
   ]
  },
  {
   "cell_type": "markdown",
   "metadata": {},
   "source": [
    "Линейные модели позволяют получить ответы на следующие вопросы:\n",
    "\n",
    "- Есть ли взаимосвязь между переменными?\n",
    "\n",
    "- Насколько эта взаимосвязь сильная?\n",
    "\n",
    "- Какие факторы вносят наибольший вклад в изменение зависимой переменной?\n",
    "\n",
    "- Насколько точны наши оценки влияния факторов?\n",
    "\n",
    "- Насколько точны наши прогнозы?\n",
    "\n",
    "- Характер влияния: линейный или нелинейный?\n",
    "\n",
    "- Насколько сильно взаимосвязь между каким-то фактором и объясняемой переменной зависит от остальных факторов?"
   ]
  },
  {
   "cell_type": "markdown",
   "metadata": {},
   "source": [
    "## 1.1 Оценка коэффициентов в линейной регрессии"
   ]
  },
  {
   "cell_type": "markdown",
   "metadata": {},
   "source": [
    "Давайте рассмотрим случай простой парной регрессии для наших рекламных данных. Общий вид для данной регрессии имеет вид (символ $i$ обозначает номер наблюдения):\n",
    "\n",
    "$$ Sales_i = \\beta_0 + \\beta_1 Advert_i + \\epsilon_i$$\n",
    "\n",
    "$\\epsilon$ здесь означает ошибку регрессии, в которую входят все прочие факторы (для можем и не можем собрать данные), которые не включены в нашу модель. Для того, чтобы численно получить оценки для константы ($\\beta_0$) и коэффициента наклона ($\\beta_1$), в самом простом случае применяется *МНК* - метод наименьших квадратов, суть которого сводится к минимизации суммы квадратов ошибок по каждому наблюдению $i$:\n",
    "\n",
    "$$ \\sum_i\\epsilon_i^2  \\implies \\underset{\\beta_0, \\beta_1} min$$\n",
    "\n",
    "Алгебраически решение данной задачи приводит к следующим оценкам коэффициентов:\n",
    "\n",
    "$$ \\beta_1 = \\frac{\\sum_{i=1}^N (Advert_i - \\bar{Advert})(Sales_i - \\bar{Sales})}\n",
    "{\\sum_{i=1}^N (Advert_i - \\bar{Advert})} $$\n",
    "\n",
    "$$ \\beta_0 = \\bar{Sales} - \\beta_1 * \\bar{Advert} $$\n",
    "\n",
    "Подстановка данных формул для наших данных дает следующие результаты для оценок коэффициентов."
   ]
  },
  {
   "cell_type": "code",
   "execution_count": 4,
   "metadata": {},
   "outputs": [
    {
     "data": {
      "text/plain": [
       "0.0486878793190482"
      ]
     },
     "execution_count": 4,
     "metadata": {},
     "output_type": "execute_result"
    }
   ],
   "source": [
    "advert[['Sales', \"Advert\"]].cov().values[0,1] / advert['Advert'].var()"
   ]
  },
  {
   "cell_type": "code",
   "execution_count": 173,
   "metadata": {},
   "outputs": [
    {
     "name": "stdout",
     "output_type": "stream",
     "text": [
      "beta1 = 0.0486878793190482, beta0 = 4.2430282160363255\n"
     ]
    }
   ],
   "source": [
    "beta1 = advert[['Sales', \"Advert\"]].cov().values[0,1] / advert['Advert'].var() # ковариация делить на дисперсию\n",
    "beta0 = advert['Sales'].mean() - beta1 * advert['Advert'].mean()\n",
    "print(f\"beta1 = {beta1}, beta0 = {beta0}\")"
   ]
  },
  {
   "cell_type": "markdown",
   "metadata": {},
   "source": [
    "Проверим результат при помощи статистического пакета `statsmodels`"
   ]
  },
  {
   "cell_type": "code",
   "execution_count": 189,
   "metadata": {},
   "outputs": [
    {
     "name": "stdout",
     "output_type": "stream",
     "text": [
      "                            OLS Regression Results                            \n",
      "==============================================================================\n",
      "Dep. Variable:                  Sales   R-squared:                       0.753\n",
      "Model:                            OLS   Adj. R-squared:                  0.752\n",
      "Method:                 Least Squares   F-statistic:                     603.4\n",
      "Date:                Mon, 19 Apr 2021   Prob (F-statistic):           5.06e-62\n",
      "Time:                        21:23:05   Log-Likelihood:                -473.88\n",
      "No. Observations:                 200   AIC:                             951.8\n",
      "Df Residuals:                     198   BIC:                             958.4\n",
      "Df Model:                           1                                         \n",
      "Covariance Type:            nonrobust                                         \n",
      "==============================================================================\n",
      "                 coef    std err          t      P>|t|      [0.025      0.975]\n",
      "------------------------------------------------------------------------------\n",
      "Intercept      4.2430      0.439      9.676      0.000       3.378       5.108\n",
      "Advert         0.0487      0.002     24.564      0.000       0.045       0.053\n",
      "==============================================================================\n",
      "Omnibus:                        6.851   Durbin-Watson:                   1.967\n",
      "Prob(Omnibus):                  0.033   Jarque-Bera (JB):                6.692\n",
      "Skew:                          -0.373   Prob(JB):                       0.0352\n",
      "Kurtosis:                       3.495   Cond. No.                         528.\n",
      "==============================================================================\n",
      "\n",
      "Notes:\n",
      "[1] Standard Errors assume that the covariance matrix of the errors is correctly specified.\n"
     ]
    }
   ],
   "source": [
    "import statsmodels.api as sm\n",
    "import statsmodels.formula.api as smf\n",
    "print(smf.ols(\"Sales ~ Advert\", data = advert).fit().summary())"
   ]
  },
  {
   "cell_type": "markdown",
   "metadata": {},
   "source": [
    "Данный протокол оценивания показывает результаты парной регрессии с константой. Видим, что константа и коэффициент наклона при переменной *Advert* совпадают с тем, что мы посчитали выше."
   ]
  },
  {
   "cell_type": "code",
   "execution_count": 7,
   "metadata": {},
   "outputs": [
    {
     "data": {
      "text/plain": [
       "Index(['TV', 'Radio', 'Newspaper', 'Sales', 'Advert'], dtype='object')"
      ]
     },
     "execution_count": 7,
     "metadata": {},
     "output_type": "execute_result"
    }
   ],
   "source": [
    "advert.columns"
   ]
  },
  {
   "cell_type": "markdown",
   "metadata": {},
   "source": [
    "Парная регрессия нам можем дать ответ о влиянии суммарного рекламного бюджета на продажи товара. Однако, интересней будет посмотреть влияние каждого медиаканала в отдельности. В этом случае нам нужно построить множественную линейную регрессию (парная линейная регрессия является частным случаем множественной). Вид нашей линейной функции теперь следующий:\n",
    "\n",
    "$$ Sales_i = \\beta_0 + \\beta_1TV_i + \\beta_2Radio_i + \\beta_3Newspaper_i + \\epsilon_i$$"
   ]
  },
  {
   "cell_type": "markdown",
   "metadata": {},
   "source": [
    "Универсальная формула для получения оценок коэффициентов $\\beta_i$ выводится из условия минимизации суммы квадратов ошибки. Обозначим $Sales_i = y$, наблюдения по рекламным переменнным за $X$,  вектор параметров за $\\beta$, а вектор ошибок за $\\epsilon$. Тогда, минимизация суммы квадратов отклонений выглядит следующим образом:\n",
    "\n",
    "$$ \\sum_i\\epsilon_i^2 = (y - \\beta X)^2 = (y - \\beta X)^T(y - \\beta X) \\implies \\underset{\\beta} min $$\n",
    "\n",
    "Решая данную оптимизационную задачу относительно $\\beta$ мы получаем формулу, которую никто из вас не должен забыть никогда:\n",
    "\n",
    "$$ \\hat{\\beta} = (X^TX)^{-1}X^Ty $$\n",
    "\n",
    "Давайте проверим, действительно ли это так на наших данных по рекламе."
   ]
  },
  {
   "cell_type": "code",
   "execution_count": 176,
   "metadata": {},
   "outputs": [
    {
     "data": {
      "text/plain": [
       "array([0.05379188, 0.22222731, 0.01681639])"
      ]
     },
     "execution_count": 176,
     "metadata": {},
     "output_type": "execute_result"
    }
   ],
   "source": [
    "X = advert[['TV', \"Radio\", \"Newspaper\"]].values\n",
    "y = advert['Sales'].values\n",
    "beta = np.linalg.inv(X.T @ X) @ X.T @ y\n",
    "beta"
   ]
  },
  {
   "cell_type": "code",
   "execution_count": 177,
   "metadata": {},
   "outputs": [
    {
     "name": "stdout",
     "output_type": "stream",
     "text": [
      "                                 OLS Regression Results                                \n",
      "=======================================================================================\n",
      "Dep. Variable:                      y   R-squared (uncentered):                   0.982\n",
      "Model:                            OLS   Adj. R-squared (uncentered):              0.982\n",
      "Method:                 Least Squares   F-statistic:                              3566.\n",
      "Date:                Mon, 19 Apr 2021   Prob (F-statistic):                   2.43e-171\n",
      "Time:                        21:00:24   Log-Likelihood:                         -423.54\n",
      "No. Observations:                 200   AIC:                                      853.1\n",
      "Df Residuals:                     197   BIC:                                      863.0\n",
      "Df Model:                           3                                                  \n",
      "Covariance Type:            nonrobust                                                  \n",
      "==============================================================================\n",
      "                 coef    std err          t      P>|t|      [0.025      0.975]\n",
      "------------------------------------------------------------------------------\n",
      "x1             0.0538      0.001     40.507      0.000       0.051       0.056\n",
      "x2             0.2222      0.009     23.595      0.000       0.204       0.241\n",
      "x3             0.0168      0.007      2.517      0.013       0.004       0.030\n",
      "==============================================================================\n",
      "Omnibus:                        5.982   Durbin-Watson:                   2.038\n",
      "Prob(Omnibus):                  0.050   Jarque-Bera (JB):                7.039\n",
      "Skew:                          -0.232   Prob(JB):                       0.0296\n",
      "Kurtosis:                       3.794   Cond. No.                         12.6\n",
      "==============================================================================\n",
      "\n",
      "Notes:\n",
      "[1] R² is computed without centering (uncentered) since the model does not contain a constant.\n",
      "[2] Standard Errors assume that the covariance matrix of the errors is correctly specified.\n"
     ]
    }
   ],
   "source": [
    "print(sm.OLS(y, X).fit().summary())"
   ]
  },
  {
   "cell_type": "markdown",
   "metadata": {},
   "source": [
    "Внимательный читатель заметит отличие оценивания предыдущей регрессии от парной. Помимо того, что мы включили больше переменных, мы еще и забыли включить константу! Модель с константой фактически означает, что в наше уравнение регрессии будет включаться переменная, тождественная равна единице, т.е. состоящая из вектора единиц. Повторим наши вычисления для множественной регрессии с константой."
   ]
  },
  {
   "cell_type": "code",
   "execution_count": 178,
   "metadata": {},
   "outputs": [
    {
     "data": {
      "text/plain": [
       "array([ 2.93888937e+00,  4.57646455e-02,  1.88530017e-01, -1.03749304e-03])"
      ]
     },
     "execution_count": 178,
     "metadata": {},
     "output_type": "execute_result"
    }
   ],
   "source": [
    "new_X = np.hstack([np.ones(X.shape[0]).reshape(-1,1), X])\n",
    "beta_with_constant = np.linalg.inv(new_X.T @ new_X) @ new_X.T @ y\n",
    "beta_with_constant"
   ]
  },
  {
   "cell_type": "code",
   "execution_count": 179,
   "metadata": {},
   "outputs": [
    {
     "name": "stdout",
     "output_type": "stream",
     "text": [
      "                            OLS Regression Results                            \n",
      "==============================================================================\n",
      "Dep. Variable:                      y   R-squared:                       0.897\n",
      "Model:                            OLS   Adj. R-squared:                  0.896\n",
      "Method:                 Least Squares   F-statistic:                     570.3\n",
      "Date:                Mon, 19 Apr 2021   Prob (F-statistic):           1.58e-96\n",
      "Time:                        21:02:38   Log-Likelihood:                -386.18\n",
      "No. Observations:                 200   AIC:                             780.4\n",
      "Df Residuals:                     196   BIC:                             793.6\n",
      "Df Model:                           3                                         \n",
      "Covariance Type:            nonrobust                                         \n",
      "==============================================================================\n",
      "                 coef    std err          t      P>|t|      [0.025      0.975]\n",
      "------------------------------------------------------------------------------\n",
      "const          2.9389      0.312      9.422      0.000       2.324       3.554\n",
      "x1             0.0458      0.001     32.809      0.000       0.043       0.049\n",
      "x2             0.1885      0.009     21.893      0.000       0.172       0.206\n",
      "x3            -0.0010      0.006     -0.177      0.860      -0.013       0.011\n",
      "==============================================================================\n",
      "Omnibus:                       60.414   Durbin-Watson:                   2.084\n",
      "Prob(Omnibus):                  0.000   Jarque-Bera (JB):              151.241\n",
      "Skew:                          -1.327   Prob(JB):                     1.44e-33\n",
      "Kurtosis:                       6.332   Cond. No.                         454.\n",
      "==============================================================================\n",
      "\n",
      "Notes:\n",
      "[1] Standard Errors assume that the covariance matrix of the errors is correctly specified.\n"
     ]
    }
   ],
   "source": [
    "print(sm.OLS(y, sm.add_constant(X)).fit().summary())"
   ]
  },
  {
   "cell_type": "markdown",
   "metadata": {},
   "source": [
    "Отметим важное свойство оценок в множественной линейной регрессии. Коэффициенты в данном случае показывают влияние объясняющего фактора на зависимую переменную, очищенное от влияние всех остальных переменных! Почему это так, читайте подробно здесь:\n",
    "http://bdemeshev.github.io/em301/notes_2016/frish-and-co.html"
   ]
  },
  {
   "cell_type": "markdown",
   "metadata": {},
   "source": [
    "## 1.2 Условия Гаусса-Маркова\n",
    "\n",
    "К сожалению, одной лишь оценкой коэффициентов наша линейная регрессионная модель не ограничивается. Поскольку любая наша модель позволяет сделать вывод о генеральной совокупности данных при помощи выборки, истинное значение коэффициента регрессии может отличаться от того, что мы получили при помощи МНК.\n",
    "\n",
    "Приведенные выше формулы позволяют нам получить несмещенные, состоятельные и эффективные оценки только лишь при соблюдении условий Гаусса-Маркова:\n",
    "\n",
    "1. Математическое ожидание ошибки равно нулю: $E(\\epsilon)=0$\n",
    "\n",
    "2. Ошибки имеют постоянную дисперсию (отсутствие гетероскедастичности): $Var(\\epsilon) = \\sigma^2$\n",
    "\n",
    "3. Ошибки не коррелируют друг с другом (отсутсвие автокорреляции): $Corr(\\epsilon_i, \\epsilon_j)=0$\n",
    "\n",
    "4. Экзогенные переменные не имеют совершенной линейной зависимости: $det(X^TX) \\neq 0$ \n",
    "\n",
    "5. Все объясняющие переменные детерменированы и действительно являются экзогенными по отношению к эндогенной переменной: $Cov(x,\\epsilon)=0$\n",
    "\n",
    "Если все условия Гаусса-Маркова выполнены, то оценки МНК являются BLUE (best linear unbiased estimators) - наилучшие несмещенные линейные оценки)."
   ]
  },
  {
   "cell_type": "markdown",
   "metadata": {},
   "source": [
    "## 1.3 Нелинейность, интерпретация коэффициентов, проверка гипотез"
   ]
  },
  {
   "cell_type": "markdown",
   "metadata": {},
   "source": [
    "Как было сказано в 1.1., помимо линейных взаимосвязей, имеет место быть и нелинейный характер зависимости между переменными. При помощи МНК напрямую получить оценки коэффициентов для таких моделей мы не можем. Однако, нам ничего не мешает в данном случае перейти обратно к линейным моделям. \n",
    "Ниже приведем основные виды нелинейных взаимосвязей, переходы и интерпретацию коэффициентов:\n",
    "\n",
    "| Вид модели | Пример случае парной регрессии | Трансформация | Интерпретация | \n",
    "| ---------- | --------------------------------------- | ------------- | ------------- |\n",
    "| lin-lin    |  $y_i = \\beta_0 + \\beta_1x_i$ | нет | изменение  на 1 ед. ведет к изменению на $\\beta_1$ единиц |\n",
    "| log-lin    |  $y_i =  \\exp^{\\beta_0 + \\beta_1x_i}$ | $log(y_i) =  \\beta_0 + \\beta_1x_i$ | изменение  на 1 ед. ведет к изменению на $\\beta_1 * 100$ процентов|\n",
    "| lin-log    |  $\\exp^{y_i} =  \\beta_0 + \\beta_1x_i$ | $y_i =  \\beta_0 + log(\\beta_1x_i)$ | изменение  на 1% ведет к изменению на $\\beta_1 / 100$ единиц|\n",
    "| log-log    |  $y_i =  \\beta_0*x_i^{\\beta_1}$ | $log(y_i) =  \\beta_0 + log(\\beta_1x_i)$ | изменение  на 1% ведет к изменению на $\\beta_1$ % |\n"
   ]
  },
  {
   "cell_type": "markdown",
   "metadata": {},
   "source": [
    "Поскольку оценивание любой модели нас лишь приближает к поиску истинного значения исследумых параметров, необходимо измерить, а на сколько точно наша оценка близка к своему истинному значению. Здесь на помощь приходят стандартные ошибки коэффициентов регрессии:\n",
    "\n",
    "$$ s.e.(\\beta) = \\sqrt{(X^TX)^{-1}\\frac{RSS}{n-p}}$$\n",
    "\n",
    "$RSS = \\sum_i(y_i - \\hat{y})^2 = \\sum_ie_i^2$ - сумма квадратов остатков (чем она меньше, тем лучше мы подобрали факторы для объяснения вариации зависимой переменной. Другая запись: $RSS = e^Te$"
   ]
  },
  {
   "cell_type": "code",
   "execution_count": 12,
   "metadata": {},
   "outputs": [
    {
     "data": {
      "text/plain": [
       "array([0.31190824, 0.0013949 , 0.00861123, 0.00587101])"
      ]
     },
     "execution_count": 12,
     "metadata": {},
     "output_type": "execute_result"
    }
   ],
   "source": [
    "resids = y -  new_X @ beta_with_constant\n",
    "RSS = resids.T @ resids\n",
    "var = np.linalg.inv(new_X.T @ new_X) * (RSS / (new_X.shape[0] - new_X.shape[1]))\n",
    "np.diag(np.sqrt(var))"
   ]
  },
  {
   "cell_type": "markdown",
   "metadata": {},
   "source": [
    "Стандартные ошибки регрессии помимо того, что служат нам неким ориентиром приближения нашей оценки к истинному значения параметра, помогают нам проверять гипотезы об истинном значении коэффициентов регрессии. Как мы выяснили, само по себе вычисление коэффициентов регрессии не может дать нам в полной мере уверенности в том, что такая взаимосвязь будет действительно иметь место в реальности. Для того, чтобы сделать более детальные выводы относительно истинного значения коэффициента, используются доверительные интервалы и проверка гипотез.\n",
    "\n",
    "Одна из основных гипотез относительно коэффициентов МНК - являются ли они статистически значимо отличны от нуля. Под статистической значимостью подразумевается наше заключение о параметрах генеральной совокупности, исходя из анализа собранных нами выборок.\n",
    "\n",
    "Схема проверки следующая. \n",
    "\n",
    "1. Формируем нулевую гипотезу:  $H_0: \\beta_1 = 0$ - истинное значение коэффициента равно 0.\n",
    "\n",
    "2. Формируем альтернативную гипотезу: \n",
    "\n",
    " - двусторонняя: $H_a: \\beta_1 \\neq 0$ - мы предполагаем, что истинное значение параметра могут быть как больше, так и меньше нуля.\n",
    " - левосторонняя: $H_a: \\beta_1 < 0$ - мы предполагаем, что истинное значение параметра может быть меньше нуля.\n",
    " - правосторонняя: $H_a: \\beta_1 > 0$ - мы предполагаем, что истинное значения параметра может быть больше нуля.\n",
    "\n",
    "3. Вычисляем статистику теста. В случае проверки гипотез о коэффициентах регрессии статистика теста вычисляется следующим образом:\n",
    "\n",
    "$$t_{stat} = \\frac{\\hat{\\beta_1} - \\beta_1(H_0)}{s.e.(\\hat{\\beta_1})} = \\frac{\\hat{\\beta_1}}{s.e.(\\hat{\\beta_1})}$$\n",
    "\n",
    "Данная статистика при выполнении условий Гаусса-Маркова имеет $t$ - распределение Стьюдента со степенями свободы $n-p$\n",
    "\n",
    "4. Сравниваем данную статистику с критическим значением на выбранном зараннее уровне значимости (обычно 1%, 5%, 10%). Если статистика теста попадает в область отвержения нулевой гипотезы (находится за пределами $\\alpha$ процентного квантиля, то мы делаем вывод об отвержении нулевой гипотезы в пользу альтернативной (у нас достаточно оснований, чтобы отвергнуть нулевую гипотезу)."
   ]
  },
  {
   "cell_type": "markdown",
   "metadata": {},
   "source": [
    "Другим методом проверки на статистическую значимость коэффициента выступает метод построения доверительных интервалов. Используя зараннее выбранный уровень доверия (1 - уровень значимости) мы можем построить доверительный интервал, который накрывает истинное значение исследуемого параметра при заданном уровне доверия. \n",
    "\n",
    "Доверительный интервал для $\\beta_1$:\n",
    "\n",
    "$$ (\\hat{\\beta_1} - s.e.(\\hat{\\beta_1})t_{\\alpha, n-p};\n",
    "(\\hat{\\beta_1} + s.e.(\\hat{\\beta_1})t_{\\alpha, n-p}$$, \n",
    "где $t_{\\alpha, n-p}$ - $\\alpha$ - квантиль распределения Стьюдента со степенями свободы $n-p$"
   ]
  },
  {
   "cell_type": "markdown",
   "metadata": {},
   "source": [
    "Вообще говоря, для того, чтобы сделать вывод в пользу той или иной гипотезы, нам достаточно посмотреть на значение p-value (probability value), которое по сути своей заменяет сравнение статистики теста с критическим значением на заданном уровне значимости. p-value показывает вероятность того, насколько мы далеки от центра распределения статистики. Чем выше p-value, тем ближе наша статистика находится к центру (иллюстрация ниже).\n",
    "\n",
    "![](https://blog.minitab.com/hubfs/Imported_Blog_Media/p_value.png)"
   ]
  },
  {
   "cell_type": "code",
   "execution_count": 184,
   "metadata": {
    "scrolled": true
   },
   "outputs": [
    {
     "name": "stdout",
     "output_type": "stream",
     "text": [
      "                            OLS Regression Results                            \n",
      "==============================================================================\n",
      "Dep. Variable:                  Sales   R-squared:                       0.897\n",
      "Model:                            OLS   Adj. R-squared:                  0.896\n",
      "Method:                 Least Squares   F-statistic:                     570.3\n",
      "Date:                Mon, 19 Apr 2021   Prob (F-statistic):           1.58e-96\n",
      "Time:                        21:15:29   Log-Likelihood:                -386.18\n",
      "No. Observations:                 200   AIC:                             780.4\n",
      "Df Residuals:                     196   BIC:                             793.6\n",
      "Df Model:                           3                                         \n",
      "Covariance Type:            nonrobust                                         \n",
      "==============================================================================\n",
      "                 coef    std err          t      P>|t|      [0.025      0.975]\n",
      "------------------------------------------------------------------------------\n",
      "const          2.9389      0.312      9.422      0.000       2.324       3.554\n",
      "TV             0.0458      0.001     32.809      0.000       0.043       0.049\n",
      "Radio          0.1885      0.009     21.893      0.000       0.172       0.206\n",
      "Newspaper     -0.0010      0.006     -0.177      0.860      -0.013       0.011\n",
      "==============================================================================\n",
      "Omnibus:                       60.414   Durbin-Watson:                   2.084\n",
      "Prob(Omnibus):                  0.000   Jarque-Bera (JB):              151.241\n",
      "Skew:                          -1.327   Prob(JB):                     1.44e-33\n",
      "Kurtosis:                       6.332   Cond. No.                         454.\n",
      "==============================================================================\n",
      "\n",
      "Notes:\n",
      "[1] Standard Errors assume that the covariance matrix of the errors is correctly specified.\n"
     ]
    }
   ],
   "source": [
    "print(sm.OLS(advert['Sales'], sm.add_constant(advert[['TV', \"Radio\", \"Newspaper\"]])).fit().summary())"
   ]
  },
  {
   "cell_type": "code",
   "execution_count": 182,
   "metadata": {},
   "outputs": [
    {
     "data": {
      "text/html": [
       "<div>\n",
       "<style scoped>\n",
       "    .dataframe tbody tr th:only-of-type {\n",
       "        vertical-align: middle;\n",
       "    }\n",
       "\n",
       "    .dataframe tbody tr th {\n",
       "        vertical-align: top;\n",
       "    }\n",
       "\n",
       "    .dataframe thead th {\n",
       "        text-align: right;\n",
       "    }\n",
       "</style>\n",
       "<table border=\"1\" class=\"dataframe\">\n",
       "  <thead>\n",
       "    <tr style=\"text-align: right;\">\n",
       "      <th></th>\n",
       "      <th>TV</th>\n",
       "      <th>Radio</th>\n",
       "      <th>Newspaper</th>\n",
       "    </tr>\n",
       "  </thead>\n",
       "  <tbody>\n",
       "    <tr>\n",
       "      <th>TV</th>\n",
       "      <td>1.000000</td>\n",
       "      <td>0.054809</td>\n",
       "      <td>0.056648</td>\n",
       "    </tr>\n",
       "    <tr>\n",
       "      <th>Radio</th>\n",
       "      <td>0.054809</td>\n",
       "      <td>1.000000</td>\n",
       "      <td>0.354104</td>\n",
       "    </tr>\n",
       "    <tr>\n",
       "      <th>Newspaper</th>\n",
       "      <td>0.056648</td>\n",
       "      <td>0.354104</td>\n",
       "      <td>1.000000</td>\n",
       "    </tr>\n",
       "  </tbody>\n",
       "</table>\n",
       "</div>"
      ],
      "text/plain": [
       "                 TV     Radio  Newspaper\n",
       "TV         1.000000  0.054809   0.056648\n",
       "Radio      0.054809  1.000000   0.354104\n",
       "Newspaper  0.056648  0.354104   1.000000"
      ]
     },
     "execution_count": 182,
     "metadata": {},
     "output_type": "execute_result"
    }
   ],
   "source": [
    "advert[['TV', \"Radio\", \"Newspaper\"]].corr()"
   ]
  },
  {
   "cell_type": "markdown",
   "metadata": {},
   "source": [
    "В нашей модели все переменные значимо отличны от нуля на 1% уровне значимости, кроме затрат на рекламу в прессе. Интерпретация коэффициентов следующая: рост рекламных расходов на 1 доллар (очищенное от влияния других переменных) приводит к росту выручки на:\n",
    "\n",
    "- 0.04 единиц в случае ТВ-рекламы\n",
    "\n",
    "- 0.18 единиц в случае Радио рекламы\n",
    "\n",
    "- 0 единиц (статистически незначимое влияние) в случае рекламы в Прессе"
   ]
  },
  {
   "cell_type": "markdown",
   "metadata": {},
   "source": [
    "## 1.4 Дамми-переменные"
   ]
  },
  {
   "cell_type": "markdown",
   "metadata": {},
   "source": [
    "Среди факторов, включаемых в модель, есть как количественные переменные (обычно принимают несчетное количество значений), так и качественные (принимающие ограниченно количество возможных значений). \n",
    "\n",
    "Рассмотрим датасет *Credit*. "
   ]
  },
  {
   "cell_type": "code",
   "execution_count": 216,
   "metadata": {},
   "outputs": [
    {
     "data": {
      "text/plain": [
       "ID           400\n",
       "Income       399\n",
       "Limit        387\n",
       "Rating       283\n",
       "Cards          9\n",
       "Age           68\n",
       "Education     16\n",
       "Gender         2\n",
       "Student        2\n",
       "Married        2\n",
       "Ethnicity      3\n",
       "Balance      284\n",
       "dtype: int64"
      ]
     },
     "execution_count": 216,
     "metadata": {},
     "output_type": "execute_result"
    }
   ],
   "source": [
    "credit = pd.read_csv(\"Credit.csv\")\n",
    "credit.nunique()"
   ]
  },
  {
   "cell_type": "markdown",
   "metadata": {},
   "source": [
    "Как видим, переменные *Gender*, *Student* и *Married** принимают всего два уникальных значения. Данные переменные характеризуют пол заемщика, является ли он студентом или замужем. Давайте прогоним регрессию с такими переменными. В качестве зависимой переменной будет баланс кредитных карт на конец месяца *Balance*. Предварительно заменим текстовые значения на 1 и 0."
   ]
  },
  {
   "cell_type": "code",
   "execution_count": 217,
   "metadata": {},
   "outputs": [],
   "source": [
    "# Удалим лишние пробелы по бокам в столбцах \n",
    "for obj_var in credit.select_dtypes(\"object\"):\n",
    "    credit[obj_var] = credit[obj_var].str.strip()\n",
    "# Заменим на логический тип    \n",
    "credit = credit.replace(\n",
    "    {\n",
    "    \"Male\": 1, \"Female\": 0,\n",
    "    \"Yes\": 1, \"No\": 0\n",
    "    })"
   ]
  },
  {
   "cell_type": "code",
   "execution_count": 190,
   "metadata": {},
   "outputs": [
    {
     "name": "stdout",
     "output_type": "stream",
     "text": [
      "                            OLS Regression Results                            \n",
      "==============================================================================\n",
      "Dep. Variable:                Balance   R-squared:                       0.067\n",
      "Model:                            OLS   Adj. R-squared:                  0.060\n",
      "Method:                 Least Squares   F-statistic:                     9.531\n",
      "Date:                Mon, 19 Apr 2021   Prob (F-statistic):           4.32e-06\n",
      "Time:                        21:24:46   Log-Likelihood:                -3005.4\n",
      "No. Observations:                 400   AIC:                             6019.\n",
      "Df Residuals:                     396   BIC:                             6035.\n",
      "Df Model:                           3                                         \n",
      "Covariance Type:            nonrobust                                         \n",
      "==============================================================================\n",
      "                 coef    std err          t      P>|t|      [0.025      0.975]\n",
      "------------------------------------------------------------------------------\n",
      "const        475.1499     43.332     10.965      0.000     389.961     560.339\n",
      "Gender        -6.4353     44.670     -0.144      0.886     -94.255      81.385\n",
      "Student      397.5424     74.620      5.328      0.000     250.842     544.243\n",
      "Married       13.4137     45.884      0.292      0.770     -76.793     103.621\n",
      "==============================================================================\n",
      "Omnibus:                       20.877   Durbin-Watson:                   1.946\n",
      "Prob(Omnibus):                  0.000   Jarque-Bera (JB):               21.905\n",
      "Skew:                           0.543   Prob(JB):                     1.75e-05\n",
      "Kurtosis:                       2.635   Cond. No.                         4.51\n",
      "==============================================================================\n",
      "\n",
      "Notes:\n",
      "[1] Standard Errors assume that the covariance matrix of the errors is correctly specified.\n"
     ]
    }
   ],
   "source": [
    "print(sm.OLS(credit['Balance'], \n",
    "             sm.add_constant(credit[['Gender', \"Student\", \"Married\"]])).fit().summary())"
   ]
  },
  {
   "cell_type": "markdown",
   "metadata": {},
   "source": [
    "Для качественных переменных стандартные ошибки расcчитываются аналогично. Единственное отличие - меняется интерпретация. Например, в нашем случае в среднем баланс кредитных карт у мужчин на 6 долларов выше, чем в женщин. Женатые/замужние клиенты банка имеют в среднем на 13 долларов больше, а студенты в среднем - на 397 долларов больше. "
   ]
  },
  {
   "cell_type": "markdown",
   "metadata": {},
   "source": [
    "Но как быть, когда количество возможных вариантов качественной переменной больше двух? Как правило, в таком случае применяют One-Hot кодирование, когда создают ровно столько переменных, сколько уникальных значений качественного признака (на самом деле на одно меньше). Проделаем такое с переменной *Ethnicity*."
   ]
  },
  {
   "cell_type": "code",
   "execution_count": 218,
   "metadata": {},
   "outputs": [],
   "source": [
    "Ethnicity_cols = pd.get_dummies(credit['Ethnicity'])\n",
    "credit = credit.join(Ethnicity_cols)"
   ]
  },
  {
   "cell_type": "code",
   "execution_count": 212,
   "metadata": {},
   "outputs": [
    {
     "name": "stdout",
     "output_type": "stream",
     "text": [
      "                            OLS Regression Results                            \n",
      "==============================================================================\n",
      "Dep. Variable:                Balance   R-squared:                       0.000\n",
      "Model:                            OLS   Adj. R-squared:                 -0.005\n",
      "Method:                 Least Squares   F-statistic:                   0.09158\n",
      "Date:                Mon, 19 Apr 2021   Prob (F-statistic):              0.913\n",
      "Time:                        21:36:30   Log-Likelihood:                -3019.3\n",
      "No. Observations:                 400   AIC:                             6045.\n",
      "Df Residuals:                     397   BIC:                             6057.\n",
      "Df Model:                           2                                         \n",
      "Covariance Type:            nonrobust                                         \n",
      "==============================================================================\n",
      "                 coef    std err          t      P>|t|      [0.025      0.975]\n",
      "------------------------------------------------------------------------------\n",
      "const        346.4464     15.370     22.541      0.000     316.230     376.663\n",
      "0            183.0898     24.045      7.614      0.000     135.818     230.362\n",
      "1            163.3567     24.556      6.653      0.000     115.082     211.632\n",
      "==============================================================================\n",
      "Omnibus:                       28.438   Durbin-Watson:                   1.940\n",
      "Prob(Omnibus):                  0.000   Jarque-Bera (JB):               27.346\n",
      "Skew:                           0.583   Prob(JB):                     1.15e-06\n",
      "Kurtosis:                       2.471   Cond. No.                     1.36e+15\n",
      "==============================================================================\n",
      "\n",
      "Notes:\n",
      "[1] Standard Errors assume that the covariance matrix of the errors is correctly specified.\n",
      "[2] The smallest eigenvalue is 3.23e-28. This might indicate that there are\n",
      "strong multicollinearity problems or that the design matrix is singular.\n"
     ]
    }
   ],
   "source": [
    "print(sm.OLS(credit['Balance'], \n",
    "             sm.add_constant(Male_cols)).fit().summary())"
   ]
  },
  {
   "cell_type": "markdown",
   "metadata": {},
   "source": [
    "Обратим внимание на вторую заметку: \n",
    "The smallest eigenvalue is 7.47e-30. This might indicate that there are\n",
    "strong multicollinearity problems or that the design matrix is singular.\n",
    "\n",
    "Это результат того, что мы включили в модель константу. Из-за этого, у нас в данных совершенная линейная зависимость между факторами. Вспоминаем, что константа - это вектор, состоящий из единиц. Таким образом, любая строчка нашей матрицы объясняющих переменных дает нам в сумме единицу, что сигнализирует о строгой линейной связи."
   ]
  },
  {
   "cell_type": "code",
   "execution_count": 219,
   "metadata": {
    "scrolled": true
   },
   "outputs": [
    {
     "ename": "LinAlgError",
     "evalue": "Singular matrix",
     "output_type": "error",
     "traceback": [
      "\u001b[0;31m---------------------------------------------------------------------------\u001b[0m",
      "\u001b[0;31mLinAlgError\u001b[0m                               Traceback (most recent call last)",
      "\u001b[0;32m<ipython-input-219-ad579d0a3fd9>\u001b[0m in \u001b[0;36m<module>\u001b[0;34m\u001b[0m\n\u001b[1;32m      1\u001b[0m X_dummy_trap = np.hstack([np.ones(Ethnicity_cols.shape[0]).reshape(-1,1),\n\u001b[1;32m      2\u001b[0m                           Ethnicity_cols.values])\n\u001b[0;32m----> 3\u001b[0;31m \u001b[0mnp\u001b[0m\u001b[0;34m.\u001b[0m\u001b[0mlinalg\u001b[0m\u001b[0;34m.\u001b[0m\u001b[0minv\u001b[0m\u001b[0;34m(\u001b[0m\u001b[0mX_dummy_trap\u001b[0m\u001b[0;34m.\u001b[0m\u001b[0mT\u001b[0m \u001b[0;34m@\u001b[0m \u001b[0mX_dummy_trap\u001b[0m\u001b[0;34m)\u001b[0m \u001b[0;34m@\u001b[0m \u001b[0mX_dummy_trap\u001b[0m\u001b[0;34m.\u001b[0m\u001b[0mT\u001b[0m \u001b[0;34m@\u001b[0m \u001b[0mcredit\u001b[0m\u001b[0;34m[\u001b[0m\u001b[0;34m'Balance'\u001b[0m\u001b[0;34m]\u001b[0m\u001b[0;34m.\u001b[0m\u001b[0mvalues\u001b[0m\u001b[0;34m\u001b[0m\u001b[0;34m\u001b[0m\u001b[0m\n\u001b[0m",
      "\u001b[0;32m<__array_function__ internals>\u001b[0m in \u001b[0;36minv\u001b[0;34m(*args, **kwargs)\u001b[0m\n",
      "\u001b[0;32m~/PythonR/anaconda3/lib/python3.8/site-packages/numpy/linalg/linalg.py\u001b[0m in \u001b[0;36minv\u001b[0;34m(a)\u001b[0m\n\u001b[1;32m    543\u001b[0m     \u001b[0msignature\u001b[0m \u001b[0;34m=\u001b[0m \u001b[0;34m'D->D'\u001b[0m \u001b[0;32mif\u001b[0m \u001b[0misComplexType\u001b[0m\u001b[0;34m(\u001b[0m\u001b[0mt\u001b[0m\u001b[0;34m)\u001b[0m \u001b[0;32melse\u001b[0m \u001b[0;34m'd->d'\u001b[0m\u001b[0;34m\u001b[0m\u001b[0;34m\u001b[0m\u001b[0m\n\u001b[1;32m    544\u001b[0m     \u001b[0mextobj\u001b[0m \u001b[0;34m=\u001b[0m \u001b[0mget_linalg_error_extobj\u001b[0m\u001b[0;34m(\u001b[0m\u001b[0m_raise_linalgerror_singular\u001b[0m\u001b[0;34m)\u001b[0m\u001b[0;34m\u001b[0m\u001b[0;34m\u001b[0m\u001b[0m\n\u001b[0;32m--> 545\u001b[0;31m     \u001b[0mainv\u001b[0m \u001b[0;34m=\u001b[0m \u001b[0m_umath_linalg\u001b[0m\u001b[0;34m.\u001b[0m\u001b[0minv\u001b[0m\u001b[0;34m(\u001b[0m\u001b[0ma\u001b[0m\u001b[0;34m,\u001b[0m \u001b[0msignature\u001b[0m\u001b[0;34m=\u001b[0m\u001b[0msignature\u001b[0m\u001b[0;34m,\u001b[0m \u001b[0mextobj\u001b[0m\u001b[0;34m=\u001b[0m\u001b[0mextobj\u001b[0m\u001b[0;34m)\u001b[0m\u001b[0;34m\u001b[0m\u001b[0;34m\u001b[0m\u001b[0m\n\u001b[0m\u001b[1;32m    546\u001b[0m     \u001b[0;32mreturn\u001b[0m \u001b[0mwrap\u001b[0m\u001b[0;34m(\u001b[0m\u001b[0mainv\u001b[0m\u001b[0;34m.\u001b[0m\u001b[0mastype\u001b[0m\u001b[0;34m(\u001b[0m\u001b[0mresult_t\u001b[0m\u001b[0;34m,\u001b[0m \u001b[0mcopy\u001b[0m\u001b[0;34m=\u001b[0m\u001b[0;32mFalse\u001b[0m\u001b[0;34m)\u001b[0m\u001b[0;34m)\u001b[0m\u001b[0;34m\u001b[0m\u001b[0;34m\u001b[0m\u001b[0m\n\u001b[1;32m    547\u001b[0m \u001b[0;34m\u001b[0m\u001b[0m\n",
      "\u001b[0;32m~/PythonR/anaconda3/lib/python3.8/site-packages/numpy/linalg/linalg.py\u001b[0m in \u001b[0;36m_raise_linalgerror_singular\u001b[0;34m(err, flag)\u001b[0m\n\u001b[1;32m     86\u001b[0m \u001b[0;34m\u001b[0m\u001b[0m\n\u001b[1;32m     87\u001b[0m \u001b[0;32mdef\u001b[0m \u001b[0m_raise_linalgerror_singular\u001b[0m\u001b[0;34m(\u001b[0m\u001b[0merr\u001b[0m\u001b[0;34m,\u001b[0m \u001b[0mflag\u001b[0m\u001b[0;34m)\u001b[0m\u001b[0;34m:\u001b[0m\u001b[0;34m\u001b[0m\u001b[0;34m\u001b[0m\u001b[0m\n\u001b[0;32m---> 88\u001b[0;31m     \u001b[0;32mraise\u001b[0m \u001b[0mLinAlgError\u001b[0m\u001b[0;34m(\u001b[0m\u001b[0;34m\"Singular matrix\"\u001b[0m\u001b[0;34m)\u001b[0m\u001b[0;34m\u001b[0m\u001b[0;34m\u001b[0m\u001b[0m\n\u001b[0m\u001b[1;32m     89\u001b[0m \u001b[0;34m\u001b[0m\u001b[0m\n\u001b[1;32m     90\u001b[0m \u001b[0;32mdef\u001b[0m \u001b[0m_raise_linalgerror_nonposdef\u001b[0m\u001b[0;34m(\u001b[0m\u001b[0merr\u001b[0m\u001b[0;34m,\u001b[0m \u001b[0mflag\u001b[0m\u001b[0;34m)\u001b[0m\u001b[0;34m:\u001b[0m\u001b[0;34m\u001b[0m\u001b[0;34m\u001b[0m\u001b[0m\n",
      "\u001b[0;31mLinAlgError\u001b[0m: Singular matrix"
     ]
    }
   ],
   "source": [
    "X_dummy_trap = np.hstack([np.ones(Ethnicity_cols.shape[0]).reshape(-1,1),\n",
    "                          Ethnicity_cols.values])\n",
    "np.linalg.inv(X_dummy_trap.T @ X_dummy_trap) @ X_dummy_trap.T @ credit['Balance'].values"
   ]
  },
  {
   "cell_type": "markdown",
   "metadata": {},
   "source": [
    "LinAlgError: Singular matrix"
   ]
  },
  {
   "cell_type": "markdown",
   "metadata": {},
   "source": [
    "## 1.5 Потенциальные проблемы в линейной регрессии и возможные решения\n",
    "\n",
    "Среди потенциальных проблем, с которыми обычно сталкиваются исследователи при построении линейных моделей можно выделить следующие:\n",
    "\n",
    "1. Нелинейный характер взаимосвязи\n",
    "\n",
    "2. Автокорреляция\n",
    "\n",
    "3. Гетероскедастичность\n",
    "\n",
    "4. Выбросы\n",
    "\n",
    "5. \n",
    "\n",
    "6. Мультиколлинерность."
   ]
  },
  {
   "cell_type": "markdown",
   "metadata": {},
   "source": [
    "### 1.5.1 Нелинейность\n",
    "\n",
    "Когда мы оцениваем линейную взаимосвязь между переменными в то время когда истинная зависимость нелинейная, наши выводы относительно коэффициентов модели являются неверными. Один из способов убедиться в том, что линейная взаимосвязь неверно истолковывает данные - это посмотреть на график остатков против подобранных значений $\\hat{y}$."
   ]
  },
  {
   "cell_type": "code",
   "execution_count": 222,
   "metadata": {},
   "outputs": [],
   "source": [
    "auto = pd.read_csv(\"Auto.csv\")\n",
    "auto['horsepower_square'] = auto['horsepower'] ** 2"
   ]
  },
  {
   "cell_type": "code",
   "execution_count": 228,
   "metadata": {},
   "outputs": [
    {
     "data": {
      "text/plain": [
       "array([ -1.41604569,   1.10851998,   1.74084898,  -0.25915102,\n",
       "        -0.83759835,   6.31739618,   8.78998032,   8.00075665,\n",
       "         9.57920398,   5.05463832,   1.89774365,  -0.68070368,\n",
       "        -1.25915102,   9.57920398,  -0.94061135,  -2.94061135,\n",
       "        -6.62492189,  -5.51905869,   0.95447551,  -6.67500329,\n",
       "        -1.20336922,  -1.72983502,   0.05938865,   3.90059385,\n",
       "        -4.72983502,   4.00075665,   1.63308565,   4.21153298,\n",
       "        -0.47182748,   0.95447551,   2.27016498,   0.05938865,\n",
       "        -5.15138769,  -7.36216402,  -7.15138769,  -7.04552449,\n",
       "        -6.15138769,   0.10851998,   1.68696732,  -1.78561682,\n",
       "        -2.25915102,   0.47619098,  -0.10225635,   0.68696732,\n",
       "        -4.57294035,  -6.57104022,  -5.15138769,  -8.04552449,\n",
       "        -3.36121395,   2.27016498,   1.11327031,   2.06033871,\n",
       "         1.32404665,   5.95542558,  -3.46517702,  -2.88672969,\n",
       "        -0.94061135,  -2.30828235,  -8.41224542,  -5.72983502,\n",
       "        -5.36121395,  -0.89148002,   1.68696732,  -1.25915102,\n",
       "        -1.78561682,   0.74084898,   3.89584352,  -2.46992735,\n",
       "        -2.68070368,   3.05463832,  -5.62492189,  -1.25915102,\n",
       "        -6.41604569,  -4.83759835,  -2.25915102,  -4.25725089,\n",
       "        -5.93966129,  -5.20336922,  -3.04457442,  -4.36121395,\n",
       "         2.58585445,  -1.62492189,   0.69171765,   0.95447551,\n",
       "         0.68696732,  -2.25915102,  -4.04837468,  -4.31113255,\n",
       "        -1.25915102,   3.31739618,  -3.25915102,  -1.99639315,\n",
       "        -2.25915102,   7.00075665,   7.57920398,   0.68696732,\n",
       "        -5.36216402,  -8.15138769,  -6.15138769,  -8.04552449,\n",
       "        -1.94061135,  -6.67500329,  -5.25915102,  -1.57579055,\n",
       "        -0.10225635,   0.47619098,  -6.15138769,  -6.04552449,\n",
       "        -7.57104022,  -3.09845609,  -7.72983502,  -7.51905869,\n",
       "        -2.04647455,   0.27016498,  -2.04837468,  12.36842765,\n",
       "        -3.20146909,  -4.09750602,  -5.57199029,  -3.25725089,\n",
       "        -1.25915102,   1.42705965,  -0.67880355,  -0.52380902,\n",
       "        -4.94061135,  -5.15138769,  -9.15138769,   1.63973611,\n",
       "        -1.30828235,   2.32404665,  -3.09750602,  -8.15138769,\n",
       "        -6.57294035,  -5.36216402,  -1.83759835,  -3.25915102,\n",
       "        -2.25915102,  -3.83759835,  -2.25915102,   2.16525185,\n",
       "        -3.36026389,  -1.62397182,  -0.72793489,   1.69266771,\n",
       "        -0.09750602,  -4.09750602,  -2.09750602,  -0.62492189,\n",
       "         0.74369918,   1.63973611,  -5.94061135,  -5.36216402,\n",
       "       -13.57104022, -13.57104022,   2.89774365,  -2.04837468,\n",
       "        -0.25915102,  -2.57484048,  -5.57294035,  -7.36216402,\n",
       "        -7.57294035,  -6.94061135,  -1.57294035,  -2.57294035,\n",
       "        -6.57389042,   0.90249398,  -3.83474815,  -4.15138769,\n",
       "        -4.62397182,  -0.78276662,  -3.72888495,  -0.62492189,\n",
       "        -6.62492189,   0.11327031,  -6.72983502,  -1.94061135,\n",
       "        -3.04552449,  -2.46707715,   3.21628331,   1.42990985,\n",
       "         1.63878605,  -2.15043762,  -0.41414555,  -1.46612709,\n",
       "         0.16525185,  -0.33759835,  -0.25915102,  -5.49449302,\n",
       "        -1.44346155,  -2.15138769,  -1.36216402,  -3.15043762,\n",
       "        -3.22983502,  -2.72793489,  -5.96517702,   0.11327031,\n",
       "         1.42990985,  -4.15138769,  -9.62397182,  -4.07294035,\n",
       "        -7.44061135,   0.77111505,   3.11327031,  -0.09750602,\n",
       "        -2.07104022,  -3.83569822,  -3.25915102,  -7.04552449,\n",
       "        -3.88862982,  -4.49449302,   4.97619098,  -4.04837468,\n",
       "        -6.41604569,  -3.25915102,   2.29758085,   2.69171765,\n",
       "         5.21913351,   0.71723338,   4.61327031,   0.45162532,\n",
       "        -5.57294035,  -1.54837468,  -4.41604569,  -5.07294035,\n",
       "        -2.86216402,  -5.15138769,  -5.96707715,   4.47619098,\n",
       "         2.39774365,   5.55463832,  -0.41699575,   1.37602818,\n",
       "        -1.54552449,  -2.09750602,  -0.38767975,   0.50835718,\n",
       "         6.66525185,   0.63973611,   2.87602818,  -2.62492189,\n",
       "        -1.07294035,  -1.07294035,  10.74068618,   6.58189138,\n",
       "         1.07206511,  10.51327031,   5.63482298,  -2.67294035,\n",
       "         1.56240165,   2.20455691,  -4.16216402,  -4.44061135,\n",
       "        -6.31905869,  -0.94552449,  -3.65138769,  -6.32983502,\n",
       "        -2.76216402,  -5.71905869,  -3.97294035,  -2.89449302,\n",
       "         2.15162532,   3.80851998,   0.10455691,  -0.33759835,\n",
       "         0.79758085,   2.55938865,   2.57507811,   2.80249398,\n",
       "        -3.84061135,  -0.16216402,  -2.71905869,  -0.72492189,\n",
       "        -3.37785349,  -3.20526935,  -0.18371669,  -2.74251149,\n",
       "         2.77111505,   0.29758085,  -0.28371669,  -6.71905869,\n",
       "        -3.74552449,  -5.52983502,  -1.97294035,  -2.41604569,\n",
       "        -1.97389042,  -1.65328782,  -0.42682202,   1.43007265,\n",
       "        -2.02190888,  -1.00526935,   2.24084898,   3.17111505,\n",
       "         4.42404665,   8.39171765,   0.09171765,  -2.38181655,\n",
       "         2.79473065,  -1.52888495,  -1.82983502,   5.31327031,\n",
       "         5.61327031,   2.12404665,   8.25542558,   2.67016498,\n",
       "         7.01628331,   5.01628331,   7.77016498,  13.56033871,\n",
       "         7.63482298,   3.21327031,   7.52404665,   2.27016498,\n",
       "         0.35447551,  -1.42983502,  -6.62983502,   6.67602818,\n",
       "         4.07016498,   3.20249398,  11.58585445,   4.10249398,\n",
       "        16.92404665,   4.53783598,  11.12404665,  11.94068618,\n",
       "        11.04068618,   7.03973611,   0.63973611,  15.23973611,\n",
       "         4.43973611,  -0.34948755,  13.59964378,  -0.45138769,\n",
       "         8.95447551,   3.82895978,   0.52309658,  -0.07690342,\n",
       "         0.38585445,   0.92705965,   3.32309658,   8.31913351,\n",
       "         9.16620191,   4.63482298,   2.93973611,   7.32404665,\n",
       "         7.55051245,   4.89758085,   4.70835718,   4.72404665,\n",
       "         0.22404665,   4.74464925,   5.60249398,   4.30249398,\n",
       "         8.74861231,   3.34464925,   0.79171765,   2.76033871,\n",
       "         3.77412805,   3.20550698,  -0.17294035,   3.23783598,\n",
       "        -5.84552449,  -8.91905869,   1.95447551,   0.95447551,\n",
       "         7.95447551,   4.48094131,   2.32309658,   1.27016498,\n",
       "        -1.41414555,   7.74464925,   7.79758085,   1.79758085,\n",
       "         8.00835718,   7.11327031,   9.95447551,   7.90249398,\n",
       "         5.11327031,   8.63973611,   2.63973611,   8.63973611,\n",
       "         2.42705965,  11.48094131,   0.58585445,  -0.25725089,\n",
       "         7.21723338,   9.32309658,   1.27016498,   0.63878605,\n",
       "        12.27206511,   5.32309658,   0.53387291,   4.00740711])"
      ]
     },
     "execution_count": 228,
     "metadata": {},
     "output_type": "execute_result"
    }
   ],
   "source": [
    "auto_fit_linear.resid.values"
   ]
  },
  {
   "cell_type": "code",
   "execution_count": 224,
   "metadata": {},
   "outputs": [
    {
     "data": {
      "image/png": "[encoded data removed]",
      "text/plain": [
       "<Figure size 720x360 with 2 Axes>"
      ]
     },
     "metadata": {
      "needs_background": "light"
     },
     "output_type": "display_data"
    }
   ],
   "source": [
    "auto_fit_linear = sm.OLS(auto['mpg'], \n",
    "                         sm.add_constant(auto['horsepower'])\n",
    "                        ).fit()\n",
    "auto_fit_non_linear = sm.OLS(auto['mpg'], \n",
    "                         sm.add_constant(auto[['horsepower', 'horsepower_square']])\n",
    "                        ).fit()\n",
    "plot_linear_data = pd.DataFrame(np.vstack([auto_fit_linear.resid.values,\n",
    "                                          auto_fit_linear.fittedvalues.values]).\n",
    "                                                                  reshape(-1,2),\n",
    "                                         columns = ['resid', 'fitted'])\n",
    "fig, axs = plt.subplots(ncols = 2)\n",
    "sns.regplot(y = auto_fit_linear.resid, x = auto_fit_linear.fittedvalues,\n",
    "           ax = axs[0]);\n",
    "sns.regplot(y = auto_fit_non_linear.resid, x = auto_fit_non_linear.fittedvalues,\n",
    "           ax = axs[1]);"
   ]
  },
  {
   "cell_type": "markdown",
   "metadata": {},
   "source": [
    "Еще один способ посмотреть на график остатков (уже против объясняющей переменной)."
   ]
  },
  {
   "cell_type": "code",
   "execution_count": 229,
   "metadata": {
    "scrolled": true
   },
   "outputs": [
    {
     "data": {
      "image/png": "[encoded data removed]",
      "text/plain": [
       "<Figure size 720x360 with 2 Axes>"
      ]
     },
     "metadata": {
      "needs_background": "light"
     },
     "output_type": "display_data"
    }
   ],
   "source": [
    "fig, axs = plt.subplots(ncols=2)\n",
    "sns.residplot(x = 'horsepower', y = 'mpg', \n",
    "              data = auto, lowess = True, order=1, ax=axs[0]);\n",
    "sns.residplot(x = 'horsepower', y = 'mpg', \n",
    "              data = auto, lowess = True, order=2, ax=axs[1]);"
   ]
  },
  {
   "cell_type": "code",
   "execution_count": 230,
   "metadata": {},
   "outputs": [
    {
     "name": "stdout",
     "output_type": "stream",
     "text": [
      "                            OLS Regression Results                            \n",
      "==============================================================================\n",
      "Dep. Variable:                    mpg   R-squared:                       0.688\n",
      "Model:                            OLS   Adj. R-squared:                  0.686\n",
      "Method:                 Least Squares   F-statistic:                     428.0\n",
      "Date:                Mon, 19 Apr 2021   Prob (F-statistic):           5.40e-99\n",
      "Time:                        21:52:53   Log-Likelihood:                -1133.2\n",
      "No. Observations:                 392   AIC:                             2272.\n",
      "Df Residuals:                     389   BIC:                             2284.\n",
      "Df Model:                           2                                         \n",
      "Covariance Type:            nonrobust                                         \n",
      "=====================================================================================\n",
      "                        coef    std err          t      P>|t|      [0.025      0.975]\n",
      "-------------------------------------------------------------------------------------\n",
      "const                56.9001      1.800     31.604      0.000      53.360      60.440\n",
      "horsepower           -0.4662      0.031    -14.978      0.000      -0.527      -0.405\n",
      "horsepower_square     0.0012      0.000     10.080      0.000       0.001       0.001\n",
      "==============================================================================\n",
      "Omnibus:                       16.158   Durbin-Watson:                   1.078\n",
      "Prob(Omnibus):                  0.000   Jarque-Bera (JB):               30.662\n",
      "Skew:                           0.218   Prob(JB):                     2.20e-07\n",
      "Kurtosis:                       4.299   Cond. No.                     1.29e+05\n",
      "==============================================================================\n",
      "\n",
      "Notes:\n",
      "[1] Standard Errors assume that the covariance matrix of the errors is correctly specified.\n",
      "[2] The condition number is large, 1.29e+05. This might indicate that there are\n",
      "strong multicollinearity or other numerical problems.\n"
     ]
    }
   ],
   "source": [
    "print(sm.OLS(auto['mpg'], \n",
    "                         sm.add_constant(auto[['horsepower', 'horsepower_square']])\n",
    "                        ).fit().summary())"
   ]
  },
  {
   "cell_type": "markdown",
   "metadata": {},
   "source": [
    "В конечном счете, видим, что перед нами квадратичная зависимость. В нашем случае - это парабола с ветвями вверх (коэффициент перед квадратичным членом положительный)."
   ]
  },
  {
   "cell_type": "markdown",
   "metadata": {},
   "source": [
    "### 1.5.2 Автокорреляция\n",
    "\n",
    "Автокорреляция предполагает наличие связи между остатками в модели регрессии. Почему это плохо? Потому что в этом случае стандартные ошибки в модели будут являться недооцененными, что исказит наши результаты (получаем значимость коэффициентов, когда на самом деле они не значимы).\n",
    "\n",
    "Зачастую автокорреляция проявляется в случае регрессии временных рядов, когда мы собираем наблюдения в различные моменты времени. \n",
    "\n",
    "Однако, автокорреляция может свидетельствовать также и о пропуске важных переменных. Например, мы хотим предсказывать рост респондентов по их весу. Корреляция между остатками может быть вызвана тем, что респонденты из одной семьи, либо употребляют одну и ту же диету. Другими словами, данные респонденты обладают неким общим свойством, которое может быть как оценено количественно, так и не оценено. \n",
    "\n",
    "Посмотрим график остатков в случае различных линейных моделей.\n"
   ]
  },
  {
   "cell_type": "code",
   "execution_count": 231,
   "metadata": {},
   "outputs": [
    {
     "name": "stdout",
     "output_type": "stream",
     "text": [
      "Correlation between resid and lag1 resid: \n",
      " advert = -0.04709189714421426 auto = 0.5397905087253321\n"
     ]
    },
    {
     "data": {
      "image/png": "[encoded data removed]",
      "text/plain": [
       "<Figure size 720x360 with 2 Axes>"
      ]
     },
     "metadata": {
      "needs_background": "light"
     },
     "output_type": "display_data"
    }
   ],
   "source": [
    "advert_model = sm.OLS(advert['Sales'], \n",
    "                      sm.add_constant(advert[['TV', \"Radio\", \"Newspaper\"]])).fit()\n",
    "# Стандартизируем остатки (для того, чтобы было корректно их сравнивать)\n",
    "from sklearn.preprocessing import StandardScaler\n",
    "sc = StandardScaler()\n",
    "advert_resid = sc.fit_transform(advert_model.resid.values.reshape(-1,1))\n",
    "auto_resid = sc.fit_transform(auto_fit_linear.resid.values.reshape(-1,1))\n",
    "\n",
    "fig, axs = plt.subplots(nrows = 2)\n",
    "pd.Series(advert_resid.reshape(-1)).plot(ax = axs[0]);\n",
    "pd.Series(auto_resid.reshape(-1)).iloc[:200].plot(ax = axs[1]);\n",
    "print(\"Correlation between resid and lag1 resid: \\n\",\n",
    "      f\"advert = {pd.Series(advert_resid.reshape(-1)).corr(pd.Series(advert_resid.reshape(-1)).shift(1))}\",\n",
    "      f\"auto = {pd.Series(auto_resid.reshape(-1)).corr(pd.Series(auto_resid.reshape(-1)).shift(1))}\")"
   ]
  },
  {
   "cell_type": "markdown",
   "metadata": {},
   "source": [
    "Как видно из графиков, автокорреляция наблюдается в случае линейной модели влияния *horse* на *mpg*."
   ]
  },
  {
   "cell_type": "markdown",
   "metadata": {},
   "source": [
    "### 1.5.3 Гетероскедастичность\n",
    "\n",
    "Гетероскедастичность (неоднородность) остатков проявляется, как правило, в кросс-секционных (в один момент времени) выборках. Нарушение условия постоянства дисперсии (гомоскедастичность) приводит к тому, что статистика вида $\\frac{\\hat{\\theta}}{s.e(\\hat{\\theta})}$ больше не имеет распределение Стьюдента. Соответственно, строить доверительные интервалы и проверять гипотезы классических способов нельзя с научной точки зрения. \n",
    "\n",
    "Одним из наиболее простых решений по борьбе с гетероскедастичностью является логарифмирование переменных. Рисунок ниже иллюстрирует вышесказанное."
   ]
  },
  {
   "cell_type": "code",
   "execution_count": 232,
   "metadata": {},
   "outputs": [
    {
     "name": "stdout",
     "output_type": "stream",
     "text": [
      "дисперсия остатков первых 200 наблюдений с линейной зависимой переменной: \n",
      " 11.57456133008462 дисперсия остатков последних 200 наблюдений с линейной зависимой переменной: \n",
      " 17.97892897324328\n",
      "дисперсия остатков последних 200 наблюдений с линейной зависимой переменной: \n",
      " 0.023565130572859784 дисперсия остатков последних 200 наблюдений с логарифмической зависимой переменной: \n",
      " 0.0246947303461133\n"
     ]
    },
    {
     "data": {
      "image/png": "[encoded data removed]",
      "text/plain": [
       "<Figure size 720x360 with 2 Axes>"
      ]
     },
     "metadata": {
      "needs_background": "light"
     },
     "output_type": "display_data"
    }
   ],
   "source": [
    "auto_fit_non_linear_non_log = sm.OLS(auto['mpg'], \n",
    "                         sm.add_constant(auto[['horsepower', 'horsepower_square']])\n",
    "                        ).fit()\n",
    "auto_fit_non_linear_log = sm.OLS(np.log(auto['mpg']), \n",
    "                         sm.add_constant(auto[['horsepower', 'horsepower_square']])\n",
    "                        ).fit()\n",
    "\n",
    "fig, axs = plt.subplots(ncols = 2)\n",
    "sns.regplot(y = auto_fit_non_linear_non_log.resid, \n",
    "            x = auto_fit_non_linear_non_log.fittedvalues,\n",
    "           ax = axs[0]);\n",
    "sns.regplot(y = auto_fit_non_linear_log.resid, \n",
    "            x = auto_fit_non_linear_log.fittedvalues,\n",
    "           ax = axs[1]);\n",
    "print(\n",
    "     f\"дисперсия остатков первых 200 наблюдений с линейной зависимой переменной: \\n\",\n",
    "     f\"{np.var(auto_fit_non_linear_non_log.resid.iloc[:200])}\",\n",
    "     f\"дисперсия остатков последних 200 наблюдений с линейной зависимой переменной: \\n\",\n",
    "     f\"{np.var(auto_fit_non_linear_non_log.resid.iloc[200:])}\",\n",
    "     )\n",
    "print(\n",
    "     f\"дисперсия остатков последних 200 наблюдений с линейной зависимой переменной: \\n\",\n",
    "     f\"{np.var(auto_fit_non_linear_log.resid.iloc[:200])}\",\n",
    "     f\"дисперсия остатков последних 200 наблюдений с логарифмической зависимой переменной: \\n\",\n",
    "     f\"{np.var(auto_fit_non_linear_log.resid.iloc[200:])}\",\n",
    "     )"
   ]
  },
  {
   "cell_type": "markdown",
   "metadata": {},
   "source": [
    "### 1.5.4 Выбросы (ураганные значения)\n",
    "\n",
    "Выбросами являются, как правило, те наблюдения, которые очень сильно выбиваются из основной массы. Из-за присутствия таких наблюдений в выборке, результаты регрессии могут существенно отклониться от истинной зависимости. Как таковых четких правил для определения ураганнных значений нет. Однако, на практике применяется такой подход. Оценивается модель и полученные остатки приводят к стандартизированному виду (распределение с нулевым средним и единичным стандартным отклонением). Тогда удаляются все те наблюдения, для которых остатки принимают значения за пределами интервала [-3;3]."
   ]
  },
  {
   "cell_type": "code",
   "execution_count": 32,
   "metadata": {},
   "outputs": [
    {
     "data": {
      "text/plain": [
       "Index(['mpg', 'cylinders', 'displacement', 'horsepower', 'weight',\n",
       "       'acceleration', 'year', 'origin', 'name', 'horsepower_square'],\n",
       "      dtype='object')"
      ]
     },
     "execution_count": 32,
     "metadata": {},
     "output_type": "execute_result"
    }
   ],
   "source": [
    "auto.columns"
   ]
  },
  {
   "cell_type": "code",
   "execution_count": 33,
   "metadata": {},
   "outputs": [
    {
     "data": {
      "text/plain": [
       "<matplotlib.lines.Line2D at 0x7fd9cf980c70>"
      ]
     },
     "execution_count": 33,
     "metadata": {},
     "output_type": "execute_result"
    },
    {
     "data": {
      "image/png": "[encoded data removed]",
      "text/plain": [
       "<Figure size 720x360 with 1 Axes>"
      ]
     },
     "metadata": {
      "needs_background": "light"
     },
     "output_type": "display_data"
    }
   ],
   "source": [
    "mpg_cyl = smf.ols(\"mpg ~ cylinders\", \n",
    "                data = auto).fit()\n",
    "stand_resid = sc.fit_transform(mpg_cyl.resid.values.reshape(-1,1))\n",
    "mpg_cyl_fit = mpg_cyl.fittedvalues\n",
    "g = sns.regplot(x = mpg_cyl_fit, y = stand_resid);\n",
    "g.axhline(-3, ls='--', color = \"red\")\n",
    "g.axhline(3, ls='--', color = \"red\")"
   ]
  },
  {
   "cell_type": "markdown",
   "metadata": {},
   "source": [
    "### 1.5.5 High leverage points\n",
    "\n",
    "В то время как выбросы - это выделяющиеся наблюдения $y_i$ при фиксированных значениях $x_i$, наблюдения с высоким левереджом относятся к нерегулярным значениям $x_i$. "
   ]
  },
  {
   "cell_type": "markdown",
   "metadata": {},
   "source": [
    "### 1.5.6 Мультиколлинеарность\n",
    "\n",
    "Включение в модель признаков, которые сильно связаны друг с другом (коэффициент корреляции близок к 1)  может повлечь за собой ряд проблем:\n",
    "\n",
    "- Статистически незначимые коэффициенты при значимости регрессии в целом\n",
    "\n",
    "- Сильное изменение оценок коэффициентов при добавлении или удалении переменных\n"
   ]
  },
  {
   "cell_type": "markdown",
   "metadata": {},
   "source": [
    "Наличие мультиколлинеарности можно проверить:\n",
    "\n",
    "- Корреляционной матрицей (как правило, перед началом анализа)\n",
    "\n",
    "- VIF (Variance inflation factor)"
   ]
  },
  {
   "cell_type": "code",
   "execution_count": 59,
   "metadata": {},
   "outputs": [
    {
     "data": {
      "text/html": [
       "<div>\n",
       "<style scoped>\n",
       "    .dataframe tbody tr th:only-of-type {\n",
       "        vertical-align: middle;\n",
       "    }\n",
       "\n",
       "    .dataframe tbody tr th {\n",
       "        vertical-align: top;\n",
       "    }\n",
       "\n",
       "    .dataframe thead th {\n",
       "        text-align: right;\n",
       "    }\n",
       "</style>\n",
       "<table border=\"1\" class=\"dataframe\">\n",
       "  <thead>\n",
       "    <tr style=\"text-align: right;\">\n",
       "      <th></th>\n",
       "      <th>Income</th>\n",
       "      <th>Limit</th>\n",
       "      <th>Rating</th>\n",
       "      <th>Cards</th>\n",
       "      <th>Age</th>\n",
       "      <th>Education</th>\n",
       "      <th>Gender_Female</th>\n",
       "      <th>Student_Yes</th>\n",
       "      <th>Married_Yes</th>\n",
       "      <th>Ethnicity_Asian</th>\n",
       "      <th>Ethnicity_Caucasian</th>\n",
       "    </tr>\n",
       "  </thead>\n",
       "  <tbody>\n",
       "    <tr>\n",
       "      <th>0</th>\n",
       "      <td>14.891</td>\n",
       "      <td>3606</td>\n",
       "      <td>283</td>\n",
       "      <td>2</td>\n",
       "      <td>34</td>\n",
       "      <td>11</td>\n",
       "      <td>0</td>\n",
       "      <td>0</td>\n",
       "      <td>1</td>\n",
       "      <td>0</td>\n",
       "      <td>1</td>\n",
       "    </tr>\n",
       "    <tr>\n",
       "      <th>1</th>\n",
       "      <td>106.025</td>\n",
       "      <td>6645</td>\n",
       "      <td>483</td>\n",
       "      <td>3</td>\n",
       "      <td>82</td>\n",
       "      <td>15</td>\n",
       "      <td>1</td>\n",
       "      <td>1</td>\n",
       "      <td>1</td>\n",
       "      <td>1</td>\n",
       "      <td>0</td>\n",
       "    </tr>\n",
       "    <tr>\n",
       "      <th>2</th>\n",
       "      <td>104.593</td>\n",
       "      <td>7075</td>\n",
       "      <td>514</td>\n",
       "      <td>4</td>\n",
       "      <td>71</td>\n",
       "      <td>11</td>\n",
       "      <td>0</td>\n",
       "      <td>0</td>\n",
       "      <td>0</td>\n",
       "      <td>1</td>\n",
       "      <td>0</td>\n",
       "    </tr>\n",
       "    <tr>\n",
       "      <th>3</th>\n",
       "      <td>148.924</td>\n",
       "      <td>9504</td>\n",
       "      <td>681</td>\n",
       "      <td>3</td>\n",
       "      <td>36</td>\n",
       "      <td>11</td>\n",
       "      <td>1</td>\n",
       "      <td>0</td>\n",
       "      <td>0</td>\n",
       "      <td>1</td>\n",
       "      <td>0</td>\n",
       "    </tr>\n",
       "    <tr>\n",
       "      <th>4</th>\n",
       "      <td>55.882</td>\n",
       "      <td>4897</td>\n",
       "      <td>357</td>\n",
       "      <td>2</td>\n",
       "      <td>68</td>\n",
       "      <td>16</td>\n",
       "      <td>0</td>\n",
       "      <td>0</td>\n",
       "      <td>1</td>\n",
       "      <td>0</td>\n",
       "      <td>1</td>\n",
       "    </tr>\n",
       "    <tr>\n",
       "      <th>...</th>\n",
       "      <td>...</td>\n",
       "      <td>...</td>\n",
       "      <td>...</td>\n",
       "      <td>...</td>\n",
       "      <td>...</td>\n",
       "      <td>...</td>\n",
       "      <td>...</td>\n",
       "      <td>...</td>\n",
       "      <td>...</td>\n",
       "      <td>...</td>\n",
       "      <td>...</td>\n",
       "    </tr>\n",
       "    <tr>\n",
       "      <th>395</th>\n",
       "      <td>12.096</td>\n",
       "      <td>4100</td>\n",
       "      <td>307</td>\n",
       "      <td>3</td>\n",
       "      <td>32</td>\n",
       "      <td>13</td>\n",
       "      <td>0</td>\n",
       "      <td>0</td>\n",
       "      <td>1</td>\n",
       "      <td>0</td>\n",
       "      <td>1</td>\n",
       "    </tr>\n",
       "    <tr>\n",
       "      <th>396</th>\n",
       "      <td>13.364</td>\n",
       "      <td>3838</td>\n",
       "      <td>296</td>\n",
       "      <td>5</td>\n",
       "      <td>65</td>\n",
       "      <td>17</td>\n",
       "      <td>0</td>\n",
       "      <td>0</td>\n",
       "      <td>0</td>\n",
       "      <td>0</td>\n",
       "      <td>0</td>\n",
       "    </tr>\n",
       "    <tr>\n",
       "      <th>397</th>\n",
       "      <td>57.872</td>\n",
       "      <td>4171</td>\n",
       "      <td>321</td>\n",
       "      <td>5</td>\n",
       "      <td>67</td>\n",
       "      <td>12</td>\n",
       "      <td>1</td>\n",
       "      <td>0</td>\n",
       "      <td>1</td>\n",
       "      <td>0</td>\n",
       "      <td>1</td>\n",
       "    </tr>\n",
       "    <tr>\n",
       "      <th>398</th>\n",
       "      <td>37.728</td>\n",
       "      <td>2525</td>\n",
       "      <td>192</td>\n",
       "      <td>1</td>\n",
       "      <td>44</td>\n",
       "      <td>13</td>\n",
       "      <td>0</td>\n",
       "      <td>0</td>\n",
       "      <td>1</td>\n",
       "      <td>0</td>\n",
       "      <td>1</td>\n",
       "    </tr>\n",
       "    <tr>\n",
       "      <th>399</th>\n",
       "      <td>18.701</td>\n",
       "      <td>5524</td>\n",
       "      <td>415</td>\n",
       "      <td>5</td>\n",
       "      <td>64</td>\n",
       "      <td>7</td>\n",
       "      <td>1</td>\n",
       "      <td>0</td>\n",
       "      <td>0</td>\n",
       "      <td>1</td>\n",
       "      <td>0</td>\n",
       "    </tr>\n",
       "  </tbody>\n",
       "</table>\n",
       "<p>400 rows × 11 columns</p>\n",
       "</div>"
      ],
      "text/plain": [
       "      Income  Limit  Rating  Cards  Age  Education  Gender_Female  \\\n",
       "0     14.891   3606     283      2   34         11              0   \n",
       "1    106.025   6645     483      3   82         15              1   \n",
       "2    104.593   7075     514      4   71         11              0   \n",
       "3    148.924   9504     681      3   36         11              1   \n",
       "4     55.882   4897     357      2   68         16              0   \n",
       "..       ...    ...     ...    ...  ...        ...            ...   \n",
       "395   12.096   4100     307      3   32         13              0   \n",
       "396   13.364   3838     296      5   65         17              0   \n",
       "397   57.872   4171     321      5   67         12              1   \n",
       "398   37.728   2525     192      1   44         13              0   \n",
       "399   18.701   5524     415      5   64          7              1   \n",
       "\n",
       "     Student_Yes  Married_Yes  Ethnicity_Asian  Ethnicity_Caucasian  \n",
       "0              0            1                0                    1  \n",
       "1              1            1                1                    0  \n",
       "2              0            0                1                    0  \n",
       "3              0            0                1                    0  \n",
       "4              0            1                0                    1  \n",
       "..           ...          ...              ...                  ...  \n",
       "395            0            1                0                    1  \n",
       "396            0            0                0                    0  \n",
       "397            0            1                0                    1  \n",
       "398            0            1                0                    1  \n",
       "399            0            0                1                    0  \n",
       "\n",
       "[400 rows x 11 columns]"
      ]
     },
     "execution_count": 59,
     "metadata": {},
     "output_type": "execute_result"
    }
   ],
   "source": [
    "X_reg_credit_all = pd.get_dummies(credit.drop(['ID', \"Balance\"], axis=1),\n",
    "                                 drop_first = True)\n",
    "X_reg_credit_all"
   ]
  },
  {
   "cell_type": "code",
   "execution_count": 60,
   "metadata": {},
   "outputs": [
    {
     "data": {
      "text/html": [
       "<table class=\"simpletable\">\n",
       "<caption>OLS Regression Results</caption>\n",
       "<tr>\n",
       "  <th>Dep. Variable:</th>         <td>Balance</td>     <th>  R-squared:         </th> <td>   0.955</td> \n",
       "</tr>\n",
       "<tr>\n",
       "  <th>Model:</th>                   <td>OLS</td>       <th>  Adj. R-squared:    </th> <td>   0.954</td> \n",
       "</tr>\n",
       "<tr>\n",
       "  <th>Method:</th>             <td>Least Squares</td>  <th>  F-statistic:       </th> <td>   750.3</td> \n",
       "</tr>\n",
       "<tr>\n",
       "  <th>Date:</th>             <td>Thu, 08 Apr 2021</td> <th>  Prob (F-statistic):</th> <td>1.11e-253</td>\n",
       "</tr>\n",
       "<tr>\n",
       "  <th>Time:</th>                 <td>09:33:38</td>     <th>  Log-Likelihood:    </th> <td> -2398.7</td> \n",
       "</tr>\n",
       "<tr>\n",
       "  <th>No. Observations:</th>      <td>   400</td>      <th>  AIC:               </th> <td>   4821.</td> \n",
       "</tr>\n",
       "<tr>\n",
       "  <th>Df Residuals:</th>          <td>   388</td>      <th>  BIC:               </th> <td>   4869.</td> \n",
       "</tr>\n",
       "<tr>\n",
       "  <th>Df Model:</th>              <td>    11</td>      <th>                     </th>     <td> </td>    \n",
       "</tr>\n",
       "<tr>\n",
       "  <th>Covariance Type:</th>      <td>nonrobust</td>    <th>                     </th>     <td> </td>    \n",
       "</tr>\n",
       "</table>\n",
       "<table class=\"simpletable\">\n",
       "<tr>\n",
       "           <td></td>              <th>coef</th>     <th>std err</th>      <th>t</th>      <th>P>|t|</th>  <th>[0.025</th>    <th>0.975]</th>  \n",
       "</tr>\n",
       "<tr>\n",
       "  <th>const</th>               <td> -479.2079</td> <td>   35.774</td> <td>  -13.395</td> <td> 0.000</td> <td> -549.543</td> <td> -408.873</td>\n",
       "</tr>\n",
       "<tr>\n",
       "  <th>Income</th>              <td>   -7.8031</td> <td>    0.234</td> <td>  -33.314</td> <td> 0.000</td> <td>   -8.264</td> <td>   -7.343</td>\n",
       "</tr>\n",
       "<tr>\n",
       "  <th>Limit</th>               <td>    0.1909</td> <td>    0.033</td> <td>    5.824</td> <td> 0.000</td> <td>    0.126</td> <td>    0.255</td>\n",
       "</tr>\n",
       "<tr>\n",
       "  <th>Rating</th>              <td>    1.1365</td> <td>    0.491</td> <td>    2.315</td> <td> 0.021</td> <td>    0.171</td> <td>    2.102</td>\n",
       "</tr>\n",
       "<tr>\n",
       "  <th>Cards</th>               <td>   17.7245</td> <td>    4.341</td> <td>    4.083</td> <td> 0.000</td> <td>    9.190</td> <td>   26.259</td>\n",
       "</tr>\n",
       "<tr>\n",
       "  <th>Age</th>                 <td>   -0.6139</td> <td>    0.294</td> <td>   -2.088</td> <td> 0.037</td> <td>   -1.192</td> <td>   -0.036</td>\n",
       "</tr>\n",
       "<tr>\n",
       "  <th>Education</th>           <td>   -1.0989</td> <td>    1.598</td> <td>   -0.688</td> <td> 0.492</td> <td>   -4.241</td> <td>    2.043</td>\n",
       "</tr>\n",
       "<tr>\n",
       "  <th>Gender_Female</th>       <td>  -10.6532</td> <td>    9.914</td> <td>   -1.075</td> <td> 0.283</td> <td>  -30.145</td> <td>    8.839</td>\n",
       "</tr>\n",
       "<tr>\n",
       "  <th>Student_Yes</th>         <td>  425.7474</td> <td>   16.723</td> <td>   25.459</td> <td> 0.000</td> <td>  392.869</td> <td>  458.626</td>\n",
       "</tr>\n",
       "<tr>\n",
       "  <th>Married_Yes</th>         <td>   -8.5339</td> <td>   10.363</td> <td>   -0.824</td> <td> 0.411</td> <td>  -28.908</td> <td>   11.841</td>\n",
       "</tr>\n",
       "<tr>\n",
       "  <th>Ethnicity_Asian</th>     <td>   16.8042</td> <td>   14.119</td> <td>    1.190</td> <td> 0.235</td> <td>  -10.955</td> <td>   44.564</td>\n",
       "</tr>\n",
       "<tr>\n",
       "  <th>Ethnicity_Caucasian</th> <td>   10.1070</td> <td>   12.210</td> <td>    0.828</td> <td> 0.408</td> <td>  -13.899</td> <td>   34.113</td>\n",
       "</tr>\n",
       "</table>\n",
       "<table class=\"simpletable\">\n",
       "<tr>\n",
       "  <th>Omnibus:</th>       <td>34.899</td> <th>  Durbin-Watson:     </th> <td>   1.968</td>\n",
       "</tr>\n",
       "<tr>\n",
       "  <th>Prob(Omnibus):</th> <td> 0.000</td> <th>  Jarque-Bera (JB):  </th> <td>  41.766</td>\n",
       "</tr>\n",
       "<tr>\n",
       "  <th>Skew:</th>          <td> 0.782</td> <th>  Prob(JB):          </th> <td>8.52e-10</td>\n",
       "</tr>\n",
       "<tr>\n",
       "  <th>Kurtosis:</th>      <td> 3.241</td> <th>  Cond. No.          </th> <td>3.87e+04</td>\n",
       "</tr>\n",
       "</table><br/><br/>Notes:<br/>[1] Standard Errors assume that the covariance matrix of the errors is correctly specified.<br/>[2] The condition number is large, 3.87e+04. This might indicate that there are<br/>strong multicollinearity or other numerical problems."
      ],
      "text/plain": [
       "<class 'statsmodels.iolib.summary.Summary'>\n",
       "\"\"\"\n",
       "                            OLS Regression Results                            \n",
       "==============================================================================\n",
       "Dep. Variable:                Balance   R-squared:                       0.955\n",
       "Model:                            OLS   Adj. R-squared:                  0.954\n",
       "Method:                 Least Squares   F-statistic:                     750.3\n",
       "Date:                Thu, 08 Apr 2021   Prob (F-statistic):          1.11e-253\n",
       "Time:                        09:33:38   Log-Likelihood:                -2398.7\n",
       "No. Observations:                 400   AIC:                             4821.\n",
       "Df Residuals:                     388   BIC:                             4869.\n",
       "Df Model:                          11                                         \n",
       "Covariance Type:            nonrobust                                         \n",
       "=======================================================================================\n",
       "                          coef    std err          t      P>|t|      [0.025      0.975]\n",
       "---------------------------------------------------------------------------------------\n",
       "const                -479.2079     35.774    -13.395      0.000    -549.543    -408.873\n",
       "Income                 -7.8031      0.234    -33.314      0.000      -8.264      -7.343\n",
       "Limit                   0.1909      0.033      5.824      0.000       0.126       0.255\n",
       "Rating                  1.1365      0.491      2.315      0.021       0.171       2.102\n",
       "Cards                  17.7245      4.341      4.083      0.000       9.190      26.259\n",
       "Age                    -0.6139      0.294     -2.088      0.037      -1.192      -0.036\n",
       "Education              -1.0989      1.598     -0.688      0.492      -4.241       2.043\n",
       "Gender_Female         -10.6532      9.914     -1.075      0.283     -30.145       8.839\n",
       "Student_Yes           425.7474     16.723     25.459      0.000     392.869     458.626\n",
       "Married_Yes            -8.5339     10.363     -0.824      0.411     -28.908      11.841\n",
       "Ethnicity_Asian        16.8042     14.119      1.190      0.235     -10.955      44.564\n",
       "Ethnicity_Caucasian    10.1070     12.210      0.828      0.408     -13.899      34.113\n",
       "==============================================================================\n",
       "Omnibus:                       34.899   Durbin-Watson:                   1.968\n",
       "Prob(Omnibus):                  0.000   Jarque-Bera (JB):               41.766\n",
       "Skew:                           0.782   Prob(JB):                     8.52e-10\n",
       "Kurtosis:                       3.241   Cond. No.                     3.87e+04\n",
       "==============================================================================\n",
       "\n",
       "Notes:\n",
       "[1] Standard Errors assume that the covariance matrix of the errors is correctly specified.\n",
       "[2] The condition number is large, 3.87e+04. This might indicate that there are\n",
       "strong multicollinearity or other numerical problems.\n",
       "\"\"\""
      ]
     },
     "execution_count": 60,
     "metadata": {},
     "output_type": "execute_result"
    }
   ],
   "source": [
    "X_a_l = sm.add_constant(X_reg_credit_all)\n",
    "y_a_l = credit['Balance']\n",
    "sm.OLS(y_a_l, X_a_l).fit().summary()"
   ]
  },
  {
   "cell_type": "code",
   "execution_count": 70,
   "metadata": {},
   "outputs": [
    {
     "data": {
      "text/html": [
       "<div>\n",
       "<style scoped>\n",
       "    .dataframe tbody tr th:only-of-type {\n",
       "        vertical-align: middle;\n",
       "    }\n",
       "\n",
       "    .dataframe tbody tr th {\n",
       "        vertical-align: top;\n",
       "    }\n",
       "\n",
       "    .dataframe thead th {\n",
       "        text-align: right;\n",
       "    }\n",
       "</style>\n",
       "<table border=\"1\" class=\"dataframe\">\n",
       "  <thead>\n",
       "    <tr style=\"text-align: right;\">\n",
       "      <th></th>\n",
       "      <th>var_1</th>\n",
       "      <th>var_2</th>\n",
       "      <th>corr</th>\n",
       "      <th>corr_abs</th>\n",
       "    </tr>\n",
       "  </thead>\n",
       "  <tbody>\n",
       "    <tr>\n",
       "      <th>10</th>\n",
       "      <td>Limit</td>\n",
       "      <td>Rating</td>\n",
       "      <td>0.996880</td>\n",
       "      <td>0.996880</td>\n",
       "    </tr>\n",
       "    <tr>\n",
       "      <th>0</th>\n",
       "      <td>Income</td>\n",
       "      <td>Limit</td>\n",
       "      <td>0.792088</td>\n",
       "      <td>0.792088</td>\n",
       "    </tr>\n",
       "    <tr>\n",
       "      <th>1</th>\n",
       "      <td>Income</td>\n",
       "      <td>Rating</td>\n",
       "      <td>0.791378</td>\n",
       "      <td>0.791378</td>\n",
       "    </tr>\n",
       "    <tr>\n",
       "      <th>54</th>\n",
       "      <td>Ethnicity_Asian</td>\n",
       "      <td>Ethnicity_Caucasian</td>\n",
       "      <td>-0.582131</td>\n",
       "      <td>0.582131</td>\n",
       "    </tr>\n",
       "    <tr>\n",
       "      <th>3</th>\n",
       "      <td>Income</td>\n",
       "      <td>Age</td>\n",
       "      <td>0.175338</td>\n",
       "      <td>0.175338</td>\n",
       "    </tr>\n",
       "  </tbody>\n",
       "</table>\n",
       "</div>"
      ],
      "text/plain": [
       "              var_1                var_2      corr  corr_abs\n",
       "10            Limit               Rating  0.996880  0.996880\n",
       "0            Income                Limit  0.792088  0.792088\n",
       "1            Income               Rating  0.791378  0.791378\n",
       "54  Ethnicity_Asian  Ethnicity_Caucasian -0.582131  0.582131\n",
       "3            Income                  Age  0.175338  0.175338"
      ]
     },
     "execution_count": 70,
     "metadata": {},
     "output_type": "execute_result"
    }
   ],
   "source": [
    "def get_corr_df(X):\n",
    "    dataCorr = X.corr(method='pearson')\n",
    "    dataCorr = dataCorr.mask(np.tril(np.ones(dataCorr.shape)).astype(np.bool))\n",
    "    dataCorr = dataCorr.stack().reset_index()\n",
    "    dataCorr.columns = ['var_1', 'var_2', 'corr']\n",
    "    dataCorr['corr_abs'] = np.abs(dataCorr['corr'])\n",
    "    dataCorr.sort_values(\"corr_abs\", ascending=False, inplace=True)\n",
    "    return dataCorr\n",
    "get_corr_df(X_reg_credit_all).head()"
   ]
  },
  {
   "cell_type": "code",
   "execution_count": 80,
   "metadata": {},
   "outputs": [
    {
     "data": {
      "text/html": [
       "<div>\n",
       "<style scoped>\n",
       "    .dataframe tbody tr th:only-of-type {\n",
       "        vertical-align: middle;\n",
       "    }\n",
       "\n",
       "    .dataframe tbody tr th {\n",
       "        vertical-align: top;\n",
       "    }\n",
       "\n",
       "    .dataframe thead th {\n",
       "        text-align: right;\n",
       "    }\n",
       "</style>\n",
       "<table border=\"1\" class=\"dataframe\">\n",
       "  <thead>\n",
       "    <tr style=\"text-align: right;\">\n",
       "      <th></th>\n",
       "      <th>var_1</th>\n",
       "      <th>var_2</th>\n",
       "      <th>corr</th>\n",
       "      <th>corr_abs</th>\n",
       "      <th>index_var1</th>\n",
       "      <th>VIF_var1</th>\n",
       "      <th>index_var2</th>\n",
       "      <th>VIF_var2</th>\n",
       "    </tr>\n",
       "  </thead>\n",
       "  <tbody>\n",
       "    <tr>\n",
       "      <th>0</th>\n",
       "      <td>Limit</td>\n",
       "      <td>Rating</td>\n",
       "      <td>0.996880</td>\n",
       "      <td>0.996880</td>\n",
       "      <td>Limit</td>\n",
       "      <td>234.028100</td>\n",
       "      <td>Rating</td>\n",
       "      <td>235.848259</td>\n",
       "    </tr>\n",
       "    <tr>\n",
       "      <th>54</th>\n",
       "      <td>Income</td>\n",
       "      <td>Limit</td>\n",
       "      <td>0.792088</td>\n",
       "      <td>0.792088</td>\n",
       "      <td>Income</td>\n",
       "      <td>2.786182</td>\n",
       "      <td>Limit</td>\n",
       "      <td>234.028100</td>\n",
       "    </tr>\n",
       "    <tr>\n",
       "      <th>1</th>\n",
       "      <td>Income</td>\n",
       "      <td>Rating</td>\n",
       "      <td>0.791378</td>\n",
       "      <td>0.791378</td>\n",
       "      <td>Income</td>\n",
       "      <td>2.786182</td>\n",
       "      <td>Rating</td>\n",
       "      <td>235.848259</td>\n",
       "    </tr>\n",
       "    <tr>\n",
       "      <th>46</th>\n",
       "      <td>Ethnicity_Asian</td>\n",
       "      <td>Ethnicity_Caucasian</td>\n",
       "      <td>-0.582131</td>\n",
       "      <td>0.582131</td>\n",
       "      <td>Ethnicity_Asian</td>\n",
       "      <td>1.552157</td>\n",
       "      <td>Ethnicity_Caucasian</td>\n",
       "      <td>1.527504</td>\n",
       "    </tr>\n",
       "    <tr>\n",
       "      <th>3</th>\n",
       "      <td>Income</td>\n",
       "      <td>Age</td>\n",
       "      <td>0.175338</td>\n",
       "      <td>0.175338</td>\n",
       "      <td>Income</td>\n",
       "      <td>2.786182</td>\n",
       "      <td>Age</td>\n",
       "      <td>1.051410</td>\n",
       "    </tr>\n",
       "    <tr>\n",
       "      <th>4</th>\n",
       "      <td>Rating</td>\n",
       "      <td>Age</td>\n",
       "      <td>0.103165</td>\n",
       "      <td>0.103165</td>\n",
       "      <td>Rating</td>\n",
       "      <td>235.848259</td>\n",
       "      <td>Age</td>\n",
       "      <td>1.051410</td>\n",
       "    </tr>\n",
       "    <tr>\n",
       "      <th>2</th>\n",
       "      <td>Limit</td>\n",
       "      <td>Age</td>\n",
       "      <td>0.100888</td>\n",
       "      <td>0.100888</td>\n",
       "      <td>Limit</td>\n",
       "      <td>234.028100</td>\n",
       "      <td>Age</td>\n",
       "      <td>1.051410</td>\n",
       "    </tr>\n",
       "    <tr>\n",
       "      <th>9</th>\n",
       "      <td>Married_Yes</td>\n",
       "      <td>Ethnicity_Asian</td>\n",
       "      <td>0.088595</td>\n",
       "      <td>0.088595</td>\n",
       "      <td>Married_Yes</td>\n",
       "      <td>1.044638</td>\n",
       "      <td>Ethnicity_Asian</td>\n",
       "      <td>1.552157</td>\n",
       "    </tr>\n",
       "    <tr>\n",
       "      <th>18</th>\n",
       "      <td>Student_Yes</td>\n",
       "      <td>Married_Yes</td>\n",
       "      <td>-0.076974</td>\n",
       "      <td>0.076974</td>\n",
       "      <td>Student_Yes</td>\n",
       "      <td>1.031517</td>\n",
       "      <td>Married_Yes</td>\n",
       "      <td>1.044638</td>\n",
       "    </tr>\n",
       "    <tr>\n",
       "      <th>19</th>\n",
       "      <td>Age</td>\n",
       "      <td>Married_Yes</td>\n",
       "      <td>-0.073136</td>\n",
       "      <td>0.073136</td>\n",
       "      <td>Age</td>\n",
       "      <td>1.051410</td>\n",
       "      <td>Married_Yes</td>\n",
       "      <td>1.044638</td>\n",
       "    </tr>\n",
       "    <tr>\n",
       "      <th>41</th>\n",
       "      <td>Education</td>\n",
       "      <td>Student_Yes</td>\n",
       "      <td>0.072085</td>\n",
       "      <td>0.072085</td>\n",
       "      <td>Education</td>\n",
       "      <td>1.019588</td>\n",
       "      <td>Student_Yes</td>\n",
       "      <td>1.031517</td>\n",
       "    </tr>\n",
       "    <tr>\n",
       "      <th>11</th>\n",
       "      <td>Age</td>\n",
       "      <td>Ethnicity_Asian</td>\n",
       "      <td>-0.059623</td>\n",
       "      <td>0.059623</td>\n",
       "      <td>Age</td>\n",
       "      <td>1.051410</td>\n",
       "      <td>Ethnicity_Asian</td>\n",
       "      <td>1.552157</td>\n",
       "    </tr>\n",
       "    <tr>\n",
       "      <th>42</th>\n",
       "      <td>Gender_Female</td>\n",
       "      <td>Student_Yes</td>\n",
       "      <td>0.055034</td>\n",
       "      <td>0.055034</td>\n",
       "      <td>Gender_Female</td>\n",
       "      <td>1.005849</td>\n",
       "      <td>Student_Yes</td>\n",
       "      <td>1.031517</td>\n",
       "    </tr>\n",
       "    <tr>\n",
       "      <th>10</th>\n",
       "      <td>Student_Yes</td>\n",
       "      <td>Ethnicity_Asian</td>\n",
       "      <td>0.053534</td>\n",
       "      <td>0.053534</td>\n",
       "      <td>Student_Yes</td>\n",
       "      <td>1.031517</td>\n",
       "      <td>Ethnicity_Asian</td>\n",
       "      <td>1.552157</td>\n",
       "    </tr>\n",
       "    <tr>\n",
       "      <th>30</th>\n",
       "      <td>Rating</td>\n",
       "      <td>Cards</td>\n",
       "      <td>0.053239</td>\n",
       "      <td>0.053239</td>\n",
       "      <td>Rating</td>\n",
       "      <td>235.848259</td>\n",
       "      <td>Cards</td>\n",
       "      <td>1.448690</td>\n",
       "    </tr>\n",
       "    <tr>\n",
       "      <th>27</th>\n",
       "      <td>Cards</td>\n",
       "      <td>Education</td>\n",
       "      <td>-0.051084</td>\n",
       "      <td>0.051084</td>\n",
       "      <td>Cards</td>\n",
       "      <td>1.448690</td>\n",
       "      <td>Education</td>\n",
       "      <td>1.019588</td>\n",
       "    </tr>\n",
       "    <tr>\n",
       "      <th>20</th>\n",
       "      <td>Education</td>\n",
       "      <td>Married_Yes</td>\n",
       "      <td>0.048911</td>\n",
       "      <td>0.048911</td>\n",
       "      <td>Education</td>\n",
       "      <td>1.019588</td>\n",
       "      <td>Married_Yes</td>\n",
       "      <td>1.044638</td>\n",
       "    </tr>\n",
       "    <tr>\n",
       "      <th>49</th>\n",
       "      <td>Student_Yes</td>\n",
       "      <td>Ethnicity_Caucasian</td>\n",
       "      <td>-0.048334</td>\n",
       "      <td>0.048334</td>\n",
       "      <td>Student_Yes</td>\n",
       "      <td>1.031517</td>\n",
       "      <td>Ethnicity_Caucasian</td>\n",
       "      <td>1.527504</td>\n",
       "    </tr>\n",
       "    <tr>\n",
       "      <th>5</th>\n",
       "      <td>Cards</td>\n",
       "      <td>Age</td>\n",
       "      <td>0.042948</td>\n",
       "      <td>0.042948</td>\n",
       "      <td>Cards</td>\n",
       "      <td>1.448690</td>\n",
       "      <td>Age</td>\n",
       "      <td>1.051410</td>\n",
       "    </tr>\n",
       "    <tr>\n",
       "      <th>51</th>\n",
       "      <td>Education</td>\n",
       "      <td>Ethnicity_Caucasian</td>\n",
       "      <td>-0.037725</td>\n",
       "      <td>0.037725</td>\n",
       "      <td>Education</td>\n",
       "      <td>1.019588</td>\n",
       "      <td>Ethnicity_Caucasian</td>\n",
       "      <td>1.527504</td>\n",
       "    </tr>\n",
       "    <tr>\n",
       "      <th>17</th>\n",
       "      <td>Rating</td>\n",
       "      <td>Married_Yes</td>\n",
       "      <td>0.036751</td>\n",
       "      <td>0.036751</td>\n",
       "      <td>Rating</td>\n",
       "      <td>235.848259</td>\n",
       "      <td>Married_Yes</td>\n",
       "      <td>1.044638</td>\n",
       "    </tr>\n",
       "    <tr>\n",
       "      <th>8</th>\n",
       "      <td>Rating</td>\n",
       "      <td>Ethnicity_Asian</td>\n",
       "      <td>-0.035999</td>\n",
       "      <td>0.035999</td>\n",
       "      <td>Rating</td>\n",
       "      <td>235.848259</td>\n",
       "      <td>Ethnicity_Asian</td>\n",
       "      <td>1.552157</td>\n",
       "    </tr>\n",
       "    <tr>\n",
       "      <th>16</th>\n",
       "      <td>Income</td>\n",
       "      <td>Married_Yes</td>\n",
       "      <td>0.035652</td>\n",
       "      <td>0.035652</td>\n",
       "      <td>Income</td>\n",
       "      <td>2.786182</td>\n",
       "      <td>Married_Yes</td>\n",
       "      <td>1.044638</td>\n",
       "    </tr>\n",
       "    <tr>\n",
       "      <th>6</th>\n",
       "      <td>Limit</td>\n",
       "      <td>Ethnicity_Asian</td>\n",
       "      <td>-0.032427</td>\n",
       "      <td>0.032427</td>\n",
       "      <td>Limit</td>\n",
       "      <td>234.028100</td>\n",
       "      <td>Ethnicity_Asian</td>\n",
       "      <td>1.552157</td>\n",
       "    </tr>\n",
       "    <tr>\n",
       "      <th>15</th>\n",
       "      <td>Limit</td>\n",
       "      <td>Married_Yes</td>\n",
       "      <td>0.031155</td>\n",
       "      <td>0.031155</td>\n",
       "      <td>Limit</td>\n",
       "      <td>234.028100</td>\n",
       "      <td>Married_Yes</td>\n",
       "      <td>1.044638</td>\n",
       "    </tr>\n",
       "    <tr>\n",
       "      <th>25</th>\n",
       "      <td>Rating</td>\n",
       "      <td>Education</td>\n",
       "      <td>-0.030136</td>\n",
       "      <td>0.030136</td>\n",
       "      <td>Rating</td>\n",
       "      <td>235.848259</td>\n",
       "      <td>Education</td>\n",
       "      <td>1.019588</td>\n",
       "    </tr>\n",
       "    <tr>\n",
       "      <th>40</th>\n",
       "      <td>Age</td>\n",
       "      <td>Student_Yes</td>\n",
       "      <td>-0.029844</td>\n",
       "      <td>0.029844</td>\n",
       "      <td>Age</td>\n",
       "      <td>1.051410</td>\n",
       "      <td>Student_Yes</td>\n",
       "      <td>1.031517</td>\n",
       "    </tr>\n",
       "    <tr>\n",
       "      <th>12</th>\n",
       "      <td>Education</td>\n",
       "      <td>Ethnicity_Asian</td>\n",
       "      <td>0.029586</td>\n",
       "      <td>0.029586</td>\n",
       "      <td>Education</td>\n",
       "      <td>1.019588</td>\n",
       "      <td>Ethnicity_Asian</td>\n",
       "      <td>1.552157</td>\n",
       "    </tr>\n",
       "    <tr>\n",
       "      <th>24</th>\n",
       "      <td>Income</td>\n",
       "      <td>Education</td>\n",
       "      <td>-0.027692</td>\n",
       "      <td>0.027692</td>\n",
       "      <td>Income</td>\n",
       "      <td>2.786182</td>\n",
       "      <td>Education</td>\n",
       "      <td>1.019588</td>\n",
       "    </tr>\n",
       "    <tr>\n",
       "      <th>43</th>\n",
       "      <td>Cards</td>\n",
       "      <td>Student_Yes</td>\n",
       "      <td>-0.026164</td>\n",
       "      <td>0.026164</td>\n",
       "      <td>Cards</td>\n",
       "      <td>1.448690</td>\n",
       "      <td>Student_Yes</td>\n",
       "      <td>1.031517</td>\n",
       "    </tr>\n",
       "    <tr>\n",
       "      <th>13</th>\n",
       "      <td>Gender_Female</td>\n",
       "      <td>Ethnicity_Asian</td>\n",
       "      <td>0.025425</td>\n",
       "      <td>0.025425</td>\n",
       "      <td>Gender_Female</td>\n",
       "      <td>1.005849</td>\n",
       "      <td>Ethnicity_Asian</td>\n",
       "      <td>1.552157</td>\n",
       "    </tr>\n",
       "    <tr>\n",
       "      <th>23</th>\n",
       "      <td>Limit</td>\n",
       "      <td>Education</td>\n",
       "      <td>-0.023549</td>\n",
       "      <td>0.023549</td>\n",
       "      <td>Limit</td>\n",
       "      <td>234.028100</td>\n",
       "      <td>Education</td>\n",
       "      <td>1.019588</td>\n",
       "    </tr>\n",
       "    <tr>\n",
       "      <th>36</th>\n",
       "      <td>Cards</td>\n",
       "      <td>Gender_Female</td>\n",
       "      <td>-0.022658</td>\n",
       "      <td>0.022658</td>\n",
       "      <td>Cards</td>\n",
       "      <td>1.448690</td>\n",
       "      <td>Gender_Female</td>\n",
       "      <td>1.005849</td>\n",
       "    </tr>\n",
       "    <tr>\n",
       "      <th>45</th>\n",
       "      <td>Income</td>\n",
       "      <td>Ethnicity_Caucasian</td>\n",
       "      <td>-0.019701</td>\n",
       "      <td>0.019701</td>\n",
       "      <td>Income</td>\n",
       "      <td>2.786182</td>\n",
       "      <td>Ethnicity_Caucasian</td>\n",
       "      <td>1.527504</td>\n",
       "    </tr>\n",
       "    <tr>\n",
       "      <th>38</th>\n",
       "      <td>Income</td>\n",
       "      <td>Student_Yes</td>\n",
       "      <td>0.019632</td>\n",
       "      <td>0.019632</td>\n",
       "      <td>Income</td>\n",
       "      <td>2.786182</td>\n",
       "      <td>Student_Yes</td>\n",
       "      <td>1.031517</td>\n",
       "    </tr>\n",
       "    <tr>\n",
       "      <th>29</th>\n",
       "      <td>Income</td>\n",
       "      <td>Cards</td>\n",
       "      <td>-0.018273</td>\n",
       "      <td>0.018273</td>\n",
       "      <td>Income</td>\n",
       "      <td>2.786182</td>\n",
       "      <td>Cards</td>\n",
       "      <td>1.448690</td>\n",
       "    </tr>\n",
       "    <tr>\n",
       "      <th>7</th>\n",
       "      <td>Income</td>\n",
       "      <td>Ethnicity_Asian</td>\n",
       "      <td>-0.017137</td>\n",
       "      <td>0.017137</td>\n",
       "      <td>Income</td>\n",
       "      <td>2.786182</td>\n",
       "      <td>Ethnicity_Asian</td>\n",
       "      <td>1.552157</td>\n",
       "    </tr>\n",
       "    <tr>\n",
       "      <th>21</th>\n",
       "      <td>Gender_Female</td>\n",
       "      <td>Married_Yes</td>\n",
       "      <td>0.012452</td>\n",
       "      <td>0.012452</td>\n",
       "      <td>Gender_Female</td>\n",
       "      <td>1.005849</td>\n",
       "      <td>Married_Yes</td>\n",
       "      <td>1.044638</td>\n",
       "    </tr>\n",
       "    <tr>\n",
       "      <th>48</th>\n",
       "      <td>Married_Yes</td>\n",
       "      <td>Ethnicity_Caucasian</td>\n",
       "      <td>0.011418</td>\n",
       "      <td>0.011418</td>\n",
       "      <td>Married_Yes</td>\n",
       "      <td>1.044638</td>\n",
       "      <td>Ethnicity_Caucasian</td>\n",
       "      <td>1.527504</td>\n",
       "    </tr>\n",
       "    <tr>\n",
       "      <th>32</th>\n",
       "      <td>Income</td>\n",
       "      <td>Gender_Female</td>\n",
       "      <td>-0.010738</td>\n",
       "      <td>0.010738</td>\n",
       "      <td>Income</td>\n",
       "      <td>2.786182</td>\n",
       "      <td>Gender_Female</td>\n",
       "      <td>1.005849</td>\n",
       "    </tr>\n",
       "    <tr>\n",
       "      <th>28</th>\n",
       "      <td>Limit</td>\n",
       "      <td>Ca"
      ],
      "text/plain": [
       "              var_1                var_2      corr  corr_abs       index_var1  \\\n",
       "0             Limit               Rating  0.996880  0.996880            Limit   \n",
       "54           Income                Limit  0.792088  0.792088           Income   \n",
       "1            Income               Rating  0.791378  0.791378           Income   \n",
       "46  Ethnicity_Asian  Ethnicity_Caucasian -0.582131  0.582131  Ethnicity_Asian   \n",
       "3            Income                  Age  0.175338  0.175338           Income   \n",
       "4            Rating                  Age  0.103165  0.103165           Rating   \n",
       "2             Limit                  Age  0.100888  0.100888            Limit   \n",
       "9       Married_Yes      Ethnicity_Asian  0.088595  0.088595      Married_Yes   \n",
       "18      Student_Yes          Married_Yes -0.076974  0.076974      Student_Yes   \n",
       "19              Age          Married_Yes -0.073136  0.073136              Age   \n",
       "41        Education          Student_Yes  0.072085  0.072085        Education   \n",
       "11              Age      Ethnicity_Asian -0.059623  0.059623              Age   \n",
       "42    Gender_Female          Student_Yes  0.055034  0.055034    Gender_Female   \n",
       "10      Student_Yes      Ethnicity_Asian  0.053534  0.053534      Student_Yes   \n",
       "30           Rating                Cards  0.053239  0.053239           Rating   \n",
       "27            Cards            Education -0.051084  0.051084            Cards   \n",
       "20        Education          Married_Yes  0.048911  0.048911        Education   \n",
       "49      Student_Yes  Ethnicity_Caucasian -0.048334  0.048334      Student_Yes   \n",
       "5             Cards                  Age  0.042948  0.042948            Cards   \n",
       "51        Education  Ethnicity_Caucasian -0.037725  0.037725        Education   \n",
       "17           Rating          Married_Yes  0.036751  0.036751           Rating   \n",
       "8            Rating      Ethnicity_Asian -0.035999  0.035999           Rating   \n",
       "16           Income          Married_Yes  0.035652  0.035652           Income   \n",
       "6             Limit      Ethnicity_Asian -0.032427  0.032427            Limit   \n",
       "15            Limit          Married_Yes  0.031155  0.031155            Limit   \n",
       "25           Rating            Education -0.030136  0.030136           Rating   \n",
       "40              Age          Student_Yes -0.029844  0.029844              Age   \n",
       "12        Education      Ethnicity_Asian  0.029586  0.029586        Education   \n",
       "24           Income            Education -0.027692  0.027692           Income   \n",
       "43            Cards          Student_Yes -0.026164  0.026164            Cards   \n",
       "13    Gender_Female      Ethnicity_Asian  0.025425  0.025425    Gender_Female   \n",
       "23            Limit            Education -0.023549  0.023549            Limit   \n",
       "36            Cards        Gender_Female -0.022658  0.022658            Cards   \n",
       "45           Income  Ethnicity_Caucasian -0.019701  0.019701           Income   \n",
       "38           Income          Student_Yes  0.019632  0.019632           Income   \n",
       "29           Income                Cards -0.018273  0.018273           Income   \n",
       "7            Income      Ethnicity_Asian -0.017137  0.017137           Income   \n",
       "21    Gender_Female          Married_Yes  0.012452  0.012452    Gender_Female   \n",
       "48      Married_Yes  Ethnicity_Caucasian  0.011418  0.011418      Married_Yes   \n",
       "32           Income        Gender_Female -0.010738  0.010738           Income   \n",
       "28            Limit                Cards  0.010231  0.010231            Limit   \n",
       "52    Gender_Female  Ethnicity_Caucasian -0.009831  0.009831    Gender_Female   \n",
       "22            Cards          Married_Yes -0.009695  0.009695            Cards   \n",
       "31            Limit        Gender_Female  0.009397  0.009397            Limit   \n",
       "33           Rating        Gender_Female  0.008885  0.008885           Rating   \n",
       "37            Limit          Student_Yes -0.006015  0.006015            Limit   \n",
       "53            Cards  Ethnicity_Caucasian -0.005631  0.005631            Cards   \n",
       "14            Cards      Ethnicity_Asian  0.005591  0.005591            Cards   \n",
       "35        Education        Gender_Female -0.005049  0.005049        Education   \n",
       "34              Age        Gender_Female  0.004015  0.004015              Age   \n",
       "26              Age            Education  0.003619  0.003619              Age   \n",
       "44            Limit  Ethnicity_Caucasian -0.003081  0.003081            Limit   \n",
       "39           Rating          Student_Yes -0.002028  0.002028           Rating   \n",
       "47           Rating  Ethnicity_Caucasian -0.001070  0.001070           Rating   \n",
       "50              Age  Ethnicity_Caucasian -0.000822  0.000822              Age   \n",
       "\n",
       "      VIF_var1           index_var2    VIF_var2  \n",
       "0   234.028100               Rating  235.848259  \n",
       "54    2.786182                Limit  234.028100  \n",
       "1     2.786182               Rating  235.848259  \n",
       "46    1.552157  Ethnicity_Caucasian    1.527504  \n",
       "3     2.786182                  Age    1.051410  \n",
       "4   235.848259                  Age    1.051410  \n",
       "2   234.028100                  Age    1.051410  \n",
       "9     1.044638      Ethnicity_Asian    1.552157  \n",
       "18    1.031517          Married_Yes    1.044638  \n",
       "19    1.051410          Married_Yes    1.044638  \n",
       "41    1.019588          Student_Yes    1.031517  \n",
       "11    1.051410      Ethnicity_Asian    1.552157  \n",
       "42    1.005849          Student_Yes    1.031517  \n",
       "10    1.031517      Ethnicity_Asian    1.552157  \n",
       "30  235.848259                Cards    1.448690  \n",
       "27    1.448690            Education    1.019588  \n",
       "20    1.019588          Married_Yes    1.044638  \n",
       "49    1.031517  Ethnicity_Caucasian    1.527504  \n",
       "5     1.448690                  Age    1.051410  \n",
       "51    1.019588  Ethnicity_Caucasian    1.527504  \n",
       "17  235.848259          Married_Yes    1.044638  \n",
       "8   235.848259      Ethnicity_Asian    1.552157  \n",
       "16    2.786182          Married_Yes    1.044638  \n",
       "6   234.028100      Ethnicity_Asian    1.552157  \n",
       "15  234.028100          Married_Yes    1.044638  \n",
       "25  235.848259            Education    1.019588  \n",
       "40    1.051410          Student_Yes    1.031517  \n",
       "12    1.019588      Ethnicity_Asian    1.552157  \n",
       "24    2.786182            Education    1.019588  \n",
       "43    1.448690          Student_Yes    1.031517  \n",
       "13    1.005849      Ethnicity_Asian    1.552157  \n",
       "23  234.028100            Education    1.019588  \n",
       "36    1.448690        Gender_Female    1.005849  \n",
       "45    2.786182  Ethnicity_Caucasian    1.527504  \n",
       "38    2.786182          Student_Yes    1.031517  \n",
       "29    2.786182                Cards    1.448690  \n",
       "7     2.786182      Ethnicity_Asian    1.552157  \n",
       "21    1.005849          Married_Yes    1.044638  \n",
       "48    1.044638  Ethnicity_Caucasian    1.527504  \n",
       "32    2.786182        Gender_Female    1.005849  \n",
       "28  234.028100                Cards    1.448690  \n",
       "52    1.005849  Ethnicity_Caucasian    1.527504  \n",
       "22    1.448690          Married_Yes    1.044638  \n",
       "31  234.028100        Gender_Female    1.005849  \n",
       "33  235.848259        Gender_Female    1.005849  \n",
       "37  234.028100          Student_Yes    1.031517  \n",
       "53    1.448690  Ethnicity_Caucasian    1.527504  \n",
       "14    1.448690      Ethnicity_Asian    1.552157  \n",
       "35    1.019588        Gender_Female    1.005849  \n",
       "34    1.051410        Gender_Female    1.005849  \n",
       "26    1.051410            Education    1.019588  \n",
       "44  234.028100  Ethnicity_Caucasian    1.527504  \n",
       "39  235.848259          Student_Yes    1.031517  \n",
       "47  235.848259  Ethnicity_Caucasian    1.527504  \n",
       "50    1.051410  Ethnicity_Caucasian    1.527504  "
      ]
     },
     "execution_count": 80,
     "metadata": {},
     "output_type": "execute_result"
    },
    {
     "data": {
      "text/html": [
       "<b>limit_output extension: Maximum message size of 10000 exceeded with 13530 characters</b>"
      ]
     },
     "metadata": {},
     "output_type": "display_data"
    }
   ],
   "source": [
    "# VIF\n",
    "def vif(X):\n",
    "    \"\"\"\n",
    "    X - dataframe with colnames\n",
    "    \"\"\"\n",
    "    return pd.DataFrame(\n",
    "        dict(zip(X.columns,\n",
    "         np.diag(np.linalg.inv(X.corr().values)))\n",
    "    ), index = [\"VIF\"]\n",
    "    ).T.reset_index()\n",
    "vif(X_reg_credit_all)\n",
    "get_corr_df(X_reg_credit_all).merge(\n",
    "vif(X_reg_credit_all), left_on = \"var_1\", right_on = \"index\").merge(\n",
    "vif(X_reg_credit_all), left_on = \"var_2\", right_on = \"index\",\n",
    "suffixes = ['_var1', \"_var2\"]).sort_values(\"corr_abs\", ascending=False)"
   ]
  },
  {
   "cell_type": "markdown",
   "metadata": {},
   "source": [
    "# 2. Смещение и разброс"
   ]
  },
  {
   "cell_type": "markdown",
   "metadata": {},
   "source": [
    "Давайте поговорим об ошибках прогноза в линейных моделях (верно и для остальных видов моделей). Для этого введем следующие предположения:\n",
    "\n",
    "- истинное значение целевой переменной представляет из себя сумму подобранной функции (детерминированной, т.е. неслучайной) $f\\left(\\textbf{x}\\right)$ и случайной ошибки $\\epsilon$: $y = f\\left(\\textbf{x}\\right) + \\epsilon$;\n",
    "- ошибки имеют нормальное распределение с нулевым средним и постоянной дисперсией: $\\epsilon \\sim \\mathcal{N}\\left(0, \\sigma^2\\right)$;\n",
    "- соответственно и истинное значение целевой переменной распределенно также нормально: $y \\sim \\mathcal{N}\\left(f\\left(\\textbf{x}\\right), \\sigma^2\\right)$;\n",
    "- мы пытаемся аппроксимировать нашу неизвестную функцию $f\\left(\\textbf{x}\\right)$ в предположении ее линейности с выбранными переменными (еще мы любим называть их ковариатами) $\\widehat{f}\\left(\\textbf{x}\\right)$, которая, в свою очередь, является точечной оценкой  $f$ в пространстве элементарных функций (в нашем случае - это семейство линейных функций).\n",
    "\n",
    "Таким образом, ошибка регрессии $\\textbf{x}$ раскладывается следующим образом при помощи формулы для дисперсии:\n",
    "$$\\Large \\begin{array}{rcl} \n",
    "\\text{Err}\\left(\\textbf{x}\\right) &=& \\mathbb{E}\\left[\\left(y - \\widehat{f}\\left(\\textbf{x}\\right)\\right)^2\\right] \\\\\n",
    "&=& \\mathbb{E}\\left[y^2\\right] + \\mathbb{E}\\left[\\left(\\widehat{f}\\left(\\textbf{x}\\right)\\right)^2\\right] - 2\\mathbb{E}\\left[y\\widehat{f}\\left(\\textbf{x}\\right)\\right] \\\\\n",
    "&=& \\mathbb{E}\\left[y^2\\right] + \\mathbb{E}\\left[\\widehat{f}^2\\right] - 2\\mathbb{E}\\left[y\\widehat{f}\\right] \\\\\n",
    "\\end{array}$$\n",
    "\n",
    "Давайте проанализируем на каждое слагаемое отдельно. Первые два раскладываются следующим образом: $\\text{Var}\\left(z\\right) = \\mathbb{E}\\left[z^2\\right] - \\mathbb{E}\\left[z\\right]^2$:\n",
    "\n",
    "$$\\Large \\begin{array}{rcl} \n",
    "\\mathbb{E}\\left[y^2\\right] &=& \\text{Var}\\left(y\\right) + \\mathbb{E}\\left[y\\right]^2 = \\sigma^2 + f^2\\\\\n",
    "\\mathbb{E}\\left[\\widehat{f}^2\\right] &=& \\text{Var}\\left(\\widehat{f}\\right) + \\mathbb{E}\\left[\\widehat{f}\\right]^2 \\\\\n",
    "\\end{array}$$\n",
    "\n",
    "Заметим, что (это как \"очевидно\" в книгах по матану):\n",
    "\n",
    "$$\\Large \\begin{array}{rcl} \n",
    "\\text{Var}\\left(y\\right) &=& \\mathbb{E}\\left[\\left(y - \\mathbb{E}\\left[y\\right]\\right)^2\\right] \\\\\n",
    "&=& \\mathbb{E}\\left[\\left(y - f\\right)^2\\right] \\\\\n",
    "&=& \\mathbb{E}\\left[\\left(f + \\epsilon - f\\right)^2\\right] \\\\\n",
    "&=& \\mathbb{E}\\left[\\epsilon^2\\right] = \\sigma^2\n",
    "\\end{array}$$\n",
    "\n",
    "$$\\Large \\mathbb{E}[y] = \\mathbb{E}[f + \\epsilon] = \\mathbb{E}[f] + \\mathbb{E}[\\epsilon] = f$$\n",
    "\n",
    "Вспомним. что ошибка и целевая переменная являются независимыми (потому что мы так предположили!, хех):\n",
    "\n",
    "$$\\Large \\begin{array}{rcl} \n",
    "\\mathbb{E}\\left[y\\widehat{f}\\right] &=& \\mathbb{E}\\left[\\left(f + \\epsilon\\right)\\widehat{f}\\right] \\\\\n",
    "&=& \\mathbb{E}\\left[f\\widehat{f}\\right] + \\mathbb{E}\\left[\\epsilon\\widehat{f}\\right] \\\\\n",
    "&=& f\\mathbb{E}\\left[\\widehat{f}\\right] + \\mathbb{E}\\left[\\epsilon\\right] \\mathbb{E}\\left[\\widehat{f}\\right]  = f\\mathbb{E}\\left[\\widehat{f}\\right]\n",
    "\\end{array}$$\n",
    "\n",
    "Теперь соберем все вместе:\n",
    "\n",
    "$$\\Large \\begin{array}{rcl} \n",
    "\\text{Err}\\left(\\textbf{x}\\right) &=& \\mathbb{E}\\left[\\left(y - \\widehat{f}\\left(\\textbf{x}\\right)\\right)^2\\right] \\\\\n",
    "&=& \\sigma^2 + f^2 + \\text{Var}\\left(\\widehat{f}\\right) + \\mathbb{E}\\left[\\widehat{f}\\right]^2 - 2f\\mathbb{E}\\left[\\widehat{f}\\right] \\\\\n",
    "&=& \\left(f - \\mathbb{E}\\left[\\widehat{f}\\right]\\right)^2 + \\text{Var}\\left(\\widehat{f}\\right) + \\sigma^2 \\\\\n",
    "&=& \\text{Bias}\\left(\\widehat{f}\\right)^2 + \\text{Var}\\left(\\widehat{f}\\right) + \\sigma^2\n",
    "\\end{array}$$\n",
    "\n",
    "Последняя формула и показывает то, из чего состоит ошибка модели: $y = f\\left(\\textbf{x}\\right) + \\epsilon$ состоит из следующих элементов:\n",
    "\n",
    "- квадрат смещения: $\\text{Bias}\\left(\\widehat{f}\\right)$ средняя ошибка аппроксимации\n",
    "- разброс: $\\text{Var}\\left(\\widehat{f}\\right)$ вариация ошибки, или то, насколько сильно изменяются наши результаты при оценивании одной и той же модели на различных наборах данных\n",
    "- ошибка, которую нельзя искоренить: $\\sigma^2$.\n",
    "\n",
    "К сожалению мы не можем повлиять на $\\sigma^2$, мы можем повлиять на две остальные. В идеале нам бы обнулить эти две ошибки (правая верхняя мишень на картинке ниже). Однако,практика - дело суровое и, как правило, мы балансируем между снижением разброса и смещения."
   ]
  },
  {
   "cell_type": "markdown",
   "metadata": {},
   "source": [
    "<div>\n",
    "<img src=https://encrypted-tbn0.gstatic.com/images?q=tbn:ANd9GcTNTyU27xqfuK_FcybMEge7pzUTjRtfWl8o_w&usqp=CAU width=\"650\"\n",
    "<div>"
   ]
  },
  {
   "cell_type": "markdown",
   "metadata": {},
   "source": [
    "Вообще говоря, при росте сложности модели (например, количества переменных) дисперсия ошибки начинает расти, а смещение снижается. \n",
    "\n",
    "Переобучение (высокий разброс) - наша модель черезчур подобрала зависимость под тренировочную выборку и на новых данных качество модели существенно падает.\n",
    "\n",
    "Недообучение (высокое смещение) - наша модель слишком плохо подобрала истинную зависимость и дает в целом плохой прогноз."
   ]
  },
  {
   "cell_type": "markdown",
   "metadata": {},
   "source": [
    "<div>\n",
    "<img src=https://cdn-images-1.medium.com/max/883/1*8sV6Sr9uc0Ef39YBivLzrw.jpeg width=\"800\">\n",
    "<div>"
   ]
  },
  {
   "cell_type": "markdown",
   "metadata": {},
   "source": [
    "# 3. Регуляризация\n",
    "\n",
    "Теперь мы плавно переходим из светлой стороны эконометрики с ее поиском истинных взаимосвязей между переменными на темную сторону машинного обучения. В машинном обучении, как правило, нас не волнуют истинные взаимосвязи между переменными. Наиболее интересным здесь представляется получение ТОЧНЫХ ПРОГНОЗОВ НА НОВЫХ ДАННЫХ. (снижение разброса вместо снижения смещения).\n",
    "\n",
    "Давайте представим, что мы находимся где-нибудь в Лондоне в осенний период и собираемся выйти на улицу. Мы думаем, взять с собой зонт или нет, т.е. нас интересует вопрос - пойдет ли дождь сегодня или нет?\n",
    "\n",
    "Эконометрист при решении данной задачи в первую очередь спросит: а какие факторы и каким образом влияют на то, идет дождь или нет? \n",
    "\n",
    "\n",
    "Машин-лернер-биг-датер в первую очередь спросит с какой точностью наша модель предскажет вероятность дождя?\n",
    "\n",
    "Если мы посмотрим на картнинку с мишенью, то эконометрист будет находиться справа вверху, а специалист по машинному обучению - слева внизу, поскольку основная задача - предсказание при помощи нашей модели на НОВЫХ ДАННЫХ, а не поиск истинных взаимосвязей на СТАРЫХ."
   ]
  },
  {
   "cell_type": "markdown",
   "metadata": {},
   "source": [
    "Как мы с вами уже знаем, оценки в линейной регрессии являются несмещенными, а значит, что при выполнении условий Гаусса-Маркова, наши оценки будут с нулевым смещеним. Однако, значит ли это, что мы можем при помощи такой модели без проблем предсказывать целевую переменную на новых данных? Спойлер: нет!\n",
    "\n",
    "Для того, чтобы наша модель хорошо работала и на новых данных мы обычно жертвуем несмещенностью в пользу снижения дисперсии, т.е. наши прогнозы более точны на новых данных, хоть и модельные значения коэффициентов могут отличаться от истинных взаимосвязей. \n",
    "\n",
    "Для достижения данной цели нам помогает регрессия с регуляризацией. \n",
    "\n",
    "Очень хорошо описывается в этом [видосике](https://www.youtube.com/watch?v=Q81RR3yKn30)"
   ]
  },
  {
   "cell_type": "markdown",
   "metadata": {},
   "source": [
    "## 3.1 L2-регуляризация (RIDGE регрессия)\n",
    "\n",
    "В случае L2-регуляризации мы минимизируем теперь не просто сумму квадратов ошибок, но добавляем еще и некий штраф для коэффициентов модели:\n",
    "\n",
    "$$ \\Large \\sum_i( y_i - \\beta_{0} - \\sum_j\\beta_jx_{ij})^2 + \\lambda \\sum_j\\beta_j^2$$\n",
    "\n",
    "$\\lambda$ в данном случае помогает нам корректировать коэффициенты регрессии. При $\\lambda = 0$ мы получаем классические МНК-оценки. \n",
    "\n",
    "Заметим, что в случае простой парной регрессии с константой, $\\sum_j\\beta_j^2 = (\\beta_0 + \\beta_1)^2$. Данное уравнение описывает окружность в точке, где коэффициенты регрессии принимают нулевые значения. Радиус окружности, а следовательно и то, насколько данные коэффициенты далеки от нулевых значения, зависит от суммы квадратов отклонений обоих коэффициентов от нуля. В итоге получаем, что чем больше эта сумма квадратов, тем больше оптимизируемая нами ошибка. Соответственно, при помощи данного регуляризатора мы как бы сдерживаем коэффициенты регрессии в рамках определенного круга значений. Чем больше $\\lambda$, тем больше данный фактор сдерживания. Кстати говоря, данный вид регуляризации помогает нам бороться с последствиями мультиколлинеарности - коэффициенты регрессии оцениваются более стабильно и не так сильно изменяются в зависимости от выборки и спецификации модели.\n",
    "\n",
    "С ростом $\\lambda$, мы увеличиваем смещение, но снижаем разброс."
   ]
  },
  {
   "cell_type": "markdown",
   "metadata": {},
   "source": [
    "## 3.2 L1-регуляризация (LASSO регрессия)\n",
    "\n",
    "В случае L1-регуляризации квадрат заменяется на модуль:\n",
    "\n",
    "$$ \\Large \\sum_i( y_i - \\beta_{0} - \\sum_j\\beta_jx_{ij})^2 + \\lambda \\sum_j|\\beta_j|$$\n",
    "\n",
    "Теперь у нас не окружность, а ромб. LASSO регрессия, в отличие от RIDGE, позволяет нам занулить ненужные факторы, включаемые в модель."
   ]
  },
  {
   "cell_type": "markdown",
   "metadata": {},
   "source": [
    "## 3.3 Сравнение L1 и L2 регуляризаций"
   ]
  },
  {
   "cell_type": "code",
   "execution_count": 82,
   "metadata": {},
   "outputs": [
    {
     "data": {
      "text/plain": [
       "'/Users/iakubovskii/Machine_Learning/RANEPA/MachineLearning/Data'"
      ]
     },
     "execution_count": 82,
     "metadata": {},
     "output_type": "execute_result"
    }
   ],
   "source": [
    "os.getcwd()"
   ]
  },
  {
   "cell_type": "code",
   "execution_count": 91,
   "metadata": {},
   "outputs": [],
   "source": [
    "from sklearn.linear_model import Ridge\n",
    "from sklearn.linear_model import Lasso\n",
    "from sklearn.preprocessing import StandardScaler"
   ]
  },
  {
   "cell_type": "code",
   "execution_count": 93,
   "metadata": {},
   "outputs": [
    {
     "data": {
      "text/plain": [
       "Index(['ID', 'Income', 'Limit', 'Rating', 'Cards', 'Age', 'Education',\n",
       "       'Gender', 'Student', 'Married', 'Ethnicity', 'Balance'],\n",
       "      dtype='object')"
      ]
     },
     "execution_count": 93,
     "metadata": {},
     "output_type": "execute_result"
    }
   ],
   "source": [
    "credit.columns"
   ]
  },
  {
   "cell_type": "code",
   "execution_count": 102,
   "metadata": {},
   "outputs": [],
   "source": []
  },
  {
   "cell_type": "code",
   "execution_count": 101,
   "metadata": {},
   "outputs": [
    {
     "ename": "TypeError",
     "evalue": "assign() takes 1 positional argument but 2 were given",
     "output_type": "error",
     "traceback": [
      "\u001b[0;31m---------------------------------------------------------------------------\u001b[0m",
      "\u001b[0;31mTypeError\u001b[0m                                 Traceback (most recent call last)",
      "\u001b[0;32m<ipython-input-101-84100bcde9f1>\u001b[0m in \u001b[0;36m<module>\u001b[0;34m\u001b[0m\n\u001b[0;32m----> 1\u001b[0;31m credit[['Income', \"Limit\", \"Rating\", \"Student\"]].assign(\"\\\n\u001b[0m\u001b[1;32m      2\u001b[0m    Student = Student.map({'Yes':1, 'No':0})\")\n",
      "\u001b[0;31mTypeError\u001b[0m: assign() takes 1 positional argument but 2 were given"
     ]
    }
   ],
   "source": [
    "credit[['Income', \"Limit\", \"Rating\", \"Student\"]].assign(\"\\\n",
    "   Student = Student.map({'Yes':1, 'No':0})\")"
   ]
  },
  {
   "cell_type": "code",
   "execution_count": 151,
   "metadata": {},
   "outputs": [
    {
     "name": "stdout",
     "output_type": "stream",
     "text": [
      "{'Income': -0.6090210784812399, 'Limit': 0.6109014772036714, 'Rating': 0.7371554320926532, 'Student': 0.27614325313067756}\n"
     ]
    }
   ],
   "source": [
    "# Перед регуляризацией обязательно нужно стандартизировать признаки!\n",
    "sc = StandardScaler()\n",
    "X_cred = credit[['Income', \"Limit\", \"Rating\", \"Student\"]]\n",
    "X_cred['Student'] = X_cred['Student'].map({'Yes':1, 'No':0})\n",
    "X_cred_values = X_cred.values\n",
    "X_cred_values = sc.fit_transform(X_cred_values)\n",
    "y_cred_values = credit.Balance.values.reshape(-1, 1)\n",
    "y_cred_values = sc.fit_transform(y_cred_values)\n",
    "\n",
    "ridge = Ridge(alpha=0) # Чем больше, тем сильней регуляризация.\n",
    "model_ridge = ridge.fit(X_cred_values, y_cred_values)\n",
    "print(dict(zip(X_cred.columns, model_ridge.coef_[0, :])))"
   ]
  },
  {
   "cell_type": "code",
   "execution_count": 154,
   "metadata": {},
   "outputs": [],
   "source": [
    "# Давайте посмотрим, как изменяются коэффициенты модели при изменении параметра alpha.\n",
    "def ridge_coefs(alpha_):\n",
    "    ridge_ = Ridge(alpha=alpha_)\n",
    "    model_ridge = ridge_.fit(X_cred_values, y_cred_values)\n",
    "    coefs = model_ridge.coef_[0, :]\n",
    "    return coefs\n",
    "models_different_alpha = list(map(ridge_coefs, np.linspace(0.01, 1000, 20000)))\n",
    "\n",
    "coefs_df = pd.DataFrame(np.vstack(models_different_alpha),\n",
    "                                 columns = X_cred.columns)\n",
    "coefs_df['alpha'] = np.linspace(-2, 10000, 20000)"
   ]
  },
  {
   "cell_type": "code",
   "execution_count": 155,
   "metadata": {},
   "outputs": [
    {
     "data": {
      "image/png": "[encoded data removed]",
      "text/plain": [
       "<Figure size 720x360 with 1 Axes>"
      ]
     },
     "metadata": {
      "needs_background": "light"
     },
     "output_type": "display_data"
    }
   ],
   "source": [
    "coefs_df.set_index(\"alpha\").plot();"
   ]
  },
  {
   "cell_type": "code",
   "execution_count": 159,
   "metadata": {},
   "outputs": [
    {
     "data": {
      "text/plain": [
       "<matplotlib.axes._subplots.AxesSubplot at 0x7fd9d1fa6f70>"
      ]
     },
     "execution_count": 159,
     "metadata": {},
     "output_type": "execute_result"
    },
    {
     "data": {
      "image/png": "[encoded data removed]",
      "text/plain": [
       "<Figure size 720x360 with 1 Axes>"
      ]
     },
     "metadata": {
      "needs_background": "light"
     },
     "output_type": "display_data"
    }
   ],
   "source": [
    "from sklearn.metrics import mean_squared_error\n",
    "# Теперь посмотрим как изменяется точность модели при изменении параметра alpha.\n",
    "def ridge_mse(alpha_):\n",
    "    ridge_ = Ridge(alpha=alpha_)\n",
    "    model_ridge = ridge_.fit(X_cred_values, y_cred_values)\n",
    "    y_pred = model_ridge.predict(X_cred_values) \n",
    "    mse_in_sample = mean_squared_error(y_cred_values, y_pred)\n",
    "    return mse_in_sample\n",
    "mse_in_sample_alpha = list(map(ridge_mse, np.linspace(0.01, 100, 20000)))\n",
    "mse_df = pd.DataFrame(mse_in_sample_alpha, columns = ['mse'])\n",
    "mse_df['alpha'] = np.linspace(0.01, 1000, 20000)\n",
    "\n",
    "mse_df.set_index('alpha').plot();"
   ]
  },
  {
   "cell_type": "markdown",
   "metadata": {},
   "source": [
    "Видим, что MSE стабильно растет! Но в чем тогда смысл использовать L2-регуляризацию?\n",
    "Внимательный студент заметит, что MSE мы считаем на тренировочной выборке, тогда как в реальной жизни машин-лернерам-биг-датерам важней смотреть, как наша модель себя ведет на новых данных (тестовых). \n",
    "Давайте разобьем нашу выборку на тренировочную (70%) и тестовую (30%).\n",
    "\n"
   ]
  },
  {
   "cell_type": "code",
   "execution_count": 167,
   "metadata": {},
   "outputs": [
    {
     "name": "stdout",
     "output_type": "stream",
     "text": [
      "Количество наблюдений на тренировочной выборке: 280 \n",
      " Количество наблюдений на тестовой выборке:120\n"
     ]
    },
    {
     "data": {
      "text/plain": [
       "True"
      ]
     },
     "execution_count": 167,
     "metadata": {},
     "output_type": "execute_result"
    }
   ],
   "source": [
    "X_cred_values_train = X_cred_values[:int(X_cred_values.shape[0]*0.7), :]\n",
    "X_cred_values_test = X_cred_values[int(X_cred_values.shape[0]*0.7):, :]\n",
    "y_cred_values_train = y_cred_values[:int(y_cred_values.shape[0]*0.7), :]\n",
    "y_cred_values_test = y_cred_values[int(y_cred_values.shape[0]*0.7):, :]\n",
    "\n",
    "print(f\"Количество наблюдений на тренировочной выборке: {X_cred_values_train.shape[0]} \\n\",\n",
    "f\"Количество наблюдений на тестовой выборке:{X_cred_values_test.shape[0]}\")\n",
    "\n",
    "np.allclose(280/120, 7/3)"
   ]
  },
  {
   "cell_type": "code",
   "execution_count": 169,
   "metadata": {},
   "outputs": [
    {
     "data": {
      "image/png": "[encoded data removed]",
      "text/plain": [
       "<Figure size 720x360 with 1 Axes>"
      ]
     },
     "metadata": {
      "needs_background": "light"
     },
     "output_type": "display_data"
    }
   ],
   "source": [
    "def ridge_mse_test(alpha_):\n",
    "    ridge_ = Ridge(alpha=alpha_)\n",
    "    model_ridge = ridge_.fit(X_cred_values_train, y_cred_values_train)\n",
    "    y_pred = model_ridge.predict(X_cred_values_test) \n",
    "    mse_in_sample = mean_squared_error(y_cred_values_test, y_pred)\n",
    "    return mse_in_sample\n",
    "mse_out_sample_alpha = list(map(ridge_mse_test, np.linspace(0.01, 100, 20000)))\n",
    "mse_df = pd.DataFrame(mse_out_sample_alpha, columns = ['mse'])\n",
    "mse_df['alpha'] = np.linspace(0.01, 1000, 20000)\n",
    "\n",
    "mse_df.set_index('alpha').plot();"
   ]
  },
  {
   "cell_type": "markdown",
   "metadata": {},
   "source": [
    "Теперь видим, что умеренная регуляризация позволила нам снизить тестовое значение MSE. Однако, при черезчур больших значений $alpha$ ошибка опять улетает в небеса."
   ]
  },
  {
   "cell_type": "markdown",
   "metadata": {},
   "source": [
    "# 4. Практика\n",
    "\n"
   ]
  },
  {
   "cell_type": "code",
   "execution_count": null,
   "metadata": {},
   "outputs": [],
   "source": []
  }
 ],
 "metadata": {
  "kernelspec": {
   "display_name": "Python 3",
   "language": "python",
   "name": "python3"
  },
  "language_info": {
   "codemirror_mode": {
    "name": "ipython",
    "version": 3
   },
   "file_extension": ".py",
   "mimetype": "text/x-python",
   "name": "python",
   "nbconvert_exporter": "python",
   "pygments_lexer": "ipython3",
   "version": "3.8.3"
  },
  "toc": {
   "base_numbering": 1,
   "nav_menu": {},
   "number_sections": true,
   "sideBar": true,
   "skip_h1_title": false,
   "title_cell": "Table of Contents",
   "title_sidebar": "Contents",
   "toc_cell": false,
   "toc_position": {
    "height": "calc(100% - 180px)",
    "left": "10px",
    "top": "150px",
    "width": "301.17645263671875px"
   },
   "toc_section_display": true,
   "toc_window_display": false
  },
  "varInspector": {
   "cols": {
    "lenName": 16,
    "lenType": 16,
    "lenVar": 40
   },
   "kernels_config": {
    "python": {
     "delete_cmd_postfix": "",
     "delete_cmd_prefix": "del ",
     "library": "var_list.py",
     "varRefreshCmd": "print(var_dic_list())"
    },
    "r": {
     "delete_cmd_postfix": ") ",
     "delete_cmd_prefix": "rm(",
     "library": "var_list.r",
     "varRefreshCmd": "cat(var_dic_list()) "
    }
   },
   "types_to_exclude": [
    "module",
    "function",
    "builtin_function_or_method",
    "instance",
    "_Feature"
   ],
   "window_display": false
  }
 },
 "nbformat": 4,
 "nbformat_minor": 4
}
