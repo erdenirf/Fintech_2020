{
 "cells": [
  {
   "cell_type": "markdown",
   "metadata": {},
   "source": [
    "**Данный курс по машинному обучению основан на книге \"Introduction to statistical learning\".**\n",
    "\n",
    "Представленные в книге задания на языке R можно решать на Python."
   ]
  },
  {
   "cell_type": "markdown",
   "metadata": {},
   "source": [
    "# Данные, которые будут использоваться на курсе"
   ]
  },
  {
   "cell_type": "code",
   "execution_count": 21,
   "metadata": {},
   "outputs": [
    {
     "data": {
      "text/plain": [
       "['Advertising.csv',\n",
       " 'NCI60_data.csv',\n",
       " 'Khan_xtrain.csv',\n",
       " 'Khan_ytrain.csv',\n",
       " 'Caravan.csv',\n",
       " 'Default.csv',\n",
       " 'Portfolio.csv',\n",
       " 'College.csv',\n",
       " 'Khan_ytest.csv',\n",
       " 'Boston.csv',\n",
       " 'Credit.csv',\n",
       " 'USArrests.csv',\n",
       " 'Khan_xtest.csv',\n",
       " 'NCI60_labs.csv',\n",
       " 'Smarket.csv',\n",
       " 'Carseats.csv',\n",
       " 'Hitters.csv',\n",
       " 'Weekly.csv',\n",
       " 'Auto.csv',\n",
       " 'Wage.csv',\n",
       " 'OJ.csv']"
      ]
     },
     "execution_count": 21,
     "metadata": {},
     "output_type": "execute_result"
    }
   ],
   "source": [
    "import os # для работы с папками\n",
    "import glob # для работы с файлами\n",
    "year_path_to_ML_folder = \"/Users/iakubovskii/Machine_Learning/RANEPA/MachineLearning/\"\n",
    "os.chdir(year_path_to_ML_folder + \"Data\")\n",
    "glob.glob(\"*.csv\")"
   ]
  },
  {
   "cell_type": "markdown",
   "metadata": {},
   "source": [
    "| Name | Description |\n",
    "| ---- | ----------- |\n",
    "| Advertising | Sales advertising budgets: TV, radio, and newspaper |\n",
    "| Auto   | Gas mileage, horsepower, and other information for cars|\n",
    "| Boston | Housing values and other information about Boston suburbs|\n",
    "| Caravan | Information about individuals offered caravan insurance |\n",
    "| Carseats | Information about car seat sales in 400 stores |\n",
    "| College | Demographic characteristics, tuition, and more for USA colleges |\n",
    "| Default | Customer default records for a credit card company | \n",
    "| Hitters | Records and salaries for baseball players |\n",
    "| Khan | Gene expression measurements for four cancer types |\n",
    "| NCI60 | Gene expression measurements for 64 cancer cell lines |\n",
    "| OJ | Sales information for Citrus Hill and Minute Maid orange juice |\n",
    "| Portfolio | Past values of financial assets, for use in portfolio allocation |\n",
    "| Smarket | Daily percentage returns for S&P 500 over a 5-year period |\n",
    "| USArrests | Crime statistics per 100,000 residents in 50 states of USA |\n",
    "| Wage | Income survey data for males in central Atlantic region of USA |\n",
    "| Weekly | 1,089 weekly stock market returns for 21 years |"
   ]
  },
  {
   "cell_type": "code",
   "execution_count": null,
   "metadata": {},
   "outputs": [],
   "source": []
  }
 ],
 "metadata": {
  "kernelspec": {
   "display_name": "Python 3",
   "language": "python",
   "name": "python3"
  },
  "language_info": {
   "codemirror_mode": {
    "name": "ipython",
    "version": 3
   },
   "file_extension": ".py",
   "mimetype": "text/x-python",
   "name": "python",
   "nbconvert_exporter": "python",
   "pygments_lexer": "ipython3",
   "version": "3.8.3"
  },
  "toc": {
   "base_numbering": 1,
   "nav_menu": {},
   "number_sections": true,
   "sideBar": true,
   "skip_h1_title": false,
   "title_cell": "Table of Contents",
   "title_sidebar": "Contents",
   "toc_cell": false,
   "toc_position": {},
   "toc_section_display": true,
   "toc_window_display": false
  },
  "varInspector": {
   "cols": {
    "lenName": 16,
    "lenType": 16,
    "lenVar": 40
   },
   "kernels_config": {
    "python": {
     "delete_cmd_postfix": "",
     "delete_cmd_prefix": "del ",
     "library": "var_list.py",
     "varRefreshCmd": "print(var_dic_list())"
    },
    "r": {
     "delete_cmd_postfix": ") ",
     "delete_cmd_prefix": "rm(",
     "library": "var_list.r",
     "varRefreshCmd": "cat(var_dic_list()) "
    }
   },
   "types_to_exclude": [
    "module",
    "function",
    "builtin_function_or_method",
    "instance",
    "_Feature"
   ],
   "window_display": false
  }
 },
 "nbformat": 4,
 "nbformat_minor": 4
}
