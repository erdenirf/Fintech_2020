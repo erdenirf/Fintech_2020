{
 "cells": [
  {
   "cell_type": "markdown",
   "metadata": {},
   "source": [
    "# Предсказание уровня заработной платы  \n",
    "\n",
    "https://archive.ics.uci.edu/ml/datasets/adult\n",
    "\n",
    "В данном экзамене вам нужно будет предсказывать уровень заработной платы респондента: больше 50к долларов в год или меньше.\n",
    "\n",
    "**Описание признаков**:\n",
    "\n",
    "1. Категорийные признаки\n",
    "\n",
    "`workclass`: Private, Self-emp-not-inc, Self-emp-inc, Federal-gov, Local-gov, State-gov, Without-pay, Never-worked. Individual work category\n",
    "\n",
    "`education`: Bachelors, Some-college, 11th, HS-grad, Prof-school, Assoc-acdm, Assoc-voc, 9th, 7th-8th, 12th, Masters, 1st-4th, 10th, Doctorate, 5th-6th, Preschool. Individual's highest education degree\n",
    "\n",
    "`marital-status`: Married-civ-spouse, Divorced, Never-married, Separated, Widowed, Married-spouse-absent, Married-AF-spouse. Individual marital status\n",
    "\n",
    "`occupation`: Tech-support, Craft-repair, Other-service, Sales, Exec-managerial, Prof-specialty, Handlers-cleaners, Machine-op-inspct, Adm-clerical, Farming-fishing, Transport-moving, Priv-house-serv, Protective-serv, Armed-Forces. Individual's occupation\n",
    "\n",
    "`relationship`: Wife, Own-child, Husband, Not-in-family, Other-relative, Unmarried. Individual's relation in a family\n",
    "\n",
    "`race`: White, Asian-Pac-Islander, Amer-Indian-Eskimo, Other, Black. Race of Individual\n",
    "\n",
    "`sex`: Female, Male.\n",
    "\n",
    "`native-country`: United-States, Cambodia, England, Puerto-Rico, Canada, Germany, Outlying-US(Guam-USVI-etc), India, Japan, Greece, South, China, Cuba, Iran, Honduras, Philippines, Italy, Poland, Jamaica, Vietnam, Mexico, Portugal, Ireland, France, Dominican-Republic, Laos, Ecuador, Taiwan, Haiti, Columbia, Hungary, Guatemala, Nicaragua, Scotland, Thailand, Yugoslavia, El-Salvador, Trinadad&Tobago, Peru, Hong, Holand-Netherlands. Individual's native country\n",
    "\n",
    "2. Количественные признаки\n",
    "\n",
    "`age`: continuous. Age of an individual\n",
    "\n",
    "`fnlwgt`: final weight, continuous. The weights on the CPS files are controlled to independent estimates of the civilian noninstitutional population of the US. These are prepared monthly for us by Population Division here at the Census Bureau.\n",
    "\n",
    "`capital-gain`: continuous.\n",
    "\n",
    "`capital-loss`: continuous.\n",
    "\n",
    "`hours-per-week`: continuous. Individual's working hour per week"
   ]
  },
  {
   "cell_type": "code",
   "execution_count": 1,
   "metadata": {},
   "outputs": [],
   "source": [
    "import pandas as pd\n",
    "import numpy as np\n",
    "import os\n",
    "import warnings\n",
    "warnings.filterwarnings(\"ignore\")\n",
    "os.chdir(\"/Users/iakubovskii/Machine_Learning/RANEPA/Fintech_2020/Машинное обучение/Данные/ДЗ1/\")\n",
    "adult = pd.read_csv(\"adult.csv\", dtype = {\"fnlwgt\": int,\n",
    "                                             \"Education_Num\": int,\n",
    "                                             \"Capital_Gain\":int,\n",
    "                                             \"Capital_Loss\":int,\n",
    "                                             \"Hours_per_week\":int,\n",
    "                                             \"Age\":int})"
   ]
  },
  {
   "cell_type": "code",
   "execution_count": 2,
   "metadata": {},
   "outputs": [
    {
     "name": "stdout",
     "output_type": "stream",
     "text": [
      " <=50K     22654\n",
      " <=50K.    11360\n",
      " >50K       7508\n",
      " >50K.      3700\n",
      "Name: Target, dtype: int64\n",
      "<=50K    34014\n",
      ">50K     11208\n",
      "Name: Target, dtype: int64\n"
     ]
    }
   ],
   "source": [
    "# Список категориальных признаков\n",
    "cat_cols = ['Workclass', 'Education', 'Marital_Status', 'Occupation',\n",
    "            'Relationship', 'Race', 'Sex', 'Country']\n",
    "\n",
    "# Список количественных признаков\n",
    "quant_cols = list(set(adult.columns) - set(cat_cols))\n",
    "quant_cols.remove(\"Target\")\n",
    "# Удалим лишние пробелы перед значениями внутри категориальных столбцов\n",
    "for cat_col in cat_cols:\n",
    "    adult[cat_col] = adult[cat_col].str.strip(\" \")\n",
    "\n",
    "\n",
    "# Преобразуем категориальные признаки при помощи дамми-кодирования\n",
    "new_df = pd.concat([adult.drop(cat_cols, axis=1),\n",
    "                  pd.get_dummies(adult[cat_cols], drop_first=True)],\n",
    "                 axis=1)\n",
    "# Удалим строки с пропусками\n",
    "new_df = new_df.dropna()\n",
    "# Исправим неточности в целевой переменной\n",
    "print(new_df['Target'].value_counts())\n",
    "new_df['Target'] = new_df['Target'].str.strip(\" \")\n",
    "new_df['Target'] = new_df['Target'].map({\">50K.\":\">50K\", \n",
    "                                       \"<=50K.\":\"<=50K\"}).fillna(new_df['Target'])\n",
    "print(new_df['Target'].value_counts())"
   ]
  },
  {
   "cell_type": "markdown",
   "metadata": {},
   "source": [
    "# Задания\n",
    "\n",
    "ВНИМАНИЕ!!!\n",
    "ВЕЗДЕ, где есть параметр **random_state**, устанавливайте его равным **своему номеру**, иначе у нас могут не совпасть результаты и будет плохо (кроме KFold кросс-валидации у нас будет параметр Shufle=False, а значит и random_state не нужен). \n",
    "\n",
    "Результаты округляем до 5 знака после запятой. Например, ROC AUC = 0.56156\n",
    "\n",
    "Задание *найти оптимальный гиперпараметр* (если не оговорено иное) подразумевает 5  фолдовую стратифицированную кросс-валидацию с random_state, равным **вашему номеру**.\n",
    "\n",
    "По умолчанию мы используем ВСЕ ПРИЗНАКИ из датасетов."
   ]
  },
  {
   "cell_type": "code",
   "execution_count": 3,
   "metadata": {},
   "outputs": [],
   "source": [
    "students_random_state = {\n",
    " 'Базуева Мария Дмитриевна': 9933,\n",
    " 'Бориско Данила Ильич': 19563,\n",
    " 'Братков Герман Сергеевич': 2103,\n",
    " 'Орлан Суван-оол': 2113,\n",
    " 'Валл Федор Викторович': 1883,\n",
    " 'Егорова Анна Сергеевна': 253,\n",
    " 'Едовина Алина Игоревна': 353,\n",
    " 'Загарнюк Елизавета Максимовна': 9793,\n",
    " 'Захаров Алексей Сергееивч': 5873,\n",
    " 'Калёнов Алексей Аркадьевич': 13343,\n",
    " 'Карасева Алина Александровна': 12653,\n",
    " 'Каширин Егор Михайлович': 16723,\n",
    " 'Косинов Андрей Вячеславович': 9403,\n",
    " 'Красиков Евгений Владимирович': 6013,\n",
    " 'Кузьмин Никита Кириллович': 4523,\n",
    " 'Монгуш Тенгиз Анатольевич': 6683,\n",
    " 'Мурадян Акоп Араратович': 11553,\n",
    " 'Наумова Анастасия Юрьевна': 10203,\n",
    " 'Панчук Александр Сергеевич': 11253,\n",
    " 'Пашинина Татьяна Викторовна': 2683,\n",
    " 'Пустоваров Артем Андреевич': 1873,\n",
    " 'Роговая Тамара Олеговна': 14723,\n",
    " 'Селезнев Дмитрий Владимирович': 7343,\n",
    " 'Сидорякин Виталий Дмитриевич': 15544,\n",
    " 'Филиппов Антон Павлович': 1263,\n",
    " 'Фрольцов Григорий Максимович': 17233,\n",
    " 'Хамитов Давид Альбертович': 11944,\n",
    " 'Хомушку Ганна Алексеевна': 1582,\n",
    " 'Царева Мария Сергеевна': 11336}\n"
   ]
  },
  {
   "cell_type": "code",
   "execution_count": 4,
   "metadata": {},
   "outputs": [],
   "source": [
    "# Введите свой номер random state\n",
    "your_number_random_state = 25\n",
    "\n",
    "# Для расчета доли, по которой будем делить датасеты\n",
    "max_ = max(list(map(lambda x: np.log(x), students_random_state.values())))\n",
    "frac_student = np.log(your_number_random_state) / max_\n",
    "\n",
    "# Уникальный датасет для каждого студента\n",
    "df_model = new_df.sample(frac = frac_student, random_state=your_number_random_state)\n",
    "\n",
    "\n",
    "# Определим целевую переменную \n",
    "X, y = df_model.drop(\"Target\", axis=1), df_model['Target'].map({\">50K\":1, \"<=50K\":0})"
   ]
  },
  {
   "cell_type": "code",
   "execution_count": 5,
   "metadata": {},
   "outputs": [],
   "source": [
    "# Разобьем на тренировочную и тестовую (уже уменьшенный датасет для каждого студента)\n",
    "from sklearn.model_selection import train_test_split\n",
    "X_train, X_test, y_train, y_test = train_test_split(X, y, test_size=0.3,\n",
    "                                                   random_state=your_number_random_state)\n",
    "\n",
    "# Стандартизируем количественные признаки\n",
    "\n",
    "from sklearn.preprocessing import StandardScaler\n",
    "sc = StandardScaler()\n",
    "X_train[quant_cols] = sc.fit_transform(X_train[quant_cols])\n",
    "X_test[quant_cols] = sc.transform(X_test[quant_cols])\n",
    "\n",
    "fio = 'Валл Федор Викторович'\n",
    "final_df = pd.DataFrame(index=[fio], columns=np.arange(1, 11))\n",
    "from sklearn.model_selection import StratifiedKFold\n",
    "kf = StratifiedKFold(n_splits=5)"
   ]
  },
  {
   "cell_type": "markdown",
   "metadata": {},
   "source": [
    "1) Обучите случайный лес с параметрами по умолчанию и со всеми признаками и\n",
    " сделайте прогноз на тестовых данных. Чему равен `ROC AUC` на тестовой выборке?"
   ]
  },
  {
   "cell_type": "markdown",
   "metadata": {},
   "source": [
    "2) Среди следующих значений коэффициентов регуляризации альфа выберите тот,\n",
    "для которого `F1-score` на тестовой выборке для метода LightGBM c числом деревьев =\n",
    "25 и остальными опциями по умолчанию *со всеми факторами* будет максимальным.\n",
    "В ответе укажите значение максимального `Recall`.\n",
    "Используем библиотеку xgboost и метод XGBoostClassifier.\n",
    "\n",
    "$$ regalpha = [0.1, 0.2, 0.5, 0.55, 0.65, 0.7, 0.8, 1] $$"
   ]
  },
  {
   "cell_type": "markdown",
   "metadata": {},
   "source": [
    "3) Чему равен `Precision` для дерева решений с параметрами по\n",
    "умолчанию (реализация sklearn, random_state соответствует вашему номеру)?\n"
   ]
  },
  {
   "cell_type": "markdown",
   "metadata": {},
   "source": [
    "4) Удалите признаки, для которых коэффициенты в LASSO регрессии равны\n",
    "нулю (на тренировочной выборке) и сделайте прогноз на тестовой выборке\n",
    "при помощи логистической регрессии с коэффициентом регуляризации C=0.01.\n",
    "В ответ запишите полученный `ROC_AUC`."
   ]
  },
  {
   "cell_type": "markdown",
   "metadata": {},
   "source": [
    "5) При помощи кросс-валидации найдите оптимальные параметры\n",
    "*max_depth* (значения [1, 3, 5, 7]) и *min_samples_leaf* (значения [10, 50, 100])\n",
    "для случайного леса (остальные параметры по умолчанию).\n",
    "В ответ запишите значение `ROC AUC` на тестовой выборке при оптимальных параметрах.\n",
    "Оптимизироваться нужно именно на ROC AUC."
   ]
  },
  {
   "cell_type": "markdown",
   "metadata": {},
   "source": [
    "6) Примените метод главных компонент с десятью компонентами.\n",
    "В ответ запишите `долю дисперсии, которая была объяснена данными\n",
    "компонентами`. Здесь тренировочную и тестовую выборку объединяем в одну."
   ]
  },
  {
   "cell_type": "markdown",
   "metadata": {},
   "source": [
    "7) Обучите модель бэггинга на тренировочном наборе данных для\n",
    "всех признаков для количества деревьев, равного 50.\n",
    "Чему равен `OOB score` на тренировочной выборке?"
   ]
  },
  {
   "cell_type": "markdown",
   "metadata": {},
   "source": [
    "8) Подберите оптимальное значение\n",
    "max_features = [1, 2, 5, 10] для бэггинга,\n",
    "где в качестве базового алгоритма будет логистическая регрессия с C=0.05.\n",
    "Параметр n_estimators настройте равным 25.\n",
    "Оптимизируемся на `Precision`. Чему равен `ROC AUC` на тестовой выборке\n",
    "с лучшим гиперпараметров из тренировочной выборки?"
   ]
  },
  {
   "cell_type": "markdown",
   "metadata": {},
   "source": [
    "9) Примените метод\n",
    "kMeans с параметрами по умолчанию для числа кластеров\n",
    "*n_cluster* = {1, 3, 5, 10} на объединенной выборке (трейн + тест).\n",
    "В ответ запишите наибольшее значение `квадрата inertia`."
   ]
  },
  {
   "cell_type": "markdown",
   "metadata": {
    "pycharm": {
     "name": "#%% md\n"
    }
   },
   "source": [
    "10) Халявный балл! Всем спасибо, что слушали меня этот учебный год!\n",
    "\n"
   ]
  }
 ],
 "metadata": {
  "kernelspec": {
   "display_name": "Python 3",
   "language": "python",
   "name": "python3"
  },
  "language_info": {
   "codemirror_mode": {
    "name": "ipython",
    "version": 3
   },
   "file_extension": ".py",
   "mimetype": "text/x-python",
   "name": "python",
   "nbconvert_exporter": "python",
   "pygments_lexer": "ipython3",
   "version": "3.8.3"
  },
  "toc": {
   "base_numbering": 1,
   "nav_menu": {},
   "number_sections": true,
   "sideBar": true,
   "skip_h1_title": false,
   "title_cell": "Table of Contents",
   "title_sidebar": "Contents",
   "toc_cell": false,
   "toc_position": {},
   "toc_section_display": true,
   "toc_window_display": false
  },
  "varInspector": {
   "cols": {
    "lenName": 16,
    "lenType": 16,
    "lenVar": 40
   },
   "kernels_config": {
    "python": {
     "delete_cmd_postfix": "",
     "delete_cmd_prefix": "del ",
     "library": "var_list.py",
     "varRefreshCmd": "print(var_dic_list())"
    },
    "r": {
     "delete_cmd_postfix": ") ",
     "delete_cmd_prefix": "rm(",
     "library": "var_list.r",
     "varRefreshCmd": "cat(var_dic_list()) "
    }
   },
   "types_to_exclude": [
    "module",
    "function",
    "builtin_function_or_method",
    "instance",
    "_Feature"
   ],
   "window_display": false
  }
 },
 "nbformat": 4,
 "nbformat_minor": 4
}