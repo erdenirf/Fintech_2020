{
 "cells": [
  {
   "cell_type": "markdown",
   "metadata": {},
   "source": [
    "Рекомендательные системы в современном мире одно из популярнейших приложений машинного обучения и статистических методов. Зайдя на сайт продавца мебели и посмотрев пару вариантов, контекстная реклама из всех углов вам еще пару дней будет надоедать баннерами с диванами и стульями. \n",
    "\n",
    "Наиболее приятный результат работы рекомендательных систем мы можем видеть на ютубе и различных онлайн-кинотеатрах - нам пытаются показать тот контент, который интересует непосредственно нас.\n",
    "\n",
    "На данном занятии мы рассмотрим некоторые популярные (в прошлом и настоящем) алгоритмы.\n",
    "\n"
   ]
  },
  {
   "cell_type": "markdown",
   "metadata": {},
   "source": [
    "# Коллаборативная фильтрация\n",
    "\n",
    "Допустим, у нас есть матрица оценок пользователей различным фильмам. Наша задача в данном случае - на основании исторических оценок юзеров определенных фильмов порекомендовать какому-то конкретному юзеру посмотреть фильм, который он бы с наибольшим желанием увидел (при том, что уже мог что-то у нас посмотреть, а мог и не посмотреть).\n",
    "\n",
    "Рассмотрим основные методы коллаборативной фильтрации. Допустим, что у нас есть айтем (например, фильм) и рэйтинг (например, оценка фильма)."
   ]
  },
  {
   "cell_type": "markdown",
   "metadata": {},
   "source": [
    "## Memory-based коллаборативная фильтрация\n",
    "\n",
    "Данный вид фильтрации не требует настройки никаких гиперпараметров и использует только исторические данные о поведении пользователей.\n",
    "\n",
    "1. **User-item** фильтрация берет определенного пользователя, ищет пользователей, которые наиболее похожи на него (например, при помощи косинусного расстояния), исходя из информации о рейтинге рекомендует нужный айтем, который был в среднем чаще выбран этими похожими пользователями.\n",
    "\n",
    "2. **Item-item** фильтрация берет определенный item, ищет пользователей, которые наиболее высоко их оценили и ищет другие item, к которым в среднем были лояльны эти пользователи.\n",
    "\n",
    "**User-Item** коллаборативная фильтрация: юзерам, которые похожи на определенного юзера, также нравится...\n",
    "\n",
    "**Item-Item** коллаборативная фильтрация: юзерам, которым нравится этот item, также нравится...\n",
    "\n",
    "\n",
    "Примерный алгоритм user-item коллаборативной фильтрации выглядит следующим образом.\n",
    "\n",
    "\n",
    "1. Выбрать L пользователей, вкусы которых больше всего похожи на вкусы рассматриваемого юзера. Для этого для каждого из пользователей нужно вычислить выбранную меру (в нашем случае косинусную, подробней ниже) в отношении рассматриваемого пользователя, и выбрать L наибольших. \n",
    "\n",
    "2. Для каждого из пользователей умножить его оценки на вычисленное значение меры, таким образом оценки более «похожих» пользователей будут сильнее влиять на итоговую позицию продукта\n",
    "\n",
    "3. Для каждого из продуктов посчитать сумму калиброванных оценок L наиболее близких пользователей, полученную сумму разделить на сумму мер L выбранных пользователей. "
   ]
  },
  {
   "cell_type": "markdown",
   "metadata": {},
   "source": [
    "Косинусная мера близости вычисляется следующим образом:\n",
    "\n",
    "$$ \\Large CosineSimilarity(u, u') = \\frac{r_u r_u'} {||r_u|| \\ ||r_u'||} = \\sum_i \\frac{r_{ui} r_{u'i}} {\\sqrt{\\sum_i r^2_{ui}}\n",
    "\\sqrt{\\sum_i r^2_{u'i}} } $$\n",
    "\n",
    "Рекомендуем юзеру $u$ айтем $i$ с наибольшим значеничем следующей дроби:\n",
    "\n",
    "$$ \\Large \\hat{r_{ui}} = \\frac{  \\sum_{u'} CosineSimilarity(u, u') r_{u'i} } \n",
    "{ \\sum_{u'}|CosineSimilarity(u, u')| } $$\n",
    "\n",
    "$r_{ui}$ - рейтинг от пользователя $u$ айтему $i$"
   ]
  },
  {
   "cell_type": "markdown",
   "metadata": {},
   "source": [
    "Давайте попробуем порекомендовать фильмы различным пользователем на примере датасета Movielens."
   ]
  },
  {
   "cell_type": "code",
   "execution_count": 14,
   "metadata": {},
   "outputs": [],
   "source": [
    "import os\n",
    "import glob\n",
    "import pandas as pd\n",
    "import numpy as np\n",
    "os.chdir(\"/Users/iakubovskii/Machine_Learning/RANEPA/Fintech_2020/Машинное обучение/Данные/ml-100k\")\n",
    "ratings =  pd.read_csv('u.data', sep=\"\\t\", header=None)\n",
    "ratings.columns = ['user_id', 'item_id', 'rating', 'timestamp']\n",
    "\n"
   ]
  },
  {
   "cell_type": "code",
   "execution_count": 19,
   "metadata": {},
   "outputs": [],
   "source": [
    "# Create sparse matrix \n",
    "from scipy import sparse\n",
    "user_item_sparse = sparse.csr_matrix(ratings.pivot_table(\n",
    "                                     index = 'user_id', columns = 'item_id',\n",
    "                                                values = 'rating'))"
   ]
  },
  {
   "cell_type": "code",
   "execution_count": 24,
   "metadata": {},
   "outputs": [],
   "source": [
    "# !pip install scikit-surprise\n",
    "from surprise import Dataset\n",
    "data = Dataset.load_builtin('ml-100k')"
   ]
  },
  {
   "cell_type": "code",
   "execution_count": 20,
   "metadata": {},
   "outputs": [
    {
     "data": {
      "text/plain": [
       "<943x1682 sparse matrix of type '<class 'numpy.float64'>'\n",
       "\twith 1586126 stored elements in Compressed Sparse Row format>"
      ]
     },
     "execution_count": 20,
     "metadata": {},
     "output_type": "execute_result"
    }
   ],
   "source": [
    "user_item_sparse"
   ]
  },
  {
   "cell_type": "code",
   "execution_count": 26,
   "metadata": {},
   "outputs": [
    {
     "data": {
      "text/plain": [
       "<surprise.dataset.DatasetAutoFolds at 0x7f89b2446970>"
      ]
     },
     "execution_count": 26,
     "metadata": {},
     "output_type": "execute_result"
    }
   ],
   "source": [
    "data.load_builtin()"
   ]
  },
  {
   "cell_type": "code",
   "execution_count": null,
   "metadata": {},
   "outputs": [],
   "source": []
  }
 ],
 "metadata": {
  "kernelspec": {
   "display_name": "Python 3",
   "language": "python",
   "name": "python3"
  },
  "language_info": {
   "codemirror_mode": {
    "name": "ipython",
    "version": 3
   },
   "file_extension": ".py",
   "mimetype": "text/x-python",
   "name": "python",
   "nbconvert_exporter": "python",
   "pygments_lexer": "ipython3",
   "version": "3.8.3"
  },
  "toc": {
   "base_numbering": 1,
   "nav_menu": {},
   "number_sections": true,
   "sideBar": true,
   "skip_h1_title": false,
   "title_cell": "Table of Contents",
   "title_sidebar": "Contents",
   "toc_cell": false,
   "toc_position": {},
   "toc_section_display": true,
   "toc_window_display": false
  },
  "varInspector": {
   "cols": {
    "lenName": 16,
    "lenType": 16,
    "lenVar": 40
   },
   "kernels_config": {
    "python": {
     "delete_cmd_postfix": "",
     "delete_cmd_prefix": "del ",
     "library": "var_list.py",
     "varRefreshCmd": "print(var_dic_list())"
    },
    "r": {
     "delete_cmd_postfix": ") ",
     "delete_cmd_prefix": "rm(",
     "library": "var_list.r",
     "varRefreshCmd": "cat(var_dic_list()) "
    }
   },
   "types_to_exclude": [
    "module",
    "function",
    "builtin_function_or_method",
    "instance",
    "_Feature"
   ],
   "window_display": false
  }
 },
 "nbformat": 4,
 "nbformat_minor": 4
}
