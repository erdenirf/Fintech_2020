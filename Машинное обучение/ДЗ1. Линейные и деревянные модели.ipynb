{
 "cells": [
  {
   "cell_type": "markdown",
   "metadata": {},
   "source": [
    "# Предсказание уровня заработной платы  \n",
    "\n",
    "https://archive.ics.uci.edu/ml/datasets/adult\n",
    "\n",
    "В данном ДЗ вам нужно будет предсказывать уровень заработной платы респондента: больше 50к долларов в год или меньше.\n",
    "\n",
    "**Описание признаков**:\n",
    "\n",
    "1. Категорийные признаки\n",
    "\n",
    "`workclass`: Private, Self-emp-not-inc, Self-emp-inc, Federal-gov, Local-gov, State-gov, Without-pay, Never-worked. Individual work category\n",
    "\n",
    "`education`: Bachelors, Some-college, 11th, HS-grad, Prof-school, Assoc-acdm, Assoc-voc, 9th, 7th-8th, 12th, Masters, 1st-4th, 10th, Doctorate, 5th-6th, Preschool. Individual's highest education degree\n",
    "\n",
    "`marital-status`: Married-civ-spouse, Divorced, Never-married, Separated, Widowed, Married-spouse-absent, Married-AF-spouse. Individual marital status\n",
    "\n",
    "`occupation`: Tech-support, Craft-repair, Other-service, Sales, Exec-managerial, Prof-specialty, Handlers-cleaners, Machine-op-inspct, Adm-clerical, Farming-fishing, Transport-moving, Priv-house-serv, Protective-serv, Armed-Forces. Individual's occupation\n",
    "\n",
    "`relationship`: Wife, Own-child, Husband, Not-in-family, Other-relative, Unmarried. Individual's relation in a family\n",
    "\n",
    "`race`: White, Asian-Pac-Islander, Amer-Indian-Eskimo, Other, Black. Race of Individual\n",
    "\n",
    "`sex`: Female, Male.\n",
    "\n",
    "`native-country`: United-States, Cambodia, England, Puerto-Rico, Canada, Germany, Outlying-US(Guam-USVI-etc), India, Japan, Greece, South, China, Cuba, Iran, Honduras, Philippines, Italy, Poland, Jamaica, Vietnam, Mexico, Portugal, Ireland, France, Dominican-Republic, Laos, Ecuador, Taiwan, Haiti, Columbia, Hungary, Guatemala, Nicaragua, Scotland, Thailand, Yugoslavia, El-Salvador, Trinadad&Tobago, Peru, Hong, Holand-Netherlands. Individual's native country\n",
    "\n",
    "2. Количественные признаки\n",
    "\n",
    "`age`: continuous. Age of an individual\n",
    "\n",
    "`fnlwgt`: final weight, continuous. The weights on the CPS files are controlled to independent estimates of the civilian noninstitutional population of the US. These are prepared monthly for us by Population Division here at the Census Bureau.\n",
    "\n",
    "`capital-gain`: continuous.\n",
    "\n",
    "`capital-loss`: continuous.\n",
    "\n",
    "`hours-per-week`: continuous. Individual's working hour per week"
   ]
  },
  {
   "cell_type": "code",
   "execution_count": 7,
   "metadata": {},
   "outputs": [],
   "source": [
    "import pandas as pd\n",
    "import numpy as np\n",
    "import os\n",
    "import warnings \n",
    "import re # модуль для регулярных выражений\n",
    "warnings.filterwarnings(\"ignore\")\n",
    "os.chdir(\"/Users/iakubovskii/Machine_Learning/RANEPA/Fintech_2020/Машинное обучение/Данные/ДЗ1/\")\n",
    "adult = pd.read_csv(\"adult.csv\", dtype = {\"fnlwgt\": int,\n",
    "                                             \"Education_Num\": int,\n",
    "                                             \"Capital_Gain\":int,\n",
    "                                             \"Capital_Loss\":int,\n",
    "                                             \"Hours_per_week\":int,\n",
    "                                             \"Age\":int})"
   ]
  },
  {
   "cell_type": "code",
   "execution_count": 177,
   "metadata": {},
   "outputs": [
    {
     "name": "stdout",
     "output_type": "stream",
     "text": [
      " <=50K     22654\n",
      " <=50K.    11360\n",
      " >50K       7508\n",
      " >50K.      3700\n",
      "Name: Target, dtype: int64\n",
      "<=50K    34014\n",
      ">50K     11208\n",
      "Name: Target, dtype: int64\n"
     ]
    }
   ],
   "source": [
    "# Список категориальных признаков\n",
    "cat_cols = ['Workclass', 'Education', 'Marital_Status', 'Occupation',\n",
    "           'Relationship', 'Race', 'Sex', 'Country']\n",
    "\n",
    "# Список количественных признаков\n",
    "quant_cols = list(set(adult.columns) - set(cat_cols))\n",
    "quant_cols.remove(\"Target\")\n",
    "# Удалим лишние пробелы перед значениями внутри категориальных столбцов\n",
    "for cat_col in cat_cols:\n",
    "    adult[cat_col] = adult[cat_col].str.strip(\" \")\n",
    "\n",
    "\n",
    "# Преобразуем категориальные признаки при помощи дамми-кодирования\n",
    "new_df = pd.concat([adult.drop(cat_cols, axis=1),\n",
    "                  pd.get_dummies(adult[cat_cols], drop_first=True)],\n",
    "                 axis=1)\n",
    "# Удалим строки с пропусками\n",
    "new_df = new_df.dropna()\n",
    "# Исправим неточности в целевой переменной\n",
    "print(new_df['Target'].value_counts())\n",
    "new_df['Target'] = new_df['Target'].str.strip(\" \")\n",
    "new_df['Target'] = new_df['Target'].map({\">50K.\":\">50K\", \n",
    "                                       \"<=50K.\":\"<=50K\"}).fillna(new_df['Target'])\n",
    "print(new_df['Target'].value_counts())"
   ]
  },
  {
   "cell_type": "markdown",
   "metadata": {},
   "source": [
    "##############################################################################################################\n",
    "# Задания\n",
    "\n",
    "ВНИМАНИЕ!!!\n",
    "ВЕЗДЕ, где есть параметр **random_state**, устанавливайте его равным **своему номеру**, иначе у нас могут не совпасть результаты и будет плохо (кроме KFold кросс-валидации у нас будет параметр Shufle=False, а значит и random_state не нужен). \n",
    "\n",
    "Результаты округляем до 5 знака после запятой. Например, ROC AUC = 0.56156\n",
    "\n",
    "Задание *найти оптимальный гиперпараметр* (если не оговорено иное) подразумевает 5  фолдовую стратифицированную кросс-валидацию с random_state, равным **вашему номеру**.\n",
    "\n",
    "По умолчанию мы используем ВСЕ ПРИЗНАКИ из датасетов."
   ]
  },
  {
   "cell_type": "code",
   "execution_count": 371,
   "metadata": {},
   "outputs": [],
   "source": [
    "students_random_state = {\n",
    " 'Базуева Мария Дмитриевна': 993,\n",
    " 'Бориско Данила Ильич': 1956,\n",
    " 'Братков Герман Сергеевич': 210,\n",
    " 'Орлан Суван-оол': 211,\n",
    " 'Валл Федор Викторович': 188,\n",
    " 'Егорова Анна Сергеевна': 25,\n",
    " 'Едовина Алина Игоревна': 35,\n",
    " 'Загарнюк Елизавета Максимовна': 979,\n",
    " 'Захаров Алексей Сергееивч': 587,\n",
    " 'Калёнов Алексей Аркадьевич': 1334,\n",
    " 'Карасева Алина Александровна': 1265,\n",
    " 'Каширин Егор Михайлович': 1672,\n",
    " 'Косинов Андрей Вячеславович': 940,\n",
    " 'Красиков Евгений Владимирович': 601,\n",
    " 'Кузьмин Никита Кириллович': 452,\n",
    " 'Монгуш Тенгиз Анатольевич': 668,\n",
    " 'Мурадян Акоп Араратович': 1155,\n",
    " 'Наумова Анастасия Юрьевна': 1020,\n",
    " 'Панчук Александр Сергеевич': 1125,\n",
    " 'Пашинина Татьяна Викторовна': 268,\n",
    " 'Пустоваров Артем Андреевич': 187,\n",
    " 'Роговая Тамара Олеговна': 1472,\n",
    " 'Селезнев Дмитрий Владимирович': 734,\n",
    " 'Сидорякин Виталий Дмитриевич': 1554,\n",
    " 'Филиппов Антон Павлович': 126,\n",
    " 'Фрольцов Григорий Максимович': 1723,\n",
    " 'Хамитов Давид Альбертович': 1944,\n",
    " 'Хомушку Ганна Алексеевна': 582,\n",
    " 'Царева Мария Сергеевна': 1336}\n"
   ]
  },
  {
   "cell_type": "code",
   "execution_count": 382,
   "metadata": {},
   "outputs": [],
   "source": [
    "# Введите свой номер random state\n",
    "your_number_random_state = 25\n",
    "\n",
    "# Для расчета доли, по которой будем делить датасеты\n",
    "max_ = max(list(map(lambda x: np.log(x), students_random_state.values())))\n",
    "frac_student = np.log(your_number_random_state) / max_\n",
    "\n",
    "# Уникальный датасет для каждого студента\n",
    "df_model = new_df.sample(frac = frac_student, random_state=your_number_random_state)\n",
    "\n",
    "\n",
    "# Определим целевую переменную \n",
    "X, y = df_model.drop(\"Target\", axis=1), df_model['Target'].map({\">50K\":1, \"<=50K\":0})"
   ]
  },
  {
   "cell_type": "code",
   "execution_count": 300,
   "metadata": {},
   "outputs": [],
   "source": [
    "# Разобьем на тренировочную и тестовую (уже уменьшенный датасет для каждого студента)\n",
    "from sklearn.model_selection import train_test_split\n",
    "X_train, X_test, y_train, y_test = train_test_split(X, y, test_size=0.3,\n",
    "                                                   random_state=your_number_random_state)\n",
    "\n",
    "# Стандартизируем количественные признаки\n",
    "\n",
    "from sklearn.preprocessing import StandardScaler\n",
    "sc = StandardScaler()\n",
    "X_train[quant_cols] = sc.fit_transform(X_train[quant_cols])\n",
    "X_test[quant_cols] = sc.transform(X_test[quant_cols])"
   ]
  },
  {
   "cell_type": "markdown",
   "metadata": {},
   "source": [
    "1. При помощи метода ближайших соседей сделайте прогноз для числа соседей *со всеми объясняющими признаками*, равным 11. Чему равен `Recall` на тестовой выборке?"
   ]
  },
  {
   "cell_type": "markdown",
   "metadata": {},
   "source": [
    "2. Среди следующих значений коэффициентов регуляризации (без кросс-валидации) выберите тот, для которого `ROC AUC` score на тестовой выборке для логистической регрессии *со всеми факторами* будет минимальным. В ответе укажите значение минимального ROC AUC\n",
    "\n",
    "$$ C = [0.01, 0.05, 0.1, 0.3, 0.5, 0.75, 0.9, 1] $$"
   ]
  },
  {
   "cell_type": "markdown",
   "metadata": {},
   "source": [
    "3. Чему равен `Precision` для дерева решений с параметрами по умолчанию (реализация sklearn, random_state соответствует вашему номеру)?"
   ]
  },
  {
   "cell_type": "markdown",
   "metadata": {},
   "source": [
    "4. Удалите признаки, для которых коэффициенты в LASSO регрессии равны нулю (на тренировочной выборке) и сделайте прогноз на тестовой выборке при помощи логистической регрессии с коэффициентов регуляризации C=0.5. В ответ запишите полученный `Recall`.\n",
    "\n",
    "LASSO регрессия для логистической регрессии юзается вот так:\n",
    "\n",
    "`LogisticRegression(penalty='l1', solver='liblinear', random_state=your_number_random_state)`"
   ]
  },
  {
   "cell_type": "markdown",
   "metadata": {},
   "source": [
    "5. При помощи кросс-валидации найдите оптимальный параметр max_depth на границах [1, 50] для дерева решений. В ответ запишите значение ROC AUC на тестовой выборке при оптимальной `максимальной глубине дерева`. Оптимизироваться нужно именно на ROC AUC.\n",
    "\n",
    "Вам может помочь эта ссылка:\n",
    "https://scikit-learn.org/stable/modules/model_evaluation.html#scoring-parameter"
   ]
  },
  {
   "cell_type": "markdown",
   "metadata": {},
   "source": [
    "6. Обучите модель бэггинга на тренировочном наборе данных для всех признаков для количества деревьев, равного 200. Чему равна `OOB ошибка` на тренировочной выборке?"
   ]
  },
  {
   "cell_type": "markdown",
   "metadata": {},
   "source": [
    "7. Обучите на тренировочном датасете модель бэггинга с числом деревьев, равным 300, и сделайте прогноз на тестовой выборке. Чему равна `F1 мера`?"
   ]
  },
  {
   "cell_type": "markdown",
   "metadata": {},
   "source": [
    "8. На тренировочном датасете выберите оптимальные гиперпараметры (через `Accuracy`) для дерева решений из такого множества:\n",
    "\n",
    " - max_depth = значения от 1 до 20 включительно\n",
    " - max_features = значения от 15 до 35 включительно\n",
    " \n",
    "Чему равен `Accuracy` на тестовом наборе данных с таким набором гиперпараметров?"
   ]
  },
  {
   "cell_type": "markdown",
   "metadata": {},
   "source": [
    "9. Подберите оптимальное значение  max_features = [3, 5, 10, 15, 25, 30, 35, 40] для бэггинга, где в качестве базового алгоритма будет логистическая регрессия с C=0.5. Параметр n_estimators настройте равным 25. Оптимизируемся на `Recall`. Чему равен `Precision` на тестовой выборке с лучшим гиперпараметров из тренировочной выборки?"
   ]
  },
  {
   "cell_type": "markdown",
   "metadata": {},
   "source": [
    "10. Задание на бутстрап для линейной регрессии. При помощи метода бутстрапированных остатков регрессии вычислите 95% доверительный интервал для коэффициента перед переменной *Age*, где зависимая переменная *fnlwgt*. Регрессия с константой! Также вычислите 95% доверительный интервал при помощи стандартного метода в линейной регрессии при допущении о выполнении условий ГМ. В ответ запишите `отношение длины бутстрапированного доверительного интервала к длине стандартного доверительного интервала`. Число бутстрап подвыборок берем равным 10000. Фиксируем рандом своим random_state. Ответ округляем до 5 знака."
   ]
  },
  {
   "cell_type": "code",
   "execution_count": null,
   "metadata": {},
   "outputs": [],
   "source": []
  }
 ],
 "metadata": {
  "kernelspec": {
   "display_name": "Python 3",
   "language": "python",
   "name": "python3"
  },
  "language_info": {
   "codemirror_mode": {
    "name": "ipython",
    "version": 3
   },
   "file_extension": ".py",
   "mimetype": "text/x-python",
   "name": "python",
   "nbconvert_exporter": "python",
   "pygments_lexer": "ipython3",
   "version": "3.8.3"
  },
  "toc": {
   "base_numbering": 1,
   "nav_menu": {},
   "number_sections": true,
   "sideBar": true,
   "skip_h1_title": false,
   "title_cell": "Table of Contents",
   "title_sidebar": "Contents",
   "toc_cell": false,
   "toc_position": {},
   "toc_section_display": true,
   "toc_window_display": false
  },
  "varInspector": {
   "cols": {
    "lenName": 16,
    "lenType": 16,
    "lenVar": 40
   },
   "kernels_config": {
    "python": {
     "delete_cmd_postfix": "",
     "delete_cmd_prefix": "del ",
     "library": "var_list.py",
     "varRefreshCmd": "print(var_dic_list())"
    },
    "r": {
     "delete_cmd_postfix": ") ",
     "delete_cmd_prefix": "rm(",
     "library": "var_list.r",
     "varRefreshCmd": "cat(var_dic_list()) "
    }
   },
   "types_to_exclude": [
    "module",
    "function",
    "builtin_function_or_method",
    "instance",
    "_Feature"
   ],
   "window_display": false
  }
 },
 "nbformat": 4,
 "nbformat_minor": 4
}