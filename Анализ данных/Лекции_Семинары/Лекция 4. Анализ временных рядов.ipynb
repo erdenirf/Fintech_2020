{
 "cells": [
  {
   "cell_type": "markdown",
   "metadata": {},
   "source": [
    "# <center> Лекция 4. Анализ временных рядов"
   ]
  },
  {
   "cell_type": "code",
   "execution_count": 1,
   "metadata": {},
   "outputs": [],
   "source": [
    "import pandas as pd\n",
    "from datetime import datetime\n",
    "import numpy as np"
   ]
  },
  {
   "cell_type": "markdown",
   "metadata": {},
   "source": [
    "# 1. Временные ряды (основные возможности)"
   ]
  },
  {
   "cell_type": "markdown",
   "metadata": {},
   "source": [
    "## Объекты datetime, day и time - встроенная функция Python"
   ]
  },
  {
   "cell_type": "code",
   "execution_count": 2,
   "metadata": {},
   "outputs": [
    {
     "data": {
      "text/plain": [
       "datetime.datetime(2014, 12, 15, 0, 0)"
      ]
     },
     "execution_count": 2,
     "metadata": {},
     "output_type": "execute_result"
    }
   ],
   "source": [
    "# объект datetime для 15 декабря 2014 года\n",
    "datetime(2014, 12, 15)"
   ]
  },
  {
   "cell_type": "code",
   "execution_count": 5,
   "metadata": {},
   "outputs": [
    {
     "data": {
      "text/plain": [
       "datetime.datetime(2014, 12, 15, 17, 30, 59)"
      ]
     },
     "execution_count": 5,
     "metadata": {},
     "output_type": "execute_result"
    }
   ],
   "source": [
    "# задаем конкретную дату, а также время 17:30\n",
    "datetime(2014, 12, 15, 17, 30, 59)"
   ]
  },
  {
   "cell_type": "code",
   "execution_count": 8,
   "metadata": {},
   "outputs": [
    {
     "data": {
      "text/plain": [
       "datetime.datetime(2020, 12, 12, 10, 45, 28, 606017)"
      ]
     },
     "execution_count": 8,
     "metadata": {},
     "output_type": "execute_result"
    }
   ],
   "source": [
    "# получаем текущие дату и время \n",
    "# для местного часового пояса\n",
    "datetime.now()"
   ]
  },
  {
   "cell_type": "code",
   "execution_count": 9,
   "metadata": {},
   "outputs": [
    {
     "data": {
      "text/plain": [
       "datetime.date(2014, 12, 15)"
      ]
     },
     "execution_count": 9,
     "metadata": {},
     "output_type": "execute_result"
    }
   ],
   "source": [
    "# можно записать дату без компонента времени,\n",
    "# создав дату с помощью объекта datetime\n",
    "datetime.date(datetime(2014, 12, 15))"
   ]
  },
  {
   "cell_type": "code",
   "execution_count": 16,
   "metadata": {},
   "outputs": [
    {
     "data": {
      "text/plain": [
       "datetime.date(2020, 12, 12)"
      ]
     },
     "execution_count": 16,
     "metadata": {},
     "output_type": "execute_result"
    }
   ],
   "source": [
    "# просто извлекаем текущую дату\n",
    "datetime.now().date()"
   ]
  },
  {
   "cell_type": "code",
   "execution_count": 17,
   "metadata": {},
   "outputs": [
    {
     "data": {
      "text/plain": [
       "datetime.time(17, 30)"
      ]
     },
     "execution_count": 17,
     "metadata": {},
     "output_type": "execute_result"
    }
   ],
   "source": [
    "# просто извлекаем время из объекта datetime\n",
    "datetime.time(datetime(2014, 12, 15, 17, 30))"
   ]
  },
  {
   "cell_type": "code",
   "execution_count": 18,
   "metadata": {},
   "outputs": [
    {
     "data": {
      "text/plain": [
       "datetime.time(10, 46, 18, 353966)"
      ]
     },
     "execution_count": 18,
     "metadata": {},
     "output_type": "execute_result"
    }
   ],
   "source": [
    "# получаем текущее местное время\n",
    "datetime.now().time()"
   ]
  },
  {
   "cell_type": "code",
   "execution_count": 106,
   "metadata": {},
   "outputs": [
    {
     "data": {
      "text/plain": [
       "7"
      ]
     },
     "execution_count": 106,
     "metadata": {},
     "output_type": "execute_result"
    }
   ],
   "source": [
    "# ИЗвлекаем день недели\n",
    "datetime(2020,12,13).isoweekday()"
   ]
  },
  {
   "cell_type": "markdown",
   "metadata": {},
   "source": [
    "## Объект Timestamp"
   ]
  },
  {
   "cell_type": "code",
   "execution_count": 19,
   "metadata": {},
   "outputs": [
    {
     "data": {
      "text/plain": [
       "Timestamp('2014-12-15 00:00:00')"
      ]
     },
     "execution_count": 19,
     "metadata": {},
     "output_type": "execute_result"
    }
   ],
   "source": [
    "# временная метка, представляющая конкретную дату\n",
    "pd.Timestamp('2014-12-15')"
   ]
  },
  {
   "cell_type": "code",
   "execution_count": 20,
   "metadata": {},
   "outputs": [
    {
     "data": {
      "text/plain": [
       "Timestamp('2014-12-15 17:30:00')"
      ]
     },
     "execution_count": 20,
     "metadata": {},
     "output_type": "execute_result"
    }
   ],
   "source": [
    "# временная метка, содержащая дату и время\n",
    "pd.Timestamp('2014-12-15 17:30')"
   ]
  },
  {
   "cell_type": "code",
   "execution_count": 21,
   "metadata": {},
   "outputs": [
    {
     "data": {
      "text/plain": [
       "Timestamp('2020-12-12 17:30:00')"
      ]
     },
     "execution_count": 21,
     "metadata": {},
     "output_type": "execute_result"
    }
   ],
   "source": [
    "# задаем временную метку, указав только время\n",
    "# по умолчанию ко времени будет добавлена\n",
    "# местная текущая дата\n",
    "pd.Timestamp('17:30')"
   ]
  },
  {
   "cell_type": "code",
   "execution_count": 22,
   "metadata": {},
   "outputs": [
    {
     "data": {
      "text/plain": [
       "Timestamp('2020-12-12 10:47:40.209782')"
      ]
     },
     "execution_count": 22,
     "metadata": {},
     "output_type": "execute_result"
    }
   ],
   "source": [
    "# получаем текущие дату и время\n",
    "pd.Timestamp(\"now\")"
   ]
  },
  {
   "cell_type": "code",
   "execution_count": 26,
   "metadata": {},
   "outputs": [
    {
     "data": {
      "text/plain": [
       "Timestamp('2020-12-12 10:48:26.434992')"
      ]
     },
     "execution_count": 26,
     "metadata": {},
     "output_type": "execute_result"
    }
   ],
   "source": [
    "pd.Timestamp(\"now\")"
   ]
  },
  {
   "cell_type": "markdown",
   "metadata": {},
   "source": [
    "## Объект Timedelta"
   ]
  },
  {
   "cell_type": "code",
   "execution_count": 27,
   "metadata": {},
   "outputs": [
    {
     "data": {
      "text/plain": [
       "datetime.datetime(2014, 12, 1, 0, 0)"
      ]
     },
     "execution_count": 27,
     "metadata": {},
     "output_type": "execute_result"
    }
   ],
   "source": [
    "# вычисляем дату, которая будет отстоять от\n",
    "# даты 2014-11-30 на один день вперед\n",
    "today = datetime(2014, 11, 30)\n",
    "tomorrow = today + pd.Timedelta(days=1)\n",
    "tomorrow"
   ]
  },
  {
   "cell_type": "code",
   "execution_count": 29,
   "metadata": {},
   "outputs": [
    {
     "data": {
      "text/plain": [
       "datetime.timedelta(days=4)"
      ]
     },
     "execution_count": 29,
     "metadata": {},
     "output_type": "execute_result"
    }
   ],
   "source": [
    "# вычисляем количество дней между двумя датами\n",
    "date1 = datetime(2014, 12, 2)\n",
    "date2 = datetime(2014, 11, 28)\n",
    "date1 - date2"
   ]
  },
  {
   "cell_type": "markdown",
   "metadata": {},
   "source": [
    "## Объект DatetimeIndex"
   ]
  },
  {
   "cell_type": "code",
   "execution_count": 30,
   "metadata": {},
   "outputs": [
    {
     "data": {
      "text/plain": [
       "2014-08-01    1.140089\n",
       "2014-08-02    1.736444\n",
       "dtype: float64"
      ]
     },
     "execution_count": 30,
     "metadata": {},
     "output_type": "execute_result"
    }
   ],
   "source": [
    "# создаем очень простой временной ряд с двумя \n",
    "# индексными метками и случайными значениями\n",
    "dates = [datetime(2014, 8, 1), datetime(2014, 8, 2)]\n",
    "ts = pd.Series(np.random.randn(2), dates)\n",
    "ts"
   ]
  },
  {
   "cell_type": "code",
   "execution_count": 31,
   "metadata": {},
   "outputs": [
    {
     "data": {
      "text/plain": [
       "pandas.core.indexes.datetimes.DatetimeIndex"
      ]
     },
     "execution_count": 31,
     "metadata": {},
     "output_type": "execute_result"
    }
   ],
   "source": [
    "# смотрим тип индекса\n",
    "type(ts.index)"
   ]
  },
  {
   "cell_type": "code",
   "execution_count": 32,
   "metadata": {},
   "outputs": [
    {
     "data": {
      "text/plain": [
       "pandas._libs.tslibs.timestamps.Timestamp"
      ]
     },
     "execution_count": 32,
     "metadata": {},
     "output_type": "execute_result"
    }
   ],
   "source": [
    "# можно увидеть, что это коллекция временных меток\n",
    "type(ts.index[0])"
   ]
  },
  {
   "cell_type": "code",
   "execution_count": 34,
   "metadata": {},
   "outputs": [
    {
     "data": {
      "text/plain": [
       "2014-08-01    0.469112\n",
       "2014-08-02   -0.282863\n",
       "dtype: float64"
      ]
     },
     "execution_count": 34,
     "metadata": {},
     "output_type": "execute_result"
    }
   ],
   "source": [
    "# создаем временной ряд из списка дат, \n",
    "# записанных в виде строк!\n",
    "np.random.seed(123456)\n",
    "dates = ['2014-08-01', '2014-08-02']\n",
    "ts = pd.Series(np.random.randn(2), dates)\n",
    "ts"
   ]
  },
  {
   "cell_type": "code",
   "execution_count": 35,
   "metadata": {},
   "outputs": [
    {
     "name": "stdout",
     "output_type": "stream",
     "text": [
      "2014-08-01 00:00:00\n",
      "2014-08-02 00:00:00\n",
      "2014-08-03 00:00:00\n",
      "NaT\n"
     ]
    }
   ],
   "source": [
    "# преобразовываем последовательность объектов\n",
    "# в объект DatetimeIndex\n",
    "dti = pd.to_datetime(['Aug 1, 2014', \n",
    "                      '2014-08-02', \n",
    "                      '2014.8.3', \n",
    "                      None])\n",
    "for l in dti: print (l)"
   ]
  },
  {
   "cell_type": "code",
   "execution_count": 20,
   "metadata": {},
   "outputs": [],
   "source": [
    "# это список объектов, а не временных меток...\n",
    "# в версии 0.20.1 нижеприведенный программный код\n",
    "# выдает ошибку\n",
    "# pd.to_datetime(['Aug 1, 2014', 'foo'])"
   ]
  },
  {
   "cell_type": "code",
   "execution_count": 39,
   "metadata": {},
   "outputs": [
    {
     "data": {
      "text/plain": [
       "array([12.,  2.,  3., nan])"
      ]
     },
     "execution_count": 39,
     "metadata": {},
     "output_type": "execute_result"
    }
   ],
   "source": [
    "pd.to_numeric(['12', 2,3, \"T\"], errors = 'coerce')"
   ]
  },
  {
   "cell_type": "code",
   "execution_count": 42,
   "metadata": {},
   "outputs": [
    {
     "data": {
      "text/plain": [
       "DatetimeIndex(['2014-08-01', 'NaT'], dtype='datetime64[ns]', freq=None)"
      ]
     },
     "execution_count": 42,
     "metadata": {},
     "output_type": "execute_result"
    }
   ],
   "source": [
    "# принудительно выполняем преобразование, значения, которые\n",
    "# не удалось преобразовать, получат значения NaT\n",
    "pd.to_datetime(['Aug 1, 2014', 'foo'], errors=\"coerce\")"
   ]
  },
  {
   "cell_type": "code",
   "execution_count": 48,
   "metadata": {},
   "outputs": [
    {
     "data": {
      "text/plain": [
       "2014-08-01    0.469112\n",
       "2014-08-02   -0.282863\n",
       "2014-08-03   -1.509059\n",
       "2014-08-04   -1.135632\n",
       "2014-08-05    1.212112\n",
       "2014-08-06   -0.173215\n",
       "2014-08-07    0.119209\n",
       "2014-08-08   -1.044236\n",
       "2014-08-09   -0.861849\n",
       "2014-08-10   -2.104569\n",
       "Freq: D, dtype: float64"
      ]
     },
     "execution_count": 48,
     "metadata": {},
     "output_type": "execute_result"
    }
   ],
   "source": [
    "# создаем диапазон дат, начинающийся с определенной даты\n",
    "# и включающий определеное количество дней,\n",
    "# на его основе создаем объект Series\n",
    "np.random.seed(123456)\n",
    "periods = pd.date_range('8/1/2014', periods=10)\n",
    "date_series = pd.Series(np.random.randn(10), index=periods)\n",
    "date_series"
   ]
  },
  {
   "cell_type": "code",
   "execution_count": 49,
   "metadata": {},
   "outputs": [
    {
     "data": {
      "text/plain": [
       "2014-08-04   -1.135632\n",
       "2014-08-05    1.212112\n",
       "2014-08-06   -0.173215\n",
       "2014-08-07    0.119209\n",
       "Freq: D, dtype: float64"
      ]
     },
     "execution_count": 49,
     "metadata": {},
     "output_type": "execute_result"
    }
   ],
   "source": [
    "# создаем срез, используя позиции индекса\n",
    "subset = date_series[3:7]\n",
    "subset"
   ]
  },
  {
   "cell_type": "code",
   "execution_count": 50,
   "metadata": {},
   "outputs": [
    {
     "data": {
      "text/plain": [
       "2014-08-04       10\n",
       "2014-08-05      100\n",
       "2014-08-06     1000\n",
       "2014-08-07    10000\n",
       "Freq: D, dtype: int64"
      ]
     },
     "execution_count": 50,
     "metadata": {},
     "output_type": "execute_result"
    }
   ],
   "source": [
    "# создаем объект Series для\n",
    "# иллюстрации выравнивания\n",
    "s2 = pd.Series([10, 100, 1000, 10000], subset.index)\n",
    "s2"
   ]
  },
  {
   "cell_type": "code",
   "execution_count": 51,
   "metadata": {},
   "outputs": [
    {
     "data": {
      "text/plain": [
       "2014-08-01             NaN\n",
       "2014-08-02             NaN\n",
       "2014-08-03             NaN\n",
       "2014-08-04        8.864368\n",
       "2014-08-05      101.212112\n",
       "2014-08-06      999.826785\n",
       "2014-08-07    10000.119209\n",
       "2014-08-08             NaN\n",
       "2014-08-09             NaN\n",
       "2014-08-10             NaN\n",
       "Freq: D, dtype: float64"
      ]
     },
     "execution_count": 51,
     "metadata": {},
     "output_type": "execute_result"
    }
   ],
   "source": [
    "# демонстрируем выравнивание по дате,\n",
    "# сложив вместе date_series и s2\n",
    "date_series + s2"
   ]
  },
  {
   "cell_type": "code",
   "execution_count": 52,
   "metadata": {},
   "outputs": [
    {
     "data": {
      "text/plain": [
       "1.2121120250208506"
      ]
     },
     "execution_count": 52,
     "metadata": {},
     "output_type": "execute_result"
    }
   ],
   "source": [
    "# находим элемент с помощью строкового\n",
    "# представления даты\n",
    "date_series['2014-08-05']"
   ]
  },
  {
   "cell_type": "code",
   "execution_count": 53,
   "metadata": {},
   "outputs": [
    {
     "data": {
      "text/plain": [
       "2014-08-05    1.212112\n",
       "2014-08-06   -0.173215\n",
       "2014-08-07    0.119209\n",
       "Freq: D, dtype: float64"
      ]
     },
     "execution_count": 53,
     "metadata": {},
     "output_type": "execute_result"
    }
   ],
   "source": [
    "# создаем срез объекта DatetimeIndex, задав диапазон \n",
    "# из строковых представлений дат\n",
    "date_series['2014-08-05':'2014-08-07']"
   ]
  },
  {
   "cell_type": "code",
   "execution_count": 73,
   "metadata": {},
   "outputs": [
    {
     "data": {
      "text/plain": [
       "2013-01-01    0\n",
       "2013-01-02    0\n",
       "2013-01-03    0\n",
       "2013-01-04    0\n",
       "2013-01-05    0\n",
       "             ..\n",
       "2013-12-27    0\n",
       "2013-12-28    0\n",
       "2013-12-29    0\n",
       "2013-12-30    0\n",
       "2013-12-31    0\n",
       "Freq: D, Length: 365, dtype: int64"
      ]
     },
     "execution_count": 73,
     "metadata": {},
     "output_type": "execute_result"
    }
   ],
   "source": [
    "# создаем диапазон дат, охватывающий 2-летний \n",
    "# период с ежедневным интервалом\n",
    "# отбираем лишь те даты, которые \n",
    "# относятся к 2013 году\n",
    "s3 = pd.Series(0, pd.date_range('2013-01-01', '2014-12-31'))\n",
    "s3['2013']"
   ]
  },
  {
   "cell_type": "code",
   "execution_count": 71,
   "metadata": {},
   "outputs": [
    {
     "data": {
      "text/plain": [
       "2014-05-01    0\n",
       "2014-05-02    0\n",
       "2014-05-03    0\n",
       "2014-05-04    0\n",
       "2014-05-05    0\n",
       "2014-05-06    0\n",
       "2014-05-07    0\n",
       "2014-05-08    0\n",
       "2014-05-09    0\n",
       "2014-05-10    0\n",
       "2014-05-11    0\n",
       "2014-05-12    0\n",
       "2014-05-13    0\n",
       "2014-05-14    0\n",
       "2014-05-15    0\n",
       "2014-05-16    0\n",
       "2014-05-17    0\n",
       "2014-05-18    0\n",
       "2014-05-19    0\n",
       "2014-05-20    0\n",
       "2014-05-21    0\n",
       "2014-05-22    0\n",
       "2014-05-23    0\n",
       "2014-05-24    0\n",
       "2014-05-25    0\n",
       "2014-05-26    0\n",
       "2014-05-27    0\n",
       "2014-05-28    0\n",
       "2014-05-29    0\n",
       "2014-05-30    0\n",
       "2014-05-31    0\n",
       "Freq: D, dtype: int64"
      ]
     },
     "execution_count": 71,
     "metadata": {},
     "output_type": "execute_result"
    }
   ],
   "source": [
    "# отбираем 31 дату за май 2014 года\n",
    "s3['2014-05'] "
   ]
  },
  {
   "cell_type": "code",
   "execution_count": 74,
   "metadata": {},
   "outputs": [
    {
     "data": {
      "text/plain": [
       "2014-08-01    0\n",
       "2014-08-02    0\n",
       "2014-08-03    0\n",
       "2014-08-04    0\n",
       "2014-08-05    0\n",
       "             ..\n",
       "2014-09-26    0\n",
       "2014-09-27    0\n",
       "2014-09-28    0\n",
       "2014-09-29    0\n",
       "2014-09-30    0\n",
       "Freq: D, Length: 61, dtype: int64"
      ]
     },
     "execution_count": 74,
     "metadata": {},
     "output_type": "execute_result"
    }
   ],
   "source": [
    "# извлекаем даты с августа \n",
    "# по сентябрь 2014 года\n",
    "s3['2014-08':'2014-09']"
   ]
  },
  {
   "cell_type": "markdown",
   "metadata": {},
   "source": [
    "## Создание временного ряда с определенной частотой"
   ]
  },
  {
   "cell_type": "code",
   "execution_count": 85,
   "metadata": {},
   "outputs": [
    {
     "data": {
      "text/plain": [
       "2014-08-01 00:00:00    0.469112\n",
       "2014-08-01 00:01:00   -0.282863\n",
       "2014-08-01 00:02:00   -1.509059\n",
       "2014-08-01 00:03:00   -1.135632\n",
       "2014-08-01 00:04:00    1.212112\n",
       "Freq: T, dtype: float64"
      ]
     },
     "execution_count": 85,
     "metadata": {},
     "output_type": "execute_result"
    }
   ],
   "source": [
    "# создаем объект Series, состоящий\n",
    "# из 1-минутных интервалов\n",
    "np.random.seed(123456)\n",
    "bymin = pd.Series(np.random.randn(24*60*90), \n",
    "                  pd.date_range('2014-08-01', \n",
    "                                '2014-10-29-23:59:59',\n",
    "                                freq='T'))\n",
    "bymin[:5]"
   ]
  },
  {
   "cell_type": "code",
   "execution_count": 86,
   "metadata": {},
   "outputs": [
    {
     "data": {
      "text/plain": [
       "2014-08-01 00:02:00   -1.509059\n",
       "2014-08-01 00:03:00   -1.135632\n",
       "2014-08-01 00:04:00    1.212112\n",
       "2014-08-01 00:05:00   -0.173215\n",
       "2014-08-01 00:06:00    0.119209\n",
       "2014-08-01 00:07:00   -1.044236\n",
       "Freq: T, dtype: float64"
      ]
     },
     "execution_count": 86,
     "metadata": {},
     "output_type": "execute_result"
    }
   ],
   "source": [
    "# создаем срез с поминутными\n",
    "# интервалами\n",
    "bymin['2014-08-01 00:02':'2014-08-01 00:07']"
   ]
  },
  {
   "cell_type": "code",
   "execution_count": 87,
   "metadata": {},
   "outputs": [
    {
     "data": {
      "text/plain": [
       "DatetimeIndex(['2014-08-29', '2014-09-01', '2014-09-02', '2014-09-03',\n",
       "               '2014-09-04', '2014-09-05'],\n",
       "              dtype='datetime64[ns]', freq='B')"
      ]
     },
     "execution_count": 87,
     "metadata": {},
     "output_type": "execute_result"
    }
   ],
   "source": [
    "# создаем серию, состоящую из рабочих дней\n",
    "days = pd.date_range('2014-08-29', '2014-09-05', freq='B')\n",
    "days"
   ]
  },
  {
   "cell_type": "code",
   "execution_count": 91,
   "metadata": {},
   "outputs": [
    {
     "data": {
      "text/plain": [
       "DatetimeIndex(['2014-08-01 12:10:01', '2014-08-01 12:10:02',\n",
       "               '2014-08-01 12:10:03', '2014-08-01 12:10:04',\n",
       "               '2014-08-01 12:10:05'],\n",
       "              dtype='datetime64[ns]', freq='S')"
      ]
     },
     "execution_count": 91,
     "metadata": {},
     "output_type": "execute_result"
    }
   ],
   "source": [
    "# задаем периоды\n",
    "pd.date_range('2014-08-01 12:10:01', freq='S', periods=5)"
   ]
  },
  {
   "cell_type": "markdown",
   "metadata": {},
   "source": [
    "## Смещения дат"
   ]
  },
  {
   "cell_type": "code",
   "execution_count": 107,
   "metadata": {},
   "outputs": [
    {
     "data": {
      "text/plain": [
       "array(['2014-08-29T00:00:00.000000000', '2014-09-01T00:00:00.000000000',\n",
       "       '2014-09-02T00:00:00.000000000', '2014-09-03T00:00:00.000000000',\n",
       "       '2014-09-04T00:00:00.000000000', '2014-09-05T00:00:00.000000000'],\n",
       "      dtype='datetime64[ns]')"
      ]
     },
     "execution_count": 107,
     "metadata": {},
     "output_type": "execute_result"
    }
   ],
   "source": [
    "# извлекаем все рабочие дни в промежутке \n",
    "# между двумя датами, включая эти даты\n",
    "dti = pd.date_range('2014-08-29', '2014-09-05', freq='B')\n",
    "dti.values"
   ]
  },
  {
   "cell_type": "code",
   "execution_count": 108,
   "metadata": {},
   "outputs": [
    {
     "data": {
      "text/plain": [
       "<BusinessDay>"
      ]
     },
     "execution_count": 108,
     "metadata": {},
     "output_type": "execute_result"
    }
   ],
   "source": [
    "# убеждаемся, что частотой является\n",
    "# рабочий день\n",
    "dti.freq"
   ]
  },
  {
   "cell_type": "code",
   "execution_count": 112,
   "metadata": {},
   "outputs": [
    {
     "data": {
      "text/plain": [
       "5"
      ]
     },
     "execution_count": 112,
     "metadata": {},
     "output_type": "execute_result"
    }
   ],
   "source": [
    "d.isoweekday()"
   ]
  },
  {
   "cell_type": "code",
   "execution_count": 109,
   "metadata": {},
   "outputs": [
    {
     "data": {
      "text/plain": [
       "Timestamp('2014-08-30 00:00:00')"
      ]
     },
     "execution_count": 109,
     "metadata": {},
     "output_type": "execute_result"
    }
   ],
   "source": [
    "# вычисляем однодневное смещение для 2014-8-29\n",
    "d = datetime(2014, 8, 29)\n",
    "do = pd.DateOffset(days = 1) \n",
    "d + do"
   ]
  },
  {
   "cell_type": "code",
   "execution_count": 113,
   "metadata": {},
   "outputs": [
    {
     "data": {
      "text/plain": [
       "Timestamp('2014-09-01 00:00:00')"
      ]
     },
     "execution_count": 113,
     "metadata": {},
     "output_type": "execute_result"
    }
   ],
   "source": [
    "# импортируем типы смещений дат\n",
    "from pandas.tseries.offsets import *\n",
    "# вычисляем дату, отстоящую от 2014-8-31\n",
    "# на один рабочий день вперед\n",
    "d + BusinessDay()"
   ]
  },
  {
   "cell_type": "code",
   "execution_count": 115,
   "metadata": {},
   "outputs": [
    {
     "data": {
      "text/plain": [
       "Timestamp('2014-09-02 00:00:00')"
      ]
     },
     "execution_count": 115,
     "metadata": {},
     "output_type": "execute_result"
    }
   ],
   "source": [
    "# вычисляем дату, отстоящую от 2014-8-31 \n",
    "# на два рабочих дня вперед\n",
    "d + 2 * BusinessDay()"
   ]
  },
  {
   "cell_type": "code",
   "execution_count": 116,
   "metadata": {},
   "outputs": [
    {
     "data": {
      "text/plain": [
       "Timestamp('2014-09-30 00:00:00')"
      ]
     },
     "execution_count": 116,
     "metadata": {},
     "output_type": "execute_result"
    }
   ],
   "source": [
    "# вычисляем последний рабочий день месяца,\n",
    "# следующий после 2014-09-02\n",
    "d + BMonthEnd()"
   ]
  },
  {
   "cell_type": "code",
   "execution_count": 117,
   "metadata": {},
   "outputs": [
    {
     "data": {
      "text/plain": [
       "Timestamp('2014-09-30 00:00:00')"
      ]
     },
     "execution_count": 117,
     "metadata": {},
     "output_type": "execute_result"
    }
   ],
   "source": [
    "# вычисляем последний рабочий день месяца,\n",
    "# следующий после 2014-09-15\n",
    "BMonthEnd().rollforward(datetime(2014, 9, 15))"
   ]
  },
  {
   "cell_type": "code",
   "execution_count": 118,
   "metadata": {},
   "outputs": [
    {
     "data": {
      "text/plain": [
       "Timestamp('2014-08-26 00:00:00')"
      ]
     },
     "execution_count": 118,
     "metadata": {},
     "output_type": "execute_result"
    }
   ],
   "source": [
    "# вычисляем дату вторника, предшествующую\n",
    "# заданной дате\n",
    "d - Week(weekday = 1)"
   ]
  },
  {
   "cell_type": "markdown",
   "metadata": {},
   "source": [
    "## Привязанные смещения"
   ]
  },
  {
   "cell_type": "code",
   "execution_count": 119,
   "metadata": {},
   "outputs": [
    {
     "data": {
      "text/plain": [
       "array(['2014-06-04T00:00:00.000000000', '2014-06-11T00:00:00.000000000',\n",
       "       '2014-06-18T00:00:00.000000000', '2014-06-25T00:00:00.000000000',\n",
       "       '2014-07-02T00:00:00.000000000', '2014-07-09T00:00:00.000000000',\n",
       "       '2014-07-16T00:00:00.000000000', '2014-07-23T00:00:00.000000000',\n",
       "       '2014-07-30T00:00:00.000000000'], dtype='datetime64[ns]')"
      ]
     },
     "execution_count": 119,
     "metadata": {},
     "output_type": "execute_result"
    }
   ],
   "source": [
    "# вычисляем все среды в промежутке между \n",
    "# 2014-06-01 и 2014-08-31\n",
    "wednesdays = pd.date_range('2014-06-01', \n",
    "                           '2014-07-31', freq=\"W-WED\")\n",
    "wednesdays.values"
   ]
  },
  {
   "cell_type": "code",
   "execution_count": 120,
   "metadata": {},
   "outputs": [
    {
     "data": {
      "text/plain": [
       "array(['2014-03-03T00:00:00.000000000', '2014-06-02T00:00:00.000000000',\n",
       "       '2014-09-01T00:00:00.000000000', '2014-12-01T00:00:00.000000000'],\n",
       "      dtype='datetime64[ns]')"
      ]
     },
     "execution_count": 120,
     "metadata": {},
     "output_type": "execute_result"
    }
   ],
   "source": [
    "# вычисляем первый рабочий день последнего \n",
    "# месяца в каждом квартале\n",
    "qends = pd.date_range('2014-01-01', '2014-12-31', \n",
    "                      freq='BQS-JUN')\n",
    "qends.values"
   ]
  },
  {
   "cell_type": "markdown",
   "metadata": {},
   "source": [
    "## Объект Period"
   ]
  },
  {
   "cell_type": "code",
   "execution_count": 121,
   "metadata": {},
   "outputs": [
    {
     "data": {
      "text/plain": [
       "Period('2014-08', 'M')"
      ]
     },
     "execution_count": 121,
     "metadata": {},
     "output_type": "execute_result"
    }
   ],
   "source": [
    "# создаем период - один месяц, начинающийся \n",
    "# в августе 2014 года\n",
    "aug2014 = pd.Period('2014-08', freq='M')\n",
    "aug2014"
   ]
  },
  {
   "cell_type": "code",
   "execution_count": 122,
   "metadata": {},
   "outputs": [
    {
     "data": {
      "text/plain": [
       "(Timestamp('2014-08-01 00:00:00'), Timestamp('2014-08-31 23:59:59.999999999'))"
      ]
     },
     "execution_count": 122,
     "metadata": {},
     "output_type": "execute_result"
    }
   ],
   "source": [
    "# смотрим начальную и конечную \n",
    "# даты этого периода\n",
    "aug2014.start_time, aug2014.end_time"
   ]
  },
  {
   "cell_type": "code",
   "execution_count": 123,
   "metadata": {},
   "outputs": [
    {
     "data": {
      "text/plain": [
       "Period('2014-09', 'M')"
      ]
     },
     "execution_count": 123,
     "metadata": {},
     "output_type": "execute_result"
    }
   ],
   "source": [
    "# вычисляем период, прибавив к периоду\n",
    "# aug2014 единицу частоты (один месяц),\n",
    "# теперь периодом будет сентябрь 2014 года\n",
    "sep2014 = aug2014 + 1\n",
    "sep2014"
   ]
  },
  {
   "cell_type": "code",
   "execution_count": 124,
   "metadata": {},
   "outputs": [
    {
     "data": {
      "text/plain": [
       "(Timestamp('2014-09-01 00:00:00'), Timestamp('2014-09-30 23:59:59.999999999'))"
      ]
     },
     "execution_count": 124,
     "metadata": {},
     "output_type": "execute_result"
    }
   ],
   "source": [
    "sep2014.start_time, sep2014.end_time"
   ]
  },
  {
   "cell_type": "markdown",
   "metadata": {},
   "source": [
    "## Объект PeriodIndex"
   ]
  },
  {
   "cell_type": "code",
   "execution_count": 125,
   "metadata": {},
   "outputs": [
    {
     "data": {
      "text/plain": [
       "PeriodIndex(['2013-01', '2013-02', '2013-03', '2013-04', '2013-05', '2013-06',\n",
       "             '2013-07', '2013-08', '2013-09', '2013-10', '2013-11', '2013-12'],\n",
       "            dtype='period[M]', freq='M')"
      ]
     },
     "execution_count": 125,
     "metadata": {},
     "output_type": "execute_result"
    }
   ],
   "source": [
    "# создаем объект PeriodIndex, состоящий \n",
    "# из 1-месячных интервалов 2013 года\n",
    "mp2013 = pd.period_range('1/1/2013', '12/31/2013', freq='M')\n",
    "mp2013"
   ]
  },
  {
   "cell_type": "code",
   "execution_count": 127,
   "metadata": {},
   "outputs": [
    {
     "name": "stdout",
     "output_type": "stream",
     "text": [
      "2013-01-01 00:00:00 2013-01-31 23:59:59.999999999\n",
      "2013-02-01 00:00:00 2013-02-28 23:59:59.999999999\n",
      "2013-03-01 00:00:00 2013-03-31 23:59:59.999999999\n",
      "2013-04-01 00:00:00 2013-04-30 23:59:59.999999999\n",
      "2013-05-01 00:00:00 2013-05-31 23:59:59.999999999\n",
      "2013-06-01 00:00:00 2013-06-30 23:59:59.999999999\n",
      "2013-07-01 00:00:00 2013-07-31 23:59:59.999999999\n",
      "2013-08-01 00:00:00 2013-08-31 23:59:59.999999999\n",
      "2013-09-01 00:00:00 2013-09-30 23:59:59.999999999\n",
      "2013-10-01 00:00:00 2013-10-31 23:59:59.999999999\n",
      "2013-11-01 00:00:00 2013-11-30 23:59:59.999999999\n",
      "2013-12-01 00:00:00 2013-12-31 23:59:59.999999999\n"
     ]
    }
   ],
   "source": [
    "# пробегаем по всем объектам Period в индексе, печатая \n",
    "# начальную и конечную даты для каждого объекта\n",
    "for p in mp2013: \n",
    "    print(f\"{p.start_time} {p.end_time}\")"
   ]
  },
  {
   "cell_type": "code",
   "execution_count": 128,
   "metadata": {},
   "outputs": [
    {
     "data": {
      "text/plain": [
       "2013-01    0.469112\n",
       "2013-02   -0.282863\n",
       "2013-03   -1.509059\n",
       "2013-04   -1.135632\n",
       "2013-05    1.212112\n",
       "Freq: M, dtype: float64"
      ]
     },
     "execution_count": 128,
     "metadata": {},
     "output_type": "execute_result"
    }
   ],
   "source": [
    "# создаем объект Series, у которого \n",
    "# индексом будет PeriodIndex\n",
    "np.random.seed(123456)\n",
    "ps = pd.Series(np.random.randn(12), mp2013)\n",
    "ps[:5]"
   ]
  },
  {
   "cell_type": "code",
   "execution_count": 129,
   "metadata": {},
   "outputs": [
    {
     "data": {
      "text/plain": [
       "2013-01    0.469112\n",
       "2013-02   -0.282863\n",
       "2013-03   -1.509059\n",
       "2013-04   -1.135632\n",
       "2013-05    1.212112\n",
       "2013-06   -0.173215\n",
       "2013-07    0.119209\n",
       "2013-08   -1.044236\n",
       "2013-09   -0.861849\n",
       "2013-10   -2.104569\n",
       "2013-11   -0.494929\n",
       "2013-12    1.071804\n",
       "2014-01    0.721555\n",
       "2014-02   -0.706771\n",
       "2014-03   -1.039575\n",
       "2014-04    0.271860\n",
       "2014-05   -0.424972\n",
       "2014-06    0.567020\n",
       "2014-07    0.276232\n",
       "2014-08   -1.087401\n",
       "2014-09   -0.673690\n",
       "2014-10    0.113648\n",
       "2014-11   -1.478427\n",
       "2014-12    0.524988\n",
       "Freq: M, dtype: float64"
      ]
     },
     "execution_count": 129,
     "metadata": {},
     "output_type": "execute_result"
    }
   ],
   "source": [
    "# создаем объект Series с индексом PeriodIndex, \n",
    "# который представляет собой все календарные \n",
    "# месяцы-периоды 2013 и 2014 годов\n",
    "np.random.seed(123456)\n",
    "ps = pd.Series(np.random.randn(24), \n",
    "               pd.period_range('1/1/2013', \n",
    "                               '12/31/2014', freq='M'))\n",
    "ps"
   ]
  },
  {
   "cell_type": "code",
   "execution_count": 130,
   "metadata": {},
   "outputs": [
    {
     "data": {
      "text/plain": [
       "0.567020349793672"
      ]
     },
     "execution_count": 130,
     "metadata": {},
     "output_type": "execute_result"
    }
   ],
   "source": [
    "# извлекаем значение, соответствующее\n",
    "# периоду 2014-06\n",
    "ps['2014-06']"
   ]
  },
  {
   "cell_type": "code",
   "execution_count": 131,
   "metadata": {},
   "outputs": [
    {
     "data": {
      "text/plain": [
       "2014-01    0.721555\n",
       "2014-02   -0.706771\n",
       "2014-03   -1.039575\n",
       "2014-04    0.271860\n",
       "2014-05   -0.424972\n",
       "2014-06    0.567020\n",
       "2014-07    0.276232\n",
       "2014-08   -1.087401\n",
       "2014-09   -0.673690\n",
       "2014-10    0.113648\n",
       "2014-11   -1.478427\n",
       "2014-12    0.524988\n",
       "Freq: M, dtype: float64"
      ]
     },
     "execution_count": 131,
     "metadata": {},
     "output_type": "execute_result"
    }
   ],
   "source": [
    "# извлекаем значения для всех\n",
    "# периодов в 2014 году\n",
    "ps['2014']"
   ]
  },
  {
   "cell_type": "code",
   "execution_count": 132,
   "metadata": {},
   "outputs": [
    {
     "data": {
      "text/plain": [
       "2014-03   -1.039575\n",
       "2014-04    0.271860\n",
       "2014-05   -0.424972\n",
       "2014-06    0.567020\n",
       "Freq: M, dtype: float64"
      ]
     },
     "execution_count": 132,
     "metadata": {},
     "output_type": "execute_result"
    }
   ],
   "source": [
    "# извлекаем все значения, соответствующие периодам \n",
    "# с марта по июнь 2014 года включительно\n",
    "ps['2014-03':'2014-06']"
   ]
  },
  {
   "cell_type": "markdown",
   "metadata": {},
   "source": [
    "## Обработка праздников с помощью календарей"
   ]
  },
  {
   "cell_type": "code",
   "execution_count": 1,
   "metadata": {
    "scrolled": true
   },
   "outputs": [
    {
     "name": "stdout",
     "output_type": "stream",
     "text": [
      "2014-01-01 00:00:00\n",
      "2014-01-20 00:00:00\n",
      "2014-02-17 00:00:00\n",
      "2014-05-26 00:00:00\n",
      "2014-07-04 00:00:00\n",
      "2014-09-01 00:00:00\n",
      "2014-10-13 00:00:00\n",
      "2014-11-11 00:00:00\n",
      "2014-11-27 00:00:00\n",
      "2014-12-25 00:00:00\n"
     ]
    }
   ],
   "source": [
    "# демонстрируем использование календаря \n",
    "# федеральных праздников США\n",
    "# сначала нужно импортировать его\n",
    "from pandas.tseries.holiday import *\n",
    "# создаем его и демонстрируем, что он\n",
    "# учитывает праздники\n",
    "cal = USFederalHolidayCalendar()\n",
    "for d in cal.holidays(start='2014-01-01', end='2014-12-31'):\n",
    "    print (d)"
   ]
  },
  {
   "cell_type": "code",
   "execution_count": 5,
   "metadata": {},
   "outputs": [],
   "source": [
    "import pandas as pd\n",
    "from pandas.tseries.offsets import CustomBusinessDay"
   ]
  },
  {
   "cell_type": "code",
   "execution_count": 6,
   "metadata": {},
   "outputs": [
    {
     "data": {
      "text/plain": [
       "Timestamp('2014-09-02 00:00:00')"
      ]
     },
     "execution_count": 6,
     "metadata": {},
     "output_type": "execute_result"
    }
   ],
   "source": [
    "# создаем объект CustomBusinessDay на основе\n",
    "# календаря федеральных праздников США\n",
    "cbd = CustomBusinessDay(holidays=cal.holidays())\n",
    "\n",
    "# теперь вычисляем рабочий день,\n",
    "# следующий после 2014-8-29\n",
    "datetime(2014, 8, 29) + cbd"
   ]
  },
  {
   "cell_type": "markdown",
   "metadata": {},
   "source": [
    "## Нормализация временных меток с помощью часовых поясов"
   ]
  },
  {
   "cell_type": "code",
   "execution_count": 135,
   "metadata": {},
   "outputs": [
    {
     "data": {
      "text/plain": [
       "(Timestamp('2020-12-12 11:22:49.252073'), True)"
      ]
     },
     "execution_count": 135,
     "metadata": {},
     "output_type": "execute_result"
    }
   ],
   "source": [
    "# извлекаем текущее местное время и демонстрируем, что \n",
    "# по умолчанию информация о часовом поясе отсутствует\n",
    "now = pd.Timestamp('now')\n",
    "now, now.tz is None"
   ]
  },
  {
   "cell_type": "code",
   "execution_count": 136,
   "metadata": {},
   "outputs": [
    {
     "data": {
      "text/plain": [
       "(True, True)"
      ]
     },
     "execution_count": 136,
     "metadata": {},
     "output_type": "execute_result"
    }
   ],
   "source": [
    "# по умолчанию DatetimeIndex и его объекты Timestamps\n",
    "# не содержат информацию о часовом поясе\n",
    "rng = pd.date_range('3/6/2012 00:00', periods=15, freq='D')\n",
    "rng.tz is None, rng[0].tz is None"
   ]
  },
  {
   "cell_type": "code",
   "execution_count": 138,
   "metadata": {},
   "outputs": [
    {
     "data": {
      "text/plain": [
       "['Africa/Abidjan',\n",
       " 'Africa/Accra',\n",
       " 'Africa/Addis_Ababa',\n",
       " 'Africa/Algiers',\n",
       " 'Africa/Asmara',\n",
       " 'Africa/Bamako',\n",
       " 'Africa/Bangui',\n",
       " 'Africa/Banjul',\n",
       " 'Africa/Bissau',\n",
       " 'Africa/Blantyre',\n",
       " 'Africa/Brazzaville',\n",
       " 'Africa/Bujumbura',\n",
       " 'Africa/Cairo',\n",
       " 'Africa/Casablanca',\n",
       " 'Africa/Ceuta',\n",
       " 'Africa/Conakry',\n",
       " 'Africa/Dakar',\n",
       " 'Africa/Dar_es_Salaam',\n",
       " 'Africa/Djibouti',\n",
       " 'Africa/Douala',\n",
       " 'Africa/El_Aaiun',\n",
       " 'Africa/Freetown',\n",
       " 'Africa/Gaborone',\n",
       " 'Africa/Harare',\n",
       " 'Africa/Johannesburg',\n",
       " 'Africa/Juba',\n",
       " 'Africa/Kampala',\n",
       " 'Africa/Khartoum',\n",
       " 'Africa/Kigali',\n",
       " 'Africa/Kinshasa',\n",
       " 'Africa/Lagos',\n",
       " 'Africa/Libreville',\n",
       " 'Africa/Lome',\n",
       " 'Africa/Luanda',\n",
       " 'Africa/Lubumbashi',\n",
       " 'Africa/Lusaka',\n",
       " 'Africa/Malabo',\n",
       " 'Africa/Maputo',\n",
       " 'Africa/Maseru',\n",
       " 'Africa/Mbabane',\n",
       " 'Africa/Mogadishu',\n",
       " 'Africa/Monrovia',\n",
       " 'Africa/Nairobi',\n",
       " 'Africa/Ndjamena',\n",
       " 'Africa/Niamey',\n",
       " 'Africa/Nouakchott',\n",
       " 'Africa/Ouagadougou',\n",
       " 'Africa/Porto-Novo',\n",
       " 'Africa/Sao_Tome',\n",
       " 'Africa/Tripoli',\n",
       " 'Africa/Tunis',\n",
       " 'Africa/Windhoek',\n",
       " 'America/Adak',\n",
       " 'America/Anchorage',\n",
       " 'America/Anguilla',\n",
       " 'America/Antigua',\n",
       " 'America/Araguaina',\n",
       " 'America/Argentina/Buenos_Aires',\n",
       " 'America/Argentina/Catamarca',\n",
       " 'America/Argentina/Cordoba',\n",
       " 'America/Argentina/Jujuy',\n",
       " 'America/Argentina/La_Rioja',\n",
       " 'America/Argentina/Mendoza',\n",
       " 'America/Argentina/Rio_Gallegos',\n",
       " 'America/Argentina/Salta',\n",
       " 'America/Argentina/San_Juan',\n",
       " 'America/Argentina/San_Luis',\n",
       " 'America/Argentina/Tucuman',\n",
       " 'America/Argentina/Ushuaia',\n",
       " 'America/Aruba',\n",
       " 'America/Asuncion',\n",
       " 'America/Atikokan',\n",
       " 'America/Bahia',\n",
       " 'America/Bahia_Banderas',\n",
       " 'America/Barbados',\n",
       " 'America/Belem',\n",
       " 'America/Belize',\n",
       " 'America/Blanc-Sablon',\n",
       " 'America/Boa_Vista',\n",
       " 'America/Bogota',\n",
       " 'America/Boise',\n",
       " 'America/Cambridge_Bay',\n",
       " 'America/Campo_Grande',\n",
       " 'America/Cancun',\n",
       " 'America/Caracas',\n",
       " 'America/Cayenne',\n",
       " 'America/Cayman',\n",
       " 'America/Chicago',\n",
       " 'America/Chihuahua',\n",
       " 'America/Costa_Rica',\n",
       " 'America/Creston',\n",
       " 'America/Cuiaba',\n",
       " 'America/Curacao',\n",
       " 'America/Danmarkshavn',\n",
       " 'America/Dawson',\n",
       " 'America/Dawson_Creek',\n",
       " 'America/Denver',\n",
       " 'America/Detroit',\n",
       " 'America/Dominica',\n",
       " 'America/Edmonton',\n",
       " 'America/Eirunepe',\n",
       " 'America/El_Salvador',\n",
       " 'America/Fort_Nelson',\n",
       " 'America/Fortaleza',\n",
       " 'America/Glace_Bay',\n",
       " 'America/Goose_Bay',\n",
       " 'America/Grand_Turk',\n",
       " 'America/Grenada',\n",
       " 'America/Guadeloupe',\n",
       " 'America/Guatemala',\n",
       " 'America/Guayaquil',\n",
       " 'America/Guyana',\n",
       " 'America/Halifax',\n",
       " 'America/Havana',\n",
       " 'America/Hermosillo',\n",
       " 'America/Indiana/Indianapolis',\n",
       " 'America/Indiana/Knox',\n",
       " 'America/Indiana/Marengo',\n",
       " 'America/Indiana/Petersburg',\n",
       " 'America/Indiana/Tell_City',\n",
       " 'America/Indiana/Vevay',\n",
       " 'America/Indiana/Vincennes',\n",
       " 'America/Indiana/Winamac',\n",
       " 'America/Inuvik',\n",
       " 'America/Iqaluit',\n",
       " 'America/Jamaica',\n",
       " 'America/Juneau',\n",
       " 'America/Kentucky/Louisville',\n",
       " 'America/Kentucky/Monticello',\n",
       " 'America/Kralendijk',\n",
       " 'America/La_Paz',\n",
       " 'America/Lima',\n",
       " 'America/Los_Angeles',\n",
       " 'America/Lower_Princes',\n",
       " 'America/Maceio',\n",
       " 'America/Managua',\n",
       " 'America/Manaus',\n",
       " 'America/Marigot',\n",
       " 'America/Martinique',\n",
       " 'America/Matamoros',\n",
       " 'America/Mazatlan',\n",
       " 'America/Menominee',\n",
       " 'America/Merida',\n",
       " 'America/Metlakatla',\n",
       " 'America/Mexico_City',\n",
       " 'America/Miquelon',\n",
       " 'America/Moncton',\n",
       " 'America/Monterrey',\n",
       " 'America/Montevideo',\n",
       " 'America/Montserrat',\n",
       " 'America/Nassau',\n",
       " 'America/New_York',\n",
       " 'America/Nipigon',\n",
       " 'America/Nome',\n",
       " 'America/Noronha',\n",
       " 'America/North_Dakota/Beulah',\n",
       " 'America/North_Dakota/Center',\n",
       " 'America/North_Dakota/New_Salem',\n",
       " 'America/Nuuk',\n",
       " 'America/Ojinaga',\n",
       " 'America/Panama',\n",
       " 'America/Pangnirtung',\n",
       " 'America/Paramaribo',\n",
       " 'America/Phoenix',\n",
       " 'America/Port-au-Prince',\n",
       " 'America/Port_of_Spain',\n",
       " 'America/Porto_Velho',\n",
       " 'America/Puerto_Rico',\n",
       " 'America/Punta_Arenas',\n",
       " 'America/Rainy_River',\n",
       " 'America/Rankin_Inlet',\n",
       " 'America/Recife',\n",
       " 'America/Regina',\n",
       " 'America/Resolute',\n",
       " 'America/Rio_Branco',\n",
       " 'America/Santarem',\n",
       " 'America/Santiago',\n",
       " 'America/Santo_Domingo',\n",
       " 'America/Sao_Paulo',\n",
       " 'America/Scoresbysund',\n",
       " 'America/Sitka',\n",
       " 'America/St_Barthelemy',\n",
       " 'America/St_Johns',\n",
       " 'America/St_Kitts',\n",
       " 'America/St_Lucia',\n",
       " 'America/St_Thomas',\n",
       " 'America/St_Vincent',\n",
       " 'America/Swift_Current',\n",
       " 'America/Tegucigalpa',\n",
       " 'America/Thule',\n",
       " 'America/Thunder_Bay',\n",
       " 'America/Tijuana',\n",
       " 'America/Toronto',\n",
       " 'America/Tortola',\n",
       " 'America/Vancouver',\n",
       " 'America/Whitehorse',\n",
       " 'America/Winnipeg',\n",
       " 'America/Yakutat',\n",
       " 'America/Yellowknife',\n",
       " 'Antarctica/Casey',\n",
       " 'Antarctica/Davis',\n",
       " 'Antarctica/DumontDUrville',\n",
       " 'Antarctica/Macquarie',\n",
       " 'Antarctica/Mawson',\n",
       " 'Antarctica/McMurdo',\n",
       " 'Antarctica/Palmer',\n",
       " 'Antarctica/Rothera',\n",
       " 'Antarctica/Syowa',\n",
       " 'Antarctica/Troll',\n",
       " 'Antarctica/Vostok',\n",
       " 'Arctic/Longyearbyen',\n",
       " 'Asia/Aden',\n",
       " 'Asia/Almaty',\n",
       " 'Asia/Amman',\n",
       " 'Asia/Anadyr',\n",
       " 'Asia/Aqtau',\n",
       " 'Asia/Aqtobe',\n",
       " 'Asia/Ashgabat',\n",
       " 'Asia/Atyrau',\n",
       " 'Asia/Baghdad',\n",
       " 'Asia/Bahrain',\n",
       " 'Asia/Baku',\n",
       " 'Asia/Bangkok',\n",
       " 'Asia/Barnaul',\n",
       " 'Asia/Beirut',\n",
       " 'Asia/Bishkek',\n",
       " 'Asia/Brunei',\n",
       " 'Asia/Chita',\n",
       " 'Asia/Choibalsan',\n",
       " 'Asia/Colombo',\n",
       " 'Asia/Damascus',\n",
       " 'Asia/Dhaka',\n",
       " 'Asia/Dili',\n",
       " 'Asia/Dubai',\n",
       " 'Asia/Dushanbe',\n",
       " 'Asia/Famagusta',\n",
       " 'Asia/Gaza',\n",
       " 'Asia/Hebron',\n",
       " 'Asia/Ho_Chi_Minh',\n",
       " 'Asia/Hong_Kong',\n",
       " 'Asia/Hovd',\n",
       " 'Asia/Irkutsk',\n",
       " 'Asia/Jakarta',\n",
       " 'Asia/Jayapura',\n",
       " 'Asia/Jerusalem',\n",
       " 'Asia/Kabul',\n",
       " 'Asia/Kamchatka',\n",
       " 'Asia/Karachi',\n",
       " 'Asia/Kathmandu',\n",
       " 'Asia/Khandyga',\n",
       " 'Asia/Kolkata',\n",
       " 'Asia/Krasnoyarsk',\n",
       " 'Asia/Kuala_Lumpur',\n",
       " 'Asia/Kuching',\n",
       " 'Asia/Kuwait',\n",
       " 'Asia/Macau',\n",
       " 'Asia/Magadan',\n",
       " 'Asia/Makassar',\n",
       " 'Asia/Manila',\n",
       " 'Asia/Muscat',\n",
       " 'Asia/Nicosia',\n",
       " 'Asia/Novokuznetsk',\n",
       " 'Asia/Novosibirsk',\n",
       " 'Asia/Omsk',\n",
       " 'Asia/Oral',\n",
       " 'Asia/Phnom_Penh',\n",
       " 'Asia/Pontianak',\n",
       " 'Asia/Pyongyang',\n",
       " 'Asia/Qatar',\n",
       " 'Asia/Qostanay',\n",
       " 'Asia/Qyzylorda',\n",
       " 'Asia/Riyadh',\n",
       " 'Asia/Sakhalin',\n",
       " 'Asia/Samarkand',\n",
       " 'Asia/Seoul',\n",
       " 'Asia/Shanghai',\n",
       " 'Asia/Singapore',\n",
       " 'Asia/Srednekolymsk',\n",
       " 'Asia/Taipei',\n",
       " 'Asia/Tashkent',\n",
       " 'Asia/Tbilisi',\n",
       " 'Asia/Tehran',\n",
       " 'Asia/Thimphu',\n",
       " 'Asia/Tokyo',\n",
       " 'Asia/Tomsk',\n",
       " 'Asia/Ulaanbaatar',\n",
       " 'Asia/Urumqi',\n",
       " 'Asia/Ust-Nera',\n",
       " 'Asia/Vientiane',\n",
       " 'Asia/Vladivostok',\n",
       " 'Asia/Yakutsk',\n",
       " 'Asia/Yangon',\n",
       " 'Asia/Yekaterinburg',\n",
       " 'Asia/Yerevan',\n",
       " 'Atlantic/Azores',\n",
       " 'Atlantic/Bermuda',\n",
       " 'Atlantic/Canary',\n",
       " 'Atlantic/Cape_Verde',\n",
       " 'Atlantic/Faroe',\n",
       " 'Atlantic/Madeira',\n",
       " 'Atlantic/Reykjavik',\n",
       " 'Atlantic/South_Georgia',\n",
       " 'Atlantic/St_Helena',\n",
       " 'Atlantic/Stanley',\n",
       " 'Australia/Adelaide',\n",
       " 'Australia/Brisbane',\n",
       " 'Australia/Broken_Hill',\n",
       " 'Australia/Currie',\n",
       " 'Australia/Darwin',\n",
       " 'Australia/Eucla',\n",
       " 'Australia/Hobart',\n",
       " 'Australia/Lindeman',\n",
       " 'Australia/Lord_Howe',\n",
       " 'Australia/Melbourne',\n",
       " 'Australia/Perth',\n",
       " 'Australia/Sydney',\n",
       " 'Canada/Atlantic',\n",
       " 'Canada/Central',\n",
       " 'Canada/Eastern',\n",
       " 'Canada/Mountain',\n",
       " 'Canada/Newfoundland',\n",
       " 'Canada/Pacific',\n",
       " 'Europe/Amsterdam',\n",
       " 'Europe/Andorra',\n",
       " 'Europe/Astrakhan',\n",
       " 'Europe/Athens',\n",
       " 'Europe/Belgrade',\n",
       " 'Europe/Berlin',\n",
       " 'Europe/Bratislava',\n",
       " 'Europe/Brussels',\n",
       " 'Europe/Bucharest',\n",
       " 'Europe/Budapest',\n",
       " 'Europe/Busingen',\n",
       " 'Europe/Chisinau',\n",
       " 'Europe/Copenhagen',\n",
       " 'Europe/Dublin',\n",
       " 'Europe/Gibraltar',\n",
       " 'Europe/Guernsey',\n",
       " 'Europe/Helsinki',\n",
       " 'Europe/Isle_of_Man',\n",
       " 'Europe/Istanbul',\n",
       " 'Europe/Jersey',\n",
       " 'Europe/Kaliningrad',\n",
       " 'Europe/Kiev',\n",
       " 'Europe/Kirov',\n",
       " 'Europe/Lisbon',\n",
       " 'Europe/Ljubljana',\n",
       " 'Europe/London',\n",
       " 'Europe/Luxembourg',\n",
       " 'Europe/Madrid',\n",
       " 'Europe/Malta',\n",
       " 'Europe/Mariehamn',\n",
       " 'Europe/Minsk',\n",
       " 'Europe/Monaco',\n",
       " 'Europe/Moscow',\n",
       " 'Europe/Oslo',\n",
       " 'Europe/Paris',\n",
       " 'Europe/Podgorica',\n",
       " 'Europe/Prague',\n",
       " 'Europe/Riga',\n",
       " 'Europe/Rome',\n",
       " 'Europe/Samara',\n",
       " 'Europe/San_Marino',\n",
       " 'Europe/Sarajevo',\n",
       " 'Europe/Saratov',\n",
       " 'Europe/Simferopol',\n",
       " 'Europe/Skopje',\n",
       " 'Europe/Sofia',\n",
       " 'Europe/Stockholm',\n",
       " 'Europe/Tallinn',\n",
       " 'Europe/Tirane',\n",
       " 'Europe/Ulyanovsk',\n",
       " 'Europe/Uzhgorod',\n",
       " 'Europe/Vaduz',\n",
       " 'Europe/Vatican',\n",
       " 'Europe/Vienna',\n",
       " 'Europe/Vilnius',\n",
       " 'Europe/Volgograd',\n",
       " 'Europe/Warsaw',\n",
       " 'Europe/Zagreb',\n",
       " 'Europe/Zaporozhye',\n",
       " 'Europe/Zurich',\n",
       " 'GMT',\n",
       " 'Indian/Antananarivo',\n",
       " 'Indian/Chagos',\n",
       " 'Indian/Christmas',\n",
       " 'Indian/Cocos',\n",
       " 'Indian/Comoro',\n",
       " 'Indian/Kerguelen',\n",
       " 'Indian/Mahe',\n",
       " 'Indian/Maldives',\n",
       " 'Indian/Mauritius',\n",
       " 'Indian/Mayotte',\n",
       " 'Indian/Reunion',\n",
       " 'Pacific/Apia',\n",
       " 'Pacific/Auckland',\n",
       " 'Pacific/Bougainville',\n",
       " 'Pacific/Chatham',\n",
       " 'Pacific/Chuuk',\n",
       " 'Pacific/Easter',\n",
       " 'Pacific/Efate',\n",
       " 'Pacific/Enderbury',\n",
       " 'Pacific/Fakaofo',\n",
       " 'Pacific/Fiji',\n",
       " 'Pacific/Funafuti',\n",
       " 'Pacific/Galapagos',\n",
       " 'Pacific/Gambier',\n",
       " 'Pacific/Guadalcanal',\n",
       " 'Pacific/Guam',\n",
       " 'Pacific/Honolulu',\n",
       " 'Pacific/Kiritimati',\n",
       " 'Pacific/Kosrae',\n",
       " 'Pacific/Kwajalein',\n",
       " 'Pacific/Majuro',\n",
       " 'Pacific/Marquesas',\n",
       " 'Pacific/Midway',\n",
       " 'Pacific/Nauru',\n",
       " 'Pacific/Niue',\n",
       " 'Pacific/Norfolk',\n",
       " 'Pacific/Noumea',\n",
       " 'Pacific/Pago_Pago',\n",
       " 'Pacific/Palau',\n",
       " 'Pacific/Pitcairn',\n",
       " 'Pacific/Pohnpei',\n",
       " 'Pacific/Port_Moresby',\n",
       " 'Pacific/Rarotonga',\n",
       " 'Pacific/Saipan',\n",
       " 'Pacific/Tahiti',\n",
       " 'Pacific/Tarawa',\n",
       " 'Pacific/Tongatapu',\n",
       " 'Pacific/Wake',\n",
       " 'Pacific/Wallis',\n",
       " 'US/Alaska',\n",
       " 'US/Arizona',\n",
       " 'US/Central',\n",
       " 'US/Eastern',\n",
       " 'US/Hawaii',\n",
       " 'US/Mountain',\n",
       " 'US/Pacific',\n",
       " 'UTC']"
      ]
     },
     "execution_count": 138,
     "metadata": {},
     "output_type": "execute_result"
    }
   ],
   "source": [
    "# импортируем стандартные часовые \n",
    "# пояса из библиотеки pytz\n",
    "from pytz import common_timezones\n",
    "# выводим первые 5 часовых поясов\n",
    "common_timezones"
   ]
  },
  {
   "cell_type": "code",
   "execution_count": 139,
   "metadata": {},
   "outputs": [
    {
     "data": {
      "text/plain": [
       "(Timestamp('2020-12-12 11:24:10.636109'),\n",
       " Timestamp('2020-12-12 11:24:10.636109+0000', tz='UTC'))"
      ]
     },
     "execution_count": 139,
     "metadata": {},
     "output_type": "execute_result"
    }
   ],
   "source": [
    "# получаем текущее время и преобразуем в UTC\n",
    "now = Timestamp(\"now\")\n",
    "local_now = now.tz_localize('UTC')\n",
    "now, local_now"
   ]
  },
  {
   "cell_type": "code",
   "execution_count": 141,
   "metadata": {},
   "outputs": [
    {
     "data": {
      "text/plain": [
       "Timestamp('2020-12-12 12:00:00-0700', tz='US/Mountain')"
      ]
     },
     "execution_count": 141,
     "metadata": {},
     "output_type": "execute_result"
    }
   ],
   "source": [
    "# преобразуем временную метку \n",
    "# в часовой пояс US/Mountain\n",
    "tstamp = Timestamp('2020-12-12 12:00:00', tz='US/Mountain')\n",
    "tstamp"
   ]
  },
  {
   "cell_type": "code",
   "execution_count": 142,
   "metadata": {},
   "outputs": [
    {
     "data": {
      "text/plain": [
       "(<DstTzInfo 'US/Mountain' LMT-1 day, 17:00:00 STD>,\n",
       " <DstTzInfo 'US/Mountain' MST-1 day, 17:00:00 STD>)"
      ]
     },
     "execution_count": 142,
     "metadata": {},
     "output_type": "execute_result"
    }
   ],
   "source": [
    "# создаем индекс DatetimeIndex \n",
    "# с помощью часового пояса\n",
    "rng = pd.date_range('3/6/2012 00:00:00', \n",
    "                    periods=10, freq='D', tz='US/Mountain')\n",
    "rng.tz, rng[0].tz"
   ]
  },
  {
   "cell_type": "code",
   "execution_count": 143,
   "metadata": {},
   "outputs": [
    {
     "data": {
      "text/plain": [
       "(Timestamp('2020-12-12 11:24:10.636109-0700', tz='US/Mountain'),\n",
       " Timestamp('2020-12-12 11:24:10.636109-0500', tz='US/Eastern'))"
      ]
     },
     "execution_count": 143,
     "metadata": {},
     "output_type": "execute_result"
    }
   ],
   "source": [
    "# демонстрируем использование\n",
    "# объектов timezone\n",
    "# необходимо импортировать \n",
    "# библиотеку pytz\n",
    "import pytz\n",
    "# создаем два часовых пояса\n",
    "mountain_tz = pytz.timezone(\"US/Mountain\")\n",
    "eastern_tz = pytz.timezone(\"US/Eastern\")\n",
    "# применяем оба к временной метке 'now'\n",
    "mountain_tz.localize(now), eastern_tz.localize(now)"
   ]
  },
  {
   "cell_type": "code",
   "execution_count": 65,
   "metadata": {},
   "outputs": [
    {
     "data": {
      "text/plain": [
       "2014-08-01 00:00:00-06:00    0\n",
       "2014-08-01 01:00:00-06:00    1\n",
       "2014-08-01 02:00:00-06:00    2\n",
       "2014-08-01 03:00:00-06:00    3\n",
       "2014-08-01 04:00:00-06:00    4\n",
       "Freq: H, dtype: int64"
      ]
     },
     "execution_count": 65,
     "metadata": {},
     "output_type": "execute_result"
    }
   ],
   "source": [
    "# создаем два объекта Series с одинаковой \n",
    "# начальной датой, одинаковым количеством периодов,\n",
    "# одинаковой частотой, но с разным часовым поясом\n",
    "s_mountain = Series(np.arange(0, 5),\n",
    "                    index=pd.date_range('2014-08-01', \n",
    "                                        periods=5, freq=\"H\", \n",
    "                                        tz='US/Mountain'))\n",
    "s_eastern = Series(np.arange(0, 5), \n",
    "                   index=pd.date_range('2014-08-01', \n",
    "                                       periods=5, freq=\"H\", \n",
    "                                       tz='US/Eastern'))\n",
    "s_mountain"
   ]
  },
  {
   "cell_type": "code",
   "execution_count": 66,
   "metadata": {},
   "outputs": [
    {
     "data": {
      "text/plain": [
       "2014-08-01 00:00:00-04:00    0\n",
       "2014-08-01 01:00:00-04:00    1\n",
       "2014-08-01 02:00:00-04:00    2\n",
       "2014-08-01 03:00:00-04:00    3\n",
       "2014-08-01 04:00:00-04:00    4\n",
       "Freq: H, dtype: int64"
      ]
     },
     "execution_count": 66,
     "metadata": {},
     "output_type": "execute_result"
    }
   ],
   "source": [
    "s_eastern"
   ]
  },
  {
   "cell_type": "code",
   "execution_count": 67,
   "metadata": {},
   "outputs": [
    {
     "data": {
      "text/plain": [
       "2014-08-01 04:00:00+00:00    NaN\n",
       "2014-08-01 05:00:00+00:00    NaN\n",
       "2014-08-01 06:00:00+00:00    2.0\n",
       "2014-08-01 07:00:00+00:00    4.0\n",
       "2014-08-01 08:00:00+00:00    6.0\n",
       "2014-08-01 09:00:00+00:00    NaN\n",
       "2014-08-01 10:00:00+00:00    NaN\n",
       "Freq: H, dtype: float64"
      ]
     },
     "execution_count": 67,
     "metadata": {},
     "output_type": "execute_result"
    }
   ],
   "source": [
    "# складываем два объекта Series. В итоге происходит \n",
    "# выравнивание только трех элементов\n",
    "s_eastern + s_mountain"
   ]
  },
  {
   "cell_type": "code",
   "execution_count": 68,
   "metadata": {},
   "outputs": [
    {
     "data": {
      "text/plain": [
       "2014-07-31 21:00:00-07:00    0\n",
       "2014-07-31 22:00:00-07:00    1\n",
       "2014-07-31 23:00:00-07:00    2\n",
       "2014-08-01 00:00:00-07:00    3\n",
       "2014-08-01 01:00:00-07:00    4\n",
       "Freq: H, dtype: int64"
      ]
     },
     "execution_count": 68,
     "metadata": {},
     "output_type": "execute_result"
    }
   ],
   "source": [
    "# меняем часовой пояс с US/Eastern на US/Pacific\n",
    "s_pacific = s_eastern.tz_convert(\"US/Pacific\")\n",
    "s_pacific"
   ]
  },
  {
   "cell_type": "code",
   "execution_count": 69,
   "metadata": {},
   "outputs": [
    {
     "data": {
      "text/plain": [
       "2014-08-01 04:00:00+00:00    NaN\n",
       "2014-08-01 05:00:00+00:00    NaN\n",
       "2014-08-01 06:00:00+00:00    2.0\n",
       "2014-08-01 07:00:00+00:00    4.0\n",
       "2014-08-01 08:00:00+00:00    6.0\n",
       "2014-08-01 09:00:00+00:00    NaN\n",
       "2014-08-01 10:00:00+00:00    NaN\n",
       "Freq: H, dtype: float64"
      ]
     },
     "execution_count": 69,
     "metadata": {},
     "output_type": "execute_result"
    }
   ],
   "source": [
    "# получим тот же результат, что и при сложении \n",
    "# s_eastern и s_mountain, поскольку часовые \n",
    "# пояса будут выровнены так же\n",
    "s_mountain + s_pacific"
   ]
  },
  {
   "cell_type": "markdown",
   "metadata": {},
   "source": [
    "## Опережение и запаздывание"
   ]
  },
  {
   "cell_type": "code",
   "execution_count": 145,
   "metadata": {},
   "outputs": [
    {
     "data": {
      "text/plain": [
       "2014-08-01    1.0\n",
       "2014-08-02    2.0\n",
       "2014-08-03    2.5\n",
       "2014-08-04    1.5\n",
       "2014-08-05    0.5\n",
       "Freq: D, dtype: float64"
      ]
     },
     "execution_count": 145,
     "metadata": {},
     "output_type": "execute_result"
    }
   ],
   "source": [
    "# создаем объект Series, с которым\n",
    "# будем работать\n",
    "np.random.seed(123456)\n",
    "ts = pd.Series([1, 2, 2.5, 1.5, 0.5],\n",
    "            pd.date_range('2014-08-01', periods=5))\n",
    "ts"
   ]
  },
  {
   "cell_type": "code",
   "execution_count": 146,
   "metadata": {},
   "outputs": [
    {
     "data": {
      "text/plain": [
       "2014-08-01    NaN\n",
       "2014-08-02    1.0\n",
       "2014-08-03    2.0\n",
       "2014-08-04    2.5\n",
       "2014-08-05    1.5\n",
       "Freq: D, dtype: float64"
      ]
     },
     "execution_count": 146,
     "metadata": {},
     "output_type": "execute_result"
    }
   ],
   "source": [
    "# сдвигаем значения на\n",
    "# 1 день вперед\n",
    "ts.shift(1)"
   ]
  },
  {
   "cell_type": "code",
   "execution_count": 149,
   "metadata": {},
   "outputs": [
    {
     "data": {
      "text/plain": [
       "2014-08-01    2.5\n",
       "2014-08-02    1.5\n",
       "2014-08-03    0.5\n",
       "2014-08-04    NaN\n",
       "2014-08-05    NaN\n",
       "Freq: D, dtype: float64"
      ]
     },
     "execution_count": 149,
     "metadata": {},
     "output_type": "execute_result"
    }
   ],
   "source": [
    "# сдвигаем значения на\n",
    "# 2 дня назад\n",
    "ts.shift(-2)"
   ]
  },
  {
   "cell_type": "code",
   "execution_count": 151,
   "metadata": {},
   "outputs": [
    {
     "data": {
      "text/plain": [
       "2014-08-01         NaN\n",
       "2014-08-02    0.500000\n",
       "2014-08-03    0.800000\n",
       "2014-08-04    1.666667\n",
       "2014-08-05    3.000000\n",
       "Freq: D, dtype: float64"
      ]
     },
     "execution_count": 151,
     "metadata": {},
     "output_type": "execute_result"
    }
   ],
   "source": [
    "# вычисляем ежедневное процентное\n",
    "# изменения\n",
    "ts.shift(1) / ts"
   ]
  },
  {
   "cell_type": "code",
   "execution_count": 152,
   "metadata": {},
   "outputs": [
    {
     "data": {
      "text/plain": [
       "2014-08-04    1.0\n",
       "2014-08-04    2.0\n",
       "2014-08-04    2.5\n",
       "2014-08-05    1.5\n",
       "2014-08-06    0.5\n",
       "dtype: float64"
      ]
     },
     "execution_count": 152,
     "metadata": {},
     "output_type": "execute_result"
    }
   ],
   "source": [
    "# сдвигаем вперед на один\n",
    "# рабочий день\n",
    "ts.shift(1, freq=\"B\")"
   ]
  },
  {
   "cell_type": "code",
   "execution_count": 153,
   "metadata": {},
   "outputs": [
    {
     "data": {
      "text/plain": [
       "2014-08-01 05:00:00    1.0\n",
       "2014-08-02 05:00:00    2.0\n",
       "2014-08-03 05:00:00    2.5\n",
       "2014-08-04 05:00:00    1.5\n",
       "2014-08-05 05:00:00    0.5\n",
       "Freq: D, dtype: float64"
      ]
     },
     "execution_count": 153,
     "metadata": {},
     "output_type": "execute_result"
    }
   ],
   "source": [
    "# сдвигаем на 5 часов вперед\n",
    "ts.tshift(5, freq=\"H\")"
   ]
  },
  {
   "cell_type": "code",
   "execution_count": 154,
   "metadata": {},
   "outputs": [
    {
     "data": {
      "text/plain": [
       "2014-08-01 00:00:30    1.0\n",
       "2014-08-02 00:00:30    2.0\n",
       "2014-08-03 00:00:30    2.5\n",
       "2014-08-04 00:00:30    1.5\n",
       "2014-08-05 00:00:30    0.5\n",
       "Freq: D, dtype: float64"
      ]
     },
     "execution_count": 154,
     "metadata": {},
     "output_type": "execute_result"
    }
   ],
   "source": [
    "# сдвигаем с помощью объекта DateOffset\n",
    "ts.shift(1, DateOffset(minutes=0.5))"
   ]
  },
  {
   "cell_type": "code",
   "execution_count": 155,
   "metadata": {},
   "outputs": [
    {
     "data": {
      "text/plain": [
       "2014-07-31 23:00:00    1.0\n",
       "2014-08-01 23:00:00    2.0\n",
       "2014-08-02 23:00:00    2.5\n",
       "2014-08-03 23:00:00    1.5\n",
       "2014-08-04 23:00:00    0.5\n",
       "Freq: D, dtype: float64"
      ]
     },
     "execution_count": 155,
     "metadata": {},
     "output_type": "execute_result"
    }
   ],
   "source": [
    "# просто сдвигаем индексные метки\n",
    "# на 1 час назад\n",
    "ts.tshift(-1, freq='H')"
   ]
  },
  {
   "cell_type": "markdown",
   "metadata": {},
   "source": [
    "## Преобразование частоты"
   ]
  },
  {
   "cell_type": "code",
   "execution_count": 1,
   "metadata": {},
   "outputs": [
    {
     "ename": "NameError",
     "evalue": "name 'pd' is not defined",
     "output_type": "error",
     "traceback": [
      "\u001b[0;31m---------------------------------------------------------------------------\u001b[0m",
      "\u001b[0;31mNameError\u001b[0m                                 Traceback (most recent call last)",
      "\u001b[0;32m<ipython-input-1-b5d7534a9327>\u001b[0m in \u001b[0;36m<module>\u001b[0;34m\u001b[0m\n\u001b[1;32m      3\u001b[0m \u001b[0;31m# всех дней августа 2014 года\u001b[0m\u001b[0;34m\u001b[0m\u001b[0;34m\u001b[0m\u001b[0;34m\u001b[0m\u001b[0m\n\u001b[1;32m      4\u001b[0m \u001b[0mperiods\u001b[0m \u001b[0;34m=\u001b[0m \u001b[0;36m31\u001b[0m \u001b[0;34m*\u001b[0m \u001b[0;36m24\u001b[0m\u001b[0;34m\u001b[0m\u001b[0;34m\u001b[0m\u001b[0m\n\u001b[0;32m----> 5\u001b[0;31m hourly = pd.Series(np.arange(0, periods),\n\u001b[0m\u001b[1;32m      6\u001b[0m                pd.date_range('08-01-2014', freq=\"1H\", \n\u001b[1;32m      7\u001b[0m                              periods = periods))\n",
      "\u001b[0;31mNameError\u001b[0m: name 'pd' is not defined"
     ]
    }
   ],
   "source": [
    "# создаем серию последовательно возрастающих значений,\n",
    "# представляющих собой часовые интервалы\n",
    "# всех дней августа 2014 года\n",
    "periods = 31 * 24\n",
    "hourly = pd.Series(np.arange(0, periods),\n",
    "               pd.date_range('08-01-2014', freq=\"1H\", \n",
    "                             periods = periods))\n",
    "hourly[:5]"
   ]
  },
  {
   "cell_type": "code",
   "execution_count": 163,
   "metadata": {},
   "outputs": [
    {
     "data": {
      "text/plain": [
       "2014-08-01      0\n",
       "2014-08-02     24\n",
       "2014-08-03     48\n",
       "2014-08-04     72\n",
       "2014-08-05     96\n",
       "2014-08-06    120\n",
       "2014-08-07    144\n",
       "2014-08-08    168\n",
       "2014-08-09    192\n",
       "2014-08-10    216\n",
       "2014-08-11    240\n",
       "2014-08-12    264\n",
       "2014-08-13    288\n",
       "2014-08-14    312\n",
       "2014-08-15    336\n",
       "2014-08-16    360\n",
       "2014-08-17    384\n",
       "2014-08-18    408\n",
       "2014-08-19    432\n",
       "2014-08-20    456\n",
       "2014-08-21    480\n",
       "2014-08-22    504\n",
       "2014-08-23    528\n",
       "2014-08-24    552\n",
       "2014-08-25    576\n",
       "2014-08-26    600\n",
       "2014-08-27    624\n",
       "2014-08-28    648\n",
       "2014-08-29    672\n",
       "2014-08-30    696\n",
       "2014-08-31    720\n",
       "Freq: D, dtype: int64"
      ]
     },
     "execution_count": 163,
     "metadata": {},
     "output_type": "execute_result"
    }
   ],
   "source": [
    "# преобразуем ежечасовую частоту \n",
    "# временного ряда в ежесуточную\n",
    "# многие элементы будут удалены\n",
    "# из-за выравнивания\n",
    "daily = hourly.asfreq('D')\n",
    "daily"
   ]
  },
  {
   "cell_type": "code",
   "execution_count": 160,
   "metadata": {},
   "outputs": [
    {
     "data": {
      "text/plain": [
       "2014-08-01 00:00:00      0.0\n",
       "2014-08-01 01:00:00      NaN\n",
       "2014-08-01 02:00:00      NaN\n",
       "2014-08-01 03:00:00      NaN\n",
       "2014-08-01 04:00:00      NaN\n",
       "                       ...  \n",
       "2014-08-30 20:00:00      NaN\n",
       "2014-08-30 21:00:00      NaN\n",
       "2014-08-30 22:00:00      NaN\n",
       "2014-08-30 23:00:00      NaN\n",
       "2014-08-31 00:00:00    720.0\n",
       "Freq: H, Length: 721, dtype: float64"
      ]
     },
     "execution_count": 160,
     "metadata": {},
     "output_type": "execute_result"
    }
   ],
   "source": [
    "# преобразуем обратно в ежечасовую частоту, в результате\n",
    "# получим множество значений NaN, поскольку новый индекс\n",
    "# содержит много меток, не соответствующих меткам \n",
    "# исходного временного ряда\n",
    "daily.asfreq('H')"
   ]
  },
  {
   "cell_type": "code",
   "execution_count": 161,
   "metadata": {},
   "outputs": [
    {
     "data": {
      "text/plain": [
       "2014-08-01 00:00:00      0\n",
       "2014-08-01 01:00:00      0\n",
       "2014-08-01 02:00:00      0\n",
       "2014-08-01 03:00:00      0\n",
       "2014-08-01 04:00:00      0\n",
       "                      ... \n",
       "2014-08-30 20:00:00    696\n",
       "2014-08-30 21:00:00    696\n",
       "2014-08-30 22:00:00    696\n",
       "2014-08-30 23:00:00    696\n",
       "2014-08-31 00:00:00    720\n",
       "Freq: H, Length: 721, dtype: int64"
      ]
     },
     "execution_count": 161,
     "metadata": {},
     "output_type": "execute_result"
    }
   ],
   "source": [
    "# выполняем прямое заполнение значений\n",
    "daily.asfreq('H', method='ffill')"
   ]
  },
  {
   "cell_type": "code",
   "execution_count": 164,
   "metadata": {},
   "outputs": [
    {
     "data": {
      "text/plain": [
       "2014-08-01 00:00:00      0\n",
       "2014-08-01 01:00:00     24\n",
       "2014-08-01 02:00:00     24\n",
       "2014-08-01 03:00:00     24\n",
       "2014-08-01 04:00:00     24\n",
       "                      ... \n",
       "2014-08-30 20:00:00    720\n",
       "2014-08-30 21:00:00    720\n",
       "2014-08-30 22:00:00    720\n",
       "2014-08-30 23:00:00    720\n",
       "2014-08-31 00:00:00    720\n",
       "Freq: H, Length: 721, dtype: int64"
      ]
     },
     "execution_count": 164,
     "metadata": {},
     "output_type": "execute_result"
    }
   ],
   "source": [
    "daily.asfreq('H', method='bfill')"
   ]
  },
  {
   "cell_type": "markdown",
   "metadata": {},
   "source": [
    "## Увеличение или уменьшение шага дискретизации временного ряда"
   ]
  },
  {
   "cell_type": "code",
   "execution_count": 181,
   "metadata": {
    "scrolled": true
   },
   "outputs": [
    {
     "data": {
      "text/plain": [
       "2014-08-01 00:00:00    0.469112\n",
       "2014-08-01 00:00:01    0.186249\n",
       "2014-08-01 00:00:02   -1.322810\n",
       "2014-08-01 00:00:03   -2.458442\n",
       "2014-08-01 00:00:04   -1.246330\n",
       "Freq: S, dtype: float64"
      ]
     },
     "execution_count": 181,
     "metadata": {},
     "output_type": "execute_result"
    }
   ],
   "source": [
    "# сгенерируем случайное блуждание за 5 дней\n",
    "# по 1-секундным интервалам\n",
    "# получим большое количество значений\n",
    "count = 24 * 60 * 60 * 5\n",
    "# создаем серию значений\n",
    "np.random.seed(123456)\n",
    "values = np.random.randn(count)\n",
    "ws = pd.Series(values)\n",
    "# вычисляем накопленную сумму\n",
    "walk = ws.cumsum()\n",
    "# создаем индекс\n",
    "walk.index = pd.date_range('2014-08-01', periods=count, freq=\"S\")\n",
    "walk[:5]"
   ]
  },
  {
   "cell_type": "code",
   "execution_count": 168,
   "metadata": {},
   "outputs": [
    {
     "data": {
      "text/plain": [
       "2014-08-01 00:00:00     -8.718220\n",
       "2014-08-01 00:01:00    -15.239213\n",
       "2014-08-01 00:02:00     -9.179315\n",
       "2014-08-01 00:03:00     -8.338307\n",
       "2014-08-01 00:04:00     -8.129554\n",
       "                          ...    \n",
       "2014-08-05 23:55:00    453.773467\n",
       "2014-08-05 23:56:00    450.857039\n",
       "2014-08-05 23:57:00    450.078149\n",
       "2014-08-05 23:58:00    444.637806\n",
       "2014-08-05 23:59:00    453.837417\n",
       "Freq: T, Length: 7200, dtype: float64"
      ]
     },
     "execution_count": 168,
     "metadata": {},
     "output_type": "execute_result"
    }
   ],
   "source": [
    "# уменьшаем шаг дискретизации, преобразуем\n",
    "# односекундные интервалы в одноминутные\n",
    "walk.resample(\"1Min\").mean()"
   ]
  },
  {
   "cell_type": "code",
   "execution_count": 169,
   "metadata": {},
   "outputs": [
    {
     "data": {
      "text/plain": [
       "-8.718220052832644"
      ]
     },
     "execution_count": 169,
     "metadata": {},
     "output_type": "execute_result"
    }
   ],
   "source": [
    "# вычисляем среднее значение первой\n",
    "# минуты блуждания\n",
    "walk['2014-08-01 00:00'].mean()"
   ]
  },
  {
   "cell_type": "code",
   "execution_count": 170,
   "metadata": {},
   "outputs": [
    {
     "data": {
      "text/plain": [
       "2014-07-31 23:59:00      0.469112\n",
       "2014-08-01 00:00:00     -8.907477\n",
       "2014-08-01 00:01:00    -15.280685\n",
       "2014-08-01 00:02:00     -9.083865\n",
       "2014-08-01 00:03:00     -8.285550\n",
       "                          ...    \n",
       "2014-08-05 23:55:00    453.726168\n",
       "2014-08-05 23:56:00    450.849039\n",
       "2014-08-05 23:57:00    450.039159\n",
       "2014-08-05 23:58:00    444.631719\n",
       "2014-08-05 23:59:00    453.955377\n",
       "Freq: T, Length: 7201, dtype: float64"
      ]
     },
     "execution_count": 170,
     "metadata": {},
     "output_type": "execute_result"
    }
   ],
   "source": [
    "# используем интервалы,\n",
    "# закрытые справа\n",
    "walk.resample(\"1Min\", closed='right').mean()"
   ]
  },
  {
   "cell_type": "code",
   "execution_count": 182,
   "metadata": {},
   "outputs": [
    {
     "data": {
      "text/plain": [
       "2014-08-01 00:00:00      0.469112\n",
       "2014-08-01 00:01:00    -10.886314\n",
       "2014-08-01 00:02:00    -13.374656\n",
       "2014-08-01 00:03:00     -7.647693\n",
       "2014-08-01 00:04:00     -4.482292\n",
       "                          ...    \n",
       "2014-08-05 23:55:00    452.900335\n",
       "2014-08-05 23:56:00    450.062374\n",
       "2014-08-05 23:57:00    449.582419\n",
       "2014-08-05 23:58:00    447.243014\n",
       "2014-08-05 23:59:00    446.877810\n",
       "Freq: T, Length: 7200, dtype: float64"
      ]
     },
     "execution_count": 182,
     "metadata": {},
     "output_type": "execute_result"
    }
   ],
   "source": [
    "# преобразовываем в 1-минутные интервалы\n",
    "walk.resample(\"1Min\").first() # берем первое значечение "
   ]
  },
  {
   "cell_type": "code",
   "execution_count": 183,
   "metadata": {
    "scrolled": true
   },
   "outputs": [
    {
     "data": {
      "text/plain": [
       "2014-08-01 00:00:00     -8.718220\n",
       "2014-08-01 00:00:01           NaN\n",
       "2014-08-01 00:00:02           NaN\n",
       "2014-08-01 00:00:03           NaN\n",
       "2014-08-01 00:00:04           NaN\n",
       "                          ...    \n",
       "2014-08-05 23:58:56           NaN\n",
       "2014-08-05 23:58:57           NaN\n",
       "2014-08-05 23:58:58           NaN\n",
       "2014-08-05 23:58:59           NaN\n",
       "2014-08-05 23:59:00    453.837417\n",
       "Freq: S, Length: 431941, dtype: float64"
      ]
     },
     "execution_count": 183,
     "metadata": {},
     "output_type": "execute_result"
    }
   ],
   "source": [
    "# преобразовываем в 1-минутные интервалы, \n",
    "# а затем в 1-секундные\n",
    "bymin = walk.resample(\"1Min\").mean()\n",
    "bymin.resample('S').mean()"
   ]
  },
  {
   "cell_type": "code",
   "execution_count": 184,
   "metadata": {},
   "outputs": [
    {
     "data": {
      "text/plain": [
       "2014-08-01 00:00:00     -8.718220\n",
       "2014-08-01 00:00:01    -15.239213\n",
       "2014-08-01 00:00:02    -15.239213\n",
       "2014-08-01 00:00:03    -15.239213\n",
       "2014-08-01 00:00:04    -15.239213\n",
       "                          ...    \n",
       "2014-08-05 23:58:56    453.837417\n",
       "2014-08-05 23:58:57    453.837417\n",
       "2014-08-05 23:58:58    453.837417\n",
       "2014-08-05 23:58:59    453.837417\n",
       "2014-08-05 23:59:00    453.837417\n",
       "Freq: S, Length: 431941, dtype: float64"
      ]
     },
     "execution_count": 184,
     "metadata": {},
     "output_type": "execute_result"
    }
   ],
   "source": [
    "# преобразуем в 1-секундные интервалы, \n",
    "# используя обратное заполнение\n",
    "bymin.resample(\"S\").bfill()"
   ]
  },
  {
   "cell_type": "code",
   "execution_count": 185,
   "metadata": {},
   "outputs": [
    {
     "data": {
      "text/plain": [
       "2014-08-01 00:00:00     -8.718220\n",
       "2014-08-01 00:00:01     -8.826903\n",
       "2014-08-01 00:00:02     -8.935586\n",
       "2014-08-01 00:00:03     -9.044270\n",
       "2014-08-01 00:00:04     -9.152953\n",
       "                          ...    \n",
       "2014-08-05 23:58:56    453.224110\n",
       "2014-08-05 23:58:57    453.377437\n",
       "2014-08-05 23:58:58    453.530764\n",
       "2014-08-05 23:58:59    453.684090\n",
       "2014-08-05 23:59:00    453.837417\n",
       "Freq: S, Length: 431941, dtype: float64"
      ]
     },
     "execution_count": 185,
     "metadata": {},
     "output_type": "execute_result"
    }
   ],
   "source": [
    "# демонстрируем интерполяцию значений NaN\n",
    "interpolated = bymin.resample(\"S\").interpolate()\n",
    "interpolated"
   ]
  },
  {
   "cell_type": "code",
   "execution_count": 194,
   "metadata": {},
   "outputs": [
    {
     "data": {
      "text/html": [
       "<div>\n",
       "<style scoped>\n",
       "    .dataframe tbody tr th:only-of-type {\n",
       "        vertical-align: middle;\n",
       "    }\n",
       "\n",
       "    .dataframe tbody tr th {\n",
       "        vertical-align: top;\n",
       "    }\n",
       "\n",
       "    .dataframe thead th {\n",
       "        text-align: right;\n",
       "    }\n",
       "</style>\n",
       "<table border=\"1\" class=\"dataframe\">\n",
       "  <thead>\n",
       "    <tr style=\"text-align: right;\">\n",
       "      <th></th>\n",
       "      <th>open</th>\n",
       "      <th>high</th>\n",
       "      <th>low</th>\n",
       "      <th>close</th>\n",
       "    </tr>\n",
       "  </thead>\n",
       "  <tbody>\n",
       "    <tr>\n",
       "      <th>2014-08-01 00:00:00</th>\n",
       "      <td>0.469112</td>\n",
       "      <td>0.469112</td>\n",
       "      <td>-67.873166</td>\n",
       "      <td>-2.922520</td>\n",
       "    </tr>\n",
       "    <tr>\n",
       "      <th>2014-08-01 01:00:00</th>\n",
       "      <td>-3.374321</td>\n",
       "      <td>23.793007</td>\n",
       "      <td>-56.585154</td>\n",
       "      <td>-55.101543</td>\n",
       "    </tr>\n",
       "    <tr>\n",
       "      <th>2014-08-01 02:00:00</th>\n",
       "      <td>-54.276885</td>\n",
       "      <td>5.232441</td>\n",
       "      <td>-87.809456</td>\n",
       "      <td>1.913276</td>\n",
       "    </tr>\n",
       "    <tr>\n",
       "      <th>2014-08-01 03:00:00</th>\n",
       "      <td>0.260576</td>\n",
       "      <td>17.124638</td>\n",
       "      <td>-65.820652</td>\n",
       "      <td>-38.530620</td>\n",
       "    </tr>\n",
       "    <tr>\n",
       "      <th>2014-08-01 04:00:00</th>\n",
       "      <td>-38.436581</td>\n",
       "      <td>3.537231</td>\n",
       "      <td>-109.805294</td>\n",
       "      <td>-61.014553</td>\n",
       "    </tr>\n",
       "    <tr>\n",
       "      <th>...</th>\n",
       "      <td>...</td>\n",
       "      <td>...</td>\n",
       "      <td>...</td>\n",
       "      <td>...</td>\n",
       "    </tr>\n",
       "    <tr>\n",
       "      <th>2014-08-05 19:00:00</th>\n",
       "      <td>437.652077</td>\n",
       "      <td>550.408942</td>\n",
       "      <td>430.549178</td>\n",
       "      <td>494.471788</td>\n",
       "    </tr>\n",
       "    <tr>\n",
       "      <th>2014-08-05 20:00:00</th>\n",
       "      <td>496.539759</td>\n",
       "      <td>510.371745</td>\n",
       "      <td>456.365565</td>\n",
       "      <td>476.505765</td>\n",
       "    </tr>\n",
       "    <tr>\n",
       "      <th>2014-08-05 21:00:00</th>\n",
       "      <td>476.025498</td>\n",
       "      <td>506.952877</td>\n",
       "      <td>425.472410</td>\n",
       "      <td>498.547578</td>\n",
       "    </tr>\n",
       "    <tr>\n",
       "      <th>2014-08-05 22:00:00</th>\n",
       "      <td>497.941355</td>\n",
       "      <td>506.599652</td>\n",
       "      <td>411.119919</td>\n",
       "      <td>443.925832</td>\n",
       "    </tr>\n",
       "    <tr>\n",
       "      <th>2014-08-05 23:00:00</th>\n",
       "      <td>443.017962</td>\n",
       "      <td>489.083657</td>\n",
       "      <td>426.062444</td>\n",
       "      <td>456.191430</td>\n",
       "    </tr>\n",
       "  </tbody>\n",
       "</table>\n",
       "<p>120 rows × 4 columns</p>\n",
       "</div>"
      ],
      "text/plain": [
       "                           open        high         low       close\n",
       "2014-08-01 00:00:00    0.469112    0.469112  -67.873166   -2.922520\n",
       "2014-08-01 01:00:00   -3.374321   23.793007  -56.585154  -55.101543\n",
       "2014-08-01 02:00:00  -54.276885    5.232441  -87.809456    1.913276\n",
       "2014-08-01 03:00:00    0.260576   17.124638  -65.820652  -38.530620\n",
       "2014-08-01 04:00:00  -38.436581    3.537231 -109.805294  -61.014553\n",
       "...                         ...         ...         ...         ...\n",
       "2014-08-05 19:00:00  437.652077  550.408942  430.549178  494.471788\n",
       "2014-08-05 20:00:00  496.539759  510.371745  456.365565  476.505765\n",
       "2014-08-05 21:00:00  476.025498  506.952877  425.472410  498.547578\n",
       "2014-08-05 22:00:00  497.941355  506.599652  411.119919  443.925832\n",
       "2014-08-05 23:00:00  443.017962  489.083657  426.062444  456.191430\n",
       "\n",
       "[120 rows x 4 columns]"
      ]
     },
     "execution_count": 194,
     "metadata": {},
     "output_type": "execute_result"
    }
   ],
   "source": [
    "# демонстрируем передискретизацию ohlc\n",
    "ohlc = walk.resample(\"H\").ohlc() # как на бирже :)\n",
    "ohlc"
   ]
  },
  {
   "cell_type": "markdown",
   "metadata": {},
   "source": [
    "## Применение к временному ряду операций на основе скользящего окна"
   ]
  },
  {
   "cell_type": "code",
   "execution_count": 195,
   "metadata": {},
   "outputs": [
    {
     "data": {
      "image/png": "[encoded data removed]",
      "text/plain": [
       "<Figure size 432x288 with 1 Axes>"
      ]
     },
     "metadata": {
      "needs_background": "light"
     },
     "output_type": "display_data"
    }
   ],
   "source": [
    "# извлекаем данные по одному 1-минутному интервалу\n",
    "first_minute = walk['2014-08-01 00:00']\n",
    "# вычисляем скользящее среднее с шириной окна 5 периодов\n",
    "means = first_minute.rolling(window=5, center=False).mean()\n",
    "# сравним средние с исходными данными\n",
    "means.plot()\n",
    "first_minute.plot();"
   ]
  },
  {
   "cell_type": "code",
   "execution_count": 203,
   "metadata": {
    "scrolled": true
   },
   "outputs": [
    {
     "data": {
      "text/plain": [
       "-0.874444020862559"
      ]
     },
     "execution_count": 203,
     "metadata": {},
     "output_type": "execute_result"
    }
   ],
   "source": [
    "means[4]"
   ]
  },
  {
   "cell_type": "code",
   "execution_count": 201,
   "metadata": {},
   "outputs": [
    {
     "data": {
      "text/plain": [
       "-0.874444020862559"
      ]
     },
     "execution_count": 201,
     "metadata": {},
     "output_type": "execute_result"
    }
   ],
   "source": [
    "first_minute[:5].mean()"
   ]
  },
  {
   "cell_type": "code",
   "execution_count": 204,
   "metadata": {},
   "outputs": [
    {
     "data": {
      "image/png": "[encoded data removed]",
      "text/plain": [
       "<Figure size 432x288 with 1 Axes>"
      ]
     },
     "metadata": {
      "needs_background": "light"
     },
     "output_type": "display_data"
    }
   ],
   "source": [
    "# демонстрируем разницу между скользящими\n",
    "# окнами шириной 2, 5 и 10\n",
    "h1w = walk['2014-08-01 00:00']\n",
    "means2 = h1w.rolling(window=2, center=False).mean()\n",
    "means5 = h1w.rolling(window=5, center=False).mean()\n",
    "means10 = h1w.rolling(window=10, center=False).mean()\n",
    "h1w.plot()\n",
    "means2.plot()\n",
    "means5.plot()\n",
    "means10.plot();"
   ]
  },
  {
   "cell_type": "code",
   "execution_count": 94,
   "metadata": {},
   "outputs": [
    {
     "data": {
      "image/png": "[encoded data removed]",
      "text/plain": [
       "<Figure size 432x288 with 1 Axes>"
      ]
     },
     "metadata": {},
     "output_type": "display_data"
    }
   ],
   "source": [
    "# вычисляем среднее абсолютное значение \n",
    "# для окна с 5 интервалами\n",
    "mean_abs_dev = lambda x: np.fabs(x - x.mean()).mean()\n",
    "means = h1w.rolling(window=5, center=False).apply(mean_abs_dev, raw=True)\n",
    "means.plot();"
   ]
  },
  {
   "cell_type": "code",
   "execution_count": 95,
   "metadata": {
    "scrolled": false
   },
   "outputs": [
    {
     "data": {
      "image/png": "[encoded data removed]",
      "text/plain": [
       "<Figure size 432x288 with 1 Axes>"
      ]
     },
     "metadata": {},
     "output_type": "display_data"
    }
   ],
   "source": [
    "# вычисляем среднее с расширяющимся окном\n",
    "h1w.plot()\n",
    "expanding = h1w.expanding(min_periods=1).mean()\n",
    "expanding.plot();"
   ]
  },
  {
   "cell_type": "code",
   "execution_count": 2,
   "metadata": {},
   "outputs": [
    {
     "data": {
      "text/plain": [
       "datetime.datetime(2047, 1, 1, 8, 21)"
      ]
     },
     "execution_count": 2,
     "metadata": {},
     "output_type": "execute_result"
    }
   ],
   "source": [
    "# Современный пакет обработки дат из текста\n",
    "from dateutil.parser import parse\n",
    "parse(\"Today is January 1, 2047 at 8:21:00AM\", fuzzy=True)"
   ]
  },
  {
   "cell_type": "code",
   "execution_count": 212,
   "metadata": {},
   "outputs": [
    {
     "data": {
      "text/plain": [
       "'2015-09-15'"
      ]
     },
     "execution_count": 212,
     "metadata": {},
     "output_type": "execute_result"
    }
   ],
   "source": [
    "parse(\"2015/09/15\").strftime(\"%Y-%m-%d\")"
   ]
  },
  {
   "cell_type": "code",
   "execution_count": null,
   "metadata": {},
   "outputs": [],
   "source": []
  }
 ],
 "metadata": {
  "anaconda-cloud": {},
  "kernelspec": {
   "display_name": "Python 3",
   "language": "python",
   "name": "python3"
  },
  "language_info": {
   "codemirror_mode": {
    "name": "ipython",
    "version": 3
   },
   "file_extension": ".py",
   "mimetype": "text/x-python",
   "name": "python",
   "nbconvert_exporter": "python",
   "pygments_lexer": "ipython3",
   "version": "3.8.3"
  },
  "toc": {
   "base_numbering": 1,
   "nav_menu": {},
   "number_sections": true,
   "sideBar": true,
   "skip_h1_title": false,
   "title_cell": "Table of Contents",
   "title_sidebar": "Contents",
   "toc_cell": false,
   "toc_position": {},
   "toc_section_display": true,
   "toc_window_display": false
  },
  "varInspector": {
   "cols": {
    "lenName": 16,
    "lenType": 16,
    "lenVar": 40
   },
   "kernels_config": {
    "python": {
     "delete_cmd_postfix": "",
     "delete_cmd_prefix": "del ",
     "library": "var_list.py",
     "varRefreshCmd": "print(var_dic_list())"
    },
    "r": {
     "delete_cmd_postfix": ") ",
     "delete_cmd_prefix": "rm(",
     "library": "var_list.r",
     "varRefreshCmd": "cat(var_dic_list()) "
    }
   },
   "types_to_exclude": [
    "module",
    "function",
    "builtin_function_or_method",
    "instance",
    "_Feature"
   ],
   "window_display": false
  }
 },
 "nbformat": 4,
 "nbformat_minor": 1
}
