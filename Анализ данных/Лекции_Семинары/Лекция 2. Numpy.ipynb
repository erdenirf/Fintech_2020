{
 "cells": [
  {
   "cell_type": "markdown",
   "metadata": {},
   "source": [
    "# <center> Тема 2. NUMPY"
   ]
  },
  {
   "cell_type": "markdown",
   "metadata": {},
   "source": [
    "1. [Ключевые нюансы numpy](#Ключевые-нюансы-numpy)\n",
    "2. [Линейная алгебра](#Линейная-алгебра)\n",
    "3. [Прикладная статистика](#Прикладная-статистика)\n",
    "4. [kNN - метод ближайших соседей](#kNN---метод-ближайших-соседей)"
   ]
  },
  {
   "cell_type": "markdown",
   "metadata": {},
   "source": [
    "# Ключевые нюансы numpy\n",
    "\n",
    "Рекомендуется ознакомится с решением 100 задачек в numpy:\n",
    "https://pythonworld.ru/numpy/100-exercises.html"
   ]
  },
  {
   "cell_type": "code",
   "execution_count": 1,
   "metadata": {},
   "outputs": [],
   "source": [
    "import numpy as np\n",
    "# Скорость \n",
    "my_arr = np.arange(1000000)\n",
    "my_list = list(range(1000000))\n",
    "# %timeit for _ in range(10): my_arr2 = my_arr * 2 \n",
    "# %timeit for _ in range(10): my_list2 = list(map(lambda x: x * 2, my_list))"
   ]
  },
  {
   "cell_type": "code",
   "execution_count": 19,
   "metadata": {
    "scrolled": false
   },
   "outputs": [
    {
     "name": "stdout",
     "output_type": "stream",
     "text": [
      "[[ 1  2  3  4]\n",
      " [ 5  6  7  8]\n",
      " [ 9 10 11 12]]\n",
      "2\n",
      "[[1 2 3]\n",
      " [5 6 7]]\n",
      "[[7]]\n",
      "[[ 7  8]\n",
      " [11 12]]\n",
      "[5 6 7 8]\n",
      "[[5 6 7 8]]\n",
      "[[5 6 7 8]]\n",
      "[ 2  6 10]\n",
      "[[ 2]\n",
      " [ 6]\n",
      " [10]]\n"
     ]
    }
   ],
   "source": [
    "# Индексация\n",
    "a = np.array([[1,2,3,4], [5,6,7,8], [9,10,11,12]])\n",
    "print(a)\n",
    "print(a[0, 1])\n",
    "print(a[:2, :3])\n",
    "print(a[1:2, 2:3])\n",
    "print(a[1:, 2:])\n",
    "print(a[1, :])    \n",
    "print(a[1:2, :])  \n",
    "print(a[[1], :]) \n",
    "print(a[:, 1])\n",
    "print(a[:, 1:2])"
   ]
  },
  {
   "cell_type": "code",
   "execution_count": 9,
   "metadata": {},
   "outputs": [
    {
     "data": {
      "text/plain": [
       "array([[0, 0],\n",
       "       [0, 0]])"
      ]
     },
     "execution_count": 9,
     "metadata": {},
     "output_type": "execute_result"
    }
   ],
   "source": [
    "np.zeros_like([[2,3], [1,5]])."
   ]
  },
  {
   "cell_type": "code",
   "execution_count": 44,
   "metadata": {},
   "outputs": [
    {
     "name": "stdout",
     "output_type": "stream",
     "text": [
      "[0. 0. 0. 0. 0.]\n",
      "[[0. 0. 0. 0.]\n",
      " [0. 0. 0. 0.]]\n",
      "[[0 0]\n",
      " [0 0]]\n",
      "[[0. 0. 0. 0.]\n",
      " [0. 0. 0. 0.]]\n",
      "[1. 1. 1. 1. 1.]\n",
      "[[1. 1. 1. 1.]\n",
      " [1. 1. 1. 1.]]\n",
      "[[1 1]\n",
      " [1 1]]\n",
      "[ 0  1  2  3  4  5  6  7  8  9 10 11 12 13 14]\n",
      "[[1. 0.]\n",
      " [0. 1.]]\n",
      "[[1. 0.]\n",
      " [0. 1.]]\n"
     ]
    }
   ],
   "source": [
    "# Создание различных шаблонных массивов\n",
    "\n",
    "# Нулевой массив \n",
    "print(np.zeros(5))\n",
    "print(np.zeros((2, 4)))\n",
    "print(np.zeros_like([[2,3], [1,5]]))\n",
    "print(np.empty((2, 4)))\n",
    "# Единичный массив\n",
    "print(np.ones(5))\n",
    "print(np.ones((2, 4)))\n",
    "print(np.ones_like([[2,3], [1,5]]))\n",
    "\n",
    "# Одномерный массив целочисленных положительных чисел\n",
    "print(np.arange(15))\n",
    "\n",
    "# Единичный массив / матрица\n",
    "print(np.eye(2))\n",
    "print(np.identity(2))"
   ]
  },
  {
   "cell_type": "code",
   "execution_count": 33,
   "metadata": {},
   "outputs": [
    {
     "name": "stdout",
     "output_type": "stream",
     "text": [
      "(3, 3)\n",
      "[1 2 3] \n",
      " [[1]\n",
      " [2]\n",
      " [3]]\n",
      "[[[ 0  1]\n",
      "  [ 2  3]\n",
      "  [ 4  5]\n",
      "  [ 6  7]]\n",
      "\n",
      " [[ 8  9]\n",
      "  [10 11]\n",
      "  [12 13]\n",
      "  [14 15]]]\n",
      "[[[[ 0  1]\n",
      "   [ 2  3]]\n",
      "\n",
      "  [[ 4  5]\n",
      "   [ 6  7]]\n",
      "\n",
      "  [[ 8  9]\n",
      "   [10 11]]\n",
      "\n",
      "  [[12 13]\n",
      "   [14 15]]]]\n",
      "[0 1 2 3 0 0 0 0]\n"
     ]
    }
   ],
   "source": [
    "# Размерность массивов\n",
    "b = np.array([[1,2,3], [4,5,6], [7,8,9]])\n",
    "print(b.shape)\n",
    "\n",
    "# Изменение размерности (умноженные размерности совпадают)\n",
    "v = np.array([1,2,3]) \n",
    "print(v, \"\\n\", v.reshape(3, 1))\n",
    "\n",
    "print(np.arange(16).reshape(2, 4, 2))\n",
    "print(np.arange(16).reshape(1, 4, 2, 2))\n",
    "\n",
    "# Изменение размерности (новая размерность другая - заполнение нулями)\n",
    "a0 = np.arange(4)\n",
    "a0.resize((8,))\n",
    "print(a0)"
   ]
  },
  {
   "cell_type": "markdown",
   "metadata": {},
   "source": [
    "Numpy позволяет оперировать массивами разных размерностей.\n",
    "Например:"
   ]
  },
  {
   "cell_type": "code",
   "execution_count": 43,
   "metadata": {},
   "outputs": [
    {
     "data": {
      "text/plain": [
       "array([[ 2,  2,  4],\n",
       "       [ 5,  5,  7],\n",
       "       [ 8,  8, 10],\n",
       "       [11, 11, 13]])"
      ]
     },
     "execution_count": 43,
     "metadata": {},
     "output_type": "execute_result"
    }
   ],
   "source": [
    "x = np.array([[1,2,3], [4,5,6], [7,8,9], [10, 11, 12]])\n",
    "v = np.array([1, 0, 1])\n",
    "y = np.empty_like(x)   # Create an empty matrix with the same shape as x\n",
    "\n",
    "# Add the vector v to each row of the matrix x with an explicit loop\n",
    "for i in range(4):\n",
    "    y[i, :] = x[i, :] + v\n",
    "y"
   ]
  },
  {
   "cell_type": "code",
   "execution_count": 66,
   "metadata": {},
   "outputs": [
    {
     "data": {
      "text/plain": [
       "array([[[1, 0],\n",
       "        [1, 1]],\n",
       "\n",
       "       [[0, 1],\n",
       "        [1, 0]],\n",
       "\n",
       "       [[1, 1],\n",
       "        [0, 1]]])"
      ]
     },
     "execution_count": 66,
     "metadata": {},
     "output_type": "execute_result"
    }
   ],
   "source": [
    "np.array([1,0,1]*4).reshape(3,2,2)"
   ]
  },
  {
   "cell_type": "code",
   "execution_count": 36,
   "metadata": {},
   "outputs": [
    {
     "name": "stdout",
     "output_type": "stream",
     "text": [
      "[[1 0 1]\n",
      " [1 0 1]\n",
      " [1 0 1]\n",
      " [1 0 1]]\n",
      "[[ 2  2  4]\n",
      " [ 5  5  7]\n",
      " [ 8  8 10]\n",
      " [11 11 13]]\n"
     ]
    }
   ],
   "source": [
    "vv = np.tile(v, (4, 1))  # Стакаем сверху вниз 4 копии v\n",
    "print(vv) \n",
    "y = x + vv  # Складываем два массива\n",
    "print(y)"
   ]
  },
  {
   "cell_type": "markdown",
   "metadata": {},
   "source": [
    "Иллюстрация броадкастинга"
   ]
  },
  {
   "cell_type": "code",
   "execution_count": 29,
   "metadata": {},
   "outputs": [
    {
     "name": "stdout",
     "output_type": "stream",
     "text": [
      "(4, 3)\n",
      "(3,)\n",
      "[[ 2  2  4]\n",
      " [ 5  5  7]\n",
      " [ 8  8 10]\n",
      " [11 11 13]]\n"
     ]
    }
   ],
   "source": [
    "x = np.array([[1,2,3], [4,5,6], [7,8,9], [10, 11, 12]])\n",
    "print(x.shape)\n",
    "v = np.array([1, 0, 1])\n",
    "print(v.shape)\n",
    "v4 = np.array([1, 0, 1, 4])\n",
    "y = x + v \n",
    "print(y)"
   ]
  },
  {
   "cell_type": "markdown",
   "metadata": {},
   "source": [
    "**Вывод:** не обязательно приводить массивы к одной размерности для осуществления математических операций. Памятка по броадкастингу:\n",
    "1. Если массивы не имеют одинакового ранга, размерность массива нижнего ранга изменяется с первого до тех пор, пока обе размерности не будут иметь одинаковую длину.\n",
    "2. Считается, что оба массива совместимы в одном измерении, если они имеют одинаковый размер в этом измерении, или если один из массивов имеет размер 1 в этом измерении.\n",
    "3. Массивы могут броадкаститься вместе, если они совместимы во всех измерениях.\n",
    "4. После броадкастинга каждый массив ведет себя так, как если бы он имел размерность, равную элементарному максимуму размерности двух входных массивов.\n",
    "5. В любом измерении, где один массив имеет размер 1, а другой больше 1, первый массив ведет себя так, как если бы он был скопирован по этому измерению.\n",
    "\n",
    "Документация:\n",
    "\n",
    "https://numpy.org/doc/stable/user/basics.broadcasting.html"
   ]
  },
  {
   "cell_type": "code",
   "execution_count": 42,
   "metadata": {},
   "outputs": [
    {
     "data": {
      "text/plain": [
       "array([[0],\n",
       "       [1],\n",
       "       [2]])"
      ]
     },
     "execution_count": 42,
     "metadata": {},
     "output_type": "execute_result"
    }
   ],
   "source": [
    "np.arange(3).reshape(3, 1)"
   ]
  },
  {
   "cell_type": "code",
   "execution_count": 44,
   "metadata": {},
   "outputs": [
    {
     "data": {
      "text/plain": [
       "array([[ 0,  0,  0],\n",
       "       [ 3,  4,  5],\n",
       "       [12, 14, 16]])"
      ]
     },
     "execution_count": 44,
     "metadata": {},
     "output_type": "execute_result"
    }
   ],
   "source": [
    "np.arange(9).reshape(3, 3) * np.arange(3).reshape(3, 1)"
   ]
  },
  {
   "cell_type": "code",
   "execution_count": 45,
   "metadata": {},
   "outputs": [
    {
     "data": {
      "text/plain": [
       "array([[ 0,  3,  6],\n",
       "       [ 9, 12, 15],\n",
       "       [18, 21, 24]])"
      ]
     },
     "execution_count": 45,
     "metadata": {},
     "output_type": "execute_result"
    }
   ],
   "source": [
    "np.arange(9).reshape(3, 3) * 3"
   ]
  },
  {
   "cell_type": "code",
   "execution_count": 51,
   "metadata": {},
   "outputs": [
    {
     "data": {
      "text/plain": [
       "(1, 3, 3)"
      ]
     },
     "execution_count": 51,
     "metadata": {},
     "output_type": "execute_result"
    }
   ],
   "source": [
    "np.array([[[1,2,3],[3,4,5], [6,7,8]]])"
   ]
  },
  {
   "cell_type": "code",
   "execution_count": 75,
   "metadata": {},
   "outputs": [
    {
     "data": {
      "text/plain": [
       "array([[4, 3, 5],\n",
       "       [1, 2, 1]])"
      ]
     },
     "execution_count": 75,
     "metadata": {},
     "output_type": "execute_result"
    }
   ],
   "source": [
    "c"
   ]
  },
  {
   "cell_type": "code",
   "execution_count": 40,
   "metadata": {},
   "outputs": [
    {
     "data": {
      "text/plain": [
       "array([1, 1, 2, 3, 4, 5])"
      ]
     },
     "execution_count": 40,
     "metadata": {},
     "output_type": "execute_result"
    }
   ],
   "source": [
    "np.sort(np.sort(c, axis=0)).reshape(-1)"
   ]
  },
  {
   "cell_type": "code",
   "execution_count": 39,
   "metadata": {},
   "outputs": [
    {
     "data": {
      "text/plain": [
       "array([1, 1, 2, 3, 4, 5])"
      ]
     },
     "execution_count": 39,
     "metadata": {},
     "output_type": "execute_result"
    }
   ],
   "source": [
    "np.sort(c.reshape(-1))"
   ]
  },
  {
   "cell_type": "code",
   "execution_count": 44,
   "metadata": {},
   "outputs": [
    {
     "name": "stdout",
     "output_type": "stream",
     "text": [
      "[[3 4 5]\n",
      " [1 1 2]]\n",
      "[[1 0 2]\n",
      " [0 2 1]]\n",
      "[[[3 4 5]\n",
      "  [4 5 3]]\n",
      "\n",
      " [[2 1 1]\n",
      "  [1 1 2]]]\n"
     ]
    },
    {
     "data": {
      "text/plain": [
       "array([[[0, 0, 0],\n",
       "        [1, 1, 1],\n",
       "        [2, 2, 2]]])"
      ]
     },
     "execution_count": 44,
     "metadata": {},
     "output_type": "execute_result"
    }
   ],
   "source": [
    "# Сортировка\n",
    "\n",
    "c = np.array([[4, 3, 5], [1, 2, 1]])\n",
    "print(np.sort(c, axis=1))\n",
    "\n",
    "# Возвращает индексы элементов, которые были отсортированы \n",
    "j = np.argsort(c)\n",
    "print(j)\n",
    "print(c[:, j])\n",
    "\n",
    "\n",
    "np.array([[[1,2,3],[3,4,5], [6,7,8]]]).argpartition(kth = 2, axis = 1)"
   ]
  },
  {
   "cell_type": "code",
   "execution_count": 501,
   "metadata": {},
   "outputs": [
    {
     "data": {
      "text/plain": [
       "array([[0, 1, 2],\n",
       "       [1, 0, 2],\n",
       "       [0, 1, 2],\n",
       "       [1, 0, 2]])"
      ]
     },
     "execution_count": 501,
     "metadata": {},
     "output_type": "execute_result"
    }
   ],
   "source": [
    "np.array([[1,3,5],[5,4,5],[1,2,10],[5,4,6]]).argpartition(kth = 2, axis = 1)"
   ]
  },
  {
   "cell_type": "code",
   "execution_count": 61,
   "metadata": {},
   "outputs": [
    {
     "data": {
      "text/plain": [
       "array([[1, 3, 2, 0],\n",
       "       [1, 0, 2, 3],\n",
       "       [0, 1, 3, 2],\n",
       "       [1, 0, 2, 3]])"
      ]
     },
     "execution_count": 61,
     "metadata": {},
     "output_type": "execute_result"
    }
   ],
   "source": [
    "np.array([[10,3,5, 3],[5,4,5, 5],[1,2,10, 7],[5,4,6, 15]]).argsort(axis=1)"
   ]
  },
  {
   "cell_type": "code",
   "execution_count": 505,
   "metadata": {},
   "outputs": [
    {
     "data": {
      "text/plain": [
       "array([[ 0,  2,  0,  3, 16],\n",
       "       [ 0,  2,  0,  3, 16],\n",
       "       [ 0,  2,  0,  3, 16],\n",
       "       [ 0,  2,  0,  3, 16],\n",
       "       [ 0,  2,  0,  3, 16]])"
      ]
     },
     "execution_count": 505,
     "metadata": {},
     "output_type": "execute_result"
    }
   ],
   "source": [
    "np.array([np.arange(5)]) * np.ones((5,5)).argpartition(kth = 3, axis=1)"
   ]
  },
  {
   "cell_type": "code",
   "execution_count": 1,
   "metadata": {},
   "outputs": [
    {
     "name": "stdout",
     "output_type": "stream",
     "text": [
      "[1 2 3]\n",
      "[4 5 6]\n",
      "[[ 2.29999476 -1.75062293 -1.0300785   1.39901065]\n",
      " [-0.74521315  1.27618822  2.114178   -0.84018816]\n",
      " [ 0.0837459  -0.66660738 -0.74014551 -1.06166026]\n",
      " [-0.51779696 -0.24234596 -2.14649435 -0.51566222]\n",
      " [-0.29675832 -0.99429669  0.64156382 -0.30589642]\n",
      " [ 0.21377213 -0.56907918 -1.5049256  -0.5299902 ]\n",
      " [ 2.29322943  1.06701615 -1.09939326  0.67503473]]\n",
      "[[ 2.29999476 -1.75062293 -1.0300785   1.39901065]\n",
      " [-0.51779696 -0.24234596 -2.14649435 -0.51566222]]\n",
      "[[-1.0300785   1.39901065]\n",
      " [-2.14649435 -0.51566222]]\n"
     ]
    }
   ],
   "source": [
    "# Условия и циклы\n",
    "for i in np.array([[1,2,3],[4,5,6]]):\n",
    "    print(i)\n",
    "names = np.array(['Bob', 'Joe', 'Will', 'Bob', 'Will', 'Joe', 'Joe']) \n",
    "data = np.random.randn(7, 4)\n",
    "print(data)\n",
    "print(data[names == \"Bob\"])\n",
    "print(data[names == 'Bob', 2:])"
   ]
  },
  {
   "cell_type": "code",
   "execution_count": 2,
   "metadata": {},
   "outputs": [
    {
     "data": {
      "text/plain": [
       "array([[ 2.29999476, -1.75062293, -1.0300785 ,  1.39901065],\n",
       "       [-0.74521315,  1.27618822,  2.114178  , -0.84018816],\n",
       "       [ 0.0837459 , -0.66660738, -0.74014551, -1.06166026],\n",
       "       [-0.51779696, -0.24234596, -2.14649435, -0.51566222],\n",
       "       [-0.29675832, -0.99429669,  0.64156382, -0.30589642],\n",
       "       [ 0.21377213, -0.56907918, -1.5049256 , -0.5299902 ],\n",
       "       [ 2.29322943,  1.06701615, -1.09939326,  0.67503473]])"
      ]
     },
     "execution_count": 2,
     "metadata": {},
     "output_type": "execute_result"
    }
   ],
   "source": [
    "data"
   ]
  },
  {
   "cell_type": "code",
   "execution_count": 4,
   "metadata": {},
   "outputs": [
    {
     "data": {
      "text/plain": [
       "array([[0, 0, 1, 1],\n",
       "       [0, 1, 1, 1],\n",
       "       [1, 1, 0, 1],\n",
       "       [1, 1, 1, 0],\n",
       "       [0, 1, 1, 1],\n",
       "       [1, 0, 1, 1],\n",
       "       [0, 0, 1, 0]])"
      ]
     },
     "execution_count": 4,
     "metadata": {},
     "output_type": "execute_result"
    }
   ],
   "source": [
    "# Присвоение по условию (если, то)\n",
    "np.where(data, data>0, 0)"
   ]
  },
  {
   "cell_type": "code",
   "execution_count": 6,
   "metadata": {},
   "outputs": [
    {
     "data": {
      "text/plain": [
       "array([ 0,  1,  2,  3,  4, 50, 60, 70, 80, 90])"
      ]
     },
     "execution_count": 6,
     "metadata": {},
     "output_type": "execute_result"
    }
   ],
   "source": [
    "a = np.arange(10)\n",
    "a\n",
    "np.where(a < 5, a, 10*a)"
   ]
  },
  {
   "cell_type": "code",
   "execution_count": 69,
   "metadata": {},
   "outputs": [
    {
     "name": "stdout",
     "output_type": "stream",
     "text": [
      "[1 2 3 4 5 6]\n",
      "Вертикальное : \n",
      " [[ 0  1  2]\n",
      " [ 3  4  5]\n",
      " [ 6  7  8]\n",
      " [10 11 12]\n",
      " [13 14 15]\n",
      " [16 17 18]]\n",
      "Горизонтальное : \n",
      " [[ 0  1  2 10 11 12]\n",
      " [ 3  4  5 13 14 15]\n",
      " [ 6  7  8 16 17 18]]\n"
     ]
    }
   ],
   "source": [
    "# Слияние массивов\n",
    "x,y,z = np.arange(1,3), np.arange(3,5), np.arange(5,7)\n",
    "print(np.concatenate([x,y,z]))\n",
    "\n",
    "array2D_1 = np.array([[0, 1, 2],\n",
    "       [3, 4, 5],\n",
    "       [6, 7, 8]])\n",
    "array2D_2 = np.array([[10, 11, 12],\n",
    "       [13, 14, 15],\n",
    "       [16, 17, 18]])\n",
    "\n",
    "# Вертикальное слияние\n",
    "print(f\"Вертикальное : \\n {np.vstack((array2D_1, array2D_2))}\")\n",
    "\n",
    "# Горизонтальное слияние\n",
    "print(f\"Горизонтальное : \\n {np.hstack((array2D_1, array2D_2))}\")"
   ]
  },
  {
   "cell_type": "code",
   "execution_count": 8,
   "metadata": {},
   "outputs": [
    {
     "data": {
      "text/plain": [
       "array([[ 2.29999476, -1.75062293, -1.0300785 ,  1.39901065],\n",
       "       [-0.74521315,  1.27618822,  2.114178  , -0.84018816],\n",
       "       [ 0.0837459 , -0.66660738, -0.74014551, -1.06166026],\n",
       "       [-0.51779696, -0.24234596, -2.14649435, -0.51566222],\n",
       "       [-0.29675832, -0.99429669,  0.64156382, -0.30589642],\n",
       "       [ 0.21377213, -0.56907918, -1.5049256 , -0.5299902 ],\n",
       "       [ 2.29322943,  1.06701615, -1.09939326,  0.67503473]])"
      ]
     },
     "execution_count": 8,
     "metadata": {},
     "output_type": "execute_result"
    }
   ],
   "source": [
    "data"
   ]
  },
  {
   "cell_type": "code",
   "execution_count": 9,
   "metadata": {},
   "outputs": [
    {
     "data": {
      "text/plain": [
       "array([[0.00000000e+00, 9.16158577e+00, 9.88634894e+00, 0.00000000e+00],\n",
       "       [9.27329120e+00, 0.00000000e+00, 0.00000000e+00, 5.01401131e+00],\n",
       "       [4.91175900e+00, 3.77445478e+00, 8.14716274e+00, 6.05490134e+00],\n",
       "       [7.93995018e+00, 2.30594608e+00, 1.81533289e+01, 3.66597221e+00],\n",
       "       [6.74312656e+00, 5.15510174e+00, 2.16859253e+00, 2.90670812e+00],\n",
       "       [4.35232486e+00, 3.40501178e+00, 1.30979109e+01, 3.72104430e+00],\n",
       "       [4.57696811e-05, 4.37529585e-02, 1.03270403e+01, 5.24141139e-01]])"
      ]
     },
     "execution_count": 9,
     "metadata": {},
     "output_type": "execute_result"
    }
   ],
   "source": [
    "np.apply_along_axis(lambda x: (x - max(x))**2, 0, data)"
   ]
  },
  {
   "cell_type": "code",
   "execution_count": 10,
   "metadata": {},
   "outputs": [
    {
     "name": "stdout",
     "output_type": "stream",
     "text": [
      "[0.19565497 1.31895696 1.43533145]\n",
      "[2.21932628 0.7306171 ]\n"
     ]
    }
   ],
   "source": [
    "# Применение функции к разным осям массива\n",
    "m = np.random.randn(3,2)\n",
    "# Сначала указываем функцию, потом по какой оси, а затем указываем сам массив\n",
    "print(np.apply_along_axis(lambda x: sum(x ** 2), 1, m)) \n",
    "print(np.apply_along_axis(lambda x: sum(x ** 2), 0, m)) \n",
    "# Обратим внимание, что у функции может быть только один аргумент - это значения массива из конкретной оси\n",
    "\n",
    "\n",
    "\n"
   ]
  },
  {
   "cell_type": "code",
   "execution_count": 19,
   "metadata": {},
   "outputs": [
    {
     "data": {
      "text/plain": [
       "False"
      ]
     },
     "execution_count": 19,
     "metadata": {},
     "output_type": "execute_result"
    }
   ],
   "source": [
    "np.round(0.3, 17) == np.round(3 * 0.1, 17)"
   ]
  },
  {
   "cell_type": "code",
   "execution_count": 18,
   "metadata": {},
   "outputs": [
    {
     "data": {
      "text/plain": [
       "True"
      ]
     },
     "execution_count": 18,
     "metadata": {},
     "output_type": "execute_result"
    }
   ],
   "source": [
    "np.allclose(0.3, 3*0.1)"
   ]
  },
  {
   "cell_type": "code",
   "execution_count": 21,
   "metadata": {
    "code_folding": []
   },
   "outputs": [],
   "source": [
    "Z = np.zeros((10,10), [('x',float),('y',float)])\n",
    "Z['x'], Z['y'] = np.meshgrid(np.linspace(0,1,10),\n",
    "                             np.linspace(0,1,10))"
   ]
  },
  {
   "cell_type": "markdown",
   "metadata": {},
   "source": [
    "# Линейная алгебра"
   ]
  },
  {
   "cell_type": "markdown",
   "metadata": {},
   "source": [
    "#### np\n",
    "\n",
    "**diag** - вернуть диагональные (или недиагональные) элементы квадратной матрицы в виде 1D-массива, или преобразовать 1D-массив в квадратную матрицу с нулями на остальных элементах.\n",
    "\n",
    "**dot, @** - матричное умножение\n",
    "\n",
    "**trace** - вычислить сумму диагональных элементов (след матрицы)\n",
    "\n",
    "#### linalg\n",
    "\n",
    "**det**  определитель матрицы.\n",
    "\n",
    "**eig** - вычислить собственные значения и собственные векторы квадратной матрицы.  \n",
    "\n",
    "**inv** - вычислить обратную  матрицу любой квадратной матрицы (определитель должен быть не равен нулю)\n",
    "\n",
    "**svd** - вычислить сингулярное разложение значений (SVD).\n",
    "\n",
    "**solve** решение линейной системы уравнений Ax = b для x, где A - квадратная матрица. \n",
    "\n",
    "**lstsq** - вычислить оценки методом наименьших квадратов для Ax = b"
   ]
  },
  {
   "cell_type": "code",
   "execution_count": 26,
   "metadata": {},
   "outputs": [],
   "source": [
    "x = np.array([[1,2,3],[4,5,6],[7,8,9]])\n",
    "w, v = np.linalg.eig(x)"
   ]
  },
  {
   "cell_type": "code",
   "execution_count": 37,
   "metadata": {},
   "outputs": [
    {
     "data": {
      "text/plain": [
       "array([False, False, False])"
      ]
     },
     "execution_count": 37,
     "metadata": {},
     "output_type": "execute_result"
    }
   ],
   "source": [
    "x @ v[:, 0] == w[0]*v[:, 0]"
   ]
  },
  {
   "cell_type": "code",
   "execution_count": 36,
   "metadata": {},
   "outputs": [
    {
     "data": {
      "text/plain": [
       "True"
      ]
     },
     "execution_count": 36,
     "metadata": {},
     "output_type": "execute_result"
    }
   ],
   "source": [
    "np.allclose(x @ v[:, 0], w[0]*v[:, 0])"
   ]
  },
  {
   "cell_type": "code",
   "execution_count": 133,
   "metadata": {},
   "outputs": [
    {
     "name": "stdout",
     "output_type": "stream",
     "text": [
      "[ 6. 15.] [ 6. 15.] [ 6. 15.]\n"
     ]
    }
   ],
   "source": [
    "x = np.array([[1,2,3],[4,5,6]])\n",
    "y = np.array([[6,23],[-1,7],[8,9]])\n",
    "print(x.dot(np.ones(3)), np.dot(x, np.ones(3)), x @ np.ones(3))"
   ]
  },
  {
   "cell_type": "code",
   "execution_count": 95,
   "metadata": {},
   "outputs": [
    {
     "name": "stdout",
     "output_type": "stream",
     "text": [
      "[[-0.07804272  0.98875349 -0.18804848  0.41857286  0.02069609]\n",
      " [ 0.32048679 -2.91090309  1.25514445  1.15589183 -0.35306481]\n",
      " [ 0.0262801   1.4123499  -0.32113901 -1.21282462  1.07864606]\n",
      " [-0.01365896 -1.96130517  0.31569287 -0.02262023  0.24753756]\n",
      " [-0.29258148 -2.15714787  0.68313371  0.2973067  -0.12866259]]\n",
      "2.1600950027772745\n"
     ]
    }
   ],
   "source": [
    "from numpy.linalg import inv, det\n",
    "mat = np.random.randn(5, 5)\n",
    "print(inv(mat))\n",
    "print(det(mat))"
   ]
  },
  {
   "cell_type": "code",
   "execution_count": null,
   "metadata": {},
   "outputs": [],
   "source": []
  },
  {
   "cell_type": "markdown",
   "metadata": {},
   "source": [
    "## <center> Связь МНК и решения системы линейных уравнений"
   ]
  },
  {
   "cell_type": "markdown",
   "metadata": {},
   "source": [
    "### <center>Решение системы линейных уравнений\n",
    "$$  \\large \\textbf A \\textbf x = \\textbf y  $$\n",
    "$$ \\large \\textbf A^{-1} \\textbf A \\textbf x = \\textbf A^{-1} \\textbf y $$ \n",
    "$$  \\large \\textbf x = \\textbf A^{-1} \\textbf y  $$"
   ]
  },
  {
   "cell_type": "markdown",
   "metadata": {},
   "source": [
    "\n",
    "#### <center> Заменим A на матрицу наблюдений X, а $x$ на $\\theta$ (коэффициенты при переменных). В этом случае мы можем прогнать линейную регрессию с 3 наблюдениями и 3 переменными\n",
    "$$ \\large \\textbf X \\theta = \\textbf y$$ \\\n",
    "$$ \\large \\textbf X^T \\textbf X \\theta = \\textbf X^T \\textbf y$$ \\\n",
    "$$ \\large (\\textbf X^T \\textbf X)^{-1} \\textbf X^T \\textbf X  \\theta = (\\textbf X^T \\textbf X)^{-1} \\textbf X^T \\textbf y$$ \\\n",
    "$$ \\large \\hat{\\theta} = (\\textbf X^T \\textbf X)^{-1} \\textbf X^T \\textbf y$$"
   ]
  },
  {
   "cell_type": "code",
   "execution_count": 38,
   "metadata": {},
   "outputs": [
    {
     "data": {
      "text/plain": [
       "array([ 5.42857143, -1.14285714, -2.71428571])"
      ]
     },
     "execution_count": 38,
     "metadata": {},
     "output_type": "execute_result"
    }
   ],
   "source": [
    "# Давайте решим систему линейных уравнений\n",
    "import numpy as np\n",
    "A = np.array([[2,5,3],[4,0,8],[1,3,0]])\n",
    "y = np.array([-3, 0, 2])\n",
    "np.linalg.solve(A, y)"
   ]
  },
  {
   "cell_type": "code",
   "execution_count": 39,
   "metadata": {},
   "outputs": [
    {
     "data": {
      "text/plain": [
       "array([ 5.42857143, -1.14285714, -2.71428571])"
      ]
     },
     "execution_count": 39,
     "metadata": {},
     "output_type": "execute_result"
    }
   ],
   "source": [
    "# Тот же результат мы получим, если применим формулу для МНК\n",
    "np.linalg.inv(A.T @ A) @ A.T @ y"
   ]
  },
  {
   "cell_type": "markdown",
   "metadata": {},
   "source": [
    "**Но почему для решения линейных системных уравнений следует использовать формулу для МНК вместо простой формулы?**\n",
    "\n",
    "Давайте добавим наблюдение к нашей простой модели"
   ]
  },
  {
   "cell_type": "code",
   "execution_count": 40,
   "metadata": {},
   "outputs": [
    {
     "ename": "LinAlgError",
     "evalue": "Last 2 dimensions of the array must be square",
     "output_type": "error",
     "traceback": [
      "\u001b[0;31m---------------------------------------------------------------------------\u001b[0m",
      "\u001b[0;31mLinAlgError\u001b[0m                               Traceback (most recent call last)",
      "\u001b[0;32m<ipython-input-40-c05eb86239d7>\u001b[0m in \u001b[0;36m<module>\u001b[0;34m\u001b[0m\n\u001b[1;32m      1\u001b[0m \u001b[0mA\u001b[0m \u001b[0;34m=\u001b[0m \u001b[0mnp\u001b[0m\u001b[0;34m.\u001b[0m\u001b[0marray\u001b[0m\u001b[0;34m(\u001b[0m\u001b[0;34m[\u001b[0m\u001b[0;34m[\u001b[0m\u001b[0;36m2\u001b[0m\u001b[0;34m,\u001b[0m\u001b[0;36m5\u001b[0m\u001b[0;34m,\u001b[0m\u001b[0;36m3\u001b[0m\u001b[0;34m]\u001b[0m\u001b[0;34m,\u001b[0m\u001b[0;34m[\u001b[0m\u001b[0;36m4\u001b[0m\u001b[0;34m,\u001b[0m\u001b[0;36m0\u001b[0m\u001b[0;34m,\u001b[0m\u001b[0;36m8\u001b[0m\u001b[0;34m]\u001b[0m\u001b[0;34m,\u001b[0m\u001b[0;34m[\u001b[0m\u001b[0;36m1\u001b[0m\u001b[0;34m,\u001b[0m\u001b[0;36m3\u001b[0m\u001b[0;34m,\u001b[0m\u001b[0;36m0\u001b[0m\u001b[0;34m]\u001b[0m\u001b[0;34m,\u001b[0m \u001b[0;34m[\u001b[0m\u001b[0;36m2\u001b[0m\u001b[0;34m,\u001b[0m\u001b[0;36m4\u001b[0m\u001b[0;34m,\u001b[0m\u001b[0;36m5\u001b[0m\u001b[0;34m]\u001b[0m\u001b[0;34m]\u001b[0m\u001b[0;34m)\u001b[0m\u001b[0;34m\u001b[0m\u001b[0;34m\u001b[0m\u001b[0m\n\u001b[1;32m      2\u001b[0m \u001b[0my\u001b[0m \u001b[0;34m=\u001b[0m \u001b[0mnp\u001b[0m\u001b[0;34m.\u001b[0m\u001b[0marray\u001b[0m\u001b[0;34m(\u001b[0m\u001b[0;34m[\u001b[0m\u001b[0;34m-\u001b[0m\u001b[0;36m3\u001b[0m\u001b[0;34m,\u001b[0m \u001b[0;36m0\u001b[0m\u001b[0;34m,\u001b[0m \u001b[0;36m2\u001b[0m\u001b[0;34m,\u001b[0m \u001b[0;36m5\u001b[0m\u001b[0;34m]\u001b[0m\u001b[0;34m)\u001b[0m\u001b[0;34m\u001b[0m\u001b[0;34m\u001b[0m\u001b[0m\n\u001b[0;32m----> 3\u001b[0;31m \u001b[0mnp\u001b[0m\u001b[0;34m.\u001b[0m\u001b[0mlinalg\u001b[0m\u001b[0;34m.\u001b[0m\u001b[0msolve\u001b[0m\u001b[0;34m(\u001b[0m\u001b[0mA\u001b[0m\u001b[0;34m,\u001b[0m \u001b[0my\u001b[0m\u001b[0;34m)\u001b[0m\u001b[0;34m\u001b[0m\u001b[0;34m\u001b[0m\u001b[0m\n\u001b[0m",
      "\u001b[0;32m<__array_function__ internals>\u001b[0m in \u001b[0;36msolve\u001b[0;34m(*args, **kwargs)\u001b[0m\n",
      "\u001b[0;32m~/PythonR/anaconda3/lib/python3.8/site-packages/numpy/linalg/linalg.py\u001b[0m in \u001b[0;36msolve\u001b[0;34m(a, b)\u001b[0m\n\u001b[1;32m    378\u001b[0m     \u001b[0ma\u001b[0m\u001b[0;34m,\u001b[0m \u001b[0m_\u001b[0m \u001b[0;34m=\u001b[0m \u001b[0m_makearray\u001b[0m\u001b[0;34m(\u001b[0m\u001b[0ma\u001b[0m\u001b[0;34m)\u001b[0m\u001b[0;34m\u001b[0m\u001b[0;34m\u001b[0m\u001b[0m\n\u001b[1;32m    379\u001b[0m     \u001b[0m_assert_stacked_2d\u001b[0m\u001b[0;34m(\u001b[0m\u001b[0ma\u001b[0m\u001b[0;34m)\u001b[0m\u001b[0;34m\u001b[0m\u001b[0;34m\u001b[0m\u001b[0m\n\u001b[0;32m--> 380\u001b[0;31m     \u001b[0m_assert_stacked_square\u001b[0m\u001b[0;34m(\u001b[0m\u001b[0ma\u001b[0m\u001b[0;34m)\u001b[0m\u001b[0;34m\u001b[0m\u001b[0;34m\u001b[0m\u001b[0m\n\u001b[0m\u001b[1;32m    381\u001b[0m     \u001b[0mb\u001b[0m\u001b[0;34m,\u001b[0m \u001b[0mwrap\u001b[0m \u001b[0;34m=\u001b[0m \u001b[0m_makearray\u001b[0m\u001b[0;34m(\u001b[0m\u001b[0mb\u001b[0m\u001b[0;34m)\u001b[0m\u001b[0;34m\u001b[0m\u001b[0;34m\u001b[0m\u001b[0m\n\u001b[1;32m    382\u001b[0m     \u001b[0mt\u001b[0m\u001b[0;34m,\u001b[0m \u001b[0mresult_t\u001b[0m \u001b[0;34m=\u001b[0m \u001b[0m_commonType\u001b[0m\u001b[0;34m(\u001b[0m\u001b[0ma\u001b[0m\u001b[0;34m,\u001b[0m \u001b[0mb\u001b[0m\u001b[0;34m)\u001b[0m\u001b[0;34m\u001b[0m\u001b[0;34m\u001b[0m\u001b[0m\n",
      "\u001b[0;32m~/PythonR/anaconda3/lib/python3.8/site-packages/numpy/linalg/linalg.py\u001b[0m in \u001b[0;36m_assert_stacked_square\u001b[0;34m(*arrays)\u001b[0m\n\u001b[1;32m    201\u001b[0m         \u001b[0mm\u001b[0m\u001b[0;34m,\u001b[0m \u001b[0mn\u001b[0m \u001b[0;34m=\u001b[0m \u001b[0ma\u001b[0m\u001b[0;34m.\u001b[0m\u001b[0mshape\u001b[0m\u001b[0;34m[\u001b[0m\u001b[0;34m-\u001b[0m\u001b[0;36m2\u001b[0m\u001b[0;34m:\u001b[0m\u001b[0;34m]\u001b[0m\u001b[0;34m\u001b[0m\u001b[0;34m\u001b[0m\u001b[0m\n\u001b[1;32m    202\u001b[0m         \u001b[0;32mif\u001b[0m \u001b[0mm\u001b[0m \u001b[0;34m!=\u001b[0m \u001b[0mn\u001b[0m\u001b[0;34m:\u001b[0m\u001b[0;34m\u001b[0m\u001b[0;34m\u001b[0m\u001b[0m\n\u001b[0;32m--> 203\u001b[0;31m             \u001b[0;32mraise\u001b[0m \u001b[0mLinAlgError\u001b[0m\u001b[0;34m(\u001b[0m\u001b[0;34m'Last 2 dimensions of the array must be square'\u001b[0m\u001b[0;34m)\u001b[0m\u001b[0;34m\u001b[0m\u001b[0;34m\u001b[0m\u001b[0m\n\u001b[0m\u001b[1;32m    204\u001b[0m \u001b[0;34m\u001b[0m\u001b[0m\n\u001b[1;32m    205\u001b[0m \u001b[0;32mdef\u001b[0m \u001b[0m_assert_finite\u001b[0m\u001b[0;34m(\u001b[0m\u001b[0;34m*\u001b[0m\u001b[0marrays\u001b[0m\u001b[0;34m)\u001b[0m\u001b[0;34m:\u001b[0m\u001b[0;34m\u001b[0m\u001b[0;34m\u001b[0m\u001b[0m\n",
      "\u001b[0;31mLinAlgError\u001b[0m: Last 2 dimensions of the array must be square"
     ]
    }
   ],
   "source": [
    "A = np.array([[2,5,3],[4,0,8],[1,3,0], [2,4,5]])\n",
    "y = np.array([-3, 0, 2, 5])\n",
    "np.linalg.solve(A, y)"
   ]
  },
  {
   "cell_type": "markdown",
   "metadata": {},
   "source": [
    "Мы не смогли получить оценки, потому что **обратная матрица существует только для квадратных матриц!**\n",
    "\n",
    "Умножение на $X^T$ позволяет получить квадратные матрицы без изменения соотношения между X и y. \n",
    "\n",
    "Формула МНК для решения уравнения Ax=b выводится из минимизации $(Ax - b)^T(Ax-b)$."
   ]
  },
  {
   "cell_type": "markdown",
   "metadata": {},
   "source": [
    "# Прикладная статистика"
   ]
  },
  {
   "cell_type": "code",
   "execution_count": 48,
   "metadata": {},
   "outputs": [],
   "source": [
    "# Случайные величины\n",
    "x = np.random.random_sample((1, 100))\n",
    "y = np.random.random_sample((1, 100))"
   ]
  },
  {
   "cell_type": "markdown",
   "metadata": {},
   "source": [
    "##### <center>Основные выборочные характеристики в статистике:\n",
    "\n",
    "$$ \\bar{x} = \\frac {\\sum_i {x_i}} {n} $$\n",
    "\n",
    "$$ \\sigma^2 = \\frac {\\sum_i  {(x_i - \\bar{x})^2}} {n} $$\n",
    "\n",
    "$$ \\sigma = \\sqrt{\\sigma^2} $$\n",
    "\n",
    "$$ Cov(x,y) = \\frac{1}{n}\\sum_i  {[(x_i - \\bar{x}) \\cdot (y_i - \\bar{y})]} $$ <center> - мера связи между переменными. НО! Ковариация является безразмерной величиной\n",
    "\n",
    "$$ Corr(x,y) = \\frac {Cov(x,y)} {\\sigma(x) \\cdot \\sigma(y)} $$ <center> - мера тесноты линейной связи между двумя переменными"
   ]
  },
  {
   "cell_type": "markdown",
   "metadata": {},
   "source": [
    "##### <center> Всегда помните: КОРРЕЛЯЦИЯ НЕ ОЗНАЧАЕТ ПРИЧИННО-СЛЕДСТВЕННУЮ СВЯЗЬ МЕЖДУ ПЕРЕМЕННЫМИ!!!"
   ]
  },
  {
   "cell_type": "code",
   "execution_count": 49,
   "metadata": {},
   "outputs": [
    {
     "name": "stdout",
     "output_type": "stream",
     "text": [
      "Выборочное среднее = (0.49752944979532976, 0.4820174686636644)\n",
      "Выборочная дисперсия = (0.07810400591714982, 0.08100872564098884)\n",
      "Выборочное стандартное отклонение = (0.27947093930702316, 0.28462031839099056)\n"
     ]
    }
   ],
   "source": [
    "print(f\"Выборочное среднее = {x.mean(), y.mean()}\")\n",
    "print(f\"Выборочная дисперсия = {x.var(), y.var()}\")\n",
    "print(f\"Выборочное стандартное отклонение = {x.std(), y.std()}\")"
   ]
  },
  {
   "cell_type": "code",
   "execution_count": 50,
   "metadata": {},
   "outputs": [
    {
     "data": {
      "text/plain": [
       "array([[ 0.07889294, -0.00702589],\n",
       "       [-0.00702589,  0.081827  ]])"
      ]
     },
     "execution_count": 50,
     "metadata": {},
     "output_type": "execute_result"
    }
   ],
   "source": [
    "# Ковариационная матрица\n",
    "np.cov(x, y)"
   ]
  },
  {
   "cell_type": "code",
   "execution_count": 51,
   "metadata": {},
   "outputs": [
    {
     "data": {
      "text/plain": [
       "array([[ 1.        , -0.08744485],\n",
       "       [-0.08744485,  1.        ]])"
      ]
     },
     "execution_count": 51,
     "metadata": {},
     "output_type": "execute_result"
    }
   ],
   "source": [
    "# Корреляционная матрица\n",
    "np.corrcoef(x, y)"
   ]
  },
  {
   "cell_type": "markdown",
   "metadata": {},
   "source": [
    "## <center> МНК-оценки. Случай парной регрессии"
   ]
  },
  {
   "cell_type": "markdown",
   "metadata": {},
   "source": [
    "$$ \\textbf y_i = \\alpha + \\beta \\textbf x_i + \\epsilon_i $$\n",
    "$$ \\epsilon_i = \\textbf y_i - \\beta \\textbf x_i $$\n",
    "$$ \\sum_{i} \\epsilon_i^2 \\rightarrow  \\underset{\\alpha, \\beta}{min}$$\n",
    "$$ \\sum_{i} (\\textbf y_i - \\alpha - \\beta \\textbf x_i)^2 \\rightarrow  \\underset{\\alpha, \\beta}{min}$$\n",
    "\n",
    "#### <center> ...\n",
    "$$ \\hat{\\beta} = \\frac{cov(x, y)}{var(x)}, \\hat{\\alpha} = \\bar{y} - \\hat{\\beta} \\bar{x} $$\n",
    "\n",
    "\n"
   ]
  },
  {
   "cell_type": "markdown",
   "metadata": {},
   "source": [
    "## <center>МНК-оценки. Добавим вторую переменную.\n",
    "\n",
    "<center> Пусть мы добавим в парную регрессию вторую переменную $z$. Как изменится знак для первой переменной?\n",
    "    \n",
    "$$\\beta - \\beta_x = \\beta_z \\frac{cov(x, z)}{var(x)}$$"
   ]
  },
  {
   "cell_type": "markdown",
   "metadata": {},
   "source": [
    "Датасет \"Квартиры в пригородах Бостона\": https://www.cs.toronto.edu/~delve/data/boston/bostonDetail.html\n",
    "\n",
    "CRIME: Это уровень преступности на душу населения по городам \\\n",
    "ZM: Это доля жилой земли, зонированной для участков более 25 000 кв. Футов. \\\n",
    "INDUS: Это доля не торговых площадей в каждом городе. \\\n",
    "CHAS: Это фиктивная переменная реки Чарльз (она равна 1, если тракт ограничивает реку; 0 в противном случае) \\\n",
    "NOX: это концентрация оксидов азота (частей на 10 миллионов) \\\n",
    "РМ: это среднее количество комнат на одно жилище \\\n",
    "AGE: Это доля занятых владельцем единиц, построенных до 1940 года \\\n",
    "DIS: Это взвешенные расстояния до пяти бостонских центров занятости \\\n",
    "RAD: Это показатель доступности радиальных магистралей \\\n",
    "TAX: это полная стоимость налога на недвижимость на 10 000 долларов \\\n",
    "PTRATIO: Это соотношение учеников и учителей по городам \\\n",
    "BLACK: Это рассчитывается как 1000 (Bk - 0,63) ², где Bk - это доля людей афроамериканского происхождения по городам. \\\n",
    "LSTAT: это процент ниже статуса населения \\\n",
    "MEDV: это средняя стоимость домов, занимаемых владельцами, в 1000 долларов"
   ]
  },
  {
   "cell_type": "code",
   "execution_count": 67,
   "metadata": {},
   "outputs": [],
   "source": [
    "import numpy as np\n",
    "from sklearn.datasets import load_boston \n",
    "y, X = load_boston()['target'], load_boston()['data']\n",
    "np.hstack([np.ones([X.shape[0], 1]), X])\n",
    "# Добавим вектор единиц (модели с константой)\n",
    "X = np.hstack([np.ones([X.shape[0], 1]), X])\n",
    "y_name = 'price'\n",
    "X_names = list(load_boston()['feature_names'])\n",
    "X_names.insert(0,\"const\")"
   ]
  },
  {
   "cell_type": "code",
   "execution_count": 68,
   "metadata": {},
   "outputs": [
    {
     "data": {
      "text/plain": [
       "['const',\n",
       " 'CRIM',\n",
       " 'ZN',\n",
       " 'INDUS',\n",
       " 'CHAS',\n",
       " 'NOX',\n",
       " 'RM',\n",
       " 'AGE',\n",
       " 'DIS',\n",
       " 'RAD',\n",
       " 'TAX',\n",
       " 'PTRATIO',\n",
       " 'B',\n",
       " 'LSTAT']"
      ]
     },
     "execution_count": 68,
     "metadata": {},
     "output_type": "execute_result"
    }
   ],
   "source": [
    "X_names"
   ]
  },
  {
   "cell_type": "code",
   "execution_count": 69,
   "metadata": {},
   "outputs": [
    {
     "data": {
      "text/plain": [
       "array([24.03310617, -0.41519028])"
      ]
     },
     "execution_count": 69,
     "metadata": {},
     "output_type": "execute_result"
    }
   ],
   "source": [
    "# Парная регрессия с переменной CRIME\n",
    "X_reg = X[:, :2]\n",
    "reg_crime = np.linalg.inv(X_reg.T @ X_reg) @ X_reg.T @ y \n",
    "reg_crime"
   ]
  },
  {
   "cell_type": "code",
   "execution_count": 72,
   "metadata": {},
   "outputs": [
    {
     "data": {
      "text/plain": [
       "22.532806324110677"
      ]
     },
     "execution_count": 72,
     "metadata": {},
     "output_type": "execute_result"
    }
   ],
   "source": [
    "np.mean(y)"
   ]
  },
  {
   "cell_type": "code",
   "execution_count": 83,
   "metadata": {},
   "outputs": [
    {
     "data": {
      "text/plain": [
       "array([[1., 1.],\n",
       "       [1., 1.]])"
      ]
     },
     "execution_count": 83,
     "metadata": {},
     "output_type": "execute_result"
    }
   ],
   "source": [
    "np.corrcoef(X_reg_cent[:, 1] / np.std(X_reg_cent[:, 1]), X_reg[:, 1])"
   ]
  },
  {
   "cell_type": "code",
   "execution_count": 73,
   "metadata": {},
   "outputs": [],
   "source": [
    "X_reg_cent = X_reg.copy()\n",
    "X_reg_cent[:, 1] = X_reg_cent[:, 1] - np.mean(X_reg_cent[:, 1])\n",
    "np.linalg.inv(X_reg_cent.T @ X_reg_cent) @ X_reg_cent.T @ y "
   ]
  },
  {
   "cell_type": "code",
   "execution_count": 79,
   "metadata": {},
   "outputs": [
    {
     "data": {
      "text/plain": [
       "array([22.48562811, -0.35207832,  0.11610909])"
      ]
     },
     "execution_count": 79,
     "metadata": {},
     "output_type": "execute_result"
    }
   ],
   "source": [
    "# Добавим переменную ZM\n",
    "X_reg = X[:, :3]\n",
    "reg_crime_zm = np.linalg.inv(X_reg.T @ X_reg) @ X_reg.T @ y \n",
    "reg_crime_zm"
   ]
  },
  {
   "cell_type": "code",
   "execution_count": 87,
   "metadata": {},
   "outputs": [
    {
     "name": "stdout",
     "output_type": "stream",
     "text": [
      "Коэффициент изменился на -0.06311196227482346\n",
      "Согласно формуле коэффициент изменился на -0.06323693645754555\n"
     ]
    }
   ],
   "source": [
    "print(f\"Коэффициент изменился на {reg_crime[1] - reg_crime_zm[1]}\")\n",
    "diff_coef = reg_crime_zm[2] * np.cov(X[:, 1], X[:, 2])[0,1] / np.var(X[:, 1])\n",
    "print(f\"Согласно формуле коэффициент изменился на {diff_coef}\")"
   ]
  },
  {
   "cell_type": "code",
   "execution_count": 88,
   "metadata": {},
   "outputs": [
    {
     "data": {
      "text/plain": [
       "False"
      ]
     },
     "execution_count": 88,
     "metadata": {},
     "output_type": "execute_result"
    }
   ],
   "source": [
    "np.allclose(reg_crime[1] - reg_crime_zm[1], diff_coef)"
   ]
  },
  {
   "cell_type": "markdown",
   "metadata": {},
   "source": [
    "<center> Они почти равны, но не равны. Почему? Дело в том, что в numpy существует несколько способов вычисления дисперсий, ковариаций и корреляций - смещенные и несмещенные выборочные оценки своих теоретических аналогов. По умолчанию numpy использует смещенные оценки (в формуле ковариации, корреляции и дисперсии деление происходит не на $n-1$, а на  $n$. Исправим это."
   ]
  },
  {
   "cell_type": "code",
   "execution_count": 89,
   "metadata": {},
   "outputs": [
    {
     "name": "stdout",
     "output_type": "stream",
     "text": [
      "Коэффициент изменился на -0.06311196227482346\n",
      "Согласно формуле коэффициент изменился на -0.06311196227482312\n"
     ]
    }
   ],
   "source": [
    "print(f\"Коэффициент изменился на {reg_crime[1] - reg_crime_zm[1]}\")\n",
    "diff_coef = reg_crime_zm[2] * np.cov(X[:, 1], X[:, 2], \n",
    "                                     ddof = 1)[0,1] / np.var(X[:, 1],\n",
    "                                                            ddof = 1)\n",
    "print(f\"Согласно формуле коэффициент изменился на {diff_coef}\")\n",
    "# Порядок округления\n",
    "n_round = 14\n",
    "assert np.round(reg_crime[1] - reg_crime_zm[1], n_round) == np.round(diff_coef, n_round)"
   ]
  },
  {
   "cell_type": "markdown",
   "metadata": {},
   "source": [
    "Заметим, что $ \\frac{cov(x, z)}{var(x)} $ есть не что иное как оценка коэффициента наклона в регрессии $z$ на $ x$. Оценим при помощи МНК регрессию $z$ на $ x$:"
   ]
  },
  {
   "cell_type": "code",
   "execution_count": 91,
   "metadata": {},
   "outputs": [
    {
     "data": {
      "text/plain": [
       "array([13.32779403, -0.54355745])"
      ]
     },
     "execution_count": 91,
     "metadata": {},
     "output_type": "execute_result"
    }
   ],
   "source": [
    "np.linalg.lstsq(a=X[:, :2], b=X[:, 2], rcond=None)[0]"
   ]
  },
  {
   "cell_type": "code",
   "execution_count": 92,
   "metadata": {},
   "outputs": [
    {
     "name": "stdout",
     "output_type": "stream",
     "text": [
      "Коэффициент изменился на -0.06311196227482346\n",
      "Согласно формуле коэффициент изменился на -0.06311196227482314\n"
     ]
    }
   ],
   "source": [
    "print(f\"Коэффициент изменился на {reg_crime[1] - reg_crime_zm[1]}\")\n",
    "diff_coef = reg_crime_zm[2] * np.linalg.lstsq(a=X[:, :2], b=X[:, 2], rcond=None)[0][1]\n",
    "print(f\"Согласно формуле коэффициент изменился на {diff_coef}\")\n",
    "# Порядок округления\n",
    "n_round = 14\n",
    "assert np.round(reg_crime[1] - reg_crime_zm[1], n_round) == np.round(diff_coef, n_round)"
   ]
  },
  {
   "cell_type": "markdown",
   "metadata": {},
   "source": [
    "А что, если мы добавим в регрессию не одну, а две новые переменные? Здесь уже на помощь приходит **теорема Фриша-Во-Ловела**, которая гласит, что оценка МНК во множественной регрессии при первом факторе получена в результате очистки от влияния остальных факторов. Подробней здесь.\n",
    "http://bdemeshev.github.io/em301/notes_2016/frish-and-co.html\n",
    "\n",
    "Приведем пример."
   ]
  },
  {
   "cell_type": "code",
   "execution_count": 93,
   "metadata": {
    "scrolled": true
   },
   "outputs": [
    {
     "data": {
      "text/plain": [
       "array([27.39464678, -0.24862831,  0.05850082, -0.41557782])"
      ]
     },
     "execution_count": 93,
     "metadata": {},
     "output_type": "execute_result"
    }
   ],
   "source": [
    "# Добавим переменную ZM, INDUS\n",
    "X_reg = X[:, :4]\n",
    "reg_price_crime_zm_indus = np.linalg.inv(X_reg.T @ X_reg) @ X_reg.T @ y\n",
    "reg_price_crime_zm_indus"
   ]
  },
  {
   "cell_type": "code",
   "execution_count": 94,
   "metadata": {},
   "outputs": [],
   "source": [
    "# Оценим регрессию PRICE на ZM, INDUS\n",
    "X_reg = X[:, [0, 2,3]]\n",
    "reg_price_zm_indus = np.linalg.inv(X_reg.T @ X_reg) @ X_reg.T @ y\n",
    "reg_price_indus_residuals = y - X_reg @ reg_price_zm_indus"
   ]
  },
  {
   "cell_type": "code",
   "execution_count": 95,
   "metadata": {},
   "outputs": [],
   "source": [
    "# Оценим регрессию CRIME на ZM, INDUS\n",
    "X_reg, y = X[:, [0, 2,3]], X[:, 1]\n",
    "reg_crime_zm_indus = np.linalg.inv(X_reg.T @ X_reg) @ X_reg.T @ y\n",
    "reg_crime_zm_indus_residuals = y - X_reg @ reg_crime_zm_indus"
   ]
  },
  {
   "cell_type": "code",
   "execution_count": 96,
   "metadata": {},
   "outputs": [],
   "source": [
    "# Оценим остатки от регрессии PRICE на ZM, INDUS на остатки от регрессии CRIME на ZM, INDUS\n",
    "X_reg, y = reg_crime_zm_indus_residuals, reg_price_indus_residuals\n",
    "X_reg = np.hstack([np.ones([X_reg.shape[0], 1]), np.array([X_reg]).T])\n",
    "reg_PRICE_res_CRIME_res = np.linalg.inv(X_reg.T @ X_reg) @ X_reg.T @ y"
   ]
  },
  {
   "cell_type": "code",
   "execution_count": 101,
   "metadata": {},
   "outputs": [
    {
     "data": {
      "text/plain": [
       "False"
      ]
     },
     "execution_count": 101,
     "metadata": {},
     "output_type": "execute_result"
    }
   ],
   "source": [
    "n_dig = 14\n",
    "np.round(reg_PRICE_res_CRIME_res[1], n_dig) == np.round(reg_price_crime_zm_indus[1], n_dig)"
   ]
  },
  {
   "cell_type": "code",
   "execution_count": 100,
   "metadata": {},
   "outputs": [
    {
     "data": {
      "text/plain": [
       "True"
      ]
     },
     "execution_count": 100,
     "metadata": {},
     "output_type": "execute_result"
    }
   ],
   "source": [
    "np.allclose(reg_PRICE_res_CRIME_res[1], reg_price_crime_zm_indus[1])"
   ]
  },
  {
   "cell_type": "markdown",
   "metadata": {},
   "source": [
    "# kNN - метод ближайших соседей"
   ]
  },
  {
   "cell_type": "markdown",
   "metadata": {},
   "source": [
    "Реализация метода ближайших соседей для решения проблемы классификации без готовых пакетов, используя только numpy на датасете титаник.\n",
    "\n",
    "Задача: используя признаки Fare (стоимость билета на борт) и Pclass (класс каюты), попробуем классифицировать пассажиров в зависимости от того, выжили они или нет (Survived = 1 или 0)"
   ]
  },
  {
   "cell_type": "code",
   "execution_count": 102,
   "metadata": {},
   "outputs": [],
   "source": [
    "from catboost.datasets import titanic\n",
    "titanic_train, titanic_test = titanic()\n",
    "\n",
    "# Целевая переменная на тренировочном наборе данных\n",
    "y_train = titanic_train.Survived.values\n",
    "titanic_train['Age'] = titanic_train['Age'].fillna(titanic_train['Age'].mean())\n",
    "titanic_test['Age'] = titanic_test['Age'].fillna(titanic_train['Age'].mean())\n",
    "# Объясняющий признак на тренировочной и валидационной выборке\n",
    "X_train, X_test = titanic_train[[\"Fare\", \"Age\", \"Pclass\"]].values, \\\n",
    "                   titanic_test[[\"Fare\", \"Age\", \"Pclass\"]].values\n",
    "# # # Удалим пропуски из тестовой выборки\n",
    "X_test = X_test[np.isnan(X_test).sum(axis=1)==0]\n",
    "\n",
    "# Стандартизируем объясняющие признаки\n",
    "X_train_knn_scaled = (X_train - np.mean(X_train, axis=0)) / np.std(X_train, axis=0)\n",
    "X_test_knn_scaled = (X_test - np.mean(X_train, axis=0)) / np.std(X_train, axis=0)"
   ]
  },
  {
   "cell_type": "code",
   "execution_count": 103,
   "metadata": {},
   "outputs": [],
   "source": [
    "?np.linalg.norm"
   ]
  },
  {
   "cell_type": "code",
   "execution_count": 116,
   "metadata": {},
   "outputs": [
    {
     "name": "stdout",
     "output_type": "stream",
     "text": [
      "CPU times: user 15.4 ms, sys: 3.89 ms, total: 19.3 ms\n",
      "Wall time: 20.8 ms\n"
     ]
    }
   ],
   "source": [
    "%%time\n",
    "def get_dist(x):\n",
    "    ''' Создаем матрицу с попарными расстояниями между признаками на тестовой выборке\n",
    "    и тренировочной'''\n",
    "    return np.linalg.norm(x - X_train_knn_scaled, axis = 1)\n",
    "dist_mat = np.apply_along_axis(get_dist, 1, X_test_knn_scaled)\n",
    "\n",
    "# Берем 7 ближайших соседей (первые 7 индексов по возрастанию в тренировочной выборке)\n",
    "n = 7\n",
    "dist_mat_sort_index = dist_mat.argpartition(kth = n, axis = 1)[:, 0:n]\n",
    "# dist_mat_sort_index = dist_mat.argsort(axis = 1)[:, 0:n]\n",
    "# Заменяем в остортированной матрице расстояний индексы на соответствующие им значения целевой переменной\n",
    "\n",
    "dist_target = np.apply_along_axis(lambda x: y_train[x], 1, dist_mat_sort_index)\n",
    "\n",
    "# Предсказываем целевую переменную методом большинства\n",
    "y_pred = np.round(dist_target.mean(axis = 1),0)"
   ]
  },
  {
   "cell_type": "code",
   "execution_count": 121,
   "metadata": {},
   "outputs": [
    {
     "data": {
      "text/plain": [
       "array([ 7.8292, 34.5   ,  3.    ])"
      ]
     },
     "execution_count": 121,
     "metadata": {},
     "output_type": "execute_result"
    }
   ],
   "source": [
    "X_test[0, :]"
   ]
  },
  {
   "cell_type": "code",
   "execution_count": 31,
   "metadata": {},
   "outputs": [
    {
     "data": {
      "text/plain": [
       "array([0, 1, 2, 3, 4, 5])"
      ]
     },
     "execution_count": 31,
     "metadata": {},
     "output_type": "execute_result"
    }
   ],
   "source": [
    "dist_mat[0, 1:7].argpartition(kth = 5)"
   ]
  },
  {
   "cell_type": "code",
   "execution_count": 28,
   "metadata": {},
   "outputs": [
    {
     "data": {
      "text/plain": [
       "array([4, 2, 1, 3, 0, 5])"
      ]
     },
     "execution_count": 28,
     "metadata": {},
     "output_type": "execute_result"
    }
   ],
   "source": [
    "dist_mat[0, 1:7].argpartition(kth = 4)"
   ]
  },
  {
   "cell_type": "code",
   "execution_count": 29,
   "metadata": {},
   "outputs": [
    {
     "data": {
      "text/plain": [
       "array([3, 4, 1, 2, 0, 5])"
      ]
     },
     "execution_count": 29,
     "metadata": {},
     "output_type": "execute_result"
    }
   ],
   "source": [
    "dist_mat[0, 1:7].argpartition(kth = 3)"
   ]
  },
  {
   "cell_type": "code",
   "execution_count": 35,
   "metadata": {},
   "outputs": [
    {
     "data": {
      "text/plain": [
       "array([3, 4, 1, 0, 2, 5])"
      ]
     },
     "execution_count": 35,
     "metadata": {},
     "output_type": "execute_result"
    }
   ],
   "source": [
    "dist_mat[0, 1:7].argpartition(kth = 2)"
   ]
  },
  {
   "cell_type": "code",
   "execution_count": 36,
   "metadata": {},
   "outputs": [
    {
     "data": {
      "text/plain": [
       "array([3, 4, 2, 0, 1, 5])"
      ]
     },
     "execution_count": 36,
     "metadata": {},
     "output_type": "execute_result"
    }
   ],
   "source": [
    "dist_mat[0, 1:7].argpartition(kth = 1)"
   ]
  },
  {
   "cell_type": "code",
   "execution_count": 37,
   "metadata": {},
   "outputs": [
    {
     "data": {
      "text/plain": [
       "array([3, 1, 2, 0, 4, 5])"
      ]
     },
     "execution_count": 37,
     "metadata": {},
     "output_type": "execute_result"
    }
   ],
   "source": [
    "dist_mat[0, 1:7].argpartition(kth = 0)"
   ]
  },
  {
   "cell_type": "code",
   "execution_count": 32,
   "metadata": {},
   "outputs": [
    {
     "data": {
      "text/plain": [
       "array([2.73, 0.65, 2.56, 0.04, 0.37, 2.96])"
      ]
     },
     "execution_count": 32,
     "metadata": {},
     "output_type": "execute_result"
    }
   ],
   "source": [
    "np.round(dist_mat[0, 1:7], 2)"
   ]
  },
  {
   "cell_type": "code",
   "execution_count": 33,
   "metadata": {},
   "outputs": [
    {
     "data": {
      "text/plain": [
       "array([1, 4, 2, 3])"
      ]
     },
     "execution_count": 33,
     "metadata": {},
     "output_type": "execute_result"
    }
   ],
   "source": [
    "np.partition([3,4,2,1], 0)"
   ]
  },
  {
   "cell_type": "code",
   "execution_count": 146,
   "metadata": {},
   "outputs": [
    {
     "data": {
      "text/plain": [
       "array([1, 0, 0, 0, 1, 1, 0])"
      ]
     },
     "execution_count": 146,
     "metadata": {},
     "output_type": "execute_result"
    }
   ],
   "source": [
    "dist_target[0]"
   ]
  },
  {
   "cell_type": "code",
   "execution_count": 9,
   "metadata": {},
   "outputs": [
    {
     "data": {
      "text/plain": [
       "array([[614,   4, 843, ..., 847, 758, 590],\n",
       "       [771, 132, 203, ..., 592, 873, 276],\n",
       "       [ 33, 772, 232, ..., 570,  15, 684],\n",
       "       ...,\n",
       "       [465, 528, 400, ..., 471, 661, 561],\n",
       "       [ 95, 304, 121, ..., 837, 564,  45],\n",
       "       [128, 533,  48, ..., 301, 888, 783]])"
      ]
     },
     "execution_count": 9,
     "metadata": {},
     "output_type": "execute_result"
    }
   ],
   "source": [
    "dist_mat_sort_index"
   ]
  },
  {
   "cell_type": "code",
   "execution_count": 10,
   "metadata": {
    "scrolled": true
   },
   "outputs": [],
   "source": [
    "from sklearn.neighbors import KNeighborsClassifier\n",
    "knn_7 = KNeighborsClassifier(7)\n",
    "knn_7.fit(X_train_knn_scaled, y_train)\n",
    "knn_sklearn_predict = knn_7.predict(X_test_knn_scaled.astype('float32'))\n",
    "knn_sklearn_predict_proba = knn_7.predict_proba(X_test_knn_scaled.astype('float32'))"
   ]
  },
  {
   "cell_type": "code",
   "execution_count": 18,
   "metadata": {},
   "outputs": [
    {
     "data": {
      "text/plain": [
       "(6,)"
      ]
     },
     "execution_count": 18,
     "metadata": {},
     "output_type": "execute_result"
    }
   ],
   "source": [
    "y_pred[y_pred != knn_sklearn_predict].shape"
   ]
  },
  {
   "cell_type": "code",
   "execution_count": 19,
   "metadata": {},
   "outputs": [
    {
     "data": {
      "text/plain": [
       "array([[1.        , 0.        ],\n",
       "       [1.        , 0.        ],\n",
       "       [0.71428571, 0.28571429],\n",
       "       [0.14285714, 0.85714286],\n",
       "       [1.        , 0.        ],\n",
       "       [0.42857143, 0.57142857],\n",
       "       [1.        , 0.        ],\n",
       "       [0.42857143, 0.57142857],\n",
       "       [0.85714286, 0.14285714],\n",
       "       [0.71428571, 0.28571429],\n",
       "       [1.        , 0.        ],\n",
       "       [0.42857143, 0.57142857],\n",
       "       [0.28571429, 0.71428571],\n",
       "       [0.85714286, 0.14285714],\n",
       "       [0.42857143, 0.57142857],\n",
       "       [0.28571429, 0.71428571],\n",
       "       [0.57142857, 0.42857143],\n",
       "       [0.71428571, 0.28571429],\n",
       "       [0.14285714, 0.85714286],\n",
       "       [0.71428571, 0.28571429],\n",
       "       [0.57142857, 0.42857143],\n",
       "       [0.28571429, 0.71428571],\n",
       "       [0.42857143, 0.57142857],\n",
       "       [0.14285714, 0.85714286],\n",
       "       [0.42857143, 0.57142857],\n",
       "       [1.        , 0.        ],\n",
       "       [0.        , 1.        ],\n",
       "       [0.71428571, 0.28571429],\n",
       "       [0.42857143, 0.57142857],\n",
       "       [0.42857143, 0.57142857],\n",
       "       [0.85714286, 0.14285714],\n",
       "       [0.28571429, 0.71428571],\n",
       "       [0.57142857, 0.42857143],\n",
       "       [0.57142857, 0.42857143],\n",
       "       [0.28571429, 0.71428571],\n",
       "       [0.85714286, 0.14285714],\n",
       "       [1.        , 0.        ],\n",
       "       [1.        , 0.        ],\n",
       "       [0.85714286, 0.14285714],\n",
       "       [0.42857143, 0.57142857],\n",
       "       [0.85714286, 0.14285714],\n",
       "       [0.85714286, 0.14285714],\n",
       "       [1.        , 0.        ],\n",
       "       [0.42857143, 0.57142857],\n",
       "       [0.42857143, 0.57142857],\n",
       "       [0.85714286, 0.14285714],\n",
       "       [0.71428571, 0.28571429],\n",
       "       [0.71428571, 0.28571429],\n",
       "       [0.14285714, 0.85714286],\n",
       "       [0.71428571, 0.28571429],\n",
       "       [0.        , 1.        ],\n",
       "       [0.57142857, 0.42857143],\n",
       "       [0.42857143, 0.57142857],\n",
       "       [0.42857143, 0.57142857],\n",
       "       [0.57142857, 0.42857143],\n",
       "       [1.        , 0.        ],\n",
       "       [1.        , 0.        ],\n",
       "       [0.85714286, 0.14285714],\n",
       "       [0.28571429, 0.71428571],\n",
       "       [0.42857143, 0.57142857],\n",
       "       [0.85714286, 0.14285714],\n",
       "       [0.42857143, 0.57142857],\n",
       "       [0.71428571, 0.28571429],\n",
       "       [0.57142857, 0.42857143],\n",
       "       [0.28571429, 0.71428571],\n",
       "       [0.42857143, 0.57142857],\n",
       "       [0.71428571, 0.28571429],\n",
       "       [0.57142857, 0.42857143],\n",
       "       [0.42857143, 0.57142857],\n",
       "       [0.14285714, 0.85714286],\n",
       "       [0.85714286, 0.14285714],\n",
       "       [0.85714286, 0.14285714],\n",
       "       [0.71428571, 0.28571429],\n",
       "       [0.71428571, 0.28571429],\n",
       "       [0.42857143, 0.57142857],\n",
       "       [0.42857143, 0.57142857],\n",
       "       [1.        , 0.        ],\n",
       "       [0.57142857, 0.42857143],\n",
       "       [0.42857143, 0.57142857],\n",
       "       [0.85714286, 0.14285714],\n",
       "       [0.14285714, 0.85714286],\n",
       "       [0.14285714, 0.85714286],\n",
       "       [0.42857143, 0.57142857],\n",
       "       [1.        , 0.        ],\n",
       "       [0.42857143, 0.57142857],\n",
       "       [0.85714286, 0.14285714],\n",
       "       [0.28571429, 0.71428571],\n",
       "       [0.85714286, 0.14285714],\n",
       "       [0.71428571, 0.28571429],\n",
       "       [0.        , 1.        ],\n",
       "       [1.        , 0.        ],\n",
       "       [0.57142857, 0.42857143],\n",
       "       [0.42857143, 0.57142857],\n",
       "       [1.        , 0.        ],\n",
       "       [0.42857143, 0.57142857],\n",
       "       [0.85714286, 0.14285714],\n",
       "       [0.57142857, 0.42857143],\n",
       "       [0.71428571, 0.28571429],\n",
       "       [0.71428571, 0.28571429],\n",
       "       [1.        , 0.        ],\n",
       "       [0.42857143, 0.57142857],\n",
       "       [0.57142857, 0.42857143],\n",
       "       [0.71428571, 0.28571429],\n",
       "       [0.71428571, 0.28571429],\n",
       "       [0.57142857, 0.42857143],\n",
       "       [0.42857143, 0.57142857],\n",
       "       [0.85714286, 0.14285714],\n",
       "       [0.71428571, 0.28571429],\n",
       "       [0.85714286, 0.14285714],\n",
       "       [0.71428571, 0.28571429],\n",
       "       [0.28571429, 0.71428571],\n",
       "       [0.57142857, 0.42857143],\n",
       "       [0.28571429, 0.71428571],\n",
       "       [0.85714286, 0.14285714],\n",
       "       [0.14285714, 0.85714286],\n",
       "       [0.71428571, 0.28571429],\n",
       "       [0.85714286, 0.14285714],\n",
       "       [0.14285714, 0.85714286],\n",
       "       [0.14285714, 0.85714286],\n",
       "       [0.42857143, 0.57142857],\n",
       "       [0.28571429, 0.71428571],\n",
       "       [0.71428571, 0.28571429],\n",
       "       [0.14285714, 0.85714286],\n",
       "       [1.        , 0.        ],\n",
       "       [0.71428571, 0.28571429],\n",
       "       [1.        , 0.        ],\n",
       "       [0.57142857, 0.42857143],\n",
       "       [0.42857143, 0.57142857],\n",
       "       [0.28571429, 0.71428571],\n",
       "       [0.85714286, 0.14285714],\n",
       "       [0.57142857, 0.42857143],\n",
       "       [0.57142857, 0.42857143],\n",
       "       [0.85714286, 0.14285714],\n",
       "       [0.85714286, 0.14285714],\n",
       "       [0.85714286, 0.14285714],\n",
       "       [0.85714286, 0.14285714],\n",
       "       [0.57142857, 0.42857143],\n",
       "       [0.85714286, 0.14285714],\n",
       "       [0.85714286, 0.14285714],\n",
       "       [0.85714286, 0.14285714],\n",
       "       [1.        , 0.        ],\n",
       "       [0.14285714, 0.85714286],\n",
       "       [0.14285714, 0.85714286],\n",
       "       [0.42857143, 0.57142857],\n",
       "       [0.42857143, 0.57142857],\n",
       "       [0.57142857, 0.42857143],\n",
       "       [0.57142857, 0.42857143],\n",
       "       [0.71428571, 0.28571429],\n",
       "       [0.85714286, 0.14285714],\n",
       "       [0.42857143, 0.57142857],\n",
       "       [0.28571429, 0.71428571],\n",
       "       [1.        , 0.        ],\n",
       "       [0.85714286, 0.14285714],\n",
       "       [1.        , 0.        ],\n",
       "       [0.85714286, 0.14285714],\n",
       "       [0.57142857, 0.42857143],\n",
       "       [0.85714286, 0.14285714],\n",
       "       [0.42857143, 0.57142857],\n",
       "       [0.57142857, 0.42857143],\n",
       "       [0.57142857, 0.42857143],\n",
       "       [0.28571429, 0.71428571],\n",
       "       [0.85714286, 0.14285714],\n",
       "       [0.85714286, 0.14285714],\n",
       "       [0.28571429, 0.71428571],\n",
       "       [0.85714286, 0.14285714],\n",
       "       [0.42857143, 0.57142857],\n",
       "       [1.        , 0.        ],\n",
       "       [0.85714286, 0.14285714],\n",
       "       [1.        , 0.        ],\n",
       "       [0.85714286, 0.14285714],\n",
       "       [0.42857143, 0.57142857],\n",
       "       [0.71428571, 0.28571429],\n",
       "       [0.71428571, 0.28571429],\n",
       "       [0.85714286, 0.14285714],\n",
       "       [0.28571429, 0.71428571],\n",
       "       [0.14285714, 0.85714286],\n",
       "       [0.42857143, 0.57142857],\n",
       "       [0.71428571, 0.28571429],\n",
       "       [0.28571429, 0.71428571],\n",
       "       [0.42857143, 0.57142857],\n",
       "       [0.14285714, 0.85714286],\n",
       "       [0.14285714, 0.85714286],\n",
       "       [0.71428571, 0.28571429],\n",
       "       [0.57142857, 0.42857143],\n",
       "       [0.42857143, 0.57142857],\n",
       "       [0.28571429, 0.71428571],\n",
       "       [0.85714286, 0.14285714],\n",
       "       [1.        , 0.        ],\n",
       "       [0.42857143, 0.57142857],\n",
       "       [0.57142857, 0.42857143],\n",
       "       [0.85714286, 0.14285714],\n",
       "       [0.42857143, 0.57142857],\n",
       "       [0.71428571, 0.28571429],\n",
       "       [0.        , 1.        ],\n",
       "       [0.85714286, 0.14285714],\n",
       "       [0.28571429, 0.71428571],\n",
       "       [0.71428571, 0.28571429],\n",
       "       [0.85714286, 0.14285714],\n",
       "       [0.85714286, 0.14285714],\n",
       "       [0.42857143, 0.57142857],\n",
       "       [0.        , 1.        ],\n",
       "       [0.28571429, 0.71428571],\n",
       "       [0.        , 1.        ],\n",
       "       [0.85714286, 0.14285714],\n",
       "       [0.85714286, 0.14285714],\n",
       "       [1.        , 0.        ],\n",
       "       [0.71428571, 0.28571429],\n",
       "       [0.14285714, 0.85714286],\n",
       "       [0.85714286, 0.14285714],\n",
       "       [0.71428571, 0.28571429],\n",
       "       [0.85714286, 0.14285714],\n",
       "       [0.71428571, 0.28571429],\n",
       "       [0.71428571, 0.28571429],\n",
       "       [0.85714286, 0.14285714],\n",
       "       [0.42857143, 0.57142857],\n",
       "       [0.57142857, 0.42857143],\n",
       "       [0.42857143, 0.57142857],\n",
       "       [0.        , 1.        ],\n",
       "       [1.        , 0.        ],\n",
       "       [0.42857143, 0.57142857],\n",
       "       [0.85714286, 0.14285714],\n",
       "       [0.85714286, 0.14285714],\n",
       "       [0.85714286, 0.14285714],\n",
       "       [0.57142857, 0.42857143],\n",
       "       [0.42857143, 0.57142857],\n",
       "       [0.85714286, 0.14285714],\n",
       "       [0.71428571, 0.28571429],\n",
       "       [1.        , 0.        ],\n",
       "       [0.71428571, 0.28571429],\n",
       "       [0.57142857, 0.42857143],\n",
       "       [0.        , 1.        ],\n",
       "       [0.71428571, 0.28571429],\n",
       "       [0.57142857, 0.42857143],\n",
       "       [0.14285714, 0.85714286],\n",
       "       [0.71428571, 0.28571429],\n",
       "       [0.28571429, 0.71428571],\n",
       "       [0.71428571, 0.28571429],\n",
       "       [0.71428571, 0.28571429],\n",
       "       [0.71428571, 0.28571429],\n",
       "       [0.57142857, 0.42857143],\n",
       "       [0.71428571, 0.28571429],\n",
       "       [0.28571429, 0.71428571],\n",
       "       [1.        , 0.        ],\n",
       "       [0.57142857, 0.42857143],\n",
       "       [0.28571429, 0.71428571],\n",
       "       [0.57142857, 0.42857143],\n",
       "       [0.57142857, 0.42857143],\n",
       "       [0.42857143, 0.57142857],\n",
       "       [0.85714286, 0.14285714],\n",
       "       [0.        , 1.        ],\n",
       "       [0.71428571, 0.28571429],\n",
       "       [0.28571429, 0.71428571],\n",
       "       [0.85714286, 0.14285714],\n",
       "       [0.85714286, 0.14285714],\n",
       "       [0.85714286, 0.14285714],\n",
       "       [0.71428571, 0.28571429],\n",
       "       [1.        , 0.        ],\n",
       "       [0.71428571, 0.28571429],\n",
       "       [0.71428571, 0.28571429],\n",
       "       [0.71428571, 0.28571429],\n",
       "       [0.85714286, 0.14285714],\n",
       "       [0.42857143, 0.57142857],\n",
       "       [0.14285714, 0.85714286],\n",
       "       [0.42857143, 0.57142857],\n",
       "       [1.        , 0.        ],\n",
       "       [0.85714286, 0.14285714],\n",
       "       [0.85714286, 0.14285714],\n",
       "       [1.        , 0.        ],\n",
       "       [0.85714286, 0.14285714],\n",
       "       [0.57142857, 0.42857143],\n",
       "       [0.71428571, 0.28571429],\n",
       "       [0.28571429, 0.71428571],\n",
       "       [0.42857143, 0.57142857],\n",
       "       [0.85714286, 0.14285714],\n",
       "       [0.42857143, 0.57142857],\n",
       "       [0.42857143, 0.57142857],\n",
       "       [0.57142857, 0.42857143],\n",
       "       [0.42857143, 0.57142857],\n",
       "       [0.85714286, 0.14285714],\n",
       "       [0.85714286, 0.14285714],\n",
       "       [0.14285714, 0.85714286],\n",
       "       [0.71428571, 0.28571429],\n",
       "       [0.57142857, 0.42857143],\n",
       "       [0.28571429, 0.71428571],\n",
       "       [1.        , 0.        ],\n",
       "       [0.71428571, 0.28571429],\n",
       "       [0.28571429, 0.71428571],\n",
       "       [0.71428571, 0.28571429],\n",
       "       [1.        , 0.        ],\n",
       "       [0.57142857, 0.42857143],\n",
       "       [1.        , 0.        ],\n",
       "       [0.71428571, 0.28571429],\n",
       "       [0.28571429, 0.71428571],\n",
       "       [1.        , 0.        ],\n",
       "       [0.71428571, 0.28571429],\n",
       "       [0.        , 1.        ],\n",
       "       [0.42857143, 0.57142857],\n",
       "       [0.71428571, 0.28571429],\n",
       "       [0.71428571, 0.28571429],\n",
       "       [0.57142857, 0.42857143],\n",
       "       [0.57142857, 0.42857143],\n",
       "       [0.57142857, 0.42857143],\n",
       "       [0.85714286, 0.14285714],\n",
       " "
      ]
     },
     "execution_count": 19,
     "metadata": {},
     "output_type": "execute_result"
    },
    {
     "data": {
      "text/html": [
       "<b>limit_output extension: Maximum message size of 10000 exceeded with 13761 characters</b>"
      ]
     },
     "metadata": {},
     "output_type": "display_data"
    }
   ],
   "source": [
    "knn_sklearn_predict_proba"
   ]
  },
  {
   "cell_type": "code",
   "execution_count": 20,
   "metadata": {},
   "outputs": [
    {
     "data": {
      "text/plain": [
       "array([[0.42857143, 0.57142857],\n",
       "       [0.57142857, 0.42857143],\n",
       "       [0.57142857, 0.42857143],\n",
       "       [0.57142857, 0.42857143],\n",
       "       [0.42857143, 0.57142857],\n",
       "       [0.42857143, 0.57142857]])"
      ]
     },
     "execution_count": 20,
     "metadata": {},
     "output_type": "execute_result"
    }
   ],
   "source": [
    "knn_sklearn_predict_proba[y_pred != knn_sklearn_predict]"
   ]
  },
  {
   "cell_type": "markdown",
   "metadata": {},
   "source": [
    "6 из 417 прогнозных значений нашего ручного алгоритма отличаются от предсказанного через реализацию sklearn. \n",
    "\n",
    "**Задание со звездочкой: подумайте, почему?**"
   ]
  },
  {
   "cell_type": "code",
   "execution_count": null,
   "metadata": {},
   "outputs": [],
   "source": []
  }
 ],
 "metadata": {
  "kernelspec": {
   "display_name": "Python 3",
   "language": "python",
   "name": "python3"
  },
  "language_info": {
   "codemirror_mode": {
    "name": "ipython",
    "version": 3
   },
   "file_extension": ".py",
   "mimetype": "text/x-python",
   "name": "python",
   "nbconvert_exporter": "python",
   "pygments_lexer": "ipython3",
   "version": "3.8.3"
  },
  "toc": {
   "base_numbering": 1,
   "nav_menu": {},
   "number_sections": true,
   "sideBar": true,
   "skip_h1_title": false,
   "title_cell": "Table of Contents",
   "title_sidebar": "Contents",
   "toc_cell": false,
   "toc_position": {},
   "toc_section_display": true,
   "toc_window_display": false
  },
  "varInspector": {
   "cols": {
    "lenName": 16,
    "lenType": 16,
    "lenVar": 40
   },
   "kernels_config": {
    "python": {
     "delete_cmd_postfix": "",
     "delete_cmd_prefix": "del ",
     "library": "var_list.py",
     "varRefreshCmd": "print(var_dic_list())"
    },
    "r": {
     "delete_cmd_postfix": ") ",
     "delete_cmd_prefix": "rm(",
     "library": "var_list.r",
     "varRefreshCmd": "cat(var_dic_list()) "
    }
   },
   "types_to_exclude": [
    "module",
    "function",
    "builtin_function_or_method",
    "instance",
    "_Feature"
   ],
   "window_display": false
  }
 },
 "nbformat": 4,
 "nbformat_minor": 4
}
