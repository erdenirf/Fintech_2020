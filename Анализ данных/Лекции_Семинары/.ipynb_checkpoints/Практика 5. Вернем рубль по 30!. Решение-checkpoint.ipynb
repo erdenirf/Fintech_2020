{
 "cells": [
  {
   "cell_type": "markdown",
   "metadata": {},
   "source": [
    "# 0. Импорт данных из различных источников в Python"
   ]
  },
  {
   "cell_type": "markdown",
   "metadata": {},
   "source": [
    "Источники:\n",
    "\n",
    "Tiingo, IEX, Alpha Vantage, Enigma, Quandl \\\n",
    "St.Louis FED (FRED), Kenneth French’s data library, World Bank \\\n",
    "OECD, Eurostat, Thrift Savings Plan, Nasdaq Trader symbol definitions \\\n",
    "Stooq, MOEX, Naver Finance\n",
    "\n",
    "\n",
    "https://pandas-datareader.readthedocs.io/en/latest/remote_data.html"
   ]
  },
  {
   "cell_type": "code",
   "execution_count": 1,
   "metadata": {},
   "outputs": [],
   "source": [
    "# import data reader package\n",
    "import pandas_datareader as pdr\n",
    "\n",
    "import pandas as pd\n",
    "from datetime import datetime\n",
    "import numpy as np\n",
    "\n",
    "import warnings\n",
    "warnings.filterwarnings(\"ignore\")"
   ]
  },
  {
   "cell_type": "code",
   "execution_count": 2,
   "metadata": {},
   "outputs": [
    {
     "data": {
      "text/html": [
       "<div>\n",
       "<style scoped>\n",
       "    .dataframe tbody tr th:only-of-type {\n",
       "        vertical-align: middle;\n",
       "    }\n",
       "\n",
       "    .dataframe tbody tr th {\n",
       "        vertical-align: top;\n",
       "    }\n",
       "\n",
       "    .dataframe thead th {\n",
       "        text-align: right;\n",
       "    }\n",
       "</style>\n",
       "<table border=\"1\" class=\"dataframe\">\n",
       "  <thead>\n",
       "    <tr style=\"text-align: right;\">\n",
       "      <th></th>\n",
       "      <th>High</th>\n",
       "      <th>Low</th>\n",
       "      <th>Open</th>\n",
       "      <th>Close</th>\n",
       "      <th>Volume</th>\n",
       "      <th>Adj Close</th>\n",
       "    </tr>\n",
       "    <tr>\n",
       "      <th>Date</th>\n",
       "      <th></th>\n",
       "      <th></th>\n",
       "      <th></th>\n",
       "      <th></th>\n",
       "      <th></th>\n",
       "      <th></th>\n",
       "    </tr>\n",
       "  </thead>\n",
       "  <tbody>\n",
       "    <tr>\n",
       "      <th>2003-12-01</th>\n",
       "      <td>29.730000</td>\n",
       "      <td>29.690001</td>\n",
       "      <td>29.730000</td>\n",
       "      <td>29.700001</td>\n",
       "      <td>0.0</td>\n",
       "      <td>29.700001</td>\n",
       "    </tr>\n",
       "    <tr>\n",
       "      <th>2003-12-02</th>\n",
       "      <td>29.700001</td>\n",
       "      <td>29.690001</td>\n",
       "      <td>29.690001</td>\n",
       "      <td>29.690001</td>\n",
       "      <td>0.0</td>\n",
       "      <td>29.690001</td>\n",
       "    </tr>\n",
       "    <tr>\n",
       "      <th>2003-12-03</th>\n",
       "      <td>29.690001</td>\n",
       "      <td>29.690001</td>\n",
       "      <td>29.690001</td>\n",
       "      <td>29.690001</td>\n",
       "      <td>0.0</td>\n",
       "      <td>29.690001</td>\n",
       "    </tr>\n",
       "    <tr>\n",
       "      <th>2003-12-04</th>\n",
       "      <td>29.680000</td>\n",
       "      <td>29.680000</td>\n",
       "      <td>29.680000</td>\n",
       "      <td>29.680000</td>\n",
       "      <td>0.0</td>\n",
       "      <td>29.680000</td>\n",
       "    </tr>\n",
       "    <tr>\n",
       "      <th>2003-12-05</th>\n",
       "      <td>29.629999</td>\n",
       "      <td>29.629999</td>\n",
       "      <td>29.629999</td>\n",
       "      <td>29.620001</td>\n",
       "      <td>0.0</td>\n",
       "      <td>29.620001</td>\n",
       "    </tr>\n",
       "  </tbody>\n",
       "</table>\n",
       "</div>"
      ],
      "text/plain": [
       "                 High        Low       Open      Close  Volume  Adj Close\n",
       "Date                                                                     \n",
       "2003-12-01  29.730000  29.690001  29.730000  29.700001     0.0  29.700001\n",
       "2003-12-02  29.700001  29.690001  29.690001  29.690001     0.0  29.690001\n",
       "2003-12-03  29.690001  29.690001  29.690001  29.690001     0.0  29.690001\n",
       "2003-12-04  29.680000  29.680000  29.680000  29.680000     0.0  29.680000\n",
       "2003-12-05  29.629999  29.629999  29.629999  29.620001     0.0  29.620001"
      ]
     },
     "execution_count": 2,
     "metadata": {},
     "output_type": "execute_result"
    }
   ],
   "source": [
    "# Выкачаем данные из yahoo finance \n",
    "# Вернем рубль по 30 !\n",
    "start = datetime(2000, 1, 1)\n",
    "end = datetime(2020, 12, 1)\n",
    "rub = pdr.data.DataReader(\"USDRUB=X\", 'yahoo', start, end)\n",
    "rub[:5] "
   ]
  },
  {
   "cell_type": "markdown",
   "metadata": {},
   "source": [
    "В данных заданиях под курсом рубля подразумевается обменный курс рубля к доллару - за 1 доллар столько то рублей. Падение курса - значит за 1 доллар дают теперь больше рублей. Смотрим на цену закрытия (Close), если не сказано другое."
   ]
  },
  {
   "cell_type": "markdown",
   "metadata": {},
   "source": [
    "1. В какой день наблюдалось наибольшее падение курса рубля. Какой это был день недели? Какой это был месяц и год?"
   ]
  },
  {
   "cell_type": "code",
   "execution_count": 3,
   "metadata": {},
   "outputs": [],
   "source": [
    "# Method pct_change\n",
    "rub['diff'] = rub['Open'].pct_change()\n",
    "# Через shift \n",
    "rub['diff_'] = rub['Open'] / rub['Open'].shift(1)"
   ]
  },
  {
   "cell_type": "code",
   "execution_count": 8,
   "metadata": {},
   "outputs": [],
   "source": [
    "rub['Open_lag'] = rub['Open'].shift(1)"
   ]
  },
  {
   "cell_type": "code",
   "execution_count": 10,
   "metadata": {},
   "outputs": [
    {
     "data": {
      "text/plain": [
       "Date\n",
       "2003-12-01         NaN\n",
       "2003-12-02   -0.001345\n",
       "2003-12-03    0.000000\n",
       "2003-12-04   -0.000337\n",
       "2003-12-05   -0.001685\n",
       "                ...   \n",
       "2020-11-26    0.002162\n",
       "2020-11-27    0.001327\n",
       "2020-11-30    0.004250\n",
       "2020-12-01    0.005105\n",
       "2020-12-02   -0.005786\n",
       "Name: Open, Length: 4300, dtype: float64"
      ]
     },
     "execution_count": 10,
     "metadata": {},
     "output_type": "execute_result"
    }
   ],
   "source": [
    "rub['Open_diff'] = rub['Open'] / rub['Open_lag']\n",
    "rub['Open'].pct_change()"
   ]
  },
  {
   "cell_type": "code",
   "execution_count": 56,
   "metadata": {},
   "outputs": [
    {
     "data": {
      "text/html": [
       "<div>\n",
       "<style scoped>\n",
       "    .dataframe tbody tr th:only-of-type {\n",
       "        vertical-align: middle;\n",
       "    }\n",
       "\n",
       "    .dataframe tbody tr th {\n",
       "        vertical-align: top;\n",
       "    }\n",
       "\n",
       "    .dataframe thead th {\n",
       "        text-align: right;\n",
       "    }\n",
       "</style>\n",
       "<table border=\"1\" class=\"dataframe\">\n",
       "  <thead>\n",
       "    <tr style=\"text-align: right;\">\n",
       "      <th></th>\n",
       "      <th>High</th>\n",
       "      <th>Low</th>\n",
       "      <th>Open</th>\n",
       "      <th>Close</th>\n",
       "      <th>Volume</th>\n",
       "      <th>Adj Close</th>\n",
       "      <th>diff</th>\n",
       "      <th>diff_</th>\n",
       "    </tr>\n",
       "    <tr>\n",
       "      <th>Date</th>\n",
       "      <th></th>\n",
       "      <th></th>\n",
       "      <th></th>\n",
       "      <th></th>\n",
       "      <th></th>\n",
       "      <th></th>\n",
       "      <th></th>\n",
       "      <th></th>\n",
       "    </tr>\n",
       "  </thead>\n",
       "  <tbody>\n",
       "    <tr>\n",
       "      <th>2014-12-17</th>\n",
       "      <td>72.2575</td>\n",
       "      <td>60.248901</td>\n",
       "      <td>71.657501</td>\n",
       "      <td>68.025002</td>\n",
       "      <td>0.0</td>\n",
       "      <td>68.025002</td>\n",
       "      <td>0.160257</td>\n",
       "      <td>1.160257</td>\n",
       "    </tr>\n",
       "  </tbody>\n",
       "</table>\n",
       "</div>"
      ],
      "text/plain": [
       "               High        Low       Open      Close  Volume  Adj Close  \\\n",
       "Date                                                                      \n",
       "2014-12-17  72.2575  60.248901  71.657501  68.025002     0.0  68.025002   \n",
       "\n",
       "                diff     diff_  \n",
       "Date                            \n",
       "2014-12-17  0.160257  1.160257  "
      ]
     },
     "execution_count": 56,
     "metadata": {},
     "output_type": "execute_result"
    }
   ],
   "source": [
    "rub[rub['diff_'] == rub['diff_'].max()]"
   ]
  },
  {
   "cell_type": "code",
   "execution_count": 54,
   "metadata": {},
   "outputs": [
    {
     "data": {
      "text/html": [
       "<div>\n",
       "<style scoped>\n",
       "    .dataframe tbody tr th:only-of-type {\n",
       "        vertical-align: middle;\n",
       "    }\n",
       "\n",
       "    .dataframe tbody tr th {\n",
       "        vertical-align: top;\n",
       "    }\n",
       "\n",
       "    .dataframe thead th {\n",
       "        text-align: right;\n",
       "    }\n",
       "</style>\n",
       "<table border=\"1\" class=\"dataframe\">\n",
       "  <thead>\n",
       "    <tr style=\"text-align: right;\">\n",
       "      <th></th>\n",
       "      <th>High</th>\n",
       "      <th>Low</th>\n",
       "      <th>Open</th>\n",
       "      <th>Close</th>\n",
       "      <th>Volume</th>\n",
       "      <th>Adj Close</th>\n",
       "      <th>diff</th>\n",
       "      <th>diff_</th>\n",
       "    </tr>\n",
       "    <tr>\n",
       "      <th>Date</th>\n",
       "      <th></th>\n",
       "      <th></th>\n",
       "      <th></th>\n",
       "      <th></th>\n",
       "      <th></th>\n",
       "      <th></th>\n",
       "      <th></th>\n",
       "      <th></th>\n",
       "    </tr>\n",
       "  </thead>\n",
       "  <tbody>\n",
       "    <tr>\n",
       "      <th>2014-12-17</th>\n",
       "      <td>72.2575</td>\n",
       "      <td>60.248901</td>\n",
       "      <td>71.657501</td>\n",
       "      <td>68.025002</td>\n",
       "      <td>0.0</td>\n",
       "      <td>68.025002</td>\n",
       "      <td>0.160257</td>\n",
       "      <td>0.861878</td>\n",
       "    </tr>\n",
       "  </tbody>\n",
       "</table>\n",
       "</div>"
      ],
      "text/plain": [
       "               High        Low       Open      Close  Volume  Adj Close  \\\n",
       "Date                                                                      \n",
       "2014-12-17  72.2575  60.248901  71.657501  68.025002     0.0  68.025002   \n",
       "\n",
       "                diff     diff_  \n",
       "Date                            \n",
       "2014-12-17  0.160257  0.861878  "
      ]
     },
     "execution_count": 54,
     "metadata": {},
     "output_type": "execute_result"
    }
   ],
   "source": [
    "rub[rub['diff'] == rub['diff'].max()]"
   ]
  },
  {
   "cell_type": "code",
   "execution_count": 60,
   "metadata": {},
   "outputs": [
    {
     "data": {
      "text/plain": [
       "Int64Index([2014], dtype='int64', name='Date')"
      ]
     },
     "execution_count": 60,
     "metadata": {},
     "output_type": "execute_result"
    }
   ],
   "source": [
    "rub[rub['diff'] == rub['diff'].max()].index.year"
   ]
  },
  {
   "cell_type": "code",
   "execution_count": 61,
   "metadata": {},
   "outputs": [
    {
     "data": {
      "text/plain": [
       "array([12])"
      ]
     },
     "execution_count": 61,
     "metadata": {},
     "output_type": "execute_result"
    }
   ],
   "source": [
    "rub[rub['diff'] == rub['diff'].max()].index.month.values"
   ]
  },
  {
   "cell_type": "code",
   "execution_count": 62,
   "metadata": {},
   "outputs": [
    {
     "data": {
      "text/plain": [
       "2"
      ]
     },
     "execution_count": 62,
     "metadata": {},
     "output_type": "execute_result"
    }
   ],
   "source": [
    "rub[rub['diff'] == rub['diff'].max()].index.dayofweek.values[0]"
   ]
  },
  {
   "cell_type": "markdown",
   "metadata": {},
   "source": [
    "2. В какой день была наибольшая разница между ценой открытия и закрытия?"
   ]
  },
  {
   "cell_type": "code",
   "execution_count": 64,
   "metadata": {},
   "outputs": [],
   "source": [
    "rub['intraday_diff']  = rub['Open'] - rub['Close']"
   ]
  },
  {
   "cell_type": "code",
   "execution_count": 66,
   "metadata": {},
   "outputs": [
    {
     "data": {
      "text/html": [
       "<div>\n",
       "<style scoped>\n",
       "    .dataframe tbody tr th:only-of-type {\n",
       "        vertical-align: middle;\n",
       "    }\n",
       "\n",
       "    .dataframe tbody tr th {\n",
       "        vertical-align: top;\n",
       "    }\n",
       "\n",
       "    .dataframe thead th {\n",
       "        text-align: right;\n",
       "    }\n",
       "</style>\n",
       "<table border=\"1\" class=\"dataframe\">\n",
       "  <thead>\n",
       "    <tr style=\"text-align: right;\">\n",
       "      <th></th>\n",
       "      <th>High</th>\n",
       "      <th>Low</th>\n",
       "      <th>Open</th>\n",
       "      <th>Close</th>\n",
       "      <th>Volume</th>\n",
       "      <th>Adj Close</th>\n",
       "      <th>diff</th>\n",
       "      <th>diff_</th>\n",
       "      <th>intraday_diff</th>\n",
       "    </tr>\n",
       "    <tr>\n",
       "      <th>Date</th>\n",
       "      <th></th>\n",
       "      <th></th>\n",
       "      <th></th>\n",
       "      <th></th>\n",
       "      <th></th>\n",
       "      <th></th>\n",
       "      <th></th>\n",
       "      <th></th>\n",
       "      <th></th>\n",
       "    </tr>\n",
       "  </thead>\n",
       "  <tbody>\n",
       "    <tr>\n",
       "      <th>2016-01-06</th>\n",
       "      <td>74.027496</td>\n",
       "      <td>74.027496</td>\n",
       "      <td>74.027496</td>\n",
       "      <td>0.7162</td>\n",
       "      <td>0.0</td>\n",
       "      <td>0.7162</td>\n",
       "      <td>0.012203</td>\n",
       "      <td>1.012203</td>\n",
       "      <td>73.311296</td>\n",
       "    </tr>\n",
       "  </tbody>\n",
       "</table>\n",
       "</div>"
      ],
      "text/plain": [
       "                 High        Low       Open   Close  Volume  Adj Close  \\\n",
       "Date                                                                     \n",
       "2016-01-06  74.027496  74.027496  74.027496  0.7162     0.0     0.7162   \n",
       "\n",
       "                diff     diff_  intraday_diff  \n",
       "Date                                           \n",
       "2016-01-06  0.012203  1.012203      73.311296  "
      ]
     },
     "execution_count": 66,
     "metadata": {},
     "output_type": "execute_result"
    }
   ],
   "source": [
    "rub[rub['intraday_diff'] == rub['intraday_diff'].max()]"
   ]
  },
  {
   "cell_type": "markdown",
   "metadata": {},
   "source": [
    "3. Постройте график курса и изменения курса рубля."
   ]
  },
  {
   "cell_type": "code",
   "execution_count": 69,
   "metadata": {},
   "outputs": [],
   "source": [
    "import matplotlib.pyplot as plt\n",
    "plt.rcParams['figure.figsize'] = (16, 9) # глобально меняем размер графиков"
   ]
  },
  {
   "cell_type": "code",
   "execution_count": 70,
   "metadata": {},
   "outputs": [
    {
     "data": {
      "image/png": "[encoded data removed]",
      "text/plain": [
       "<Figure size 1152x648 with 1 Axes>"
      ]
     },
     "metadata": {
      "needs_background": "light"
     },
     "output_type": "display_data"
    }
   ],
   "source": [
    "rub['Open'].plot();"
   ]
  },
  {
   "cell_type": "code",
   "execution_count": 71,
   "metadata": {},
   "outputs": [
    {
     "data": {
      "image/png": "[encoded data removed]",
      "text/plain": [
       "<Figure size 1152x648 with 1 Axes>"
      ]
     },
     "metadata": {
      "needs_background": "light"
     },
     "output_type": "display_data"
    }
   ],
   "source": [
    "rub['diff'].plot();"
   ]
  },
  {
   "cell_type": "markdown",
   "metadata": {},
   "source": [
    "4. Создайте переменные со среднемесячным/средненедельным/среднегодовым курсом рубля. Постройте графики"
   ]
  },
  {
   "cell_type": "code",
   "execution_count": 76,
   "metadata": {},
   "outputs": [],
   "source": [
    "rub['avg_month'] = rub.resample(\"M\")['Open'].mean()\n",
    "rub['avg_week'] = rub.resample(\"W\")['Open'].mean()\n",
    "rub['avg_year'] = rub.resample(\"Y\")['Open'].mean()"
   ]
  },
  {
   "cell_type": "code",
   "execution_count": 78,
   "metadata": {},
   "outputs": [
    {
     "data": {
      "image/png": "[encoded data removed]",
      "text/plain": [
       "<Figure size 1152x648 with 1 Axes>"
      ]
     },
     "metadata": {
      "needs_background": "light"
     },
     "output_type": "display_data"
    }
   ],
   "source": [
    "rub['avg_month'].dropna().plot();"
   ]
  },
  {
   "cell_type": "code",
   "execution_count": 79,
   "metadata": {
    "scrolled": true
   },
   "outputs": [
    {
     "data": {
      "image/png": "[encoded data removed]",
      "text/plain": [
       "<Figure size 1152x648 with 1 Axes>"
      ]
     },
     "metadata": {
      "needs_background": "light"
     },
     "output_type": "display_data"
    }
   ],
   "source": [
    "rub['avg_week'].dropna().plot(); "
   ]
  },
  {
   "cell_type": "code",
   "execution_count": 80,
   "metadata": {},
   "outputs": [
    {
     "data": {
      "image/png": "[encoded data removed]",
      "text/plain": [
       "<Figure size 1152x648 with 1 Axes>"
      ]
     },
     "metadata": {
      "needs_background": "light"
     },
     "output_type": "display_data"
    }
   ],
   "source": [
    "rub['avg_month'].dropna().plot(); "
   ]
  },
  {
   "cell_type": "markdown",
   "metadata": {},
   "source": [
    "5. Различается ли динамика курса рубля в зависимости от дней недели?"
   ]
  },
  {
   "cell_type": "code",
   "execution_count": 84,
   "metadata": {},
   "outputs": [],
   "source": [
    "rub['day_of_week'] = rub.index.dayofweek + 1"
   ]
  },
  {
   "cell_type": "code",
   "execution_count": 97,
   "metadata": {},
   "outputs": [
    {
     "data": {
      "text/html": [
       "<div>\n",
       "<style scoped>\n",
       "    .dataframe tbody tr th:only-of-type {\n",
       "        vertical-align: middle;\n",
       "    }\n",
       "\n",
       "    .dataframe tbody tr th {\n",
       "        vertical-align: top;\n",
       "    }\n",
       "\n",
       "    .dataframe thead th {\n",
       "        text-align: right;\n",
       "    }\n",
       "</style>\n",
       "<table border=\"1\" class=\"dataframe\">\n",
       "  <thead>\n",
       "    <tr style=\"text-align: right;\">\n",
       "      <th></th>\n",
       "      <th>High</th>\n",
       "      <th>Low</th>\n",
       "      <th>Open</th>\n",
       "      <th>Close</th>\n",
       "      <th>Volume</th>\n",
       "      <th>Adj Close</th>\n",
       "      <th>diff</th>\n",
       "      <th>diff_</th>\n",
       "      <th>intraday_diff</th>\n",
       "      <th>avg_month</th>\n",
       "      <th>avg_week</th>\n",
       "      <th>avg_year</th>\n",
       "      <th>day_of_week</th>\n",
       "    </tr>\n",
       "    <tr>\n",
       "      <th>Date</th>\n",
       "      <th></th>\n",
       "      <th></th>\n",
       "      <th></th>\n",
       "      <th></th>\n",
       "      <th></th>\n",
       "      <th></th>\n",
       "      <th></th>\n",
       "      <th></th>\n",
       "      <th></th>\n",
       "      <th></th>\n",
       "      <th></th>\n",
       "      <th></th>\n",
       "      <th></th>\n",
       "    </tr>\n",
       "  </thead>\n",
       "  <tbody>\n",
       "    <tr>\n",
       "      <th>2003-12-01</th>\n",
       "      <td>29.730000</td>\n",
       "      <td>29.690001</td>\n",
       "      <td>29.730000</td>\n",
       "      <td>29.700001</td>\n",
       "      <td>0.0</td>\n",
       "      <td>29.700001</td>\n",
       "      <td>NaN</td>\n",
       "      <td>NaN</td>\n",
       "      <td>0.029999</td>\n",
       "      <td>NaN</td>\n",
       "      <td>NaN</td>\n",
       "      <td>NaN</td>\n",
       "      <td>1</td>\n",
       "    </tr>\n",
       "    <tr>\n",
       "      <th>2003-12-02</th>\n",
       "      <td>29.700001</td>\n",
       "      <td>29.690001</td>\n",
       "      <td>29.690001</td>\n",
       "      <td>29.690001</td>\n",
       "      <td>0.0</td>\n",
       "      <td>29.690001</td>\n",
       "      <td>-0.001345</td>\n",
       "      <td>0.998655</td>\n",
       "      <td>0.000000</td>\n",
       "      <td>NaN</td>\n",
       "      <td>NaN</td>\n",
       "      <td>NaN</td>\n",
       "      <td>2</td>\n",
       "    </tr>\n",
       "    <tr>\n",
       "      <th>2003-12-03</th>\n",
       "      <td>29.690001</td>\n",
       "      <td>29.690001</td>\n",
       "      <td>29.690001</td>\n",
       "      <td>29.690001</td>\n",
       "      <td>0.0</td>\n",
       "      <td>29.690001</td>\n",
       "      <td>0.000000</td>\n",
       "      <td>1.000000</td>\n",
       "      <td>0.000000</td>\n",
       "      <td>NaN</td>\n",
       "      <td>NaN</td>\n",
       "      <td>NaN</td>\n",
       "      <td>3</td>\n",
       "    </tr>\n",
       "    <tr>\n",
       "      <th>2003-12-04</th>\n",
       "      <td>29.680000</td>\n",
       "      <td>29.680000</td>\n",
       "      <td>29.680000</td>\n",
       "      <td>29.680000</td>\n",
       "      <td>0.0</td>\n",
       "      <td>29.680000</td>\n",
       "      <td>-0.000337</td>\n",
       "      <td>0.999663</td>\n",
       "      <td>0.000000</td>\n",
       "      <td>NaN</td>\n",
       "      <td>NaN</td>\n",
       "      <td>NaN</td>\n",
       "      <td>4</td>\n",
       "    </tr>\n",
       "    <tr>\n",
       "      <th>2003-12-05</th>\n",
       "      <td>29.629999</td>\n",
       "      <td>29.629999</td>\n",
       "      <td>29.629999</td>\n",
       "      <td>29.620001</td>\n",
       "      <td>0.0</td>\n",
       "      <td>29.620001</td>\n",
       "      <td>-0.001685</td>\n",
       "      <td>0.998315</td>\n",
       "      <td>0.009998</td>\n",
       "      <td>NaN</td>\n",
       "      <td>NaN</td>\n",
       "      <td>NaN</td>\n",
       "      <td>5</td>\n",
       "    </tr>\n",
       "    <tr>\n",
       "      <th>2003-12-08</th>\n",
       "      <td>29.629999</td>\n",
       "      <td>29.540001</td>\n",
       "      <td>29.629999</td>\n",
       "      <td>29.540001</td>\n",
       "      <td>0.0</td>\n",
       "      <td>29.540001</td>\n",
       "      <td>0.000000</td>\n",
       "      <td>1.000000</td>\n",
       "      <td>0.089998</td>\n",
       "      <td>NaN</td>\n",
       "      <td>NaN</td>\n",
       "      <td>NaN</td>\n",
       "      <td>1</td>\n",
       "    </tr>\n",
       "    <tr>\n",
       "      <th>2003-12-09</th>\n",
       "      <td>29.540001</td>\n",
       "      <td>29.530001</td>\n",
       "      <td>29.540001</td>\n",
       "      <td>29.530001</td>\n",
       "      <td>0.0</td>\n",
       "      <td>29.530001</td>\n",
       "      <td>-0.003037</td>\n",
       "      <td>0.996963</td>\n",
       "      <td>0.010000</td>\n",
       "      <td>NaN</td>\n",
       "      <td>NaN</td>\n",
       "      <td>NaN</td>\n",
       "      <td>2</td>\n",
       "    </tr>\n",
       "  </tbody>\n",
       "</table>\n",
       "</div>"
      ],
      "text/plain": [
       "                 High        Low       Open      Close  Volume  Adj Close  \\\n",
       "Date                                                                        \n",
       "2003-12-01  29.730000  29.690001  29.730000  29.700001     0.0  29.700001   \n",
       "2003-12-02  29.700001  29.690001  29.690001  29.690001     0.0  29.690001   \n",
       "2003-12-03  29.690001  29.690001  29.690001  29.690001     0.0  29.690001   \n",
       "2003-12-04  29.680000  29.680000  29.680000  29.680000     0.0  29.680000   \n",
       "2003-12-05  29.629999  29.629999  29.629999  29.620001     0.0  29.620001   \n",
       "2003-12-08  29.629999  29.540001  29.629999  29.540001     0.0  29.540001   \n",
       "2003-12-09  29.540001  29.530001  29.540001  29.530001     0.0  29.530001   \n",
       "\n",
       "                diff     diff_  intraday_diff  avg_month  avg_week  avg_year  \\\n",
       "Date                                                                           \n",
       "2003-12-01       NaN       NaN       0.029999        NaN       NaN       NaN   \n",
       "2003-12-02 -0.001345  0.998655       0.000000        NaN       NaN       NaN   \n",
       "2003-12-03  0.000000  1.000000       0.000000        NaN       NaN       NaN   \n",
       "2003-12-04 -0.000337  0.999663       0.000000        NaN       NaN       NaN   \n",
       "2003-12-05 -0.001685  0.998315       0.009998        NaN       NaN       NaN   \n",
       "2003-12-08  0.000000  1.000000       0.089998        NaN       NaN       NaN   \n",
       "2003-12-09 -0.003037  0.996963       0.010000        NaN       NaN       NaN   \n",
       "\n",
       "            day_of_week  \n",
       "Date                     \n",
       "2003-12-01            1  \n",
       "2003-12-02            2  \n",
       "2003-12-03            3  \n",
       "2003-12-04            4  \n",
       "2003-12-05            5  \n",
       "2003-12-08            1  \n",
       "2003-12-09            2  "
      ]
     },
     "execution_count": 97,
     "metadata": {},
     "output_type": "execute_result"
    }
   ],
   "source": [
    "rub.head(7)"
   ]
  },
  {
   "cell_type": "code",
   "execution_count": 100,
   "metadata": {},
   "outputs": [
    {
     "data": {
      "text/plain": [
       "7"
      ]
     },
     "execution_count": 100,
     "metadata": {},
     "output_type": "execute_result"
    }
   ],
   "source": [
    "datetime(2004, 3, 28).isoweekday()"
   ]
  },
  {
   "cell_type": "code",
   "execution_count": 101,
   "metadata": {},
   "outputs": [],
   "source": [
    "# Отберем все значения с пн-пт\n",
    "df = rub[rub['day_of_week'] <= 5]"
   ]
  },
  {
   "cell_type": "code",
   "execution_count": 103,
   "metadata": {},
   "outputs": [],
   "source": [
    "import seaborn as sns\n",
    "?sns.boxplot"
   ]
  },
  {
   "cell_type": "code",
   "execution_count": 111,
   "metadata": {},
   "outputs": [
    {
     "data": {
      "text/plain": [
       "74.02749633789062"
      ]
     },
     "execution_count": 111,
     "metadata": {},
     "output_type": "execute_result"
    }
   ],
   "source": [
    "df.loc['2016-01-06', \"Close\"]"
   ]
  },
  {
   "cell_type": "code",
   "execution_count": 119,
   "metadata": {},
   "outputs": [],
   "source": [
    "# ЗАменим Close на Open для плохого года\n",
    "df.loc['2016-01-06', \"Close\"] = df.loc['2016-01-06', \"Open\"]\n",
    "df['intraday_diff']  = df['Close']  - df['Open']"
   ]
  },
  {
   "cell_type": "code",
   "execution_count": 123,
   "metadata": {},
   "outputs": [
    {
     "data": {
      "image/png": "[encoded data removed]",
      "text/plain": [
       "<Figure size 1152x648 with 1 Axes>"
      ]
     },
     "metadata": {
      "needs_background": "light"
     },
     "output_type": "display_data"
    }
   ],
   "source": [
    "# Плотность распределения для каждого дня недели\n",
    "sns.distplot(df[df['day_of_week'] == 1]['intraday_diff'])\n",
    "sns.distplot(df[df['day_of_week'] == 2]['intraday_diff'])\n",
    "sns.distplot(df[df['day_of_week'] == 3]['intraday_diff'])\n",
    "sns.distplot(df[df['day_of_week'] == 4]['intraday_diff'])\n",
    "sns.distplot(df[df['day_of_week'] == 5]['intraday_diff']);"
   ]
  },
  {
   "cell_type": "code",
   "execution_count": 129,
   "metadata": {},
   "outputs": [
    {
     "data": {
      "text/html": [
       "<div>\n",
       "<style scoped>\n",
       "    .dataframe tbody tr th:only-of-type {\n",
       "        vertical-align: middle;\n",
       "    }\n",
       "\n",
       "    .dataframe tbody tr th {\n",
       "        vertical-align: top;\n",
       "    }\n",
       "\n",
       "    .dataframe thead th {\n",
       "        text-align: right;\n",
       "    }\n",
       "</style>\n",
       "<table border=\"1\" class=\"dataframe\">\n",
       "  <thead>\n",
       "    <tr style=\"text-align: right;\">\n",
       "      <th></th>\n",
       "      <th>mean</th>\n",
       "      <th>std</th>\n",
       "      <th>max</th>\n",
       "      <th>median</th>\n",
       "    </tr>\n",
       "    <tr>\n",
       "      <th>day_of_week</th>\n",
       "      <th></th>\n",
       "      <th></th>\n",
       "      <th></th>\n",
       "      <th></th>\n",
       "    </tr>\n",
       "  </thead>\n",
       "  <tbody>\n",
       "    <tr>\n",
       "      <th>1</th>\n",
       "      <td>0.021842</td>\n",
       "      <td>0.256282</td>\n",
       "      <td>4.038498</td>\n",
       "      <td>0.0</td>\n",
       "    </tr>\n",
       "    <tr>\n",
       "      <th>2</th>\n",
       "      <td>0.020647</td>\n",
       "      <td>0.255346</td>\n",
       "      <td>3.749500</td>\n",
       "      <td>0.0</td>\n",
       "    </tr>\n",
       "    <tr>\n",
       "      <th>3</th>\n",
       "      <td>0.004014</td>\n",
       "      <td>0.243724</td>\n",
       "      <td>1.851997</td>\n",
       "      <td>0.0</td>\n",
       "    </tr>\n",
       "    <tr>\n",
       "      <th>4</th>\n",
       "      <td>0.023965</td>\n",
       "      <td>0.307743</td>\n",
       "      <td>5.184998</td>\n",
       "      <td>0.0</td>\n",
       "    </tr>\n",
       "    <tr>\n",
       "      <th>5</th>\n",
       "      <td>-0.009809</td>\n",
       "      <td>0.355773</td>\n",
       "      <td>2.288002</td>\n",
       "      <td>0.0</td>\n",
       "    </tr>\n",
       "  </tbody>\n",
       "</table>\n",
       "</div>"
      ],
      "text/plain": [
       "                 mean       std       max  median\n",
       "day_of_week                                      \n",
       "1            0.021842  0.256282  4.038498     0.0\n",
       "2            0.020647  0.255346  3.749500     0.0\n",
       "3            0.004014  0.243724  1.851997     0.0\n",
       "4            0.023965  0.307743  5.184998     0.0\n",
       "5           -0.009809  0.355773  2.288002     0.0"
      ]
     },
     "execution_count": 129,
     "metadata": {},
     "output_type": "execute_result"
    }
   ],
   "source": [
    "df.groupby(['day_of_week'])['intraday_diff'].agg([\"mean\", \"std\", \"max\", \"median\"])"
   ]
  },
  {
   "cell_type": "code",
   "execution_count": 94,
   "metadata": {
    "scrolled": true
   },
   "outputs": [
    {
     "data": {
      "text/plain": [
       "<matplotlib.axes._subplots.AxesSubplot at 0x7fc62f0386d0>"
      ]
     },
     "execution_count": 94,
     "metadata": {},
     "output_type": "execute_result"
    },
    {
     "data": {
      "image/png": "[encoded data removed]",
      "text/plain": [
       "<Figure size 1152x648 with 1 Axes>"
      ]
     },
     "metadata": {
      "needs_background": "light"
     },
     "output_type": "display_data"
    }
   ],
   "source": [
    "# Bar plot для средних значений по месяцам\n",
    "rub.groupby(['day_of_week'])['diff'].mean().plot(kind = 'bar');"
   ]
  },
  {
   "cell_type": "markdown",
   "metadata": {},
   "source": [
    "6. Различается ли динамика курса рубля в зависимости от месяца?"
   ]
  },
  {
   "cell_type": "code",
   "execution_count": 124,
   "metadata": {},
   "outputs": [],
   "source": [
    "df['month'] = df.index.month"
   ]
  },
  {
   "cell_type": "code",
   "execution_count": 133,
   "metadata": {},
   "outputs": [
    {
     "data": {
      "image/png": "[encoded data removed]",
      "text/plain": [
       "<Figure size 1152x648 with 1 Axes>"
      ]
     },
     "metadata": {
      "needs_background": "light"
     },
     "output_type": "display_data"
    }
   ],
   "source": [
    "fig = plt.figure(figsize=(16,9))\n",
    "# Плотность распределения для каждого дня недели\n",
    "for m in range(1,13):\n",
    "    sns.distplot(df[df['month'] == m]['intraday_diff']);\n",
    "fig.legend(labels = range(1,13));"
   ]
  },
  {
   "cell_type": "code",
   "execution_count": 135,
   "metadata": {},
   "outputs": [
    {
     "name": "stdout",
     "output_type": "stream",
     "text": [
      "-0.8143914226252833\n",
      "0.8445045303477379\n"
     ]
    }
   ],
   "source": [
    "# Отбросим выбросы (удалим значения, лежащие за пределами 3 сигма)\n",
    "print(df['intraday_diff'].mean() - 3*df['intraday_diff'].std())\n",
    "print(df['intraday_diff'].mean() + 3*df['intraday_diff'].std())"
   ]
  },
  {
   "cell_type": "code",
   "execution_count": 136,
   "metadata": {},
   "outputs": [],
   "source": [
    "df = df[df['intraday_diff'] < df['intraday_diff'].mean() + 3*df['intraday_diff'].std()]\n",
    "df = df[df['intraday_diff'] > df['intraday_diff'].mean() - 3*df['intraday_diff'].std()]"
   ]
  },
  {
   "cell_type": "code",
   "execution_count": 137,
   "metadata": {},
   "outputs": [
    {
     "data": {
      "text/html": [
       "<div>\n",
       "<style scoped>\n",
       "    .dataframe tbody tr th:only-of-type {\n",
       "        vertical-align: middle;\n",
       "    }\n",
       "\n",
       "    .dataframe tbody tr th {\n",
       "        vertical-align: top;\n",
       "    }\n",
       "\n",
       "    .dataframe thead th {\n",
       "        text-align: right;\n",
       "    }\n",
       "</style>\n",
       "<table border=\"1\" class=\"dataframe\">\n",
       "  <thead>\n",
       "    <tr style=\"text-align: right;\">\n",
       "      <th></th>\n",
       "      <th>mean</th>\n",
       "      <th>std</th>\n",
       "      <th>max</th>\n",
       "      <th>median</th>\n",
       "    </tr>\n",
       "    <tr>\n",
       "      <th>month</th>\n",
       "      <th></th>\n",
       "      <th></th>\n",
       "      <th></th>\n",
       "      <th></th>\n",
       "    </tr>\n",
       "  </thead>\n",
       "  <tbody>\n",
       "    <tr>\n",
       "      <th>1</th>\n",
       "      <td>0.005374</td>\n",
       "      <td>0.160130</td>\n",
       "      <td>0.803999</td>\n",
       "      <td>0.0</td>\n",
       "    </tr>\n",
       "    <tr>\n",
       "      <th>2</th>\n",
       "      <td>0.012955</td>\n",
       "      <td>0.156578</td>\n",
       "      <td>0.750000</td>\n",
       "      <td>0.0</td>\n",
       "    </tr>\n",
       "    <tr>\n",
       "      <th>3</th>\n",
       "      <td>0.024346</td>\n",
       "      <td>0.158245</td>\n",
       "      <td>0.737001</td>\n",
       "      <td>0.0</td>\n",
       "    </tr>\n",
       "    <tr>\n",
       "      <th>4</th>\n",
       "      <td>0.023697</td>\n",
       "      <td>0.147072</td>\n",
       "      <td>0.668501</td>\n",
       "      <td>0.0</td>\n",
       "    </tr>\n",
       "    <tr>\n",
       "      <th>5</th>\n",
       "      <td>0.003994</td>\n",
       "      <td>0.143889</td>\n",
       "      <td>0.730000</td>\n",
       "      <td>0.0</td>\n",
       "    </tr>\n",
       "    <tr>\n",
       "      <th>6</th>\n",
       "      <td>0.015028</td>\n",
       "      <td>0.143224</td>\n",
       "      <td>0.748501</td>\n",
       "      <td>0.0</td>\n",
       "    </tr>\n",
       "    <tr>\n",
       "      <th>7</th>\n",
       "      <td>0.002457</td>\n",
       "      <td>0.117403</td>\n",
       "      <td>0.753700</td>\n",
       "      <td>0.0</td>\n",
       "    </tr>\n",
       "    <tr>\n",
       "      <th>8</th>\n",
       "      <td>0.005378</td>\n",
       "      <td>0.103327</td>\n",
       "      <td>0.764000</td>\n",
       "      <td>0.0</td>\n",
       "    </tr>\n",
       "    <tr>\n",
       "      <th>9</th>\n",
       "      <td>-0.001471</td>\n",
       "      <td>0.082856</td>\n",
       "      <td>0.454498</td>\n",
       "      <td>0.0</td>\n",
       "    </tr>\n",
       "    <tr>\n",
       "      <th>10</th>\n",
       "      <td>0.011039</td>\n",
       "      <td>0.110361</td>\n",
       "      <td>0.670000</td>\n",
       "      <td>0.0</td>\n",
       "    </tr>\n",
       "    <tr>\n",
       "      <th>11</th>\n",
       "      <td>0.006712</td>\n",
       "      <td>0.106085</td>\n",
       "      <td>0.797800</td>\n",
       "      <td>0.0</td>\n",
       "    </tr>\n",
       "    <tr>\n",
       "      <th>12</th>\n",
       "      <td>0.021841</td>\n",
       "      <td>0.170421</td>\n",
       "      <td>0.842701</td>\n",
       "      <td>0.0</td>\n",
       "    </tr>\n",
       "  </tbody>\n",
       "</table>\n",
       "</div>"
      ],
      "text/plain": [
       "           mean       std       max  median\n",
       "month                                      \n",
       "1      0.005374  0.160130  0.803999     0.0\n",
       "2      0.012955  0.156578  0.750000     0.0\n",
       "3      0.024346  0.158245  0.737001     0.0\n",
       "4      0.023697  0.147072  0.668501     0.0\n",
       "5      0.003994  0.143889  0.730000     0.0\n",
       "6      0.015028  0.143224  0.748501     0.0\n",
       "7      0.002457  0.117403  0.753700     0.0\n",
       "8      0.005378  0.103327  0.764000     0.0\n",
       "9     -0.001471  0.082856  0.454498     0.0\n",
       "10     0.011039  0.110361  0.670000     0.0\n",
       "11     0.006712  0.106085  0.797800     0.0\n",
       "12     0.021841  0.170421  0.842701     0.0"
      ]
     },
     "execution_count": 137,
     "metadata": {},
     "output_type": "execute_result"
    }
   ],
   "source": [
    "df.groupby(['month'])['intraday_diff'].agg([\"mean\", \"std\", \"max\", \"median\",])"
   ]
  },
  {
   "cell_type": "code",
   "execution_count": 146,
   "metadata": {},
   "outputs": [
    {
     "data": {
      "image/png": "[encoded data removed]",
      "text/plain": [
       "<Figure size 1152x648 with 1 Axes>"
      ]
     },
     "metadata": {
      "needs_background": "light"
     },
     "output_type": "display_data"
    }
   ],
   "source": [
    "fig = plt.figure(figsize=(16,9))\n",
    "# Плотность распределения для каждого дня недели\n",
    "for m in range(1,13):\n",
    "    sns.distplot(df[df['month'] == m]['intraday_diff']);\n",
    "fig.legend(labels = range(1,13));"
   ]
  },
  {
   "cell_type": "markdown",
   "metadata": {},
   "source": [
    "7. Давайте ответим на классический вопрос: как связан курс рубля с ценой на нефть в зависимости от временного промежутка?"
   ]
  },
  {
   "cell_type": "code",
   "execution_count": 183,
   "metadata": {},
   "outputs": [],
   "source": [
    "\n",
    "# Выкачаем данные из yahoo finance \n",
    "# Вернем рубль по 30 !\n",
    "start = datetime(2000, 1, 1)\n",
    "end = datetime(2020, 12, 1)\n",
    "rub = pdr.data.DataReader(\"USDRUB=X\", 'yahoo', start, end)\n",
    "rub[:5] \n",
    "\n",
    "# Нефть\n",
    "brent = pdr.data.DataReader(\"BZ=F\", 'yahoo', start, end)"
   ]
  },
  {
   "cell_type": "code",
   "execution_count": 246,
   "metadata": {},
   "outputs": [],
   "source": [
    "brent = pdr.data.DataReader(\"BZ=F\", 'yahoo', start, end)"
   ]
  },
  {
   "cell_type": "code",
   "execution_count": 229,
   "metadata": {},
   "outputs": [],
   "source": [
    "brent_rub = brent[[\"Close\", \"Open\"]].join(rub[['Close', \"Open\"]], rsuffix = '_rub', lsuffix = '_brent')"
   ]
  },
  {
   "cell_type": "code",
   "execution_count": 230,
   "metadata": {},
   "outputs": [
    {
     "data": {
      "text/html": [
       "<div>\n",
       "<style scoped>\n",
       "    .dataframe tbody tr th:only-of-type {\n",
       "        vertical-align: middle;\n",
       "    }\n",
       "\n",
       "    .dataframe tbody tr th {\n",
       "        vertical-align: top;\n",
       "    }\n",
       "\n",
       "    .dataframe thead th {\n",
       "        text-align: right;\n",
       "    }\n",
       "</style>\n",
       "<table border=\"1\" class=\"dataframe\">\n",
       "  <thead>\n",
       "    <tr style=\"text-align: right;\">\n",
       "      <th></th>\n",
       "      <th>Close_brent</th>\n",
       "      <th>Open_brent</th>\n",
       "      <th>Close_rub</th>\n",
       "      <th>Open_rub</th>\n",
       "    </tr>\n",
       "  </thead>\n",
       "  <tbody>\n",
       "    <tr>\n",
       "      <th>Close_brent</th>\n",
       "      <td>1.000000</td>\n",
       "      <td>0.996147</td>\n",
       "      <td>-0.959117</td>\n",
       "      <td>-0.958863</td>\n",
       "    </tr>\n",
       "    <tr>\n",
       "      <th>Open_brent</th>\n",
       "      <td>0.996147</td>\n",
       "      <td>1.000000</td>\n",
       "      <td>-0.964439</td>\n",
       "      <td>-0.964202</td>\n",
       "    </tr>\n",
       "    <tr>\n",
       "      <th>Close_rub</th>\n",
       "      <td>-0.959117</td>\n",
       "      <td>-0.964439</td>\n",
       "      <td>1.000000</td>\n",
       "      <td>0.999963</td>\n",
       "    </tr>\n",
       "    <tr>\n",
       "      <th>Open_rub</th>\n",
       "      <td>-0.958863</td>\n",
       "      <td>-0.964202</td>\n",
       "      <td>0.999963</td>\n",
       "      <td>1.000000</td>\n",
       "    </tr>\n",
       "  </tbody>\n",
       "</table>\n",
       "</div>"
      ],
      "text/plain": [
       "             Close_brent  Open_brent  Close_rub  Open_rub\n",
       "Close_brent     1.000000    0.996147  -0.959117 -0.958863\n",
       "Open_brent      0.996147    1.000000  -0.964439 -0.964202\n",
       "Close_rub      -0.959117   -0.964439   1.000000  0.999963\n",
       "Open_rub       -0.958863   -0.964202   0.999963  1.000000"
      ]
     },
     "execution_count": 230,
     "metadata": {},
     "output_type": "execute_result"
    }
   ],
   "source": [
    "# Корреляция на дневных данных\n",
    "brent_rub.corr()"
   ]
  },
  {
   "cell_type": "code",
   "execution_count": 231,
   "metadata": {},
   "outputs": [
    {
     "data": {
      "text/html": [
       "<div>\n",
       "<style scoped>\n",
       "    .dataframe tbody tr th:only-of-type {\n",
       "        vertical-align: middle;\n",
       "    }\n",
       "\n",
       "    .dataframe tbody tr th {\n",
       "        vertical-align: top;\n",
       "    }\n",
       "\n",
       "    .dataframe thead th {\n",
       "        text-align: right;\n",
       "    }\n",
       "</style>\n",
       "<table border=\"1\" class=\"dataframe\">\n",
       "  <thead>\n",
       "    <tr style=\"text-align: right;\">\n",
       "      <th></th>\n",
       "      <th>Close_brent</th>\n",
       "      <th>Open_brent</th>\n",
       "      <th>Close_rub</th>\n",
       "      <th>Open_rub</th>\n",
       "    </tr>\n",
       "    <tr>\n",
       "      <th>Date</th>\n",
       "      <th></th>\n",
       "      <th></th>\n",
       "      <th></th>\n",
       "      <th></th>\n",
       "    </tr>\n",
       "  </thead>\n",
       "  <tbody>\n",
       "    <tr>\n",
       "      <th>2019-04-05</th>\n",
       "      <td>70.339996</td>\n",
       "      <td>69.260002</td>\n",
       "      <td>NaN</td>\n",
       "      <td>NaN</td>\n",
       "    </tr>\n",
       "    <tr>\n",
       "      <th>2019-04-12</th>\n",
       "      <td>71.550003</td>\n",
       "      <td>70.919998</td>\n",
       "      <td>NaN</td>\n",
       "      <td>NaN</td>\n",
       "    </tr>\n",
       "    <tr>\n",
       "      <th>2019-04-26</th>\n",
       "      <td>72.150002</td>\n",
       "      <td>74.300003</td>\n",
       "      <td>NaN</td>\n",
       "      <td>NaN</td>\n",
       "    </tr>\n",
       "    <tr>\n",
       "      <th>2019-05-03</th>\n",
       "      <td>70.849998</td>\n",
       "      <td>70.320000</td>\n",
       "      <td>NaN</td>\n",
       "      <td>NaN</td>\n",
       "    </tr>\n",
       "    <tr>\n",
       "      <th>2019-05-10</th>\n",
       "      <td>70.620003</td>\n",
       "      <td>70.300003</td>\n",
       "      <td>NaN</td>\n",
       "      <td>NaN</td>\n",
       "    </tr>\n",
       "    <tr>\n",
       "      <th>2020-10-02</th>\n",
       "      <td>39.270000</td>\n",
       "      <td>40.790001</td>\n",
       "      <td>NaN</td>\n",
       "      <td>NaN</td>\n",
       "    </tr>\n",
       "    <tr>\n",
       "      <th>2020-10-09</th>\n",
       "      <td>42.849998</td>\n",
       "      <td>43.410000</td>\n",
       "      <td>NaN</td>\n",
       "      <td>NaN</td>\n",
       "    </tr>\n",
       "    <tr>\n",
       "      <th>2020-10-16</th>\n",
       "      <td>42.930000</td>\n",
       "      <td>43.040001</td>\n",
       "      <td>NaN</td>\n",
       "      <td>NaN</td>\n",
       "    </tr>\n",
       "    <tr>\n",
       "      <th>2020-10-23</th>\n",
       "      <td>41.770000</td>\n",
       "      <td>42.439999</td>\n",
       "      <td>NaN</td>\n",
       "      <td>NaN</td>\n",
       "    </tr>\n",
       "  </tbody>\n",
       "</table>\n",
       "</div>"
      ],
      "text/plain": [
       "            Close_brent  Open_brent  Close_rub  Open_rub\n",
       "Date                                                    \n",
       "2019-04-05    70.339996   69.260002        NaN       NaN\n",
       "2019-04-12    71.550003   70.919998        NaN       NaN\n",
       "2019-04-26    72.150002   74.300003        NaN       NaN\n",
       "2019-05-03    70.849998   70.320000        NaN       NaN\n",
       "2019-05-10    70.620003   70.300003        NaN       NaN\n",
       "2020-10-02    39.270000   40.790001        NaN       NaN\n",
       "2020-10-09    42.849998   43.410000        NaN       NaN\n",
       "2020-10-16    42.930000   43.040001        NaN       NaN\n",
       "2020-10-23    41.770000   42.439999        NaN       NaN"
      ]
     },
     "execution_count": 231,
     "metadata": {},
     "output_type": "execute_result"
    }
   ],
   "source": [
    "# Почему-то нет данных за эти дни\n",
    "brent_rub[brent_rub['Close_rub'].isna()]"
   ]
  },
  {
   "cell_type": "code",
   "execution_count": 233,
   "metadata": {},
   "outputs": [],
   "source": [
    "# ЗАполним пропуски на предыдущие значения\n",
    "brent_rub['Open_rub'] = brent_rub['Open_rub'].fillna(method = \"ffill\")\n",
    "brent_rub['Close_rub'] = brent_rub['Close_rub'].fillna(method = \"ffill\")"
   ]
  },
  {
   "cell_type": "code",
   "execution_count": 237,
   "metadata": {},
   "outputs": [
    {
     "data": {
      "text/plain": [
       "0"
      ]
     },
     "execution_count": 237,
     "metadata": {},
     "output_type": "execute_result"
    }
   ],
   "source": [
    "brent_rub[\"Close_rub\"].isna().sum()"
   ]
  },
  {
   "cell_type": "code",
   "execution_count": 252,
   "metadata": {
    "scrolled": true
   },
   "outputs": [
    {
     "data": {
      "text/html": [
       "<div>\n",
       "<style scoped>\n",
       "    .dataframe tbody tr th:only-of-type {\n",
       "        vertical-align: middle;\n",
       "    }\n",
       "\n",
       "    .dataframe tbody tr th {\n",
       "        vertical-align: top;\n",
       "    }\n",
       "\n",
       "    .dataframe thead th {\n",
       "        text-align: right;\n",
       "    }\n",
       "</style>\n",
       "<table border=\"1\" class=\"dataframe\">\n",
       "  <thead>\n",
       "    <tr style=\"text-align: right;\">\n",
       "      <th></th>\n",
       "      <th>Close_brent</th>\n",
       "      <th>Open_brent</th>\n",
       "      <th>Close_rub</th>\n",
       "      <th>Open_rub</th>\n",
       "    </tr>\n",
       "  </thead>\n",
       "  <tbody>\n",
       "    <tr>\n",
       "      <th>Close_brent</th>\n",
       "      <td>1.000000</td>\n",
       "      <td>0.999553</td>\n",
       "      <td>-0.961854</td>\n",
       "      <td>-0.961934</td>\n",
       "    </tr>\n",
       "    <tr>\n",
       "      <th>Open_brent</th>\n",
       "      <td>0.999553</td>\n",
       "      <td>1.000000</td>\n",
       "      <td>-0.964594</td>\n",
       "      <td>-0.964672</td>\n",
       "    </tr>\n",
       "    <tr>\n",
       "      <th>Close_rub</th>\n",
       "      <td>-0.961854</td>\n",
       "      <td>-0.964594</td>\n",
       "      <td>1.000000</td>\n",
       "      <td>0.999996</td>\n",
       "    </tr>\n",
       "    <tr>\n",
       "      <th>Open_rub</th>\n",
       "      <td>-0.961934</td>\n",
       "      <td>-0.964672</td>\n",
       "      <td>0.999996</td>\n",
       "      <td>1.000000</td>\n",
       "    </tr>\n",
       "  </tbody>\n",
       "</table>\n",
       "</div>"
      ],
      "text/plain": [
       "             Close_brent  Open_brent  Close_rub  Open_rub\n",
       "Close_brent     1.000000    0.999553  -0.961854 -0.961934\n",
       "Open_brent      0.999553    1.000000  -0.964594 -0.964672\n",
       "Close_rub      -0.961854   -0.964594   1.000000  0.999996\n",
       "Open_rub       -0.961934   -0.964672   0.999996  1.000000"
      ]
     },
     "execution_count": 252,
     "metadata": {},
     "output_type": "execute_result"
    }
   ],
   "source": [
    "brent_rub.resample(\"M\").mean().corr()"
   ]
  },
  {
   "cell_type": "code",
   "execution_count": 253,
   "metadata": {},
   "outputs": [
    {
     "data": {
      "text/html": [
       "<div>\n",
       "<style scoped>\n",
       "    .dataframe tbody tr th:only-of-type {\n",
       "        vertical-align: middle;\n",
       "    }\n",
       "\n",
       "    .dataframe tbody tr th {\n",
       "        vertical-align: top;\n",
       "    }\n",
       "\n",
       "    .dataframe thead th {\n",
       "        text-align: right;\n",
       "    }\n",
       "</style>\n",
       "<table border=\"1\" class=\"dataframe\">\n",
       "  <thead>\n",
       "    <tr style=\"text-align: right;\">\n",
       "      <th></th>\n",
       "      <th>Close_brent</th>\n",
       "      <th>Open_brent</th>\n",
       "      <th>Close_rub</th>\n",
       "      <th>Open_rub</th>\n",
       "    </tr>\n",
       "  </thead>\n",
       "  <tbody>\n",
       "    <tr>\n",
       "      <th>Close_brent</th>\n",
       "      <td>1.000000</td>\n",
       "      <td>0.999068</td>\n",
       "      <td>-0.975172</td>\n",
       "      <td>-0.975292</td>\n",
       "    </tr>\n",
       "    <tr>\n",
       "      <th>Open_brent</th>\n",
       "      <td>0.999068</td>\n",
       "      <td>1.000000</td>\n",
       "      <td>-0.983820</td>\n",
       "      <td>-0.983918</td>\n",
       "    </tr>\n",
       "    <tr>\n",
       "      <th>Close_rub</th>\n",
       "      <td>-0.975172</td>\n",
       "      <td>-0.983820</td>\n",
       "      <td>1.000000</td>\n",
       "      <td>1.000000</td>\n",
       "    </tr>\n",
       "    <tr>\n",
       "      <th>Open_rub</th>\n",
       "      <td>-0.975292</td>\n",
       "      <td>-0.983918</td>\n",
       "      <td>1.000000</td>\n",
       "      <td>1.000000</td>\n",
       "    </tr>\n",
       "  </tbody>\n",
       "</table>\n",
       "</div>"
      ],
      "text/plain": [
       "             Close_brent  Open_brent  Close_rub  Open_rub\n",
       "Close_brent     1.000000    0.999068  -0.975172 -0.975292\n",
       "Open_brent      0.999068    1.000000  -0.983820 -0.983918\n",
       "Close_rub      -0.975172   -0.983820   1.000000  1.000000\n",
       "Open_rub       -0.975292   -0.983918   1.000000  1.000000"
      ]
     },
     "execution_count": 253,
     "metadata": {},
     "output_type": "execute_result"
    }
   ],
   "source": [
    "brent_rub.resample(\"Y\").mean().corr()"
   ]
  },
  {
   "cell_type": "code",
   "execution_count": 254,
   "metadata": {},
   "outputs": [
    {
     "data": {
      "text/html": [
       "<div>\n",
       "<style scoped>\n",
       "    .dataframe tbody tr th:only-of-type {\n",
       "        vertical-align: middle;\n",
       "    }\n",
       "\n",
       "    .dataframe tbody tr th {\n",
       "        vertical-align: top;\n",
       "    }\n",
       "\n",
       "    .dataframe thead th {\n",
       "        text-align: right;\n",
       "    }\n",
       "</style>\n",
       "<table border=\"1\" class=\"dataframe\">\n",
       "  <thead>\n",
       "    <tr style=\"text-align: right;\">\n",
       "      <th></th>\n",
       "      <th>Close_brent</th>\n",
       "      <th>Open_brent</th>\n",
       "      <th>Close_rub</th>\n",
       "      <th>Open_rub</th>\n",
       "    </tr>\n",
       "  </thead>\n",
       "  <tbody>\n",
       "    <tr>\n",
       "      <th>Close_brent</th>\n",
       "      <td>1.000000</td>\n",
       "      <td>0.998381</td>\n",
       "      <td>-0.864744</td>\n",
       "      <td>-0.864685</td>\n",
       "    </tr>\n",
       "    <tr>\n",
       "      <th>Open_brent</th>\n",
       "      <td>0.998381</td>\n",
       "      <td>1.000000</td>\n",
       "      <td>-0.879017</td>\n",
       "      <td>-0.878916</td>\n",
       "    </tr>\n",
       "    <tr>\n",
       "      <th>Close_rub</th>\n",
       "      <td>-0.864744</td>\n",
       "      <td>-0.879017</td>\n",
       "      <td>1.000000</td>\n",
       "      <td>0.999994</td>\n",
       "    </tr>\n",
       "    <tr>\n",
       "      <th>Open_rub</th>\n",
       "      <td>-0.864685</td>\n",
       "      <td>-0.878916</td>\n",
       "      <td>0.999994</td>\n",
       "      <td>1.000000</td>\n",
       "    </tr>\n",
       "  </tbody>\n",
       "</table>\n",
       "</div>"
      ],
      "text/plain": [
       "             Close_brent  Open_brent  Close_rub  Open_rub\n",
       "Close_brent     1.000000    0.998381  -0.864744 -0.864685\n",
       "Open_brent      0.998381    1.000000  -0.879017 -0.878916\n",
       "Close_rub      -0.864744   -0.879017   1.000000  0.999994\n",
       "Open_rub       -0.864685   -0.878916   0.999994  1.000000"
      ]
     },
     "execution_count": 254,
     "metadata": {},
     "output_type": "execute_result"
    }
   ],
   "source": [
    "brent_rub.resample(\"W\").mean().corr()"
   ]
  },
  {
   "cell_type": "code",
   "execution_count": null,
   "metadata": {},
   "outputs": [],
   "source": []
  }
 ],
 "metadata": {
  "kernelspec": {
   "display_name": "Python 3",
   "language": "python",
   "name": "python3"
  },
  "language_info": {
   "codemirror_mode": {
    "name": "ipython",
    "version": 3
   },
   "file_extension": ".py",
   "mimetype": "text/x-python",
   "name": "python",
   "nbconvert_exporter": "python",
   "pygments_lexer": "ipython3",
   "version": "3.8.3"
  },
  "toc": {
   "base_numbering": 1,
   "nav_menu": {},
   "number_sections": true,
   "sideBar": true,
   "skip_h1_title": false,
   "title_cell": "Table of Contents",
   "title_sidebar": "Contents",
   "toc_cell": false,
   "toc_position": {},
   "toc_section_display": true,
   "toc_window_display": false
  },
  "varInspector": {
   "cols": {
    "lenName": 16,
    "lenType": 16,
    "lenVar": 40
   },
   "kernels_config": {
    "python": {
     "delete_cmd_postfix": "",
     "delete_cmd_prefix": "del ",
     "library": "var_list.py",
     "varRefreshCmd": "print(var_dic_list())"
    },
    "r": {
     "delete_cmd_postfix": ") ",
     "delete_cmd_prefix": "rm(",
     "library": "var_list.r",
     "varRefreshCmd": "cat(var_dic_list()) "
    }
   },
   "types_to_exclude": [
    "module",
    "function",
    "builtin_function_or_method",
    "instance",
    "_Feature"
   ],
   "window_display": false
  }
 },
 "nbformat": 4,
 "nbformat_minor": 4
}
