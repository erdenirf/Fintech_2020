{
 "cells": [
  {
   "cell_type": "markdown",
   "metadata": {},
   "source": [
    "# <center> Тема 2. NUMPY"
   ]
  },
  {
   "cell_type": "markdown",
   "metadata": {},
   "source": [
    "1. [Ключевые нюансы numpy](#Ключевые-нюансы-numpy)\n",
    "2. [Линейная алгебра](#Линейная-алгебра)\n",
    "3. [Прикладная статистика](#Прикладная-статистика)\n",
    "4. [kNN - метод ближайших соседей](#kNN---метод-ближайших-соседей)"
   ]
  },
  {
   "cell_type": "markdown",
   "metadata": {},
   "source": [
    "# Ключевые нюансы numpy\n",
    "\n",
    "Рекомендуется ознакомится с решением 100 задачек в numpy:\n",
    "https://pythonworld.ru/numpy/100-exercises.html"
   ]
  },
  {
   "cell_type": "code",
   "execution_count": 1,
   "metadata": {},
   "outputs": [
    {
     "name": "stdout",
     "output_type": "stream",
     "text": [
      "16.9 ms ± 2.38 ms per loop (mean ± std. dev. of 7 runs, 100 loops each)\n",
      "1.53 s ± 166 ms per loop (mean ± std. dev. of 7 runs, 1 loop each)\n"
     ]
    }
   ],
   "source": [
    "import numpy as np\n",
    "# Скорость \n",
    "my_arr = np.arange(1000000)\n",
    "my_list = list(range(1000000))\n",
    "%timeit for _ in range(10): my_arr2 = my_arr * 2 \n",
    "%timeit for _ in range(10): my_list2 = list(map(lambda x: x * 2, my_list))"
   ]
  },
  {
   "cell_type": "code",
   "execution_count": 19,
   "metadata": {
    "scrolled": false
   },
   "outputs": [
    {
     "name": "stdout",
     "output_type": "stream",
     "text": [
      "[[ 1  2  3  4]\n",
      " [ 5  6  7  8]\n",
      " [ 9 10 11 12]]\n",
      "2\n",
      "[[1 2 3]\n",
      " [5 6 7]]\n",
      "[[7]]\n",
      "[[ 7  8]\n",
      " [11 12]]\n",
      "[5 6 7 8]\n",
      "[[5 6 7 8]]\n",
      "[[5 6 7 8]]\n",
      "[ 2  6 10]\n",
      "[[ 2]\n",
      " [ 6]\n",
      " [10]]\n"
     ]
    }
   ],
   "source": [
    "# Индексация\n",
    "a = np.array([[1,2,3,4], [5,6,7,8], [9,10,11,12]])\n",
    "print(a)\n",
    "print(a[0, 1])\n",
    "print(a[:2, :3])\n",
    "print(a[1:2, 2:3])\n",
    "print(a[1:, 2:])\n",
    "print(a[1, :])    \n",
    "print(a[1:2, :])  \n",
    "print(a[[1], :]) \n",
    "print(a[:, 1])\n",
    "print(a[:, 1:2])"
   ]
  },
  {
   "cell_type": "code",
   "execution_count": 9,
   "metadata": {},
   "outputs": [
    {
     "data": {
      "text/plain": [
       "array([[0, 0],\n",
       "       [0, 0]])"
      ]
     },
     "execution_count": 9,
     "metadata": {},
     "output_type": "execute_result"
    }
   ],
   "source": [
    "np.zeros_like([[2,3], [1,5]])."
   ]
  },
  {
   "cell_type": "code",
   "execution_count": 44,
   "metadata": {},
   "outputs": [
    {
     "name": "stdout",
     "output_type": "stream",
     "text": [
      "[0. 0. 0. 0. 0.]\n",
      "[[0. 0. 0. 0.]\n",
      " [0. 0. 0. 0.]]\n",
      "[[0 0]\n",
      " [0 0]]\n",
      "[[0. 0. 0. 0.]\n",
      " [0. 0. 0. 0.]]\n",
      "[1. 1. 1. 1. 1.]\n",
      "[[1. 1. 1. 1.]\n",
      " [1. 1. 1. 1.]]\n",
      "[[1 1]\n",
      " [1 1]]\n",
      "[ 0  1  2  3  4  5  6  7  8  9 10 11 12 13 14]\n",
      "[[1. 0.]\n",
      " [0. 1.]]\n",
      "[[1. 0.]\n",
      " [0. 1.]]\n"
     ]
    }
   ],
   "source": [
    "# Создание различных шаблонных массивов\n",
    "\n",
    "# Нулевой массив \n",
    "print(np.zeros(5))\n",
    "print(np.zeros((2, 4)))\n",
    "print(np.zeros_like([[2,3], [1,5]]))\n",
    "print(np.empty((2, 4)))\n",
    "# Единичный массив\n",
    "print(np.ones(5))\n",
    "print(np.ones((2, 4)))\n",
    "print(np.ones_like([[2,3], [1,5]]))\n",
    "\n",
    "# Одномерный массив целочисленных положительных чисел\n",
    "print(np.arange(15))\n",
    "\n",
    "# Единичный массив / матрица\n",
    "print(np.eye(2))\n",
    "print(np.identity(2))"
   ]
  },
  {
   "cell_type": "code",
   "execution_count": 33,
   "metadata": {},
   "outputs": [
    {
     "name": "stdout",
     "output_type": "stream",
     "text": [
      "(3, 3)\n",
      "[1 2 3] \n",
      " [[1]\n",
      " [2]\n",
      " [3]]\n",
      "[[[ 0  1]\n",
      "  [ 2  3]\n",
      "  [ 4  5]\n",
      "  [ 6  7]]\n",
      "\n",
      " [[ 8  9]\n",
      "  [10 11]\n",
      "  [12 13]\n",
      "  [14 15]]]\n",
      "[[[[ 0  1]\n",
      "   [ 2  3]]\n",
      "\n",
      "  [[ 4  5]\n",
      "   [ 6  7]]\n",
      "\n",
      "  [[ 8  9]\n",
      "   [10 11]]\n",
      "\n",
      "  [[12 13]\n",
      "   [14 15]]]]\n",
      "[0 1 2 3 0 0 0 0]\n"
     ]
    }
   ],
   "source": [
    "# Размерность массивов\n",
    "b = np.array([[1,2,3], [4,5,6], [7,8,9]])\n",
    "print(b.shape)\n",
    "\n",
    "# Изменение размерности (умноженные размерности совпадают)\n",
    "v = np.array([1,2,3]) \n",
    "print(v, \"\\n\", v.reshape(3, 1))\n",
    "\n",
    "print(np.arange(16).reshape(2, 4, 2))\n",
    "print(np.arange(16).reshape(1, 4, 2, 2))\n",
    "\n",
    "# Изменение размерности (новая размерность другая - заполнение нулями)\n",
    "a0 = np.arange(4)\n",
    "a0.resize((8,))\n",
    "print(a0)"
   ]
  },
  {
   "cell_type": "markdown",
   "metadata": {},
   "source": [
    "Numpy позволяет оперировать массивами разных размерностей.\n",
    "Например:"
   ]
  },
  {
   "cell_type": "code",
   "execution_count": 43,
   "metadata": {},
   "outputs": [
    {
     "data": {
      "text/plain": [
       "array([[ 2,  2,  4],\n",
       "       [ 5,  5,  7],\n",
       "       [ 8,  8, 10],\n",
       "       [11, 11, 13]])"
      ]
     },
     "execution_count": 43,
     "metadata": {},
     "output_type": "execute_result"
    }
   ],
   "source": [
    "x = np.array([[1,2,3], [4,5,6], [7,8,9], [10, 11, 12]])\n",
    "v = np.array([1, 0, 1])\n",
    "y = np.empty_like(x)   # Create an empty matrix with the same shape as x\n",
    "\n",
    "# Add the vector v to each row of the matrix x with an explicit loop\n",
    "for i in range(4):\n",
    "    y[i, :] = x[i, :] + v\n",
    "y"
   ]
  },
  {
   "cell_type": "code",
   "execution_count": 66,
   "metadata": {},
   "outputs": [
    {
     "data": {
      "text/plain": [
       "array([[[1, 0],\n",
       "        [1, 1]],\n",
       "\n",
       "       [[0, 1],\n",
       "        [1, 0]],\n",
       "\n",
       "       [[1, 1],\n",
       "        [0, 1]]])"
      ]
     },
     "execution_count": 66,
     "metadata": {},
     "output_type": "execute_result"
    }
   ],
   "source": [
    "np.array([1,0,1]*4).reshape(3,2,2)"
   ]
  },
  {
   "cell_type": "code",
   "execution_count": 36,
   "metadata": {},
   "outputs": [
    {
     "name": "stdout",
     "output_type": "stream",
     "text": [
      "[[1 0 1]\n",
      " [1 0 1]\n",
      " [1 0 1]\n",
      " [1 0 1]]\n",
      "[[ 2  2  4]\n",
      " [ 5  5  7]\n",
      " [ 8  8 10]\n",
      " [11 11 13]]\n"
     ]
    }
   ],
   "source": [
    "vv = np.tile(v, (4, 1))  # Стакаем сверху вниз 4 копии v\n",
    "print(vv) \n",
    "y = x + vv  # Складываем два массива\n",
    "print(y)"
   ]
  },
  {
   "cell_type": "markdown",
   "metadata": {},
   "source": [
    "Иллюстрация броадкастинга"
   ]
  },
  {
   "cell_type": "code",
   "execution_count": 29,
   "metadata": {},
   "outputs": [
    {
     "name": "stdout",
     "output_type": "stream",
     "text": [
      "(4, 3)\n",
      "(3,)\n",
      "[[ 2  2  4]\n",
      " [ 5  5  7]\n",
      " [ 8  8 10]\n",
      " [11 11 13]]\n"
     ]
    }
   ],
   "source": [
    "x = np.array([[1,2,3], [4,5,6], [7,8,9], [10, 11, 12]])\n",
    "print(x.shape)\n",
    "v = np.array([1, 0, 1])\n",
    "print(v.shape)\n",
    "v4 = np.array([1, 0, 1, 4])\n",
    "y = x + v \n",
    "print(y)"
   ]
  },
  {
   "cell_type": "markdown",
   "metadata": {},
   "source": [
    "**Вывод:** не обязательно приводить массивы к одной размерности для осуществления математических операций. Памятка по броадкастингу:\n",
    "1. Если массивы не имеют одинакового ранга, размерность массива нижнего ранга изменяется с первого до тех пор, пока обе размерности не будут иметь одинаковую длину.\n",
    "2. Считается, что оба массива совместимы в одном измерении, если они имеют одинаковый размер в этом измерении, или если один из массивов имеет размер 1 в этом измерении.\n",
    "3. Массивы могут броадкаститься вместе, если они совместимы во всех измерениях.\n",
    "4. После броадкастинга каждый массив ведет себя так, как если бы он имел размерность, равную элементарному максимуму размерности двух входных массивов.\n",
    "5. В любом измерении, где один массив имеет размер 1, а другой больше 1, первый массив ведет себя так, как если бы он был скопирован по этому измерению.\n",
    "\n",
    "Документация:\n",
    "\n",
    "https://numpy.org/doc/stable/user/basics.broadcasting.html"
   ]
  },
  {
   "cell_type": "code",
   "execution_count": 42,
   "metadata": {},
   "outputs": [
    {
     "data": {
      "text/plain": [
       "array([[0],\n",
       "       [1],\n",
       "       [2]])"
      ]
     },
     "execution_count": 42,
     "metadata": {},
     "output_type": "execute_result"
    }
   ],
   "source": [
    "np.arange(3).reshape(3, 1)"
   ]
  },
  {
   "cell_type": "code",
   "execution_count": 44,
   "metadata": {},
   "outputs": [
    {
     "data": {
      "text/plain": [
       "array([[ 0,  0,  0],\n",
       "       [ 3,  4,  5],\n",
       "       [12, 14, 16]])"
      ]
     },
     "execution_count": 44,
     "metadata": {},
     "output_type": "execute_result"
    }
   ],
   "source": [
    "np.arange(9).reshape(3, 3) * np.arange(3).reshape(3, 1)"
   ]
  },
  {
   "cell_type": "code",
   "execution_count": 45,
   "metadata": {},
   "outputs": [
    {
     "data": {
      "text/plain": [
       "array([[ 0,  3,  6],\n",
       "       [ 9, 12, 15],\n",
       "       [18, 21, 24]])"
      ]
     },
     "execution_count": 45,
     "metadata": {},
     "output_type": "execute_result"
    }
   ],
   "source": [
    "np.arange(9).reshape(3, 3) * 3"
   ]
  },
  {
   "cell_type": "code",
   "execution_count": 51,
   "metadata": {},
   "outputs": [
    {
     "data": {
      "text/plain": [
       "(1, 3, 3)"
      ]
     },
     "execution_count": 51,
     "metadata": {},
     "output_type": "execute_result"
    }
   ],
   "source": [
    "np.array([[[1,2,3],[3,4,5], [6,7,8]]])"
   ]
  },
  {
   "cell_type": "code",
   "execution_count": 75,
   "metadata": {},
   "outputs": [
    {
     "data": {
      "text/plain": [
       "array([[4, 3, 5],\n",
       "       [1, 2, 1]])"
      ]
     },
     "execution_count": 75,
     "metadata": {},
     "output_type": "execute_result"
    }
   ],
   "source": [
    "c"
   ]
  },
  {
   "cell_type": "code",
   "execution_count": 40,
   "metadata": {},
   "outputs": [
    {
     "data": {
      "text/plain": [
       "array([1, 1, 2, 3, 4, 5])"
      ]
     },
     "execution_count": 40,
     "metadata": {},
     "output_type": "execute_result"
    }
   ],
   "source": [
    "np.sort(np.sort(c, axis=0)).reshape(-1)"
   ]
  },
  {
   "cell_type": "code",
   "execution_count": 39,
   "metadata": {},
   "outputs": [
    {
     "data": {
      "text/plain": [
       "array([1, 1, 2, 3, 4, 5])"
      ]
     },
     "execution_count": 39,
     "metadata": {},
     "output_type": "execute_result"
    }
   ],
   "source": [
    "np.sort(c.reshape(-1))"
   ]
  },
  {
   "cell_type": "code",
   "execution_count": 44,
   "metadata": {},
   "outputs": [
    {
     "name": "stdout",
     "output_type": "stream",
     "text": [
      "[[3 4 5]\n",
      " [1 1 2]]\n",
      "[[1 0 2]\n",
      " [0 2 1]]\n",
      "[[[3 4 5]\n",
      "  [4 5 3]]\n",
      "\n",
      " [[2 1 1]\n",
      "  [1 1 2]]]\n"
     ]
    },
    {
     "data": {
      "text/plain": [
       "array([[[0, 0, 0],\n",
       "        [1, 1, 1],\n",
       "        [2, 2, 2]]])"
      ]
     },
     "execution_count": 44,
     "metadata": {},
     "output_type": "execute_result"
    }
   ],
   "source": [
    "# Сортировка\n",
    "\n",
    "c = np.array([[4, 3, 5], [1, 2, 1]])\n",
    "print(np.sort(c, axis=1))\n",
    "\n",
    "# Возвращает индексы элементов, которые были отсортированы \n",
    "j = np.argsort(c)\n",
    "print(j)\n",
    "print(c[:, j])\n",
    "\n",
    "\n",
    "np.array([[[1,2,3],[3,4,5], [6,7,8]]]).argpartition(kth = 2, axis = 1)"
   ]
  },
  {
   "cell_type": "code",
   "execution_count": 501,
   "metadata": {},
   "outputs": [
    {
     "data": {
      "text/plain": [
       "array([[0, 1, 2],\n",
       "       [1, 0, 2],\n",
       "       [0, 1, 2],\n",
       "       [1, 0, 2]])"
      ]
     },
     "execution_count": 501,
     "metadata": {},
     "output_type": "execute_result"
    }
   ],
   "source": [
    "np.array([[1,3,5],[5,4,5],[1,2,10],[5,4,6]]).argpartition(kth = 2, axis = 1)"
   ]
  },
  {
   "cell_type": "code",
   "execution_count": 61,
   "metadata": {},
   "outputs": [
    {
     "data": {
      "text/plain": [
       "array([[1, 3, 2, 0],\n",
       "       [1, 0, 2, 3],\n",
       "       [0, 1, 3, 2],\n",
       "       [1, 0, 2, 3]])"
      ]
     },
     "execution_count": 61,
     "metadata": {},
     "output_type": "execute_result"
    }
   ],
   "source": [
    "np.array([[10,3,5, 3],[5,4,5, 5],[1,2,10, 7],[5,4,6, 15]]).argsort(axis=1)"
   ]
  },
  {
   "cell_type": "code",
   "execution_count": 505,
   "metadata": {},
   "outputs": [
    {
     "data": {
      "text/plain": [
       "array([[ 0,  2,  0,  3, 16],\n",
       "       [ 0,  2,  0,  3, 16],\n",
       "       [ 0,  2,  0,  3, 16],\n",
       "       [ 0,  2,  0,  3, 16],\n",
       "       [ 0,  2,  0,  3, 16]])"
      ]
     },
     "execution_count": 505,
     "metadata": {},
     "output_type": "execute_result"
    }
   ],
   "source": [
    "np.array([np.arange(5)]) * np.ones((5,5)).argpartition(kth = 3, axis=1)"
   ]
  },
  {
   "cell_type": "code",
   "execution_count": 74,
   "metadata": {},
   "outputs": [
    {
     "name": "stdout",
     "output_type": "stream",
     "text": [
      "[1 2 3]\n",
      "[4 5 6]\n",
      "[[ 2.14039185  1.73519529 -3.49770149 -0.01468869]\n",
      " [ 2.28122884 -3.17942833 -0.71329979 -0.69192784]\n",
      " [-0.63085233 -2.61545471 -0.79059642 -2.490496  ]\n",
      " [ 0.96258544 -0.31235646 -0.51058546  1.08747647]\n",
      " [-1.43798094 -0.53430565  1.53600472 -0.13974582]\n",
      " [-1.23100984 -0.95760921 -0.62462068 -0.03524434]\n",
      " [-0.35773921  0.15577712  0.25650874  0.56989588]]\n",
      "[[ 2.14039185  1.73519529 -3.49770149 -0.01468869]\n",
      " [ 0.96258544 -0.31235646 -0.51058546  1.08747647]]\n",
      "[[-3.49770149 -0.01468869]\n",
      " [-0.51058546  1.08747647]]\n"
     ]
    }
   ],
   "source": [
    "# Условия и циклы\n",
    "for i in np.array([[1,2,3],[4,5,6]]):\n",
    "    print(i)\n",
    "names = np.array(['Bob', 'Joe', 'Will', 'Bob', 'Will', 'Joe', 'Joe']) \n",
    "data = np.random.randn(7, 4)\n",
    "print(data)\n",
    "print(data[names == \"Bob\"])\n",
    "print(data[names == 'Bob', 2:])"
   ]
  },
  {
   "cell_type": "code",
   "execution_count": 89,
   "metadata": {},
   "outputs": [
    {
     "data": {
      "text/plain": [
       "array([[0, 1, 1, 1],\n",
       "       [0, 1, 0, 0],\n",
       "       [0, 0, 0, 1],\n",
       "       [0, 1, 1, 1],\n",
       "       [0, 0, 0, 0],\n",
       "       [0, 0, 1, 0],\n",
       "       [0, 0, 1, 1]])"
      ]
     },
     "execution_count": 89,
     "metadata": {},
     "output_type": "execute_result"
    }
   ],
   "source": [
    "# Присвоение по условию (если, то)\n",
    "np.where(data, data>0, 0)"
   ]
  },
  {
   "cell_type": "code",
   "execution_count": 69,
   "metadata": {},
   "outputs": [
    {
     "name": "stdout",
     "output_type": "stream",
     "text": [
      "[1 2 3 4 5 6]\n",
      "Вертикальное : \n",
      " [[ 0  1  2]\n",
      " [ 3  4  5]\n",
      " [ 6  7  8]\n",
      " [10 11 12]\n",
      " [13 14 15]\n",
      " [16 17 18]]\n",
      "Горизонтальное : \n",
      " [[ 0  1  2 10 11 12]\n",
      " [ 3  4  5 13 14 15]\n",
      " [ 6  7  8 16 17 18]]\n"
     ]
    }
   ],
   "source": [
    "# Слияние массивов\n",
    "x,y,z = np.arange(1,3), np.arange(3,5), np.arange(5,7)\n",
    "print(np.concatenate([x,y,z]))\n",
    "\n",
    "array2D_1 = np.array([[0, 1, 2],\n",
    "       [3, 4, 5],\n",
    "       [6, 7, 8]])\n",
    "array2D_2 = np.array([[10, 11, 12],\n",
    "       [13, 14, 15],\n",
    "       [16, 17, 18]])\n",
    "\n",
    "# Вертикальное слияние\n",
    "print(f\"Вертикальное : \\n {np.vstack((array2D_1, array2D_2))}\")\n",
    "\n",
    "# Горизонтальное слияние\n",
    "print(f\"Горизонтальное : \\n {np.hstack((array2D_1, array2D_2))}\")"
   ]
  },
  {
   "cell_type": "code",
   "execution_count": 75,
   "metadata": {},
   "outputs": [
    {
     "data": {
      "text/plain": [
       "array([[0.00000000e+00, 1.64184250e-01, 3.17880965e+01, 4.64437213e+00],\n",
       "       [0.00000000e+00, 2.98187767e+01, 8.96720176e+00, 8.83966070e+00],\n",
       "       [0.00000000e+00, 3.93864661e+00, 2.55181728e-02, 3.45827460e+00],\n",
       "       [1.55977698e-02, 1.95953224e+00, 2.55380191e+00, 0.00000000e+00],\n",
       "       [8.84459068e+00, 4.28618503e+00, 0.00000000e+00, 2.80813986e+00],\n",
       "       [1.42985512e+00, 8.50756946e-01, 3.47364465e-01, 0.00000000e+00],\n",
       "       [8.60506870e-01, 1.71494352e-01, 9.82115030e-02, 0.00000000e+00]])"
      ]
     },
     "execution_count": 75,
     "metadata": {},
     "output_type": "execute_result"
    }
   ],
   "source": [
    "np.apply_along_axis(lambda x: (x - max(x))**2, 1, data)"
   ]
  },
  {
   "cell_type": "code",
   "execution_count": 76,
   "metadata": {},
   "outputs": [
    {
     "name": "stdout",
     "output_type": "stream",
     "text": [
      "[3.5009184  2.34645846 0.63138297]\n",
      "[2.53690599 3.94185383]\n"
     ]
    }
   ],
   "source": [
    "# Применение функции к разным осям массива\n",
    "m = np.random.randn(3,2)\n",
    "# Сначала указываем функцию, потом по какой оси, а затем указываем сам массив\n",
    "print(np.apply_along_axis(lambda x: sum(x ** 2), 1, m)) \n",
    "print(np.apply_along_axis(lambda x: sum(x ** 2), 0, m)) \n",
    "# Обратим внимание, что у функции может быть только один аргумент - это значения массива из конкретной оси\n",
    "\n",
    "\n"
   ]
  },
  {
   "cell_type": "code",
   "execution_count": 128,
   "metadata": {},
   "outputs": [
    {
     "data": {
      "text/plain": [
       "False"
      ]
     },
     "execution_count": 128,
     "metadata": {},
     "output_type": "execute_result"
    }
   ],
   "source": [
    "np.round(0.3, 17) == np.round(3 * 0.1, 17)"
   ]
  },
  {
   "cell_type": "code",
   "execution_count": 84,
   "metadata": {
    "code_folding": []
   },
   "outputs": [
    {
     "data": {
      "text/plain": [
       "array([(0.        , 0.), (0.11111111, 0.), (0.22222222, 0.),\n",
       "       (0.33333333, 0.), (0.44444444, 0.), (0.55555556, 0.),\n",
       "       (0.66666667, 0.), (0.77777778, 0.), (0.88888889, 0.),\n",
       "       (1.        , 0.)], dtype=[('x', '<f8'), ('y', '<f8')])"
      ]
     },
     "execution_count": 84,
     "metadata": {},
     "output_type": "execute_result"
    }
   ],
   "source": [
    "Z = np.zeros((10,10), [('x',float),('y',float)])\n",
    "Z['x'], Z['y'] = np.meshgrid(np.linspace(0,1,10),\n",
    "                             np.linspace(0,1,10))"
   ]
  },
  {
   "cell_type": "markdown",
   "metadata": {},
   "source": [
    "# Линейная алгебра"
   ]
  },
  {
   "cell_type": "markdown",
   "metadata": {},
   "source": [
    "#### np\n",
    "\n",
    "**diag** - вернуть диагональные (или недиагональные) элементы квадратной матрицы в виде 1D-массива, или преобразовать 1D-массив в квадратную матрицу с нулями на остальных элементах.\n",
    "\n",
    "**dot, @** - матричное умножение\n",
    "\n",
    "**trace** - вычислить сумму диагональных элементов (след матрицы)\n",
    "\n",
    "#### linalg\n",
    "\n",
    "**det**  определитель матрицы.\n",
    "\n",
    "**eig** - вычислить собственные значения и собственные векторы квадратной матрицы.  \n",
    "\n",
    "**inv** - вычислить обратную  матрицу любой квадратной матрицы (определитель должен быть не равен нулю)\n",
    "\n",
    "**svd** - вычислить сингулярное разложение значений (SVD).\n",
    "\n",
    "**solve** решение линейной системы уравнений Ax = b для x, где A - квадратная матрица. \n",
    "\n",
    "**lstsq** - вычислить оценки методом наименьших квадратов для Ax = b"
   ]
  },
  {
   "cell_type": "code",
   "execution_count": 84,
   "metadata": {},
   "outputs": [],
   "source": [
    "x = np.array([[1,2,3],[4,5,6],[7,8,9]])\n",
    "w, v = np.linalg.eig(x)"
   ]
  },
  {
   "cell_type": "code",
   "execution_count": 133,
   "metadata": {},
   "outputs": [
    {
     "name": "stdout",
     "output_type": "stream",
     "text": [
      "[ 6. 15.] [ 6. 15.] [ 6. 15.]\n"
     ]
    }
   ],
   "source": [
    "x = np.array([[1,2,3],[4,5,6]])\n",
    "y = np.array([[6,23],[-1,7],[8,9]])\n",
    "print(x.dot(np.ones(3)), np.dot(x, np.ones(3)), x @ np.ones(3))"
   ]
  },
  {
   "cell_type": "code",
   "execution_count": 95,
   "metadata": {},
   "outputs": [
    {
     "name": "stdout",
     "output_type": "stream",
     "text": [
      "[[-0.07804272  0.98875349 -0.18804848  0.41857286  0.02069609]\n",
      " [ 0.32048679 -2.91090309  1.25514445  1.15589183 -0.35306481]\n",
      " [ 0.0262801   1.4123499  -0.32113901 -1.21282462  1.07864606]\n",
      " [-0.01365896 -1.96130517  0.31569287 -0.02262023  0.24753756]\n",
      " [-0.29258148 -2.15714787  0.68313371  0.2973067  -0.12866259]]\n",
      "2.1600950027772745\n"
     ]
    }
   ],
   "source": [
    "from numpy.linalg import inv, det\n",
    "mat = np.random.randn(5, 5)\n",
    "print(inv(mat))\n",
    "print(det(mat))"
   ]
  },
  {
   "cell_type": "code",
   "execution_count": null,
   "metadata": {},
   "outputs": [],
   "source": [
    "y "
   ]
  },
  {
   "cell_type": "markdown",
   "metadata": {},
   "source": [
    "## <center> Связь МНК и решения системы линейных уравнений"
   ]
  },
  {
   "cell_type": "markdown",
   "metadata": {},
   "source": [
    "### <center>Решение системы линейных уравнений\n",
    "$$  \\large \\textbf A \\textbf x = \\textbf y  $$\n",
    "$$ \\large \\textbf A^{-1} \\textbf A \\textbf x = \\textbf A^{-1} \\textbf y $$ \n",
    "$$  \\large \\textbf x = \\textbf A^{-1} \\textbf y  $$"
   ]
  },
  {
   "cell_type": "markdown",
   "metadata": {},
   "source": [
    "\n",
    "#### <center> Заменим A на матрицу наблюдений X, а $x$ на $\\theta$ (коэффициенты при переменных). В этом случае мы можем прогнать линейную регрессию с 3 наблюдениями и 3 переменными\n",
    "$$ \\large \\textbf X \\theta = \\textbf y$$ \\\n",
    "$$ \\large \\textbf X^T \\textbf X \\theta = \\textbf X^T \\textbf y$$ \\\n",
    "$$ \\large (\\textbf X^T \\textbf X)^{-1} \\textbf X^T \\textbf X  \\theta = (\\textbf X^T \\textbf X)^{-1} \\textbf X^T \\textbf y$$ \\\n",
    "$$ \\large \\hat{\\theta} = (\\textbf X^T \\textbf X)^{-1} \\textbf X^T \\textbf y$$"
   ]
  },
  {
   "cell_type": "code",
   "execution_count": 95,
   "metadata": {},
   "outputs": [
    {
     "data": {
      "text/plain": [
       "array([ 5.42857143, -1.14285714, -2.71428571])"
      ]
     },
     "execution_count": 95,
     "metadata": {},
     "output_type": "execute_result"
    }
   ],
   "source": [
    "# Давайте решим систему линейных уравнений\n",
    "import numpy as np\n",
    "A = np.array([[2,5,3],[4,0,8],[1,3,0]])\n",
    "y = np.array([-3, 0, 2])\n",
    "np.linalg.solve(A, y)"
   ]
  },
  {
   "cell_type": "code",
   "execution_count": 96,
   "metadata": {},
   "outputs": [
    {
     "data": {
      "text/plain": [
       "array([ 5.42857143, -1.14285714, -2.71428571])"
      ]
     },
     "execution_count": 96,
     "metadata": {},
     "output_type": "execute_result"
    }
   ],
   "source": [
    "# Тот же результат мы получим, если применим формулу для МНК\n",
    "np.linalg.inv(A.T @ A) @ A.T @ y"
   ]
  },
  {
   "cell_type": "markdown",
   "metadata": {},
   "source": [
    "**Но почему для решения линейных системных уравнений следует использовать формулу для МНК вместо простой формулы?**\n",
    "\n",
    "Давайте добавим наблюдение к нашей простой модели"
   ]
  },
  {
   "cell_type": "code",
   "execution_count": 97,
   "metadata": {},
   "outputs": [
    {
     "ename": "LinAlgError",
     "evalue": "Last 2 dimensions of the array must be square",
     "output_type": "error",
     "traceback": [
      "\u001b[0;31m---------------------------------------------------------------------------\u001b[0m",
      "\u001b[0;31mLinAlgError\u001b[0m                               Traceback (most recent call last)",
      "\u001b[0;32m<ipython-input-97-c05eb86239d7>\u001b[0m in \u001b[0;36m<module>\u001b[0;34m\u001b[0m\n\u001b[1;32m      1\u001b[0m \u001b[0mA\u001b[0m \u001b[0;34m=\u001b[0m \u001b[0mnp\u001b[0m\u001b[0;34m.\u001b[0m\u001b[0marray\u001b[0m\u001b[0;34m(\u001b[0m\u001b[0;34m[\u001b[0m\u001b[0;34m[\u001b[0m\u001b[0;36m2\u001b[0m\u001b[0;34m,\u001b[0m\u001b[0;36m5\u001b[0m\u001b[0;34m,\u001b[0m\u001b[0;36m3\u001b[0m\u001b[0;34m]\u001b[0m\u001b[0;34m,\u001b[0m\u001b[0;34m[\u001b[0m\u001b[0;36m4\u001b[0m\u001b[0;34m,\u001b[0m\u001b[0;36m0\u001b[0m\u001b[0;34m,\u001b[0m\u001b[0;36m8\u001b[0m\u001b[0;34m]\u001b[0m\u001b[0;34m,\u001b[0m\u001b[0;34m[\u001b[0m\u001b[0;36m1\u001b[0m\u001b[0;34m,\u001b[0m\u001b[0;36m3\u001b[0m\u001b[0;34m,\u001b[0m\u001b[0;36m0\u001b[0m\u001b[0;34m]\u001b[0m\u001b[0;34m,\u001b[0m \u001b[0;34m[\u001b[0m\u001b[0;36m2\u001b[0m\u001b[0;34m,\u001b[0m\u001b[0;36m4\u001b[0m\u001b[0;34m,\u001b[0m\u001b[0;36m5\u001b[0m\u001b[0;34m]\u001b[0m\u001b[0;34m]\u001b[0m\u001b[0;34m)\u001b[0m\u001b[0;34m\u001b[0m\u001b[0;34m\u001b[0m\u001b[0m\n\u001b[1;32m      2\u001b[0m \u001b[0my\u001b[0m \u001b[0;34m=\u001b[0m \u001b[0mnp\u001b[0m\u001b[0;34m.\u001b[0m\u001b[0marray\u001b[0m\u001b[0;34m(\u001b[0m\u001b[0;34m[\u001b[0m\u001b[0;34m-\u001b[0m\u001b[0;36m3\u001b[0m\u001b[0;34m,\u001b[0m \u001b[0;36m0\u001b[0m\u001b[0;34m,\u001b[0m \u001b[0;36m2\u001b[0m\u001b[0;34m,\u001b[0m \u001b[0;36m5\u001b[0m\u001b[0;34m]\u001b[0m\u001b[0;34m)\u001b[0m\u001b[0;34m\u001b[0m\u001b[0;34m\u001b[0m\u001b[0m\n\u001b[0;32m----> 3\u001b[0;31m \u001b[0mnp\u001b[0m\u001b[0;34m.\u001b[0m\u001b[0mlinalg\u001b[0m\u001b[0;34m.\u001b[0m\u001b[0msolve\u001b[0m\u001b[0;34m(\u001b[0m\u001b[0mA\u001b[0m\u001b[0;34m,\u001b[0m \u001b[0my\u001b[0m\u001b[0;34m)\u001b[0m\u001b[0;34m\u001b[0m\u001b[0;34m\u001b[0m\u001b[0m\n\u001b[0m",
      "\u001b[0;32m<__array_function__ internals>\u001b[0m in \u001b[0;36msolve\u001b[0;34m(*args, **kwargs)\u001b[0m\n",
      "\u001b[0;32m~/PythonR/anaconda3/lib/python3.8/site-packages/numpy/linalg/linalg.py\u001b[0m in \u001b[0;36msolve\u001b[0;34m(a, b)\u001b[0m\n\u001b[1;32m    378\u001b[0m     \u001b[0ma\u001b[0m\u001b[0;34m,\u001b[0m \u001b[0m_\u001b[0m \u001b[0;34m=\u001b[0m \u001b[0m_makearray\u001b[0m\u001b[0;34m(\u001b[0m\u001b[0ma\u001b[0m\u001b[0;34m)\u001b[0m\u001b[0;34m\u001b[0m\u001b[0;34m\u001b[0m\u001b[0m\n\u001b[1;32m    379\u001b[0m     \u001b[0m_assert_stacked_2d\u001b[0m\u001b[0;34m(\u001b[0m\u001b[0ma\u001b[0m\u001b[0;34m)\u001b[0m\u001b[0;34m\u001b[0m\u001b[0;34m\u001b[0m\u001b[0m\n\u001b[0;32m--> 380\u001b[0;31m     \u001b[0m_assert_stacked_square\u001b[0m\u001b[0;34m(\u001b[0m\u001b[0ma\u001b[0m\u001b[0;34m)\u001b[0m\u001b[0;34m\u001b[0m\u001b[0;34m\u001b[0m\u001b[0m\n\u001b[0m\u001b[1;32m    381\u001b[0m     \u001b[0mb\u001b[0m\u001b[0;34m,\u001b[0m \u001b[0mwrap\u001b[0m \u001b[0;34m=\u001b[0m \u001b[0m_makearray\u001b[0m\u001b[0;34m(\u001b[0m\u001b[0mb\u001b[0m\u001b[0;34m)\u001b[0m\u001b[0;34m\u001b[0m\u001b[0;34m\u001b[0m\u001b[0m\n\u001b[1;32m    382\u001b[0m     \u001b[0mt\u001b[0m\u001b[0;34m,\u001b[0m \u001b[0mresult_t\u001b[0m \u001b[0;34m=\u001b[0m \u001b[0m_commonType\u001b[0m\u001b[0;34m(\u001b[0m\u001b[0ma\u001b[0m\u001b[0;34m,\u001b[0m \u001b[0mb\u001b[0m\u001b[0;34m)\u001b[0m\u001b[0;34m\u001b[0m\u001b[0;34m\u001b[0m\u001b[0m\n",
      "\u001b[0;32m~/PythonR/anaconda3/lib/python3.8/site-packages/numpy/linalg/linalg.py\u001b[0m in \u001b[0;36m_assert_stacked_square\u001b[0;34m(*arrays)\u001b[0m\n\u001b[1;32m    201\u001b[0m         \u001b[0mm\u001b[0m\u001b[0;34m,\u001b[0m \u001b[0mn\u001b[0m \u001b[0;34m=\u001b[0m \u001b[0ma\u001b[0m\u001b[0;34m.\u001b[0m\u001b[0mshape\u001b[0m\u001b[0;34m[\u001b[0m\u001b[0;34m-\u001b[0m\u001b[0;36m2\u001b[0m\u001b[0;34m:\u001b[0m\u001b[0;34m]\u001b[0m\u001b[0;34m\u001b[0m\u001b[0;34m\u001b[0m\u001b[0m\n\u001b[1;32m    202\u001b[0m         \u001b[0;32mif\u001b[0m \u001b[0mm\u001b[0m \u001b[0;34m!=\u001b[0m \u001b[0mn\u001b[0m\u001b[0;34m:\u001b[0m\u001b[0;34m\u001b[0m\u001b[0;34m\u001b[0m\u001b[0m\n\u001b[0;32m--> 203\u001b[0;31m             \u001b[0;32mraise\u001b[0m \u001b[0mLinAlgError\u001b[0m\u001b[0;34m(\u001b[0m\u001b[0;34m'Last 2 dimensions of the array must be square'\u001b[0m\u001b[0;34m)\u001b[0m\u001b[0;34m\u001b[0m\u001b[0;34m\u001b[0m\u001b[0m\n\u001b[0m\u001b[1;32m    204\u001b[0m \u001b[0;34m\u001b[0m\u001b[0m\n\u001b[1;32m    205\u001b[0m \u001b[0;32mdef\u001b[0m \u001b[0m_assert_finite\u001b[0m\u001b[0;34m(\u001b[0m\u001b[0;34m*\u001b[0m\u001b[0marrays\u001b[0m\u001b[0;34m)\u001b[0m\u001b[0;34m:\u001b[0m\u001b[0;34m\u001b[0m\u001b[0;34m\u001b[0m\u001b[0m\n",
      "\u001b[0;31mLinAlgError\u001b[0m: Last 2 dimensions of the array must be square"
     ]
    }
   ],
   "source": [
    "A = np.array([[2,5,3],[4,0,8],[1,3,0], [2,4,5]])\n",
    "y = np.array([-3, 0, 2, 5])\n",
    "np.linalg.solve(A, y)"
   ]
  },
  {
   "cell_type": "markdown",
   "metadata": {},
   "source": [
    "Мы не смогли получить оценки, потому что **обратная матрица существует только для квадратных матриц!**\n",
    "\n",
    "Умножение на $X^T$ позволяет получить квадратные матрицы без изменения соотношения между X и y. \n",
    "\n",
    "Формула МНК для решения уравнения Ax=b выводится из минимизации $(Ax - b)^T(Ax-b)$."
   ]
  },
  {
   "cell_type": "markdown",
   "metadata": {},
   "source": [
    "# Прикладная статистика"
   ]
  },
  {
   "cell_type": "code",
   "execution_count": 111,
   "metadata": {},
   "outputs": [],
   "source": [
    "# Случайные величины\n",
    "x = np.random.random_sample((1, 100))\n",
    "y = np.random.random_sample((1, 100))"
   ]
  },
  {
   "cell_type": "markdown",
   "metadata": {},
   "source": [
    "##### <center>Основные выборочные характеристики в статистике:\n",
    "\n",
    "$$ \\bar{x} = \\frac {\\sum_i {x_i}} {n} $$\n",
    "\n",
    "$$ \\sigma^2 = \\frac {\\sum_i  {(x_i - \\bar{x})^2}} {n} $$\n",
    "\n",
    "$$ \\sigma = \\sqrt{\\sigma^2} $$\n",
    "\n",
    "$$ Cov(x,y) = \\frac{1}{n}\\sum_i  {[(x_i - \\bar{x}) \\cdot (y_i - \\bar{y})]} $$ <center> - мера связи между переменными. НО! Ковариация является безразмерной величиной\n",
    "\n",
    "$$ Corr(x,y) = \\frac {Cov(x,y)} {\\sigma(x) \\cdot \\sigma(y)} $$ <center> - мера тесноты линейной связи между двумя переменными"
   ]
  },
  {
   "cell_type": "markdown",
   "metadata": {},
   "source": [
    "##### <center> Всегда помните: КОРРЕЛЯЦИЯ НЕ ОЗНАЧАЕТ ПРИЧИННО-СЛЕДСТВЕННУЮ СВЯЗЬ МЕЖДУ ПЕРЕМЕННЫМИ!!!"
   ]
  },
  {
   "cell_type": "code",
   "execution_count": 99,
   "metadata": {},
   "outputs": [
    {
     "name": "stdout",
     "output_type": "stream",
     "text": [
      "Выборочное среднее = (1.5, 1.0)\n",
      "Выборочная дисперсия = (0.25, 8.5)\n",
      "Выборочное стандартное отклонение = (0.5, 2.9154759474226504)\n"
     ]
    }
   ],
   "source": [
    "print(f\"Выборочное среднее = {x.mean(), y.mean()}\")\n",
    "print(f\"Выборочная дисперсия = {x.var(), y.var()}\")\n",
    "print(f\"Выборочное стандартное отклонение = {x.std(), y.std()}\")"
   ]
  },
  {
   "cell_type": "code",
   "execution_count": 115,
   "metadata": {},
   "outputs": [
    {
     "data": {
      "text/plain": [
       "array([[0.07984275, 0.00185416],\n",
       "       [0.00185416, 0.09029117]])"
      ]
     },
     "execution_count": 115,
     "metadata": {},
     "output_type": "execute_result"
    }
   ],
   "source": [
    "# Ковариационная матрица\n",
    "np.cov(x, y)"
   ]
  },
  {
   "cell_type": "code",
   "execution_count": 116,
   "metadata": {},
   "outputs": [
    {
     "data": {
      "text/plain": [
       "array([[1.        , 0.02183772],\n",
       "       [0.02183772, 1.        ]])"
      ]
     },
     "execution_count": 116,
     "metadata": {},
     "output_type": "execute_result"
    }
   ],
   "source": [
    "# Корреляционная матрица\n",
    "np.corrcoef(x, y)"
   ]
  },
  {
   "cell_type": "markdown",
   "metadata": {},
   "source": [
    "## <center> МНК-оценки. Случай парной регрессии"
   ]
  },
  {
   "cell_type": "markdown",
   "metadata": {},
   "source": [
    "$$ \\textbf y_i = \\alpha + \\beta \\textbf x_i + \\epsilon_i $$\n",
    "$$ \\epsilon_i = \\textbf y_i - \\beta \\textbf x_i $$\n",
    "$$ \\sum_{i} \\epsilon_i^2 \\rightarrow  \\underset{\\alpha, \\beta}{min}$$\n",
    "$$ \\sum_{i} (\\textbf y_i - \\alpha - \\beta \\textbf x_i)^2 \\rightarrow  \\underset{\\alpha, \\beta}{min}$$\n",
    "\n",
    "#### <center> ...\n",
    "$$ \\hat{\\beta} = \\frac{cov(x, y)}{var(x)}, \\hat{\\alpha} = \\bar{y} - \\hat{\\beta} \\bar{x} $$\n",
    "\n",
    "\n"
   ]
  },
  {
   "cell_type": "markdown",
   "metadata": {},
   "source": [
    "## <center>МНК-оценки. Добавим вторую переменную.\n",
    "\n",
    "<center> Пусть мы добавим в парную регрессию вторую переменную $z$. Как изменится знак для первой переменной?\n",
    "    \n",
    "$$\\beta - \\beta_x = \\beta_z \\frac{cov(x, z)}{var(x)}$$"
   ]
  },
  {
   "cell_type": "markdown",
   "metadata": {},
   "source": [
    "Датасет \"Квартиры в пригородах Бостона\": https://www.cs.toronto.edu/~delve/data/boston/bostonDetail.html\n",
    "\n",
    "CRIME: Это уровень преступности на душу населения по городам \\\n",
    "ZM: Это доля жилой земли, зонированной для участков более 25 000 кв. Футов. \\\n",
    "INDUS: Это доля не торговых площадей в каждом городе. \\\n",
    "CHAS: Это фиктивная переменная реки Чарльз (она равна 1, если тракт ограничивает реку; 0 в противном случае) \\\n",
    "NOX: это концентрация оксидов азота (частей на 10 миллионов) \\\n",
    "РМ: это среднее количество комнат на одно жилище \\\n",
    "AGE: Это доля занятых владельцем единиц, построенных до 1940 года \\\n",
    "DIS: Это взвешенные расстояния до пяти бостонских центров занятости \\\n",
    "RAD: Это показатель доступности радиальных магистралей \\\n",
    "TAX: это полная стоимость налога на недвижимость на 10 000 долларов \\\n",
    "PTRATIO: Это соотношение учеников и учителей по городам \\\n",
    "BLACK: Это рассчитывается как 1000 (Bk - 0,63) ², где Bk - это доля людей афроамериканского происхождения по городам. \\\n",
    "LSTAT: это процент ниже статуса населения \\\n",
    "MEDV: это средняя стоимость домов, занимаемых владельцами, в 1000 долларов"
   ]
  },
  {
   "cell_type": "code",
   "execution_count": 100,
   "metadata": {},
   "outputs": [],
   "source": [
    "import numpy as np\n",
    "from sklearn.datasets import load_boston \n",
    "y, X = load_boston()['target'], load_boston()['data']\n",
    "# Добавим вектор единиц (модели с константой)\n",
    "X = np.hstack([np.ones([X.shape[0], 1]), X])\n",
    "y_name = 'price'\n",
    "X_names = list(load_boston()['feature_names'])\n",
    "X_names.insert(0,\"const\")"
   ]
  },
  {
   "cell_type": "code",
   "execution_count": 101,
   "metadata": {},
   "outputs": [
    {
     "data": {
      "text/plain": [
       "array([24.03310617, -0.41519028])"
      ]
     },
     "execution_count": 101,
     "metadata": {},
     "output_type": "execute_result"
    }
   ],
   "source": [
    "# Парная регрессия с переменной CRIME\n",
    "X_reg = X[:, :2]\n",
    "reg_crime = np.linalg.inv(X_reg.T @ X_reg) @ X_reg.T @ y \n",
    "reg_crime"
   ]
  },
  {
   "cell_type": "code",
   "execution_count": 102,
   "metadata": {},
   "outputs": [
    {
     "data": {
      "text/plain": [
       "array([22.48562811, -0.35207832,  0.11610909])"
      ]
     },
     "execution_count": 102,
     "metadata": {},
     "output_type": "execute_result"
    }
   ],
   "source": [
    "# Добавим переменную ZM\n",
    "X_reg = X[:, :3]\n",
    "reg_crime_zm = np.linalg.inv(X_reg.T @ X_reg) @ X_reg.T @ y \n",
    "reg_crime_zm"
   ]
  },
  {
   "cell_type": "code",
   "execution_count": 103,
   "metadata": {},
   "outputs": [
    {
     "name": "stdout",
     "output_type": "stream",
     "text": [
      "Коэффициент изменился на -0.06311196227482346\n",
      "Согласно формуле коэффициент изменился на -0.06323693645754555\n"
     ]
    }
   ],
   "source": [
    "print(f\"Коэффициент изменился на {reg_crime[1] - reg_crime_zm[1]}\")\n",
    "diff_coef = reg_crime_zm[2] * np.cov(X[:, 1], X[:, 2])[0,1] / np.var(X[:, 1])\n",
    "print(f\"Согласно формуле коэффициент изменился на {diff_coef}\")"
   ]
  },
  {
   "cell_type": "markdown",
   "metadata": {},
   "source": [
    "<center> Они почти равны, но не равны. Почему? Дело в том, что в numpy существует несколько способов вычисления дисперсий, ковариаций и корреляций - смещенные и несмещенные выборочные оценки своих теоретических аналогов. По умолчанию numpy использует смещенные оценки (в формуле ковариации, корреляции и дисперсии деление происходит не на $n-1$, а на  $n$. Исправим это."
   ]
  },
  {
   "cell_type": "code",
   "execution_count": 104,
   "metadata": {},
   "outputs": [
    {
     "name": "stdout",
     "output_type": "stream",
     "text": [
      "Коэффициент изменился на -0.06311196227482346\n",
      "Согласно формуле коэффициент изменился на -0.06311196227482312\n"
     ]
    }
   ],
   "source": [
    "print(f\"Коэффициент изменился на {reg_crime[1] - reg_crime_zm[1]}\")\n",
    "diff_coef = reg_crime_zm[2] * np.cov(X[:, 1], X[:, 2], \n",
    "                                     ddof = 1)[0,1] / np.var(X[:, 1],\n",
    "                                                            ddof = 1)\n",
    "print(f\"Согласно формуле коэффициент изменился на {diff_coef}\")\n",
    "# Порядок округления\n",
    "n_round = 14\n",
    "assert np.round(reg_crime[1] - reg_crime_zm[1], n_round) == np.round(diff_coef, n_round)"
   ]
  },
  {
   "cell_type": "markdown",
   "metadata": {},
   "source": [
    "Заметим, что $ \\frac{cov(x, z)}{var(x)} $ есть не что иное как оценка коэффициента наклона в регрессии $z$ на $ x$. Оценим при помощи МНК регрессию $z$ на $ x$:"
   ]
  },
  {
   "cell_type": "code",
   "execution_count": 147,
   "metadata": {},
   "outputs": [
    {
     "data": {
      "text/plain": [
       "array([13.32779403, -0.54355745])"
      ]
     },
     "execution_count": 147,
     "metadata": {},
     "output_type": "execute_result"
    }
   ],
   "source": [
    "np.linalg.lstsq(a=X[:, :2], b=X[:, 2], rcond=None)[0]"
   ]
  },
  {
   "cell_type": "code",
   "execution_count": 148,
   "metadata": {},
   "outputs": [
    {
     "name": "stdout",
     "output_type": "stream",
     "text": [
      "Коэффициент изменился на -0.06311196227482352\n",
      "Согласно формуле коэффициент изменился на -0.06311196227482317\n"
     ]
    }
   ],
   "source": [
    "print(f\"Коэффициент изменился на {reg_crime[1] - reg_crime_zm[1]}\")\n",
    "diff_coef = reg_crime_zm[2] * np.linalg.lstsq(a=X[:, :2], b=X[:, 2], rcond=None)[0][1]\n",
    "print(f\"Согласно формуле коэффициент изменился на {diff_coef}\")\n",
    "# Порядок округления\n",
    "n_round = 14\n",
    "assert np.round(reg_crime[1] - reg_crime_zm[1], n_round) == np.round(diff_coef, n_round)"
   ]
  },
  {
   "cell_type": "markdown",
   "metadata": {},
   "source": [
    "А что, если мы добавим в регрессию не одну, а две новые переменные? Здесь уже на помощь приходит **теорема Фриша-Во-Ловела**, которая гласит, что оценка МНК во множественной регрессии при первом факторе получена в результате очистки от влияния остальных факторов. Подробней здесь.\n",
    "http://bdemeshev.github.io/em301/notes_2016/frish-and-co.html\n",
    "\n",
    "Приведем пример."
   ]
  },
  {
   "cell_type": "code",
   "execution_count": 631,
   "metadata": {
    "scrolled": true
   },
   "outputs": [
    {
     "data": {
      "text/plain": [
       "array([27.39464678, -0.24862831,  0.05850082, -0.41557782])"
      ]
     },
     "execution_count": 631,
     "metadata": {},
     "output_type": "execute_result"
    }
   ],
   "source": [
    "# Добавим переменную ZM, INDUS\n",
    "X_reg = X[:, :4]\n",
    "reg_price_crime_zm_indus = np.linalg.inv(X_reg.T @ X_reg) @ X_reg.T @ y\n",
    "reg_price_crime_zm_indus"
   ]
  },
  {
   "cell_type": "code",
   "execution_count": 632,
   "metadata": {},
   "outputs": [],
   "source": [
    "# Оценим регрессию PRICE на ZM, INDUS\n",
    "X_reg = X[:, [0, 2,3]]\n",
    "reg_price_zm_indus = np.linalg.inv(X_reg.T @ X_reg) @ X_reg.T @ y\n",
    "reg_price_indus_residuals = y - X_reg @ reg_price_zm_indus"
   ]
  },
  {
   "cell_type": "code",
   "execution_count": 633,
   "metadata": {},
   "outputs": [],
   "source": [
    "# Оценим регрессию CRIME на ZM, INDUS\n",
    "X_reg, y = X[:, [0, 2,3]], X[:, 1]\n",
    "reg_crime_zm_indus = np.linalg.inv(X_reg.T @ X_reg) @ X_reg.T @ y\n",
    "reg_crime_zm_indus_residuals = y - X_reg @ reg_crime_zm_indus"
   ]
  },
  {
   "cell_type": "code",
   "execution_count": 634,
   "metadata": {},
   "outputs": [],
   "source": [
    "# Оценим остатки от регрессии PRICE на ZM, INDUS на остатки от регрессии CRIME на ZM, INDUS\n",
    "X_reg, y = reg_crime_zm_indus_residuals, reg_price_indus_residuals\n",
    "X_reg = np.hstack([np.ones([X_reg.shape[0], 1]), np.array([X_reg]).T])\n",
    "reg_PRICE_res_CRIME_res = np.linalg.inv(X_reg.T @ X_reg) @ X_reg.T @ y"
   ]
  },
  {
   "cell_type": "code",
   "execution_count": 639,
   "metadata": {},
   "outputs": [
    {
     "data": {
      "text/plain": [
       "True"
      ]
     },
     "execution_count": 639,
     "metadata": {},
     "output_type": "execute_result"
    }
   ],
   "source": [
    "n_dig = 14\n",
    "np.round(reg_PRICE_res_CRIME_res[1], n_dig) == np.round(reg_price_crime_zm_indus[1], n_dig)"
   ]
  },
  {
   "cell_type": "markdown",
   "metadata": {},
   "source": [
    "# kNN - метод ближайших соседей"
   ]
  },
  {
   "cell_type": "markdown",
   "metadata": {},
   "source": [
    "Реализация метода ближайших соседей для решения проблемы классификации без готовых пакетов, используя только numpy на датасете титаник.\n",
    "\n",
    "Задача: используя признаки Fare (стоимость билета на борт) и Pclass (класс каюты), попробуем классифицировать пассажиров в зависимости от того, выжили они или нет (Survived = 1 или 0)"
   ]
  },
  {
   "cell_type": "code",
   "execution_count": 106,
   "metadata": {},
   "outputs": [],
   "source": [
    "from catboost.datasets import titanic\n",
    "titanic_train, titanic_test = titanic()\n",
    "\n",
    "# Целевая переменная на тренировочном наборе данных\n",
    "y_train = titanic_train.Survived.values\n",
    "# Объясняющий признак на тренировочной и валидационной выборке\n",
    "X_train, X_test = titanic_train[[\"Fare\", \"Pclass\"]].values, titanic_test[[\"Fare\", \"Pclass\"]].values\n",
    "# # # Удалим пропуски из тестовой выборки\n",
    "X_test = X_test[np.isnan(X_test).sum(axis=1)==0]\n",
    "\n",
    "# Стандартизируем объясняющие признаки\n",
    "X_train_knn_scaled = (X_train - np.mean(X_train, axis=0)) / np.std(X_train, axis=0)\n",
    "X_test_knn_scaled = (X_test - np.mean(X_train, axis=0)) / np.std(X_train, axis=0)"
   ]
  },
  {
   "cell_type": "code",
   "execution_count": 123,
   "metadata": {},
   "outputs": [
    {
     "data": {
      "text/plain": [
       "(417, 2)"
      ]
     },
     "execution_count": 123,
     "metadata": {},
     "output_type": "execute_result"
    }
   ],
   "source": [
    "X_test_knn_scaled.shape"
   ]
  },
  {
   "cell_type": "code",
   "execution_count": 124,
   "metadata": {},
   "outputs": [
    {
     "data": {
      "text/plain": [
       "(891, 2)"
      ]
     },
     "execution_count": 124,
     "metadata": {},
     "output_type": "execute_result"
    }
   ],
   "source": [
    "X_train_knn_scaled.shape"
   ]
  },
  {
   "cell_type": "code",
   "execution_count": 110,
   "metadata": {},
   "outputs": [
    {
     "name": "stdout",
     "output_type": "stream",
     "text": [
      "CPU times: user 16.2 ms, sys: 4.41 ms, total: 20.6 ms\n",
      "Wall time: 23.4 ms\n"
     ]
    }
   ],
   "source": [
    "%%time\n",
    "def get_dist(x):\n",
    "    ''' Создаем матрицу с попарными расстояниями между признаками на тестовой выборке\n",
    "    и тренировочной'''\n",
    "    return np.linalg.norm(x - X_train_knn_scaled, axis = 1)\n",
    "dist_mat = np.apply_along_axis(get_dist, 1, X_test_knn_scaled)\n",
    "\n",
    "# Берем 7 ближайших соседей (первые 7 индексов по убыванию в тренировочной выборке)\n",
    "n = 7\n",
    "dist_mat_sort_index = dist_mat.argpartition(kth = n, axis = 1)[:, 0:7]\n",
    "# Заменяем в остортированной матрице расстояний индексы на соответствующие им значения целевой переменной\n",
    "\n",
    "dist_target = np.apply_along_axis(lambda x: y_train[x], 1, dist_mat_sort_index)\n",
    "\n",
    "# Предсказываем целевую переменную методом большинства\n",
    "y_pred = np.round(dist_target.mean(axis = 1),0)"
   ]
  },
  {
   "cell_type": "code",
   "execution_count": 143,
   "metadata": {},
   "outputs": [
    {
     "data": {
      "text/plain": [
       "(417,)"
      ]
     },
     "execution_count": 143,
     "metadata": {},
     "output_type": "execute_result"
    }
   ],
   "source": [
    "y_pred"
   ]
  },
  {
   "cell_type": "code",
   "execution_count": 146,
   "metadata": {},
   "outputs": [
    {
     "data": {
      "text/plain": [
       "array([1, 0, 0, 0, 1, 1, 0])"
      ]
     },
     "execution_count": 146,
     "metadata": {},
     "output_type": "execute_result"
    }
   ],
   "source": [
    "dist_target[0]"
   ]
  },
  {
   "cell_type": "code",
   "execution_count": 131,
   "metadata": {},
   "outputs": [
    {
     "data": {
      "text/plain": [
       "array([[653, 623, 175, ..., 569, 315,  14],\n",
       "       [611, 804, 784, ..., 825, 477, 465],\n",
       "       [242,  70, 570, ..., 812, 516,  66],\n",
       "       ...,\n",
       "       [470, 320, 250, ..., 212, 785, 491],\n",
       "       [668, 588,  90, ...,  87, 415,  77],\n",
       "       [128, 533, 184, ...,  48, 301, 330]])"
      ]
     },
     "execution_count": 131,
     "metadata": {},
     "output_type": "execute_result"
    }
   ],
   "source": [
    "dist_mat_sort_index"
   ]
  },
  {
   "cell_type": "code",
   "execution_count": 147,
   "metadata": {
    "scrolled": true
   },
   "outputs": [],
   "source": [
    "from sklearn.neighbors import KNeighborsClassifier\n",
    "knn_7 = KNeighborsClassifier(7)\n",
    "knn_7.fit(X_train_knn_scaled, y_train)\n",
    "knn_sklearn_predict = knn_7.predict(X_test_knn_scaled.astype('float32'))\n",
    "knn_sklearn_predict_proba = knn_7.predict_proba(X_test_knn_scaled.astype('float32'))"
   ]
  },
  {
   "cell_type": "code",
   "execution_count": 152,
   "metadata": {},
   "outputs": [
    {
     "data": {
      "text/plain": [
       "(37,)"
      ]
     },
     "execution_count": 152,
     "metadata": {},
     "output_type": "execute_result"
    }
   ],
   "source": [
    "y_pred[y_pred != knn_sklearn_predict].shape"
   ]
  },
  {
   "cell_type": "code",
   "execution_count": 153,
   "metadata": {},
   "outputs": [
    {
     "data": {
      "text/plain": [
       "array([[0.71428571, 0.28571429],\n",
       "       [0.85714286, 0.14285714],\n",
       "       [0.85714286, 0.14285714],\n",
       "       [1.        , 0.        ],\n",
       "       [0.        , 1.        ],\n",
       "       [0.85714286, 0.14285714],\n",
       "       [0.85714286, 0.14285714],\n",
       "       [0.28571429, 0.71428571],\n",
       "       [0.85714286, 0.14285714],\n",
       "       [0.85714286, 0.14285714],\n",
       "       [0.85714286, 0.14285714],\n",
       "       [0.42857143, 0.57142857],\n",
       "       [0.14285714, 0.85714286],\n",
       "       [0.57142857, 0.42857143],\n",
       "       [0.42857143, 0.57142857],\n",
       "       [0.42857143, 0.57142857],\n",
       "       [0.42857143, 0.57142857],\n",
       "       [0.57142857, 0.42857143],\n",
       "       [0.57142857, 0.42857143],\n",
       "       [0.57142857, 0.42857143],\n",
       "       [0.28571429, 0.71428571],\n",
       "       [0.85714286, 0.14285714],\n",
       "       [0.57142857, 0.42857143],\n",
       "       [0.42857143, 0.57142857],\n",
       "       [0.42857143, 0.57142857],\n",
       "       [1.        , 0.        ],\n",
       "       [0.42857143, 0.57142857],\n",
       "       [0.57142857, 0.42857143],\n",
       "       [0.42857143, 0.57142857],\n",
       "       [0.71428571, 0.28571429],\n",
       "       [0.57142857, 0.42857143],\n",
       "       [0.28571429, 0.71428571],\n",
       "       [0.42857143, 0.57142857],\n",
       "       [0.57142857, 0.42857143],\n",
       "       [0.        , 1.        ],\n",
       "       [0.85714286, 0.14285714],\n",
       "       [0.85714286, 0.14285714],\n",
       "       [1.        , 0.        ],\n",
       "       [0.85714286, 0.14285714],\n",
       "       [0.28571429, 0.71428571],\n",
       "       [0.28571429, 0.71428571],\n",
       "       [0.57142857, 0.42857143],\n",
       "       [0.71428571, 0.28571429],\n",
       "       [0.57142857, 0.42857143],\n",
       "       [0.28571429, 0.71428571],\n",
       "       [0.57142857, 0.42857143],\n",
       "       [0.42857143, 0.57142857],\n",
       "       [0.71428571, 0.28571429],\n",
       "       [0.28571429, 0.71428571],\n",
       "       [0.28571429, 0.71428571],\n",
       "       [0.42857143, 0.57142857],\n",
       "       [0.42857143, 0.57142857],\n",
       "       [0.28571429, 0.71428571],\n",
       "       [0.42857143, 0.57142857],\n",
       "       [0.42857143, 0.57142857],\n",
       "       [1.        , 0.        ],\n",
       "       [0.85714286, 0.14285714],\n",
       "       [0.85714286, 0.14285714],\n",
       "       [0.71428571, 0.28571429],\n",
       "       [0.42857143, 0.57142857],\n",
       "       [0.85714286, 0.14285714],\n",
       "       [0.42857143, 0.57142857],\n",
       "       [0.71428571, 0.28571429],\n",
       "       [0.71428571, 0.28571429],\n",
       "       [0.42857143, 0.57142857],\n",
       "       [0.57142857, 0.42857143],\n",
       "       [0.42857143, 0.57142857],\n",
       "       [0.71428571, 0.28571429],\n",
       "       [0.85714286, 0.14285714],\n",
       "       [0.42857143, 0.57142857],\n",
       "       [0.71428571, 0.28571429],\n",
       "       [0.85714286, 0.14285714],\n",
       "       [0.57142857, 0.42857143],\n",
       "       [0.85714286, 0.14285714],\n",
       "       [0.28571429, 0.71428571],\n",
       "       [0.28571429, 0.71428571],\n",
       "       [0.85714286, 0.14285714],\n",
       "       [0.57142857, 0.42857143],\n",
       "       [0.57142857, 0.42857143],\n",
       "       [0.71428571, 0.28571429],\n",
       "       [0.42857143, 0.57142857],\n",
       "       [0.42857143, 0.57142857],\n",
       "       [0.42857143, 0.57142857],\n",
       "       [0.85714286, 0.14285714],\n",
       "       [0.85714286, 0.14285714],\n",
       "       [0.85714286, 0.14285714],\n",
       "       [0.42857143, 0.57142857],\n",
       "       [0.85714286, 0.14285714],\n",
       "       [0.71428571, 0.28571429],\n",
       "       [0.28571429, 0.71428571],\n",
       "       [0.85714286, 0.14285714],\n",
       "       [0.71428571, 0.28571429],\n",
       "       [0.57142857, 0.42857143],\n",
       "       [0.85714286, 0.14285714],\n",
       "       [0.42857143, 0.57142857],\n",
       "       [0.71428571, 0.28571429],\n",
       "       [0.42857143, 0.57142857],\n",
       "       [0.57142857, 0.42857143],\n",
       "       [0.71428571, 0.28571429],\n",
       "       [0.85714286, 0.14285714],\n",
       "       [0.14285714, 0.85714286],\n",
       "       [0.57142857, 0.42857143],\n",
       "       [0.71428571, 0.28571429],\n",
       "       [0.71428571, 0.28571429],\n",
       "       [0.85714286, 0.14285714],\n",
       "       [0.28571429, 0.71428571],\n",
       "       [0.57142857, 0.42857143],\n",
       "       [0.71428571, 0.28571429],\n",
       "       [0.85714286, 0.14285714],\n",
       "       [0.57142857, 0.42857143],\n",
       "       [0.42857143, 0.57142857],\n",
       "       [0.71428571, 0.28571429],\n",
       "       [0.57142857, 0.42857143],\n",
       "       [0.85714286, 0.14285714],\n",
       "       [0.42857143, 0.57142857],\n",
       "       [0.85714286, 0.14285714],\n",
       "       [1.        , 0.        ],\n",
       "       [0.42857143, 0.57142857],\n",
       "       [0.28571429, 0.71428571],\n",
       "       [0.57142857, 0.42857143],\n",
       "       [0.42857143, 0.57142857],\n",
       "       [0.71428571, 0.28571429],\n",
       "       [0.        , 1.        ],\n",
       "       [0.85714286, 0.14285714],\n",
       "       [0.71428571, 0.28571429],\n",
       "       [0.71428571, 0.28571429],\n",
       "       [0.71428571, 0.28571429],\n",
       "       [0.42857143, 0.57142857],\n",
       "       [0.57142857, 0.42857143],\n",
       "       [0.85714286, 0.14285714],\n",
       "       [0.85714286, 0.14285714],\n",
       "       [0.85714286, 0.14285714],\n",
       "       [0.85714286, 0.14285714],\n",
       "       [1.        , 0.        ],\n",
       "       [0.85714286, 0.14285714],\n",
       "       [0.71428571, 0.28571429],\n",
       "       [0.57142857, 0.42857143],\n",
       "       [0.57142857, 0.42857143],\n",
       "       [0.85714286, 0.14285714],\n",
       "       [1.        , 0.        ],\n",
       "       [1.        , 0.        ],\n",
       "       [0.42857143, 0.57142857],\n",
       "       [0.42857143, 0.57142857],\n",
       "       [0.57142857, 0.42857143],\n",
       "       [0.57142857, 0.42857143],\n",
       "       [0.85714286, 0.14285714],\n",
       "       [0.71428571, 0.28571429],\n",
       "       [0.85714286, 0.14285714],\n",
       "       [0.57142857, 0.42857143],\n",
       "       [0.57142857, 0.42857143],\n",
       "       [0.28571429, 0.71428571],\n",
       "       [0.85714286, 0.14285714],\n",
       "       [0.        , 1.        ],\n",
       "       [0.57142857, 0.42857143],\n",
       "       [0.85714286, 0.14285714],\n",
       "       [0.42857143, 0.57142857],\n",
       "       [0.71428571, 0.28571429],\n",
       "       [0.57142857, 0.42857143],\n",
       "       [0.85714286, 0.14285714],\n",
       "       [0.57142857, 0.42857143],\n",
       "       [0.42857143, 0.57142857],\n",
       "       [0.42857143, 0.57142857],\n",
       "       [0.85714286, 0.14285714],\n",
       "       [0.57142857, 0.42857143],\n",
       "       [0.57142857, 0.42857143],\n",
       "       [0.57142857, 0.42857143],\n",
       "       [0.57142857, 0.42857143],\n",
       "       [0.85714286, 0.14285714],\n",
       "       [1.        , 0.        ],\n",
       "       [0.85714286, 0.14285714],\n",
       "       [0.57142857, 0.42857143],\n",
       "       [0.85714286, 0.14285714],\n",
       "       [0.85714286, 0.14285714],\n",
       "       [0.57142857, 0.42857143],\n",
       "       [0.28571429, 0.71428571],\n",
       "       [0.42857143, 0.57142857],\n",
       "       [0.14285714, 0.85714286],\n",
       "       [0.28571429, 0.71428571],\n",
       "       [0.28571429, 0.71428571],\n",
       "       [0.57142857, 0.42857143],\n",
       "       [0.28571429, 0.71428571],\n",
       "       [0.28571429, 0.71428571],\n",
       "       [0.71428571, 0.28571429],\n",
       "       [0.28571429, 0.71428571],\n",
       "       [0.42857143, 0.57142857],\n",
       "       [0.57142857, 0.42857143],\n",
       "       [0.85714286, 0.14285714],\n",
       "       [1.        , 0.        ],\n",
       "       [0.57142857, 0.42857143],\n",
       "       [0.57142857, 0.42857143],\n",
       "       [0.42857143, 0.57142857],\n",
       "       [1.        , 0.        ],\n",
       "       [0.42857143, 0.57142857],\n",
       "       [0.28571429, 0.71428571],\n",
       "       [0.71428571, 0.28571429],\n",
       "       [0.14285714, 0.85714286],\n",
       "       [0.71428571, 0.28571429],\n",
       "       [0.85714286, 0.14285714],\n",
       "       [0.85714286, 0.14285714],\n",
       "       [0.57142857, 0.42857143],\n",
       "       [1.        , 0.        ],\n",
       "       [0.42857143, 0.57142857],\n",
       "       [0.57142857, 0.42857143],\n",
       "       [0.85714286, 0.14285714],\n",
       "       [0.57142857, 0.42857143],\n",
       "       [0.71428571, 0.28571429],\n",
       "       [0.85714286, 0.14285714],\n",
       "       [0.85714286, 0.14285714],\n",
       "       [0.85714286, 0.14285714],\n",
       "       [0.28571429, 0.71428571],\n",
       "       [1.        , 0.        ],\n",
       "       [0.71428571, 0.28571429],\n",
       "       [0.57142857, 0.42857143],\n",
       "       [0.71428571, 0.28571429],\n",
       "       [0.71428571, 0.28571429],\n",
       "       [0.42857143, 0.57142857],\n",
       "       [0.42857143, 0.57142857],\n",
       "       [0.28571429, 0.71428571],\n",
       "       [0.85714286, 0.14285714],\n",
       "       [0.42857143, 0.57142857],\n",
       "       [0.85714286, 0.14285714],\n",
       "       [0.85714286, 0.14285714],\n",
       "       [0.71428571, 0.28571429],\n",
       "       [0.71428571, 0.28571429],\n",
       "       [0.42857143, 0.57142857],\n",
       "       [0.71428571, 0.28571429],\n",
       "       [0.71428571, 0.28571429],\n",
       "       [0.42857143, 0.57142857],\n",
       "       [0.57142857, 0.42857143],\n",
       "       [0.71428571, 0.28571429],\n",
       "       [0.57142857, 0.42857143],\n",
       "       [1.        , 0.        ],\n",
       "       [0.42857143, 0.57142857],\n",
       "       [0.28571429, 0.71428571],\n",
       "       [0.71428571, 0.28571429],\n",
       "       [0.28571429, 0.71428571],\n",
       "       [0.57142857, 0.42857143],\n",
       "       [0.57142857, 0.42857143],\n",
       "       [0.42857143, 0.57142857],\n",
       "       [0.85714286, 0.14285714],\n",
       "       [0.28571429, 0.71428571],\n",
       "       [0.14285714, 0.85714286],\n",
       "       [0.85714286, 0.14285714],\n",
       "       [0.57142857, 0.42857143],\n",
       "       [0.71428571, 0.28571429],\n",
       "       [0.57142857, 0.42857143],\n",
       "       [0.28571429, 0.71428571],\n",
       "       [0.57142857, 0.42857143],\n",
       "       [0.85714286, 0.14285714],\n",
       "       [0.42857143, 0.57142857],\n",
       "       [0.57142857, 0.42857143],\n",
       "       [0.14285714, 0.85714286],\n",
       "       [0.85714286, 0.14285714],\n",
       "       [0.85714286, 0.14285714],\n",
       "       [0.85714286, 0.14285714],\n",
       "       [0.71428571, 0.28571429],\n",
       "       [0.85714286, 0.14285714],\n",
       "       [0.57142857, 0.42857143],\n",
       "       [0.71428571, 0.28571429],\n",
       "       [0.71428571, 0.28571429],\n",
       "       [0.71428571, 0.28571429],\n",
       "       [0.28571429, 0.71428571],\n",
       "       [0.        , 1.        ],\n",
       "       [0.42857143, 0.57142857],\n",
       "       [0.85714286, 0.14285714],\n",
       "       [1.        , 0.        ],\n",
       "       [0.85714286, 0.14285714],\n",
       "       [0.85714286, 0.14285714],\n",
       "       [1.        , 0.        ],\n",
       "       [0.28571429, 0.71428571],\n",
       "       [0.71428571, 0.28571429],\n",
       "       [0.14285714, 0.85714286],\n",
       "       [0.57142857, 0.42857143],\n",
       "       [0.57142857, 0.42857143],\n",
       "       [0.57142857, 0.42857143],\n",
       "       [0.85714286, 0.14285714],\n",
       "       [0.57142857, 0.42857143],\n",
       "       [0.57142857, 0.42857143],\n",
       "       [0.85714286, 0.14285714],\n",
       "       [1.        , 0.        ],\n",
       "       [0.85714286, 0.14285714],\n",
       "       [0.71428571, 0.28571429],\n",
       "       [0.42857143, 0.57142857],\n",
       "       [0.85714286, 0.14285714],\n",
       "       [0.85714286, 0.14285714],\n",
       "       [0.85714286, 0.14285714],\n",
       "       [0.14285714, 0.85714286],\n",
       "       [0.85714286, 0.14285714],\n",
       "       [0.85714286, 0.14285714],\n",
       "       [0.57142857, 0.42857143],\n",
       "       [0.85714286, 0.14285714],\n",
       "       [0.85714286, 0.14285714],\n",
       "       [0.14285714, 0.85714286],\n",
       "       [0.85714286, 0.14285714],\n",
       "       [0.85714286, 0.14285714],\n",
       "       [0.28571429, 0.71428571],\n",
       "       [0.71428571, 0.28571429],\n",
       "       [0.71428571, 0.28571429],\n",
       "       [0.71428571, 0.28571429],\n",
       "       [0.71428571, 0.28571429],\n",
       "       [0.42857143, 0.57142857],\n",
       "       [0.57142857, 0.42857143],\n",
       "       [1.        , 0.        ],\n",
       " "
      ]
     },
     "execution_count": 153,
     "metadata": {},
     "output_type": "execute_result"
    },
    {
     "data": {
      "text/html": [
       "<b>limit_output extension: Maximum message size of 10000 exceeded with 13761 characters</b>"
      ]
     },
     "metadata": {},
     "output_type": "display_data"
    }
   ],
   "source": [
    "knn_sklearn_predict_proba"
   ]
  },
  {
   "cell_type": "code",
   "execution_count": 13,
   "metadata": {},
   "outputs": [
    {
     "data": {
      "text/plain": [
       "array([[0.85714286, 0.14285714],\n",
       "       [0.57142857, 0.42857143],\n",
       "       [0.57142857, 0.42857143],\n",
       "       [0.57142857, 0.42857143],\n",
       "       [0.57142857, 0.42857143],\n",
       "       [0.42857143, 0.57142857],\n",
       "       [0.57142857, 0.42857143],\n",
       "       [0.57142857, 0.42857143],\n",
       "       [0.57142857, 0.42857143],\n",
       "       [0.57142857, 0.42857143],\n",
       "       [0.42857143, 0.57142857],\n",
       "       [0.57142857, 0.42857143],\n",
       "       [0.85714286, 0.14285714],\n",
       "       [0.85714286, 0.14285714],\n",
       "       [0.85714286, 0.14285714],\n",
       "       [0.85714286, 0.14285714],\n",
       "       [0.42857143, 0.57142857],\n",
       "       [0.42857143, 0.57142857],\n",
       "       [0.57142857, 0.42857143],\n",
       "       [0.85714286, 0.14285714],\n",
       "       [0.57142857, 0.42857143],\n",
       "       [0.42857143, 0.57142857],\n",
       "       [0.85714286, 0.14285714],\n",
       "       [0.85714286, 0.14285714],\n",
       "       [0.42857143, 0.57142857],\n",
       "       [0.57142857, 0.42857143],\n",
       "       [0.85714286, 0.14285714],\n",
       "       [0.57142857, 0.42857143],\n",
       "       [0.57142857, 0.42857143],\n",
       "       [0.85714286, 0.14285714],\n",
       "       [0.85714286, 0.14285714],\n",
       "       [0.57142857, 0.42857143],\n",
       "       [0.57142857, 0.42857143],\n",
       "       [0.57142857, 0.42857143],\n",
       "       [0.85714286, 0.14285714],\n",
       "       [0.57142857, 0.42857143],\n",
       "       [0.85714286, 0.14285714]])"
      ]
     },
     "execution_count": 13,
     "metadata": {},
     "output_type": "execute_result"
    }
   ],
   "source": [
    "knn_sklearn_predict_proba[y_pred != knn_sklearn_predict]"
   ]
  },
  {
   "cell_type": "markdown",
   "metadata": {},
   "source": [
    "37 из 417 прогнозных значений нашего ручного алгоритма отличаются от предсказанного через реализацию sklearn. \n",
    "\n",
    "**Задание со звездочкой: подумайте, почему?**"
   ]
  },
  {
   "cell_type": "code",
   "execution_count": null,
   "metadata": {},
   "outputs": [],
   "source": []
  }
 ],
 "metadata": {
  "kernelspec": {
   "display_name": "Python 3",
   "language": "python",
   "name": "python3"
  },
  "language_info": {
   "codemirror_mode": {
    "name": "ipython",
    "version": 3
   },
   "file_extension": ".py",
   "mimetype": "text/x-python",
   "name": "python",
   "nbconvert_exporter": "python",
   "pygments_lexer": "ipython3",
   "version": "3.8.3"
  },
  "toc": {
   "base_numbering": 1,
   "nav_menu": {},
   "number_sections": true,
   "sideBar": true,
   "skip_h1_title": false,
   "title_cell": "Table of Contents",
   "title_sidebar": "Contents",
   "toc_cell": false,
   "toc_position": {},
   "toc_section_display": true,
   "toc_window_display": false
  },
  "varInspector": {
   "cols": {
    "lenName": 16,
    "lenType": 16,
    "lenVar": 40
   },
   "kernels_config": {
    "python": {
     "delete_cmd_postfix": "",
     "delete_cmd_prefix": "del ",
     "library": "var_list.py",
     "varRefreshCmd": "print(var_dic_list())"
    },
    "r": {
     "delete_cmd_postfix": ") ",
     "delete_cmd_prefix": "rm(",
     "library": "var_list.r",
     "varRefreshCmd": "cat(var_dic_list()) "
    }
   },
   "types_to_exclude": [
    "module",
    "function",
    "builtin_function_or_method",
    "instance",
    "_Feature"
   ],
   "window_display": false
  }
 },
 "nbformat": 4,
 "nbformat_minor": 4
}
