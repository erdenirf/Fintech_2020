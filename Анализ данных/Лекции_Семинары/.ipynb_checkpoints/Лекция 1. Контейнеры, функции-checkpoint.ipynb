{
 "cells": [
  {
   "cell_type": "markdown",
   "metadata": {},
   "source": [
    "# <center> Practice 1. Types, conditions, loops. Containers: lists, tuples, sets, dictionaries.  Functional programming. Generators"
   ]
  },
  {
   "cell_type": "markdown",
   "metadata": {},
   "source": [
    "0. [PEP20](#0.-PEP20)\n",
    "1. [Basic data types](#1.-Basic-data-types)\n",
    "2. [Lists](#2.-Lists) \n",
    "3. [Tuples](#3.-Tuples) \n",
    "4. [Sets](#4.-Sets) \n",
    "5. [Dictionaries](#5.-Dictionaries) \n",
    "6. [Functional programming](#6.-Functional-programming) \n",
    "7. [Generators](#7.-Generators)"
   ]
  },
  {
   "cell_type": "markdown",
   "metadata": {},
   "source": [
    "# 0. PEP8 and Zen of Python\n",
    "\n",
    "https://pep8.org/"
   ]
  },
  {
   "cell_type": "markdown",
   "metadata": {},
   "source": [
    "- Indentation\n",
    "- Tabs or Spaces?\n",
    "- Maximum Line Length\n",
    "- Should a Line Break Before or After a Binary Operator?\n",
    "- Blank Lines\n",
    "- Source File Encoding\n",
    "- Imports\n",
    "- Module Level Dunder Names"
   ]
  },
  {
   "cell_type": "code",
   "execution_count": 1,
   "metadata": {},
   "outputs": [
    {
     "name": "stdout",
     "output_type": "stream",
     "text": [
      "The Zen of Python, by Tim Peters\n",
      "\n",
      "Beautiful is better than ugly.\n",
      "Explicit is better than implicit.\n",
      "Simple is better than complex.\n",
      "Complex is better than complicated.\n",
      "Flat is better than nested.\n",
      "Sparse is better than dense.\n",
      "Readability counts.\n",
      "Special cases aren't special enough to break the rules.\n",
      "Although practicality beats purity.\n",
      "Errors should never pass silently.\n",
      "Unless explicitly silenced.\n",
      "In the face of ambiguity, refuse the temptation to guess.\n",
      "There should be one-- and preferably only one --obvious way to do it.\n",
      "Although that way may not be obvious at first unless you're Dutch.\n",
      "Now is better than never.\n",
      "Although never is often better than *right* now.\n",
      "If the implementation is hard to explain, it's a bad idea.\n",
      "If the implementation is easy to explain, it may be a good idea.\n",
      "Namespaces are one honking great idea -- let's do more of those!\n"
     ]
    }
   ],
   "source": [
    "import this"
   ]
  },
  {
   "cell_type": "markdown",
   "metadata": {},
   "source": [
    "## PEP check\n",
    "http://pep8online.com/"
   ]
  },
  {
   "cell_type": "markdown",
   "metadata": {},
   "source": [
    "# Numbers in computer science"
   ]
  },
  {
   "cell_type": "code",
   "execution_count": 7,
   "metadata": {
    "scrolled": true
   },
   "outputs": [
    {
     "name": "stdout",
     "output_type": "stream",
     "text": [
      "<class 'float'>\n",
      "<class 'float'>\n",
      "<class 'int'>\n"
     ]
    }
   ],
   "source": [
    "#Scientific numbers\n",
    "assert 1e5 == 10**5\n",
    "assert 1e+05 == 10**5\n",
    "assert 1e-05 == 10**-5\n",
    "assert 1e05 == 1e5\n",
    "print(type(1e05))\n",
    "print(type(1e5))\n",
    "print(type(10**5))"
   ]
  },
  {
   "cell_type": "markdown",
   "metadata": {},
   "source": [
    "# 1. Basic data types"
   ]
  },
  {
   "cell_type": "markdown",
   "metadata": {},
   "source": [
    "## Numbers"
   ]
  },
  {
   "cell_type": "markdown",
   "metadata": {},
   "source": [
    "Integers and floats work as you would expect from other languages:"
   ]
  },
  {
   "cell_type": "code",
   "execution_count": 18,
   "metadata": {},
   "outputs": [
    {
     "name": "stdout",
     "output_type": "stream",
     "text": [
      "3 <class 'int'>\n",
      "4\n",
      "2\n",
      "6\n",
      "9\n"
     ]
    }
   ],
   "source": [
    "x = 3\n",
    "print(x, type(x))\n",
    "print(x + 1)   # Addition\n",
    "print(x - 1)   # Subtraction\n",
    "print(x * 2)   # Multiplication\n",
    "print(x ** 2)  # Exponentiation\n",
    "print(x%2) # "
   ]
  },
  {
   "cell_type": "code",
   "execution_count": 19,
   "metadata": {},
   "outputs": [
    {
     "name": "stdout",
     "output_type": "stream",
     "text": [
      "4\n",
      "8\n",
      "<class 'float'>\n",
      "2.5 3.5 5.0 6.25\n"
     ]
    }
   ],
   "source": [
    "x += 1\n",
    "print(x)\n",
    "x *= 2\n",
    "print(x)\n",
    "y = 2.5\n",
    "print(type(y))\n",
    "print(y, y + 1, y * 2, y ** 2)"
   ]
  },
  {
   "cell_type": "code",
   "execution_count": 24,
   "metadata": {},
   "outputs": [
    {
     "name": "stdout",
     "output_type": "stream",
     "text": [
      "365100565\n"
     ]
    },
    {
     "data": {
      "text/plain": [
       "3651.00565"
      ]
     },
     "execution_count": 24,
     "metadata": {},
     "output_type": "execute_result"
    }
   ],
   "source": [
    "#Place values for large numbers\n",
    "var = 365_100_565\n",
    "print(var)\n",
    "var / 1e5"
   ]
  },
  {
   "cell_type": "markdown",
   "metadata": {},
   "source": [
    "Note that unlike many languages, Python does not have unary increment (x++) or decrement (x--) operators.\n",
    "\n",
    "Python also has built-in types for long integers and complex numbers; you can find all of the details in the [documentation](https://docs.python.org/3.7/library/stdtypes.html#numeric-types-int-float-long-complex)."
   ]
  },
  {
   "cell_type": "markdown",
   "metadata": {},
   "source": [
    "## Booleans"
   ]
  },
  {
   "cell_type": "markdown",
   "metadata": {},
   "source": [
    "Python implements all of the usual operators for Boolean logic, but uses English words rather than symbols (`&&`, `||`, etc.):"
   ]
  },
  {
   "cell_type": "code",
   "execution_count": 26,
   "metadata": {},
   "outputs": [
    {
     "name": "stdout",
     "output_type": "stream",
     "text": [
      "<class 'bool'>\n",
      "False\n",
      "True\n",
      "False\n",
      "True\n",
      "False\n",
      "True\n"
     ]
    }
   ],
   "source": [
    "t, f = True, False\n",
    "print(type(t))\n",
    "print(t and f) # Logical AND; #\n",
    "print(t or f)  # Logical OR;\n",
    "print(not t)   # Logical NOT;\n",
    "print(t != f)  # Logical XOR;\n",
    "print(t & f) # Logical AND;\n",
    "print(t | f)  # Logical OR;"
   ]
  },
  {
   "cell_type": "markdown",
   "metadata": {},
   "source": [
    "Now we let's look at the operations:"
   ]
  },
  {
   "cell_type": "markdown",
   "metadata": {},
   "source": [
    "## Strings"
   ]
  },
  {
   "cell_type": "code",
   "execution_count": 1,
   "metadata": {},
   "outputs": [],
   "source": [
    "# Большинство важных методов работы с текстовыми переменными приведено здесь:\n",
    "# https://www.freecodecamp.org/news/python-string-manipulation-handbook/"
   ]
  },
  {
   "cell_type": "code",
   "execution_count": 37,
   "metadata": {},
   "outputs": [
    {
     "name": "stdout",
     "output_type": "stream",
     "text": [
      "Peter is 23 years old\n",
      "Peter is 23 years old\n",
      "Peter is 23 years old\n"
     ]
    }
   ],
   "source": [
    "# f-strings\n",
    "name = 'Peter'\n",
    "age = 23\n",
    "\n",
    "print('%s is %d years old' % (name, age))\n",
    "print('{} is {} years old'.format(name, age))\n",
    "print(f'{name} is {age} years old')"
   ]
  },
  {
   "cell_type": "code",
   "execution_count": 39,
   "metadata": {},
   "outputs": [
    {
     "name": "stdout",
     "output_type": "stream",
     "text": [
      "hello has 5 length\n",
      "hello world\n",
      "hello world 12\n"
     ]
    }
   ],
   "source": [
    "hello = 'hello'   # String literals can use single quotes\n",
    "world = \"world\"   # or double quotes; it does not matter\n",
    "print(f\"{hello} has {len(hello)} length\")\n",
    "hw = hello + ' ' + world  # String concatenation\n",
    "print(hw)\n",
    "hw12 = f'{hello} {world} {12}' # string formatting\n",
    "print(hw12)"
   ]
  },
  {
   "cell_type": "markdown",
   "metadata": {},
   "source": [
    "String objects have a bunch of useful methods; for example below.\n",
    "You can find a list of all string methods in the [documentation](https://docs.python.org/3.7/library/stdtypes.html#string-methods)."
   ]
  },
  {
   "cell_type": "code",
   "execution_count": 71,
   "metadata": {},
   "outputs": [
    {
     "name": "stdout",
     "output_type": "stream",
     "text": [
      "Hello\n",
      "HELLO\n",
      "hello\n",
      "  hello\n",
      " hello \n",
      "he(ell)(ell)o\n",
      "world\n"
     ]
    }
   ],
   "source": [
    "s = \"hello\"\n",
    "s1 = \"HELLO\"\n",
    "print(s.capitalize())  # Capitalize a string\n",
    "print(s.upper())       # Convert a string to uppercase; prints \"HELLO\"\n",
    "print(s1.lower())       # Convert a string to lowerrcase; prints \"hello\"\n",
    "print(s.rjust(7))      # Right-justify a string, padding with spaces\n",
    "print(s.center(7))     # Center a string, padding with spaces\n",
    "print(s.replace('l', '(ell)'))  # Replace all instances of one substring with another\n",
    "print('*world*'.strip(\"*\"))  # Strip leading and trailing whitespace"
   ]
  },
  {
   "cell_type": "code",
   "execution_count": 57,
   "metadata": {},
   "outputs": [
    {
     "name": "stdout",
     "output_type": "stream",
     "text": [
      "An approximate answer to the right question is worth a great deal more than a precise answer to the wrong question.\n",
      "--------------------------------------------------\n",
      "\n",
      "An approximate answer to the right question \n",
      "is worth a great deal more than \n",
      "a precise answer to the wrong question.\n",
      "\n",
      "--------------------------------------------------\n",
      "a precise answer\n",
      "--------------------------------------------------\n",
      "a great deal right???\n",
      "--------------------------------------------------\n",
      "['t', 'o', ' ', 't', 'h', 'e', ' ', 'r', 'i', 'g', 'h', 't', ' ', 'q', 'u', 'e', 's', 't', 'i', 'o', 'n']\n",
      "--------------------------------------------------\n",
      "to the right question\n",
      "--------------------------------------------------\n",
      "['a', 'precise', 'answer']\n",
      "--------------------------------------------------\n",
      "A precise answer to the right question.\n"
     ]
    }
   ],
   "source": [
    "# Single quotes for single lined strings\n",
    "s = \"An approximate answer to the right question is worth a great deal more than a precise answer to the wrong question.\"\n",
    "print(s)\n",
    "\n",
    "print(\"-\"*50)\n",
    "\n",
    "# Triple quotes for multi-lined strings. We use this in function descriptions\n",
    "s = \"\"\"\n",
    "An approximate answer to the right question \n",
    "is worth a great deal more than \n",
    "a precise answer to the wrong question.\n",
    "\"\"\"\n",
    "print(s)\n",
    "\n",
    "print(\"-\"*50)\n",
    "\n",
    "# String can be sliced like lists\n",
    "a = s[-40:-24]\n",
    "print(a)\n",
    "\n",
    "print(\"-\"*50)\n",
    "\n",
    "# Strings can be added and multiplied together\n",
    "print(s[55:68] + s[30:35] + \"?\" * 3)\n",
    "\n",
    "print(\"-\"*50)\n",
    "\n",
    "# Splitting a string into a list of letters using list()\n",
    "b = list(s[23:44])\n",
    "print(b)\n",
    "\n",
    "print(\"-\"*50)\n",
    "\n",
    "# Joining the letters together using join()\n",
    "b = \"\".join(b)\n",
    "print(b)\n",
    "\n",
    "print('-'*50)\n",
    "\n",
    "\n",
    "# Splitting a string into a list of words using split()\n",
    "a = a.split()\n",
    "print(a)\n",
    "\n",
    "print(\"-\"*50)\n",
    "\n",
    "\n",
    "# Joining list \"a\" with whitespace and adding \" \", b, \".\", and capitalizing\n",
    "ab = (\" \".join(a) + \" \" + b + \".\").capitalize()\n",
    "print(ab)"
   ]
  },
  {
   "cell_type": "markdown",
   "metadata": {},
   "source": [
    "# Containers\n",
    "Python includes several built-in container types: lists, dictionaries, sets, and tuples."
   ]
  },
  {
   "cell_type": "markdown",
   "metadata": {},
   "source": [
    "## 5.1 Lists"
   ]
  },
  {
   "cell_type": "code",
   "execution_count": 87,
   "metadata": {},
   "outputs": [],
   "source": [
    "l.append([5,6,7])"
   ]
  },
  {
   "cell_type": "code",
   "execution_count": 95,
   "metadata": {},
   "outputs": [],
   "source": [
    "l.extend([1,2,3])"
   ]
  },
  {
   "cell_type": "code",
   "execution_count": 96,
   "metadata": {},
   "outputs": [
    {
     "data": {
      "text/plain": [
       "[2, 3, 4, 5, 6, 7, 8, 9, 10, [5, 6, 7], 1, 2, 3, 1, 2, 3]"
      ]
     },
     "execution_count": 96,
     "metadata": {},
     "output_type": "execute_result"
    }
   ],
   "source": [
    "l"
   ]
  },
  {
   "cell_type": "code",
   "execution_count": 103,
   "metadata": {},
   "outputs": [],
   "source": [
    "l = [1,2,3,4,5,6,7,8,9,10]\n",
    "l[1] #slicing\n",
    "# nums[2:4]; nums[:4]; nums[2:]; nums[-1:]\n",
    "l.append([5,6,7]) #add second list to first list\n",
    "l.extend([1,2,3]) #add element of second list to first list\n",
    "l.remove(1) #Removes the first item with the specified value\n",
    "l.count(3) #Returns the number of elements with the specified value\n",
    "l.insert(0, 10) #Adds an element at the specified position\n",
    "l.pop(10) #Removes the element at the specified position\n",
    "l.reverse() #Reverses the order of the listc\n",
    "l.sort() #Sorts the list"
   ]
  },
  {
   "cell_type": "markdown",
   "metadata": {},
   "source": [
    "## 5.2 Loops"
   ]
  },
  {
   "cell_type": "code",
   "execution_count": 2,
   "metadata": {},
   "outputs": [
    {
     "name": "stdout",
     "output_type": "stream",
     "text": [
      "cdt\n",
      "dzg\n",
      "mznkey\n"
     ]
    }
   ],
   "source": [
    "animals = ['cat', 'dog', 'monkey']\n",
    "for animal in animals:\n",
    "    print(animal.replace(\"a\", \"d\").replace(\"o\",'z'))"
   ]
  },
  {
   "cell_type": "markdown",
   "metadata": {},
   "source": [
    "If you want access to the index of each element within the body of a loop, use the built-in `enumerate` function:"
   ]
  },
  {
   "cell_type": "code",
   "execution_count": 108,
   "metadata": {},
   "outputs": [
    {
     "name": "stdout",
     "output_type": "stream",
     "text": [
      "#0: cat\n",
      "#1: dog\n",
      "#2: monkey\n"
     ]
    }
   ],
   "source": [
    "animals = ['cat', 'dog', 'monkey']\n",
    "for idx, animal in enumerate(animals):\n",
    "    print(f'#{idx}: {animal}')"
   ]
  },
  {
   "cell_type": "markdown",
   "metadata": {},
   "source": [
    "Range function for numbers"
   ]
  },
  {
   "cell_type": "code",
   "execution_count": 5,
   "metadata": {},
   "outputs": [
    {
     "name": "stdout",
     "output_type": "stream",
     "text": [
      "1\n",
      "2\n",
      "0\n",
      "1\n",
      "2\n"
     ]
    }
   ],
   "source": [
    "for i in range(1,3):\n",
    "    print(i)\n",
    "for i in range(3):\n",
    "    print(i)"
   ]
  },
  {
   "cell_type": "markdown",
   "metadata": {},
   "source": [
    "When programming, frequently we want to transform one type of data into another. As a simple example, consider the following code that computes square numbers:"
   ]
  },
  {
   "cell_type": "code",
   "execution_count": 109,
   "metadata": {},
   "outputs": [
    {
     "name": "stdout",
     "output_type": "stream",
     "text": [
      "[0, 1, 4, 9, 16]\n"
     ]
    }
   ],
   "source": [
    "nums = [0, 1, 2, 3, 4]\n",
    "squares = []\n",
    "for x in nums:\n",
    "    squares.append(x ** 2)\n",
    "print(squares)"
   ]
  },
  {
   "cell_type": "markdown",
   "metadata": {},
   "source": [
    "## 5.3 Conditions"
   ]
  },
  {
   "cell_type": "code",
   "execution_count": 118,
   "metadata": {},
   "outputs": [
    {
     "name": "stdout",
     "output_type": "stream",
     "text": [
      "150\n",
      "b\n"
     ]
    }
   ],
   "source": [
    "x = 150\n",
    "if x%2 == 0:\n",
    "    print(x)\n",
    "if (x % 2) | (x - 50 == 0):\n",
    "    print(x - 2)\n",
    "if x - 50 > 100:\n",
    "    print(\"a\")\n",
    "elif x - 50 > 50:\n",
    "    print('b')\n",
    "else:\n",
    "    print('c')"
   ]
  },
  {
   "cell_type": "code",
   "execution_count": 53,
   "metadata": {},
   "outputs": [
    {
     "name": "stdout",
     "output_type": "stream",
     "text": [
      "x equals 3\n",
      "0\n",
      "1\n",
      "2\n",
      "3\n",
      "4\n",
      "1\n"
     ]
    }
   ],
   "source": [
    "#Inline conditional statements\n",
    "x = 3\n",
    "if x==3: print('x equals 3')\n",
    "\n",
    "while x>0: x-=1\n",
    "for i in range(x+5): print(i)\n",
    "\n",
    "condition = True\n",
    "y = 1 if condition else 0\n",
    "print(y)"
   ]
  },
  {
   "cell_type": "markdown",
   "metadata": {},
   "source": [
    "## 5.4 List comprehensions"
   ]
  },
  {
   "cell_type": "code",
   "execution_count": 55,
   "metadata": {},
   "outputs": [
    {
     "name": "stdout",
     "output_type": "stream",
     "text": [
      "[0, 1, 4, 9, 16]\n"
     ]
    }
   ],
   "source": [
    "nums = [0, 1, 2, 3, 4]\n",
    "squares = [x ** 2 for x in nums]\n",
    "print(squares)"
   ]
  },
  {
   "cell_type": "markdown",
   "metadata": {},
   "source": [
    "List comprehensions can also contain conditions:"
   ]
  },
  {
   "cell_type": "code",
   "execution_count": 56,
   "metadata": {},
   "outputs": [
    {
     "name": "stdout",
     "output_type": "stream",
     "text": [
      "[0, 4, 16]\n"
     ]
    }
   ],
   "source": [
    "nums = [0, 1, 2, 3, 4]\n",
    "even_squares = [x ** 2 for x in nums if x % 2 == 0]\n",
    "print(even_squares)"
   ]
  },
  {
   "cell_type": "code",
   "execution_count": 127,
   "metadata": {},
   "outputs": [
    {
     "name": "stdout",
     "output_type": "stream",
     "text": [
      "[0, 2, 4]\n"
     ]
    },
    {
     "data": {
      "text/plain": [
       "[1, 3]"
      ]
     },
     "execution_count": 127,
     "metadata": {},
     "output_type": "execute_result"
    }
   ],
   "source": [
    "print([x for x in nums if x % 2 == 0])\n",
    "[x for x in nums if x % 2 == 1]"
   ]
  },
  {
   "cell_type": "markdown",
   "metadata": {},
   "source": [
    "## 5.5 Lists. Modern packages"
   ]
  },
  {
   "cell_type": "code",
   "execution_count": 132,
   "metadata": {},
   "outputs": [
    {
     "data": {
      "text/plain": [
       "[1, 2, 3, 4, 5, 6, 7, 8, 9]"
      ]
     },
     "execution_count": 132,
     "metadata": {},
     "output_type": "execute_result"
    }
   ],
   "source": [
    "from funcy import project, omit, lflatten,lchunks, merge_with, lcat\n",
    "data = [1, 2, [3, 4, [5, 6]], 7, [8, 9]]\n",
    "#Flatten \n",
    "lflatten(data)"
   ]
  },
  {
   "cell_type": "markdown",
   "metadata": {},
   "source": [
    "# 6. Tuples"
   ]
  },
  {
   "cell_type": "markdown",
   "metadata": {},
   "source": [
    "Tuples are the same as lists but just **unchangeable**, so you cannot remove items from it, but you can delete the tuple completely"
   ]
  },
  {
   "cell_type": "code",
   "execution_count": 144,
   "metadata": {},
   "outputs": [
    {
     "name": "stdout",
     "output_type": "stream",
     "text": [
      "3\n",
      "('a', 'b', 'c', 1, 2, 3)\n",
      "(1, 2, 3)\n"
     ]
    }
   ],
   "source": [
    "thistuple = (\"apple\", \"banana\", \"cherry\")\n",
    "print(len(thistuple))\n",
    "thistuple[2]\n",
    "\n",
    "#Join tuples \n",
    "tuple1 = (\"a\", \"b\" , \"c\")\n",
    "tuple2 = (1, 2, 3)\n",
    "tuple3 = tuple1 + tuple2\n",
    "print(tuple3)\n",
    "\n",
    "#Methods \n",
    "tuple1.count(\"a\")\n",
    "tuple2.index(3)\n",
    "\n",
    "new_tuple = tuple([1,2,3]) # explicit\n",
    "print(new_tuple)"
   ]
  },
  {
   "cell_type": "markdown",
   "metadata": {},
   "source": [
    "**Reasons to use tuples:**\n",
    "- there are situations you should not change data\n",
    "- memory economy\n",
    "- speed"
   ]
  },
  {
   "cell_type": "markdown",
   "metadata": {},
   "source": [
    "# 7. Sets\n",
    "**ONLY UNIQUE VALUES** - no duplicates inside!"
   ]
  },
  {
   "cell_type": "code",
   "execution_count": 150,
   "metadata": {},
   "outputs": [],
   "source": [
    "import random"
   ]
  },
  {
   "cell_type": "code",
   "execution_count": 145,
   "metadata": {},
   "outputs": [
    {
     "ename": "NameError",
     "evalue": "name 'uniform' is not defined",
     "output_type": "error",
     "traceback": [
      "\u001b[0;31m---------------------------------------------------------------------------\u001b[0m",
      "\u001b[0;31mNameError\u001b[0m                                 Traceback (most recent call last)",
      "\u001b[0;32m<ipython-input-145-df69edabe1d0>\u001b[0m in \u001b[0;36m<module>\u001b[0;34m\u001b[0m\n\u001b[1;32m      1\u001b[0m \u001b[0;31m#Create lists and sets\u001b[0m\u001b[0;34m\u001b[0m\u001b[0;34m\u001b[0m\u001b[0;34m\u001b[0m\u001b[0m\n\u001b[0;32m----> 2\u001b[0;31m \u001b[0ml1\u001b[0m \u001b[0;34m=\u001b[0m \u001b[0mnp\u001b[0m\u001b[0;34m.\u001b[0m\u001b[0mround\u001b[0m\u001b[0;34m(\u001b[0m\u001b[0muniform\u001b[0m\u001b[0;34m.\u001b[0m\u001b[0mrvs\u001b[0m\u001b[0;34m(\u001b[0m\u001b[0mloc\u001b[0m \u001b[0;34m=\u001b[0m \u001b[0;36m1\u001b[0m\u001b[0;34m,\u001b[0m \u001b[0mscale\u001b[0m \u001b[0;34m=\u001b[0m \u001b[0;36m10\u001b[0m\u001b[0;34m,\u001b[0m \u001b[0msize\u001b[0m \u001b[0;34m=\u001b[0m \u001b[0;36m100\u001b[0m\u001b[0;34m)\u001b[0m\u001b[0;34m,\u001b[0m\u001b[0;36m0\u001b[0m\u001b[0;34m)\u001b[0m\u001b[0;34m\u001b[0m\u001b[0;34m\u001b[0m\u001b[0m\n\u001b[0m\u001b[1;32m      3\u001b[0m \u001b[0ml2\u001b[0m \u001b[0;34m=\u001b[0m \u001b[0mnp\u001b[0m\u001b[0;34m.\u001b[0m\u001b[0mround\u001b[0m\u001b[0;34m(\u001b[0m\u001b[0muniform\u001b[0m\u001b[0;34m.\u001b[0m\u001b[0mrvs\u001b[0m\u001b[0;34m(\u001b[0m\u001b[0mloc\u001b[0m \u001b[0;34m=\u001b[0m \u001b[0;36m3\u001b[0m\u001b[0;34m,\u001b[0m \u001b[0mscale\u001b[0m \u001b[0;34m=\u001b[0m \u001b[0;36m9\u001b[0m\u001b[0;34m,\u001b[0m \u001b[0msize\u001b[0m \u001b[0;34m=\u001b[0m \u001b[0;36m100\u001b[0m\u001b[0;34m)\u001b[0m\u001b[0;34m,\u001b[0m\u001b[0;36m0\u001b[0m\u001b[0;34m)\u001b[0m\u001b[0;34m\u001b[0m\u001b[0;34m\u001b[0m\u001b[0m\n\u001b[1;32m      4\u001b[0m \u001b[0ms1\u001b[0m\u001b[0;34m,\u001b[0m \u001b[0ms2\u001b[0m  \u001b[0;34m=\u001b[0m \u001b[0mset\u001b[0m\u001b[0;34m(\u001b[0m\u001b[0ml1\u001b[0m\u001b[0;34m)\u001b[0m\u001b[0;34m,\u001b[0m \u001b[0mset\u001b[0m\u001b[0;34m(\u001b[0m\u001b[0ml2\u001b[0m\u001b[0;34m)\u001b[0m\u001b[0;34m\u001b[0m\u001b[0;34m\u001b[0m\u001b[0m\n\u001b[1;32m      5\u001b[0m \u001b[0mprint\u001b[0m\u001b[0;34m(\u001b[0m\u001b[0;34mf\"difference between list1 length and s1 lenght = {len(l1) - len(s1)}\"\u001b[0m\u001b[0;34m)\u001b[0m\u001b[0;34m\u001b[0m\u001b[0;34m\u001b[0m\u001b[0m\n",
      "\u001b[0;31mNameError\u001b[0m: name 'uniform' is not defined"
     ]
    }
   ],
   "source": [
    "#Create lists and sets\n",
    "l1 = np.round(uniform.rvs(loc = 1, scale = 10, size = 100),0)\n",
    "l2 = np.round(uniform.rvs(loc = 3, scale = 9, size = 100),0)\n",
    "s1, s2  = set(l1), set(l2)\n",
    "print(f\"difference between list1 length and s1 lenght = {len(l1) - len(s1)}\")\n",
    "len(s1) # - length of s1\n",
    "\n",
    "5 in s1 # - test 5 for membership in s1\n",
    "\n",
    "5 not in s1 # test 5 for non-membership in s1\n",
    "\n",
    "s1.issubset(s2) # test whether every element in s1 is in t: s1 <= s2\n",
    "\n",
    "s1.issuperset(s2) # test whether every element in s1 is in t: s1 >= s2\n",
    "\n",
    "s1.union(s2) # s1 | s2\n",
    "\n",
    "s1.intersection(s2) # new set with elements from both s1 and s2\n",
    "\n",
    "s1 & s2 # new set with elements common to s1 and s2\n",
    "\n",
    "s1.difference(s2) # s1 - s2\n",
    "\n",
    "s1.symmetric_difference(s2) # new set with elements in s1 but not in s2\n",
    "\n",
    "s1 ^ s2 # new set with elements in either s1 or s2 but not both\n",
    "\n",
    "s1.copy() # new set with a shallow copy of s1\n",
    "\n",
    "s1.update(s2)  # s1 |= s2: return set s1 with elements added from s2\n",
    "\n",
    "s1.intersection_update(s2) #s1 &= s2: return set s1 keeping only elements also found in s2\n",
    "\n",
    "s1.difference_update(s2) # s1 -= s2: return set s1 after removing elements found in s2\n",
    "\n",
    "s1.symmetric_difference_update(s2) # s1 ^= s2: return set s1 with elements from s1 or s2 but not both\n",
    "\n",
    "s1.add(5) #add element 5 to set s1\n",
    "\n",
    "s1.remove(5) # remove 5 from set s1; raises KeyError if not present\n",
    "\n",
    "s1.discard(5) # removes 5 from set s1 if present\n",
    "\n",
    "s1.pop() # remove and return an arbitrary element from s1; raises KeyError if empty\n",
    "\n",
    "s1.clear() # remove all elements from set s"
   ]
  },
  {
   "cell_type": "markdown",
   "metadata": {},
   "source": [
    "# 8. Dictionaries"
   ]
  },
  {
   "cell_type": "code",
   "execution_count": 152,
   "metadata": {},
   "outputs": [],
   "source": [
    "d0 = {\"col1\":[], \"col2\":[]}"
   ]
  },
  {
   "cell_type": "code",
   "execution_count": 155,
   "metadata": {},
   "outputs": [],
   "source": [
    "d0['col1'].append('val1')"
   ]
  },
  {
   "cell_type": "code",
   "execution_count": 157,
   "metadata": {},
   "outputs": [],
   "source": [
    "d0['col1'].append(\"val2\")"
   ]
  },
  {
   "cell_type": "code",
   "execution_count": 159,
   "metadata": {},
   "outputs": [],
   "source": [
    "d0['col2'] = \"val11\""
   ]
  },
  {
   "cell_type": "code",
   "execution_count": 160,
   "metadata": {},
   "outputs": [
    {
     "data": {
      "text/plain": [
       "{'col1': ['val1', 'val2'], 'col2': 'val11'}"
      ]
     },
     "execution_count": 160,
     "metadata": {},
     "output_type": "execute_result"
    }
   ],
   "source": [
    "d0"
   ]
  },
  {
   "cell_type": "code",
   "execution_count": 161,
   "metadata": {},
   "outputs": [],
   "source": [
    "from collections import defaultdict\n",
    "names_dict = defaultdict(str)\n",
    "names_dict[\"Bob\"] = '1','2'\n",
    "names_dict[\"Katie\"] = 2"
   ]
  },
  {
   "cell_type": "code",
   "execution_count": 162,
   "metadata": {},
   "outputs": [
    {
     "name": "stdout",
     "output_type": "stream",
     "text": [
      "2\n"
     ]
    }
   ],
   "source": [
    "print(names_dict.get(\"Katie\"))"
   ]
  },
  {
   "cell_type": "code",
   "execution_count": 163,
   "metadata": {},
   "outputs": [],
   "source": [
    "d1, d2 = {\"Bob\":1, \"Ann\":2}, {\"Anton\":3, \"Kate\":4}\n"
   ]
  },
  {
   "cell_type": "code",
   "execution_count": 164,
   "metadata": {},
   "outputs": [],
   "source": [
    "\n",
    "d1.update(d2) # merge dictionaries"
   ]
  },
  {
   "cell_type": "code",
   "execution_count": 165,
   "metadata": {},
   "outputs": [
    {
     "data": {
      "text/plain": [
       "{'Bob': 1, 'Ann': 2, 'Anton': 3, 'Kate': 4}"
      ]
     },
     "execution_count": 165,
     "metadata": {},
     "output_type": "execute_result"
    }
   ],
   "source": [
    "d1"
   ]
  },
  {
   "cell_type": "code",
   "execution_count": 15,
   "metadata": {},
   "outputs": [
    {
     "name": "stdout",
     "output_type": "stream",
     "text": [
      "2\n"
     ]
    },
    {
     "data": {
      "text/plain": [
       "{'one': 1, 'two': 2}"
      ]
     },
     "execution_count": 15,
     "metadata": {},
     "output_type": "execute_result"
    }
   ],
   "source": [
    "#Classic way to create dictionary\n",
    "d0 = {\"col1\":[], \"col2\":[]}\n",
    "d0['col1'].append('val1')\n",
    "d0['col2'].append('val2')\n",
    "\n",
    "#Also we can use default dic\n",
    "from collections import defaultdict\n",
    "names_dict = defaultdict(str)\n",
    "names_dict[\"Bob\"] = '1','2'\n",
    "names_dict[\"Katie\"] = 2\n",
    "\n",
    "#Subset values in dictionaries\n",
    "print(names_dict.get(\"Katie\"))\n",
    "\n",
    "#Methods\n",
    "# print(d[1])\n",
    "# d.clear() # - clear all key and values \n",
    "# print(d)\n",
    "d0.items() # - Returns a list of key-value pairs in a dictionary.\n",
    "d0.keys() # - Returns a list of keys in a dictionary.\n",
    "d0.values() # - Returns a list of values in a dictionary.\n",
    "names_dict.pop(\"Bob\") # - Removes a key from a dictionary, if it is present, and returns its value.\n",
    "\n",
    "d1, d2 = {\"Bob\":1, \"Ann\":2}, {\"Anton\":3, \"Kate\":4}\n",
    "\n",
    "d1.update(d2) # merge dictionaries\n",
    "\n",
    "#Dictionary comprehension\n",
    "squares = {x: x*x for x in range(6)}\n",
    "odd_squares = {x: x*x for x in range(11) if x % 2 == 1}\n",
    "objects = ['blue', 'apple', 'dog']\n",
    "categories = ['color', 'fruit', 'pet']\n",
    "\n",
    "#zip - create dictionary with two lists\n",
    "a_dict = {key: value for key, value in zip(categories, objects)}\n",
    "new_dict = {value: key for key, value in a_dict.items()}\n",
    "\n",
    "#Filtering\n",
    "a_dict = {'one': 1, 'two': 2, 'thee': 3, 'four': 4}\n",
    "new_dict = {k: v for k, v in a_dict.items() if v <= 2}\n",
    "#Filtering with list\n",
    "wanted_keys = [\"one\",\"four\"]\n",
    "dict((k, a_dict[k]) for k in wanted_keys if k in a_dict)\n",
    "new_dict"
   ]
  },
  {
   "cell_type": "code",
   "execution_count": 171,
   "metadata": {
    "scrolled": true
   },
   "outputs": [
    {
     "data": {
      "text/plain": [
       "{'color': 'blue', 'fruit': 'apple', 'pet': 'dog'}"
      ]
     },
     "execution_count": 171,
     "metadata": {},
     "output_type": "execute_result"
    }
   ],
   "source": [
    "# Dict comprehensions - create new dictionary \n",
    "categories = ['color', 'fruit', 'pet', \"pet1\"]\n",
    "objects = ['blue', 'apple', 'dog']\n",
    "a_dict = {key: value for key, value in zip(categories, objects)}\n",
    "a_dict"
   ]
  },
  {
   "cell_type": "code",
   "execution_count": 173,
   "metadata": {},
   "outputs": [
    {
     "data": {
      "text/plain": [
       "'apple'"
      ]
     },
     "execution_count": 173,
     "metadata": {},
     "output_type": "execute_result"
    }
   ],
   "source": [
    "a_dict['fruit']"
   ]
  },
  {
   "cell_type": "code",
   "execution_count": 170,
   "metadata": {},
   "outputs": [
    {
     "data": {
      "text/plain": [
       "{'color': 'blue', 'fruit': 'apple', 'pet': 'dog'}"
      ]
     },
     "execution_count": 170,
     "metadata": {},
     "output_type": "execute_result"
    }
   ],
   "source": [
    "a_dict"
   ]
  },
  {
   "cell_type": "markdown",
   "metadata": {},
   "source": [
    "## 8.1 Dictionaries. Modern packages\n"
   ]
  },
  {
   "cell_type": "code",
   "execution_count": null,
   "metadata": {},
   "outputs": [],
   "source": [
    "from funcy import project, omit, lflatten,lchunks, merge_with, lcat\n",
    "data = {\"this\": 1, \"is\": 2, \"the\": 3, \"sample\": 4, \"dict\": 5}\n",
    "\n",
    "#Delete data from dictionary\n",
    "omit(data, (\"is\", \"dict\"))\n",
    "\n",
    "#Keep just these elements in dictionary\n",
    "project(data, (\"this\", \"is\"))\n",
    "\n",
    "#Merging dictionaries - but is dangerous for strings\n",
    "d1 = {1: [1, 2], 2: [4, 5, 6]}\n",
    "d2 = {3: [3, 4], 4: [5, 6, 7]}\n",
    "#Merge string dictionaries\n",
    "d1 = { \"A\": \"Auron\", \"B\": \"Braska\", \"C\": \"Crusaders\" }\n",
    "d2 = { \"C\": \"Cid\", \"D\": \"Dona\" }\n",
    "{**d1, **d2}\n",
    "\n",
    "#Print values without square brackets\n",
    "d1.get(\"A\")\n",
    "d1.get(\"Dich\") #None\n",
    "\n",
    "# import jmespath - work with json files\n",
    "#pip install ujson - mega fast package for json"
   ]
  },
  {
   "cell_type": "markdown",
   "metadata": {},
   "source": [
    "# 9. Functional programming"
   ]
  },
  {
   "cell_type": "markdown",
   "metadata": {},
   "source": [
    "**<center> Concepts of Functional Programming**\n",
    "\n",
    "Any Functional programming language is expected to follow these concepts.\n",
    "\n",
    "**1.Pure Functions.** These functions have two main properties. \n",
    "\n",
    "First, they always produce the same output for the same arguments irrespective of anything else.\n",
    "Secondly, they have no side-effects i.e. they do modify any argument or global variables or output something.\n",
    "\n",
    "**2.Recursion.** There are no “for” or “while” loop in functional languages. Iteration in functional languages is implemented through recursion.\n",
    "Functions are First-Class and can be Higher-Order: First-class functions are treated as first-class variable. The first-class variables can be passed to functions as a parameter, can be returned from functions or stored in data structures.\n",
    "\n",
    "**3.Variables are Immutable.** In functional programming, we can’t modify a variable after it’s been initialized. We can create new variables – but we can’t modify existing variables.\n",
    "Functional Programming in Python\n",
    "Python too supports Functional Programming paradigms without the support of any special features or libraries.\n",
    "\n",
    "Pure Functions\n",
    "As Discussed above, pure functions have two properties.\n",
    "\n",
    "It always produces the same output for the same arguments. For example, 3+7 will always be 10 no matter what.\n",
    "It does not change or modifies the input variable.\n",
    "The second property is also known as immutability. The only result of the Pure Function is the value it returns. They are deterministic. Programs done using functional programming are easy to debug because pure functions have no side effects or hidden I/O. Pure functions also make it easier to write parallel/concurrent applications. When the code is written in this style, a smart compiler can do many things – it can parallelize the instructions, wait to evaluate results when need them, and memorize the results since the results never change as long as the input doesn’t change."
   ]
  },
  {
   "cell_type": "code",
   "execution_count": 5,
   "metadata": {
    "code_folding": []
   },
   "outputs": [
    {
     "name": "stdout",
     "output_type": "stream",
     "text": [
      "negative\n",
      "zero\n",
      "positive\n"
     ]
    }
   ],
   "source": [
    "#Pure function with def \n",
    "def sign(x):\n",
    "    ''' Description function '''\n",
    "    if x > 0:\n",
    "        return 'positive'\n",
    "    elif x < 0:\n",
    "        return 'negative'\n",
    "    else:\n",
    "        return 'zero'\n",
    "for x in [-1, 0, 1]:\n",
    "    print(sign(x))"
   ]
  },
  {
   "cell_type": "markdown",
   "metadata": {},
   "source": [
    "## 9.1 Functools: map, filter, reduce\n",
    "**map** applies a function to all the items in an input_list \\\n",
    "**filter** creates a list of elements for which a function returns true \\\n",
    "**reduce** is a really useful function for performing some computation on a list and returning the result. It applies a rolling computation to sequential pairs of values in a list\n"
   ]
  },
  {
   "cell_type": "code",
   "execution_count": 19,
   "metadata": {},
   "outputs": [
    {
     "name": "stdout",
     "output_type": "stream",
     "text": [
      "[0, 1, 4, 9, 16]\n"
     ]
    }
   ],
   "source": [
    "nums = [0, 1, 2, 3, 4]\n",
    "squares = []\n",
    "for x in nums:\n",
    "    squares.append(x ** 2)\n",
    "print(squares)"
   ]
  },
  {
   "cell_type": "code",
   "execution_count": 29,
   "metadata": {},
   "outputs": [
    {
     "data": {
      "text/plain": [
       "[1, 4, 9, 16, 25]"
      ]
     },
     "execution_count": 29,
     "metadata": {},
     "output_type": "execute_result"
    }
   ],
   "source": [
    "def sqr(x):\n",
    "    return(x**2)\n",
    "items = (1, 2, 3, 4, 5)\n",
    "squared = list(map(sqr, items))"
   ]
  },
  {
   "cell_type": "code",
   "execution_count": 39,
   "metadata": {},
   "outputs": [
    {
     "name": "stdout",
     "output_type": "stream",
     "text": [
      "result of map: [1, 4, 9, 16, 25]\n",
      "result of filter: [-5, -4, -3, -2, -1]\n",
      "result of reduce: 120\n"
     ]
    }
   ],
   "source": [
    "#Map\n",
    "items = (1, 2, 3, 4, 5)\n",
    "squared = list(map(lambda x: x**2, items))\n",
    "print(f\"result of map: {squared}\")\n",
    "#Filter\n",
    "number_list = range(-5, 5)\n",
    "less_than_zero = list(filter(lambda x: x < 0, number_list))\n",
    "\n",
    "print(f\"result of filter: {less_than_zero}\")\n",
    "from functools import reduce\n",
    "#Reduce\n",
    "product = reduce((lambda x, y: x * y), (1,2,3,4,5))\n",
    "print(f\"result of reduce: {product}\")"
   ]
  },
  {
   "cell_type": "code",
   "execution_count": null,
   "metadata": {},
   "outputs": [],
   "source": []
  },
  {
   "cell_type": "code",
   "execution_count": 100,
   "metadata": {},
   "outputs": [
    {
     "name": "stdout",
     "output_type": "stream",
     "text": [
      "result of reduce: 720\n"
     ]
    }
   ],
   "source": [
    "from functools import reduce\n",
    "#Reduce\n",
    "product = reduce((lambda x, y: x * y), (1, 2, 3, 4, 5, 6))\n",
    "print(f\"result of reduce: {product}\")"
   ]
  },
  {
   "cell_type": "code",
   "execution_count": 93,
   "metadata": {},
   "outputs": [
    {
     "data": {
      "text/plain": [
       "<filter at 0x7f955a402e20>"
      ]
     },
     "execution_count": 93,
     "metadata": {},
     "output_type": "execute_result"
    }
   ],
   "source": [
    "#Filter\n",
    "items = (-1, -2, 3, 4, 5, 5)\n",
    "less_than_zero = filter(lambda x: x < 0, items)\n",
    "less_than_zero"
   ]
  },
  {
   "cell_type": "markdown",
   "metadata": {},
   "source": [
    "## 9.2 Lambda functions\n",
    "In Python, anonymous function means that a function is without a name. As we already know that def keyword is used to define the normal functions and the lambda keyword is used to create anonymous functions."
   ]
  },
  {
   "cell_type": "code",
   "execution_count": null,
   "metadata": {},
   "outputs": [],
   "source": [
    "L = (1, 3, 2, 4, 5, 6)\n",
    "is_even = tuple(x for x in L if x % 2 == 0)\n",
    "print(is_even)  "
   ]
  },
  {
   "cell_type": "code",
   "execution_count": 34,
   "metadata": {},
   "outputs": [
    {
     "name": "stdout",
     "output_type": "stream",
     "text": [
      "['Isaac Asimov', 'Ray Bradbury', 'Octavia Butler', 'Neal Stephenson', 'Margaret Atwood', 'Usula K Le Guin']\n",
      "['Isaac Asimov', 'Margaret Atwood', 'Ray Bradbury', 'Octavia Butler', 'Usula K Le Guin', 'Neal Stephenson']\n"
     ]
    }
   ],
   "source": [
    "authors = ['Octavia Butler', 'Isaac Asimov', 'Neal Stephenson', 'Margaret Atwood', \n",
    "           'Usula K Le Guin', 'Ray Bradbury']\n",
    "print(sorted(authors, key=len))  # Returns list ordered by length of author name\n",
    "print(sorted(authors, key=lambda name: name.split()[-1]))  # Returns list ordered alphabetically by last name."
   ]
  },
  {
   "cell_type": "markdown",
   "metadata": {},
   "source": [
    "# 10. Generators"
   ]
  },
  {
   "cell_type": "markdown",
   "metadata": {},
   "source": [
    "One practical use case of generators is to deal with a large amount of data — when all loaded, it can slow down the computer or simply can’t be loaded at all because of an enormously large size. For instance, a trivial example would be to calculate the sum of integers 1–10,000,000,000. I tried 1 billion on my computer and found out that the size was about 8 GB. So, 10 billion would be about 80 GB if I had tried it, which would probably crash the program or even my computer. Without being able to create the list, it was impossible for me to calculate the sum using the list. In this case, we should consider generators."
   ]
  },
  {
   "cell_type": "code",
   "execution_count": 40,
   "metadata": {},
   "outputs": [
    {
     "name": "stdout",
     "output_type": "stream",
     "text": [
      "CPU times: user 8.8 s, sys: 115 ms, total: 8.91 s\n",
      "Wall time: 10.3 s\n",
      "CPU times: user 5.16 s, sys: 60.2 ms, total: 5.22 s\n",
      "Wall time: 5.73 s\n"
     ]
    }
   ],
   "source": [
    "limit = 10**8\n",
    "\n",
    "# Use a generator function\n",
    "def integer_generator():\n",
    "    n = 0\n",
    "    while n < limit:\n",
    "        n += 1\n",
    "        yield n\n",
    "int_gen = integer_generator()\n",
    "\n",
    "#Long and uneficient way!\n",
    "%time int_sum0 = sum(int_gen)\n",
    "\n",
    "# Use generator expression - the most efficient way!\n",
    "%time int_sum1 = sum(x for x in range(1, limit+1))"
   ]
  },
  {
   "cell_type": "markdown",
   "metadata": {},
   "source": [
    "# <center> Homework"
   ]
  },
  {
   "cell_type": "markdown",
   "metadata": {},
   "source": [
    "https://www.w3resource.com/python-exercises/challenges/1/index.php"
   ]
  },
  {
   "cell_type": "markdown",
   "metadata": {},
   "source": [
    "1. Write a one-line expression that computes the sum of the first 10 even square numbers (starting from 4). For ease of grading, please assign the output of this expression\n",
    "to a variable called sum_of_even_square"
   ]
  },
  {
   "cell_type": "markdown",
   "metadata": {},
   "source": [
    "2. Write a one-line expression that computes the product of the first 13 primes. You\n",
    "may use the primes generator that you defined above. For ease of grading, please\n",
    "assign the output of this expression to a variable called product_of_primes"
   ]
  },
  {
   "cell_type": "markdown",
   "metadata": {},
   "source": [
    "3. Write a one-line expression that computes the sum of the squares of the first 31\n",
    "primes. You may use the primes generator that you defined above. For ease of grading, please assign the output of this expression to a variable called squared_prim"
   ]
  },
  {
   "cell_type": "markdown",
   "metadata": {},
   "source": [
    "4. Write a one-line expression that computes a list of the first twenty harmonic numbers.\n",
    "Recall that the n-th harmonic number is given by \n",
    "$H_n = \\sum_{k=1}^N{1/k}$. For ease of\n",
    "grading, please assign the output of this expression to a variable called harmoni"
   ]
  },
  {
   "cell_type": "markdown",
   "metadata": {},
   "source": [
    "5. Write a one-line expression that computes the geometric mean of the first 12 tetrahedral numbers. You may use the generator that you wrote in the previous problem.\n",
    "Recall that the geometric mean of a collection of $n$ numbers $a_1$, $a_2$, . . . , $a_n$ is given\n",
    "by $(\\prod_{i=1}^N{a_i})^{1/n}$\n",
    ". For ease of grading, please assign the output of this expression to a\n",
    "variable called tetra_geom."
   ]
  }
 ],
 "metadata": {
  "kernelspec": {
   "display_name": "Python 3",
   "language": "python",
   "name": "python3"
  },
  "language_info": {
   "codemirror_mode": {
    "name": "ipython",
    "version": 3
   },
   "file_extension": ".py",
   "mimetype": "text/x-python",
   "name": "python",
   "nbconvert_exporter": "python",
   "pygments_lexer": "ipython3",
   "version": "3.8.3"
  },
  "toc": {
   "base_numbering": 1,
   "nav_menu": {},
   "number_sections": true,
   "sideBar": true,
   "skip_h1_title": false,
   "title_cell": "Table of Contents",
   "title_sidebar": "Contents",
   "toc_cell": false,
   "toc_position": {},
   "toc_section_display": true,
   "toc_window_display": false
  },
  "varInspector": {
   "cols": {
    "lenName": 16,
    "lenType": 16,
    "lenVar": 40
   },
   "kernels_config": {
    "python": {
     "delete_cmd_postfix": "",
     "delete_cmd_prefix": "del ",
     "library": "var_list.py",
     "varRefreshCmd": "print(var_dic_list())"
    },
    "r": {
     "delete_cmd_postfix": ") ",
     "delete_cmd_prefix": "rm(",
     "library": "var_list.r",
     "varRefreshCmd": "cat(var_dic_list()) "
    }
   },
   "types_to_exclude": [
    "module",
    "function",
    "builtin_function_or_method",
    "instance",
    "_Feature"
   ],
   "window_display": false
  }
 },
 "nbformat": 4,
 "nbformat_minor": 4
}
