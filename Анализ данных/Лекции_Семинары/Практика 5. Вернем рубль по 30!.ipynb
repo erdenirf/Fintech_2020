{
 "cells": [
  {
   "cell_type": "markdown",
   "metadata": {},
   "source": [
    "# 0. Импорт данных из различных источников в Python"
   ]
  },
  {
   "cell_type": "markdown",
   "metadata": {},
   "source": [
    "Источники:\n",
    "\n",
    "Tiingo, IEX, Alpha Vantage, Enigma, Quandl \\\n",
    "St.Louis FED (FRED), Kenneth French’s data library, World Bank \\\n",
    "OECD, Eurostat, Thrift Savings Plan, Nasdaq Trader symbol definitions \\\n",
    "Stooq, MOEX, Naver Finance\n",
    "\n",
    "\n",
    "https://pandas-datareader.readthedocs.io/en/latest/remote_data.html"
   ]
  },
  {
   "cell_type": "code",
   "execution_count": 1,
   "metadata": {},
   "outputs": [],
   "source": [
    "# import data reader package\n",
    "import pandas_datareader as pdr\n",
    "\n",
    "import pandas as pd\n",
    "from datetime import datetime\n",
    "import numpy as np\n",
    "\n",
    "import warnings\n",
    "warnings.filterwarnings(\"ignore\")"
   ]
  },
  {
   "cell_type": "code",
   "execution_count": 2,
   "metadata": {},
   "outputs": [
    {
     "data": {
      "text/html": [
       "<div>\n",
       "<style scoped>\n",
       "    .dataframe tbody tr th:only-of-type {\n",
       "        vertical-align: middle;\n",
       "    }\n",
       "\n",
       "    .dataframe tbody tr th {\n",
       "        vertical-align: top;\n",
       "    }\n",
       "\n",
       "    .dataframe thead th {\n",
       "        text-align: right;\n",
       "    }\n",
       "</style>\n",
       "<table border=\"1\" class=\"dataframe\">\n",
       "  <thead>\n",
       "    <tr style=\"text-align: right;\">\n",
       "      <th></th>\n",
       "      <th>High</th>\n",
       "      <th>Low</th>\n",
       "      <th>Open</th>\n",
       "      <th>Close</th>\n",
       "      <th>Volume</th>\n",
       "      <th>Adj Close</th>\n",
       "    </tr>\n",
       "    <tr>\n",
       "      <th>Date</th>\n",
       "      <th></th>\n",
       "      <th></th>\n",
       "      <th></th>\n",
       "      <th></th>\n",
       "      <th></th>\n",
       "      <th></th>\n",
       "    </tr>\n",
       "  </thead>\n",
       "  <tbody>\n",
       "    <tr>\n",
       "      <th>2003-12-01</th>\n",
       "      <td>29.730000</td>\n",
       "      <td>29.690001</td>\n",
       "      <td>29.730000</td>\n",
       "      <td>29.700001</td>\n",
       "      <td>0.0</td>\n",
       "      <td>29.700001</td>\n",
       "    </tr>\n",
       "    <tr>\n",
       "      <th>2003-12-02</th>\n",
       "      <td>29.700001</td>\n",
       "      <td>29.690001</td>\n",
       "      <td>29.690001</td>\n",
       "      <td>29.690001</td>\n",
       "      <td>0.0</td>\n",
       "      <td>29.690001</td>\n",
       "    </tr>\n",
       "    <tr>\n",
       "      <th>2003-12-03</th>\n",
       "      <td>29.690001</td>\n",
       "      <td>29.690001</td>\n",
       "      <td>29.690001</td>\n",
       "      <td>29.690001</td>\n",
       "      <td>0.0</td>\n",
       "      <td>29.690001</td>\n",
       "    </tr>\n",
       "    <tr>\n",
       "      <th>2003-12-04</th>\n",
       "      <td>29.680000</td>\n",
       "      <td>29.680000</td>\n",
       "      <td>29.680000</td>\n",
       "      <td>29.680000</td>\n",
       "      <td>0.0</td>\n",
       "      <td>29.680000</td>\n",
       "    </tr>\n",
       "    <tr>\n",
       "      <th>2003-12-05</th>\n",
       "      <td>29.629999</td>\n",
       "      <td>29.629999</td>\n",
       "      <td>29.629999</td>\n",
       "      <td>29.620001</td>\n",
       "      <td>0.0</td>\n",
       "      <td>29.620001</td>\n",
       "    </tr>\n",
       "  </tbody>\n",
       "</table>\n",
       "</div>"
      ],
      "text/plain": [
       "                 High        Low       Open      Close  Volume  Adj Close\n",
       "Date                                                                     \n",
       "2003-12-01  29.730000  29.690001  29.730000  29.700001     0.0  29.700001\n",
       "2003-12-02  29.700001  29.690001  29.690001  29.690001     0.0  29.690001\n",
       "2003-12-03  29.690001  29.690001  29.690001  29.690001     0.0  29.690001\n",
       "2003-12-04  29.680000  29.680000  29.680000  29.680000     0.0  29.680000\n",
       "2003-12-05  29.629999  29.629999  29.629999  29.620001     0.0  29.620001"
      ]
     },
     "execution_count": 2,
     "metadata": {},
     "output_type": "execute_result"
    }
   ],
   "source": [
    "# Выкачаем данные из yahoo finance \n",
    "# Вернем рубль по 30 !\n",
    "start = datetime(2000, 1, 1)\n",
    "end = datetime(2020, 12, 1)\n",
    "rub = pdr.data.DataReader(\"USDRUB=X\", 'yahoo', start, end)\n",
    "rub[:5] "
   ]
  },
  {
   "cell_type": "markdown",
   "metadata": {},
   "source": [
    "В данных заданиях под курсом рубля подразумевается обменный курс рубля к доллару - за 1 доллар столько то рублей. Падение курса - значит за 1 доллар дают теперь больше рублей. Смотрим на цену закрытия (Close), если не сказано другое."
   ]
  },
  {
   "cell_type": "markdown",
   "metadata": {},
   "source": [
    "1. В какой день наблюдалось наибольшее падение курса рубля. Какой это был день недели? Какой это был месяц и год?"
   ]
  },
  {
   "cell_type": "markdown",
   "metadata": {},
   "source": [
    "2. В какой день была наибольшая разница между ценой открытия и закрытия?"
   ]
  },
  {
   "cell_type": "markdown",
   "metadata": {},
   "source": [
    "3. Постройте график курса и изменения курса рубля."
   ]
  },
  {
   "cell_type": "markdown",
   "metadata": {},
   "source": [
    "4. Создайте переменные со среднемесячным/средненедельным/среднегодовым курсом рубля. Постройте графики"
   ]
  },
  {
   "cell_type": "markdown",
   "metadata": {},
   "source": [
    "5. Различается ли динамика курса рубля в зависимости от дней недели?"
   ]
  },
  {
   "cell_type": "markdown",
   "metadata": {},
   "source": [
    "6. Различается ли динамика курса рубля в зависимости от месяца?"
   ]
  },
  {
   "cell_type": "markdown",
   "metadata": {},
   "source": [
    "7. Давайте ответим на классический вопрос: как связан курс рубля с ценой на нефть в зависимости от временного промежутка?"
   ]
  }
 ],
 "metadata": {
  "kernelspec": {
   "display_name": "Python 3",
   "language": "python",
   "name": "python3"
  },
  "language_info": {
   "codemirror_mode": {
    "name": "ipython",
    "version": 3
   },
   "file_extension": ".py",
   "mimetype": "text/x-python",
   "name": "python",
   "nbconvert_exporter": "python",
   "pygments_lexer": "ipython3",
   "version": "3.8.3"
  },
  "toc": {
   "base_numbering": 1,
   "nav_menu": {},
   "number_sections": true,
   "sideBar": true,
   "skip_h1_title": false,
   "title_cell": "Table of Contents",
   "title_sidebar": "Contents",
   "toc_cell": false,
   "toc_position": {},
   "toc_section_display": true,
   "toc_window_display": false
  },
  "varInspector": {
   "cols": {
    "lenName": 16,
    "lenType": 16,
    "lenVar": 40
   },
   "kernels_config": {
    "python": {
     "delete_cmd_postfix": "",
     "delete_cmd_prefix": "del ",
     "library": "var_list.py",
     "varRefreshCmd": "print(var_dic_list())"
    },
    "r": {
     "delete_cmd_postfix": ") ",
     "delete_cmd_prefix": "rm(",
     "library": "var_list.r",
     "varRefreshCmd": "cat(var_dic_list()) "
    }
   },
   "types_to_exclude": [
    "module",
    "function",
    "builtin_function_or_method",
    "instance",
    "_Feature"
   ],
   "window_display": false
  }
 },
 "nbformat": 4,
 "nbformat_minor": 4
}
