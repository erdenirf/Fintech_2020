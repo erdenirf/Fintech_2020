{
 "cells": [
  {
   "cell_type": "markdown",
   "metadata": {},
   "source": [
    "Общие замечания по домашней работе.\n",
    "\n",
    "- Почти все забыли в списке однокурсников поменять Олега Бушуева на Орлана :) \n",
    "- Многие в задании про фамилию с наибольшим количеством уникальных букв получили результат \"Суван-оол\". Однако, забыли, что дефис - это не буква. \n",
    "- **Внимательно следите за названиями переменных. Были случаи, когда я перезапускал код и выдавалась ошибка, что такой переменной нет.**\n",
    "- ***Не нужно бездумно копировать код от другого человека. Это сразу видно и за это ставится 0.Как минимум, хотя бы уберите все, без чего можно обойтись. Другими словами, можно убрать код, без которого будет все равно получен верный результат. Также хотя бы еще переменные называйте другим именем. Чтобы было понятно, что несмотря на то, что основную идею решения вы скопипастили, вы хотя бы поняли, что происходит.***\n",
    "- Когда вы пишете код, где куча циклов for, подумайте, а можно ли упростить это? В питоне очень много способов обойти такие циклы. \n",
    "- Внимательно читайте тетрадки из лекций. \n",
    "- Начинаем гуглить, если: 1) в тетрадках нет ответа 2) вы точно не знаете, сможете ли сразу найти в решение на stack overflow \n",
    "- Не нужно ставить пробелы перед скобками. print(x) вместо print (x)\n",
    "- Удаляйте куски кода, которые выдавали ошибку (если это не непосредственное решение)\n",
    "- Если вы применяете параметрический тест, то нужно проверить все его предпосылки\n",
    "- Мало кто нашел несмещенную оценку дисперсии и стандартного отклонения"
   ]
  },
  {
   "cell_type": "markdown",
   "metadata": {},
   "source": [
    "Мой косяк по проверке - я кому-то написал, что не использованы все признаки в kNN. Поставьте себе 10 баллов, так как это неправильное замечание."
   ]
  },
  {
   "cell_type": "code",
   "execution_count": 1,
   "metadata": {},
   "outputs": [],
   "source": [
    "# Отключаем предупреждения анаконды\n",
    "import warnings\n",
    "warnings.filterwarnings(\"ignore\")"
   ]
  },
  {
   "cell_type": "markdown",
   "metadata": {},
   "source": [
    "# Часть 1. Строковый тип данных и функции"
   ]
  },
  {
   "cell_type": "markdown",
   "metadata": {},
   "source": [
    "**Задание 1**. Тайна моего имени. (10 баллов)\n",
    "\n",
    "Напишите функцию, где на вход подается ваше ФИО (на русском и с пробельными разделителями) и которая в качестве результата выдает следующее:\n",
    "- количество букв\n",
    "- частоту букв (словарик с тем, сколько раз каждая буква встречается)\n",
    "- факториал числа, равному длине фамилии\n",
    "- факториал числа, равному длине имени\n",
    "- модуль разности факториалов чисел от длины имени и фамилии\n"
   ]
  },
  {
   "cell_type": "code",
   "execution_count": 2,
   "metadata": {},
   "outputs": [
    {
     "name": "stdout",
     "output_type": "stream",
     "text": [
      "result of reduce: 3628800\n"
     ]
    },
    {
     "data": {
      "text/plain": [
       "3628680"
      ]
     },
     "execution_count": 2,
     "metadata": {},
     "output_type": "execute_result"
    }
   ],
   "source": [
    "fio = \"Якубовский Игорь Владимирович\"\n",
    "fio_ = fio.replace(\" \", \"\").lower()\n",
    "# Количество букв\n",
    "count_letters = len(fio_)\n",
    "# Частота методом Counter\n",
    "from collections import Counter\n",
    "Counter(fio_)\n",
    "# Частота без Counter\n",
    "dict_count = dict(zip(fio_, [fio_.count(i) for i in fio_]))\n",
    "# Факториал числа длины Фамилии (math)\n",
    "from math import factorial\n",
    "factorial(len(fio.split(\" \")[0]))\n",
    "# Факториал числа длины Фамилии через reduce\n",
    "from functools import reduce\n",
    "#Reduce\n",
    "product = reduce((lambda x, y: x * y), [i+1 for i in range(len(fio.split(\" \")[0]))])\n",
    "print(f\"result of reduce: {product}\")\n",
    "\n",
    "# Факториал длины имени\n",
    "factorial(len(fio.split(\" \")[1]))\n",
    "abs(factorial(len(fio.split(\" \")[1])) - factorial(len(fio.split(\" \")[0])))"
   ]
  },
  {
   "cell_type": "code",
   "execution_count": 3,
   "metadata": {
    "code_folding": [
     1
    ],
    "scrolled": true
   },
   "outputs": [
    {
     "data": {
      "text/plain": [
       "(27,\n",
       " {'я': 1,\n",
       "  'к': 2,\n",
       "  'у': 1,\n",
       "  'б': 1,\n",
       "  'о': 3,\n",
       "  'в': 3,\n",
       "  'с': 1,\n",
       "  'и': 5,\n",
       "  'й': 1,\n",
       "  'г': 1,\n",
       "  'р': 2,\n",
       "  'ь': 1,\n",
       "  'л': 1,\n",
       "  'а': 1,\n",
       "  'д': 1,\n",
       "  'м': 1,\n",
       "  'ч': 1},\n",
       " 3628800,\n",
       " 120,\n",
       " 3628680)"
      ]
     },
     "execution_count": 3,
     "metadata": {},
     "output_type": "execute_result"
    }
   ],
   "source": [
    "# Обернем в функцию\n",
    "def task_1(fio):\n",
    "    fio_ = fio.replace(\" \", \"\").lower()\n",
    "    \n",
    "    # Количество букв\n",
    "    count_letters = len(fio_)\n",
    "    \n",
    "    # Частота методом Counter\n",
    "    \n",
    "    from collections import Counter\n",
    "    dict_count = Counter(fio_)\n",
    "    \n",
    "    # Частота без Counter\n",
    "    dict_count = dict(zip(fio_, [fio_.count(i) for i in fio_]))\n",
    "    \n",
    "    # Факториал числа длины Фамилии (math)\n",
    "    from math import factorial\n",
    "    fact_len_f = factorial(len(fio.split(\" \")[0]))\n",
    "    \n",
    "    # Факториал числа длины Фамилии через reduce\n",
    "    from functools import reduce\n",
    "    #Reduce\n",
    "    fact_len_f = reduce((lambda x, y: x * y), [i+1 for i in range(len(fio.split(\" \")[0]))])\n",
    "    \n",
    "    # Факториал длины имени\n",
    "    fact_len_i = factorial(len(fio.split(\" \")[1]))\n",
    "    \n",
    "    # Разница \n",
    "    diff_f_i = abs((fact_len_i - fact_len_f))\n",
    "    return(count_letters, dict_count, fact_len_f, fact_len_i, diff_f_i)\n",
    "task_1(\"Якубовский Игорь Владимирович\")\n",
    "                "
   ]
  },
  {
   "cell_type": "markdown",
   "metadata": {},
   "source": [
    "**Задание 2**. Тайна имен однокурсников (10 баллов)\n",
    "\n",
    "В этом задании нужно использовать список всех однокурсников. Ваша задача вывести:\n",
    "- самое короткое ФИО (без пробелов)\n",
    "- самое длинное ФИО (без пробелов)\n",
    "- самое популярное ИМЯ\n",
    "- фамилию, где используется наибольшее количество уникальных букв (если таких несколько, то весь список)\n",
    "- разницу между длиной собственого ФИО (разделители - пробелы) и самого длинного ФИО (с разделители - пробелы)"
   ]
  },
  {
   "cell_type": "code",
   "execution_count": 4,
   "metadata": {
    "scrolled": true
   },
   "outputs": [
    {
     "data": {
      "text/plain": [
       "['Базуева Мария Дмитриевна',\n",
       " 'Бориско Данила Ильич ',\n",
       " 'Братков Герман Сергеевич',\n",
       " 'Суван-оол Орлан Владимирович',\n",
       " 'Валл Федор Викторович',\n",
       " 'Гарбузов Иван Константинович',\n",
       " 'Евменов Максим Андреевич',\n",
       " 'Егорова Анна Сергеевна ',\n",
       " 'Едовина Алина Игоревна',\n",
       " 'Загарнюк Елизавета Максимовна',\n",
       " 'Захаров Алексей Сергееивч',\n",
       " 'Калёнов Алексей Аркадьевич',\n",
       " 'Карасева Алина Александровна',\n",
       " 'Каширин Егор Михайлович',\n",
       " 'Косинов Андрей Вячеславович',\n",
       " 'Красиков Евгений Владимирович',\n",
       " 'Кузьмин Никита Кириллович',\n",
       " 'Монгуш Тенгиз Анатольевич',\n",
       " 'Мурадян Акоп Араратович',\n",
       " 'Наумова Анастасия Юрьевна',\n",
       " 'Панчук Александр Сергеевич',\n",
       " 'Пашинина Татьяна Викторовна',\n",
       " 'Пустоваров Артем Андреевич',\n",
       " 'Селезнев Дмитрий Владимирович',\n",
       " 'Сидорякин Виталий Дмитриевич',\n",
       " 'Филиппов Антон Павлович',\n",
       " 'Фрольцов Григорий Максимович',\n",
       " 'Хамитов Давид Альбертович',\n",
       " 'Хомушку Ганна Алексеевна',\n",
       " 'Царева Мария Сергеевна']"
      ]
     },
     "execution_count": 4,
     "metadata": {},
     "output_type": "execute_result"
    }
   ],
   "source": [
    "import pandas as pd\n",
    "import numpy as np\n",
    "# Путь к файлу\n",
    "your_path_to_file = \"/Users/iakubovskii/Machine_Learning/RANEPA\"\n",
    "# Импорт файла со списком однокурсников\n",
    "finteh = list(pd.read_excel(\n",
    "    your_path_to_file + \"/ФинТех-05-20.xlsx\")['ФИО'])\n",
    "finteh"
   ]
  },
  {
   "cell_type": "code",
   "execution_count": 10,
   "metadata": {},
   "outputs": [],
   "source": [
    "fam_list = list(map(lambda x: x.split(\" \")[0].lower(), finteh))\n"
   ]
  },
  {
   "cell_type": "code",
   "execution_count": 18,
   "metadata": {},
   "outputs": [],
   "source": [
    "unique_count_letters = list(map(lambda x: len(set([i for i in x])), fam_list))"
   ]
  },
  {
   "cell_type": "code",
   "execution_count": 35,
   "metadata": {
    "code_folding": []
   },
   "outputs": [
    {
     "data": {
      "text/plain": [
       "(['БорискоДанилаИльич'],\n",
       " ['ЗагарнюкЕлизаветаМаксимовна',\n",
       "  'КрасиковЕвгенийВладимирович',\n",
       "  'СелезневДмитрийВладимирович'],\n",
       " {'Мария': 2, 'Алина': 2, 'Алексей': 2},\n",
       " {'суван-оол': 8, 'гарбузов': 8, 'пустоваров': 8, 'сидорякин': 8},\n",
       " 2)"
      ]
     },
     "execution_count": 35,
     "metadata": {},
     "output_type": "execute_result"
    }
   ],
   "source": [
    "def task_2(finteh):\n",
    "    # Удалим лишние пробелы в конце ФИО через strip\n",
    "    finteh_list = list(map(lambda x: x.strip(\" \"), finteh))\n",
    "\n",
    "    # Удалим лишние пробелы в конце ФИО через replace\n",
    "    finteh_list = list(map(lambda x: x.replace(\" \",\"\"), finteh))\n",
    "\n",
    "    # Найдем самое короткое ФИО\n",
    "\n",
    "    # Массив с длинами ФИО\n",
    "    len_fio = list(map(len, finteh_list))\n",
    "    # Минимальная длина\n",
    "    min_len = min(len_fio)\n",
    "    shortest_fio = [i for i in finteh_list if len(i)==min_len]\n",
    "\n",
    "\n",
    "    # Найдем самое длинное ФИО\n",
    "    max_len = max(len_fio)\n",
    "    longest_fio = [i for i in finteh_list if len(i)==max_len]\n",
    "\n",
    "    # Найдем самое популярное имя\n",
    "    names_list = list(map(lambda x: x.split(\" \")[1], finteh))\n",
    "\n",
    "    # Массив с частотой имен\n",
    "    count_names = [names_list.count(i) for i in names_list]\n",
    "    dict_count_names = dict(zip(names_list, count_names))\n",
    "    popular_names = {k: v for k, v in dict_count_names.items() if v == 2}\n",
    "\n",
    "    # Уникальные буквы\n",
    "    # Список с фамилиями\n",
    "    fam_list = list(map(lambda x: x.split(\" \")[0].lower(), finteh))\n",
    "    # Трешовое и длинное решение\n",
    "#     # Буквы, которые встречаются один раз\n",
    "#     fam_unique_list = list(map(lambda x: [i for i in x if x.count(i)==1], fam_list))\n",
    "#     fam_unique_list_len = list(map(len, fam_unique_list))\n",
    "\n",
    "#     # Буквы, которые встречаются больше 1 раза\n",
    "#     fam_non_unique_list = list(map(lambda x: list(set([i for i in x if x.count(i)>1])), fam_list))\n",
    "#     fam_non_unique_list_len = list(map(len, fam_non_unique_list))\n",
    "#     # Склыдываем поэлементно эти два массива\n",
    "\n",
    "#     fam_unique_letters_list = list(map(lambda x,y: x+y, fam_unique_list_len, fam_non_unique_list_len))\n",
    "#     dict_fam_len = dict(zip(fam_list, fam_unique_letters_list))\n",
    "#     unique_fams = {k: v for k, v in dict_fam_len.items() if v == max(fam_unique_letters_list)}\n",
    "    # Короткое решение\n",
    "    unique_count_letters = list(map(lambda x: len(set([i for i in x])), fam_list))\n",
    "    unique_fams_dict = dict(zip(fam_list, unique_count_letters))\n",
    "    unique_fams = {k: v for k, v in unique_fams_dict.items() if v == max(unique_fams_dict.values())}\n",
    "    \n",
    "    # Разница между ФИО и самым длинным именем\n",
    "    diff_fio_longest = len(\"Якубовский Игорь Владимирович\") - max_len\n",
    "    \n",
    "    return(shortest_fio, longest_fio, popular_names, unique_fams, diff_fio_longest)\n",
    "task_2(finteh)\n"
   ]
  },
  {
   "cell_type": "markdown",
   "metadata": {},
   "source": [
    "**Задание 3**. Беговая дорожка. (10 баллов)\n",
    "\n",
    "Когда я занимаюсь на беговой дорожке, меня часто волнует то, за какое время я пробегу необходимое количество километров при заданной средней скорости (км в час). Ваша задача написать функцию, где на вход подается: \n",
    "- количество километров, которое человек планирует пробежать (целое число от 1 до 40)\n",
    "- средняя скорость, которая задается на беговой дорожке в км / час (целое число от 1 до 20)\n",
    "\n",
    "Функция должна вывести время (в минутах и секундах) за которое человек пробежит данное количество километров при заданной скорости беговой дорожки.\n",
    "\n",
    "Пример. Я ставлю себе скорость в 10 км в час. За какое время в минутах и секундах я пробегу 2 км? "
   ]
  },
  {
   "cell_type": "code",
   "execution_count": 37,
   "metadata": {},
   "outputs": [
    {
     "data": {
      "text/plain": [
       "(4, 17)"
      ]
     },
     "execution_count": 37,
     "metadata": {},
     "output_type": "execute_result"
    }
   ],
   "source": [
    "def run(distance, speed):\n",
    "    speed_m_s = (speed * 1000) / 3600\n",
    "    distance_m = distance * 1000\n",
    "    result_s = distance_m / speed_m_s\n",
    "    result_mins = int(result_s // 60)\n",
    "    result_sec = int(result_s % 60)\n",
    "    return(result_mins, result_sec)\n",
    "run(1, 14)"
   ]
  },
  {
   "cell_type": "markdown",
   "metadata": {},
   "source": [
    "## Часть 2. Прикладная статистика\n",
    "\n",
    "Для этой части необходимо подгрузить данные с результатами олимпийских игр. Подгружаем через *pandas*, однако все задания необходимо выполнить при помощи пакетов *numpy* и *scipy*. Использовать *pandas* кроме импорта, экспорта файлов и заполнения пропусков в этом ДЗ **запрещено**!\n"
   ]
  },
  {
   "cell_type": "code",
   "execution_count": 39,
   "metadata": {},
   "outputs": [
    {
     "data": {
      "text/plain": [
       "'/Users/iakubovskii/Machine_Learning/RANEPA/DataAnalize_ipynb/ДЗ1'"
      ]
     },
     "execution_count": 39,
     "metadata": {},
     "output_type": "execute_result"
    }
   ],
   "source": [
    "# Посмотреть рабочую директорию\n",
    "import os\n",
    "os.getcwd()"
   ]
  },
  {
   "cell_type": "code",
   "execution_count": 38,
   "metadata": {},
   "outputs": [
    {
     "name": "stdout",
     "output_type": "stream",
     "text": [
      "{'ID': 0, 'Name': 1, 'Sex': 2, 'Age': 3, 'Height': 4, 'Weight': 5, 'Team': 6, 'NOC': 7, 'Games': 8, 'Year': 9, 'Season': 10, 'City': 11, 'Sport': 12, 'Event': 13}\n"
     ]
    }
   ],
   "source": [
    "import pandas as pd\n",
    "# your_path_to_file = \"/Users/iakubovskii/Machine_Learning/Datasets/olympic_games/\"\n",
    "data = pd.read_csv(\"athlete_events.csv\").drop(\"Medal\", axis=1)\n",
    "# В данном датасете присутствуют пропуски среди количественных переменных (Age, Height, Weight)\n",
    "# Заполним их медианами \n",
    "for col in data.select_dtypes(\"float\").columns:\n",
    "    data[col] = data[col].fillna(data[col].median())\n",
    "\n",
    "# Все, пандас больше не используем в этой домашке :) Переходим к numpy\n",
    "import numpy as np\n",
    "og, og_names = data.values, data.columns\n",
    "\n",
    "# Словарик с номерами столбцов и соответствующими именами\n",
    "dict_names = {og_names[key]: key for key in range(len(og_names))}\n",
    "# Столбцы датасета\n",
    "print(dict_names)"
   ]
  },
  {
   "cell_type": "code",
   "execution_count": 145,
   "metadata": {},
   "outputs": [
    {
     "data": {
      "text/plain": [
       "array(['Albertville', 'Amsterdam', 'Antwerpen', 'Athina', 'Atlanta',\n",
       "       'Barcelona', 'Beijing', 'Berlin', 'Calgary', 'Chamonix',\n",
       "       \"Cortina d'Ampezzo\", 'Garmisch-Partenkirchen', 'Grenoble',\n",
       "       'Helsinki', 'Innsbruck', 'Lake Placid', 'Lillehammer', 'London',\n",
       "       'Los Angeles', 'Melbourne', 'Mexico City', 'Montreal', 'Moskva',\n",
       "       'Munich', 'Nagano', 'Oslo', 'Paris', 'Rio de Janeiro', 'Roma',\n",
       "       'Salt Lake City', 'Sankt Moritz', 'Sapporo', 'Sarajevo', 'Seoul',\n",
       "       'Sochi', 'Squaw Valley', 'St. Louis', 'Stockholm', 'Sydney',\n",
       "       'Tokyo', 'Torino', 'Vancouver'], dtype=object)"
      ]
     },
     "execution_count": 145,
     "metadata": {},
     "output_type": "execute_result"
    }
   ],
   "source": [
    "# Посмотрим на все города в данном датасете, где проходила олимпиада\n",
    "np.unique(og[:, dict_names[\"City\"]])"
   ]
  },
  {
   "cell_type": "code",
   "execution_count": 146,
   "metadata": {},
   "outputs": [
    {
     "data": {
      "text/plain": [
       "array(['Aeronautics Mixed Aeronautics', \"Alpine Skiing Men's Combined\",\n",
       "       \"Alpine Skiing Men's Downhill\", \"Alpine Skiing Men's Giant Slalom\",\n",
       "       \"Alpine Skiing Men's Slalom\", \"Alpine Skiing Men's Super G\",\n",
       "       \"Alpine Skiing Women's Combined\", \"Alpine Skiing Women's Downhill\",\n",
       "       \"Alpine Skiing Women's Giant Slalom\",\n",
       "       \"Alpine Skiing Women's Slalom\", \"Alpine Skiing Women's Super G\",\n",
       "       'Alpinism Mixed Alpinism', \"Archery Men's Au Chapelet, 33 metres\",\n",
       "       \"Archery Men's Au Chapelet, 50 metres\",\n",
       "       \"Archery Men's Au Cordon Dore, 33 metres\",\n",
       "       \"Archery Men's Au Cordon Dore, 50 metres\",\n",
       "       \"Archery Men's Championnat Du Monde\",\n",
       "       \"Archery Men's Continental Style\",\n",
       "       \"Archery Men's Double American Round\",\n",
       "       \"Archery Men's Double York Round\", \"Archery Men's Individual\",\n",
       "       \"Archery Men's Pole Archery, Large Birds, Individual\",\n",
       "       \"Archery Men's Pole Archery, Large Birds, Team\",\n",
       "       \"Archery Men's Pole Archery, Small Birds, Individual\",\n",
       "       \"Archery Men's Pole Archery, Small Birds, Team\",\n",
       "       \"Archery Men's Sur La Perche a La Herse\",\n",
       "       \"Archery Men's Sur La Perche a La Pyramide\",\n",
       "       \"Archery Men's Target Archery, 28 metres, Individual\",\n",
       "       \"Archery Men's Target Archery, 28 metres, Team\",\n",
       "       \"Archery Men's Target Archery, 33 metres, Individual\",\n",
       "       \"Archery Men's Target Archery, 33 metres, Team\",\n",
       "       \"Archery Men's Target Archery, 50 metres, Individual\",\n",
       "       \"Archery Men's Target Archery, 50 metres, Team\",\n",
       "       \"Archery Men's Team\", \"Archery Men's Team Round\",\n",
       "       \"Archery Men's Unknown Event\",\n",
       "       \"Archery Women's Double Columbia Round\",\n",
       "       \"Archery Women's Double National Round\",\n",
       "       \"Archery Women's Individual\", \"Archery Women's Team\",\n",
       "       \"Archery Women's Team Round\",\n",
       "       'Art Competitions Mixed Architecture',\n",
       "       'Art Competitions Mixed Architecture, Architectural Designs',\n",
       "       'Art Competitions Mixed Architecture, Designs For Town Planning',\n",
       "       'Art Competitions Mixed Architecture, Unknown Event',\n",
       "       'Art Competitions Mixed Literature',\n",
       "       'Art Competitions Mixed Literature, Dramatic Works',\n",
       "       'Art Competitions Mixed Literature, Epic Works',\n",
       "       'Art Competitions Mixed Literature, Lyric Works',\n",
       "       'Art Competitions Mixed Literature, Unknown Event',\n",
       "       'Art Competitions Mixed Music',\n",
       "       'Art Competitions Mixed Music, Compositions For Orchestra',\n",
       "       'Art Competitions Mixed Music, Compositions For Solo Or Chorus',\n",
       "       'Art Competitions Mixed Music, Instrumental And Chamber',\n",
       "       'Art Competitions Mixed Music, Unknown Event',\n",
       "       'Art Competitions Mixed Music, Vocals',\n",
       "       'Art Competitions Mixed Painting',\n",
       "       'Art Competitions Mixed Painting, Applied Arts',\n",
       "       'Art Competitions Mixed Painting, Drawings And Water Colors',\n",
       "       'Art Competitions Mixed Painting, Graphic Arts',\n",
       "       'Art Competitions Mixed Painting, Paintings',\n",
       "       'Art Competitions Mixed Painting, Unknown Event',\n",
       "       'Art Competitions Mixed Sculpturing',\n",
       "       'Art Competitions Mixed Sculpturing, Medals',\n",
       "       'Art Competitions Mixed Sculpturing, Medals And Plaques',\n",
       "       'Art Competitions Mixed Sculpturing, Medals And Reliefs',\n",
       "       'Art Competitions Mixed Sculpturing, Reliefs',\n",
       "       'Art Competitions Mixed Sculpturing, Statues',\n",
       "       'Art Competitions Mixed Sculpturing, Unknown Event',\n",
       "       'Art Competitions Mixed Unknown Event',\n",
       "       \"Athletics Men's 1,500 metres\",\n",
       "       \"Athletics Men's 1,500 metres Walk\",\n",
       "       \"Athletics Men's 1,600 metres Medley Relay\",\n",
       "       \"Athletics Men's 10 kilometres Walk\",\n",
       "       \"Athletics Men's 10 mile Walk\", \"Athletics Men's 10,000 metres\",\n",
       "       \"Athletics Men's 100 metres\", \"Athletics Men's 110 metres Hurdles\",\n",
       "       \"Athletics Men's 2,500 metres Steeplechase\",\n",
       "       \"Athletics Men's 2,590 metres Steeplechase\",\n",
       "       \"Athletics Men's 20 kilometres Walk\", \"Athletics Men's 200 metres\",\n",
       "       \"Athletics Men's 200 metres Hurdles\",\n",
       "       \"Athletics Men's 3 mile, Team\",\n",
       "       \"Athletics Men's 3,000 metres Steeplechase\",\n",
       "       \"Athletics Men's 3,000 metres Walk\",\n",
       "       \"Athletics Men's 3,000 metres, Team\",\n",
       "       \"Athletics Men's 3,200 metres Steeplechase\",\n",
       "       \"Athletics Men's 3,500 metres Walk\",\n",
       "       \"Athletics Men's 4 mile, Team\",\n",
       "       \"Athletics Men's 4 x 100 metres Relay\",\n",
       "       \"Athletics Men's 4 x 400 metres Relay\",\n",
       "       \"Athletics Men's 4,000 metres Steeplechase\",\n",
       "       \"Athletics Men's 400 metres\", \"Athletics Men's 400 metres Hurdles\",\n",
       "       \"Athletics Men's 5 mile\", \"Athletics Men's 5,000 metres\",\n",
       "       \"Athletics Men's 5,000 metres, Team\",\n",
       "       \"Athletics Men's 50 kilometres Walk\",\n",
       "       \"Athletics Men's 56-pound Weight Throw\",\n",
       "       \"Athletics Men's 60 metres\", \"Athletics Men's 800 metres\",\n",
       "       \"Athletics Men's All-Around Championship\",\n",
       "       \"Athletics Men's Cross-Country, Individual\",\n",
       "       \"Athletics Men's Cross-Country, Team\", \"Athletics Men's Decathlon\",\n",
       "       \"Athletics Men's Discus Throw\",\n",
       "       \"Athletics Men's Discus Throw, Both Hands\",\n",
       "       \"Athletics Men's Discus Throw, Greek Style\",\n",
       "       \"Athletics Men's Hammer Throw\", \"Athletics Men's High Jump\",\n",
       "       \"Athletics Men's Javelin Throw\",\n",
       "       \"Athletics Men's Javelin Throw, Both Hands\",\n",
       "       \"Athletics Men's Javelin Throw, Freestyle\",\n",
       "       \"Athletics Men's Long Jump\", \"Athletics Men's Marathon\",\n",
       "       \"Athletics Men's Pentathlon\",\n",
       "       \"Athletics Men's Pentathlon (Ancient)\",\n",
       "       \"Athletics Men's Pole Vault\", \"Athletics Men's Shot Put\",\n",
       "       \"Athletics Men's Shot Put, Both Hands\",\n",
       "       \"Athletics Men's Standing High Jump\",\n",
       "       \"Athletics Men's Standing Long Jump\",\n",
       "       \"Athletics Men's Standing Triple Jump\",\n",
       "       \"Athletics Men's Stone Throw\", \"Athletics Men's Triple Jump\",\n",
       "       \"Athletics Women's 1,500 metres\",\n",
       "       \"Athletics Women's 10 kilometres Walk\",\n",
       "       \"Athletics Women's 10,000 metres\", \"Athletics Women's 100 metres\",\n",
       "       \"Athletics Women's 100 metres Hurdles\",\n",
       "       \"Athletics Women's 20 kilometres Walk\",\n",
       "       \"Athletics Women's 200 metres\", \"Athletics Women's 3,000 metres\",\n",
       "       \"Athletics Women's 3,000 metres Steeplechase\",\n",
       "       \"Athletics Women's 4 x 100 metres Relay\",\n",
       "       \"Athletics Women's 4 x 400 metres Relay\",\n",
       "       \"Athletics Women's 400 metres\",\n",
       "       \"Athletics Women's 400 metres Hurdles\",\n",
       "       \"Athletics Women's 5,000 metres\",\n",
       "       \"Athletics Women's 80 metres Hurdles\",\n",
       "       \"Athletics Women's 800 metres\", \"Athletics Women's Discus Throw\",\n",
       "       \"Athletics Women's Hammer Throw\", \"Athletics Women's Heptathlon\",\n",
       "       \"Athletics Women's High Jump\", \"Athletics Women's Javelin Throw\",\n",
       "       \"Athletics Women's Long Jump\", \"Athletics Women's Marathon\",\n",
       "       \"Athletics Women's Pentathlon\", \"Athletics Women's Pole Vault\",\n",
       "       \"Athletics Women's Shot Put\", \"Athletics Women's Triple Jump\",\n",
       "       \"Badminton Men's Doubles\", \"Badminton Men's Singles\",\n",
       "       'Badminton Mixed Doubles', \"Badminton Women's Doubles\",\n",
       "       \"Badminton Women's Singles\", \"Baseball Men's Baseball\",\n",
       "       \"Basketball Men's Basketball\", \"Basketball Women's Basketball\",\n",
       "       \"Basque Pelota Men's Two-Man Teams With Cesta\",\n",
       "       \"Beach Volleyball Men's Beach Volleyball\",\n",
       "       \"Beach Volleyball Women's Beach Volleyball\",\n",
       "       \"Biathlon Men's 10 kilometres Sprint\",\n",
       "       \"Biathlon Men's 12.5 kilometres Pursuit\",\n",
       "       \"Biathlon Men's 15 kilometres Mass Start\",\n",
       "       \"Biathlon Men's 20 kilometres\",\n",
       "       \"Biathlon Men's 4 x 7.5 kilometres Relay\",\n",
       "       'Biathlon Mixed 2 x 6 kilometres and 2 x 7.5 kilometres Relay',\n",
       "       \"Biathlon Women's 10 kilometres Pursuit\",\n",
       "       \"Biathlon Women's 12.5 kilometres Mass Start\",\n",
       "       \"Biathlon Women's 15 kilometres\",\n",
       "       \"Biathlon Women's 3 x 7.5 kilometres Relay\",\n",
       "       \"Biathlon Women's 4 x 6 kilometres Relay\",\n",
       "       \"Biathlon Women's 4 x 7.5 kilometres Relay\",\n",
       "       \"Biathlon Women's 7.5 kilometres Sprint\", \"Bobsleigh Men's Four\",\n",
       "       \"Bobsleigh Men's Four/Five\", \"Bobsleigh Men's Two\",\n",
       "       \"Bobsleigh Women's Two\", \"Boxing Men's Bantamweight\",\n",
       "       \"Boxing Men's Featherweight\", \"Boxing Men's Flyweight\",\n",
       "       \"Boxing Men's Heavyweight\", \"Boxing Men's Light-Flyweight\",\n",
       "       \"Boxing Men's Light-Heavyweight\",\n",
       "       \"Boxing Men's Light-Middleweight\",\n",
       "       \"Boxing Men's Light-Welterweight\", \"Boxing Men's Lightweight\",\n",
       "       \"Boxing Men's Middleweight\", \"Boxing Men's Super-Heavyweight\",\n",
       "       \"Boxing Men's Welterweight\", \"Boxing Women's Flyweight\",\n",
       "       \"Boxing Women's Lightweight\", \"Boxing Women's Middleweight\",\n",
       "       \"Canoeing Men's Canadian Doubles, 1,000 metres\",\n",
       "       \"Canoeing Men's Canadian Doubles, 10,000 metres\",\n",
       "       \"Canoeing Men's Canadian Doubles, 500 metres\",\n",
       "       \"Canoeing Men's Canadian Doubles, Slalom\",\n",
       "       \"Canoeing Men's Canadian Singles, 1,000 metres\",\n",
       "       \"Canoeing Men's Canadian Singles, 10,000 metres\",\n",
       "       \"Canoeing Men's Canadian Singles, 200 metres\",\n",
       "       \"Canoeing Men's Canadian Singles, 500 metres\",\n",
       "       \"Canoeing Men's Canadian Singles, Slalom\",\n",
       "       \"Canoeing Men's Folding Kayak Doubles, 10 kilometres\",\n",
       "       \"Canoeing Men's Folding Kayak Singles, 10 kilometres\",\n",
       "       \"Canoeing Men's Kayak Doubles, 1,000 metres\",\n",
       "       \"Canoeing Men's Kayak Doubles, 10,000 metres\",\n",
       "       \"Canoeing Men's Kayak Doubles, 200 metres\",\n",
       "       \"Canoeing Men's Kayak Doubles, 500 metres\",\n",
       "       \"Canoeing Men's Kayak Fours, 1,000 metres\",\n",
       "       \"Canoeing Men's Kayak Relay 4 x 500 metres\",\n",
       "       \"Canoeing Men's Kayak Singles, 1,000 metres\",\n",
       "       \"Canoeing Men's Kayak Singles, 10,000 metres\",\n",
       "       \"Canoeing Men's Kayak Singles, 200 metres\",\n",
       "       \"Canoeing Men's Kayak Singles, 500 metres\",\n",
       "       \"Canoeing Men's Kayak Singles, Slalom\",\n",
       "       \"Canoeing Women's Kayak Doubles, 500 metres\",\n",
       "       \"Canoeing Women's Kayak Fours, 500 metres\",\n",
       "       \"Canoeing Women's Kayak Singles, 200 metres\",\n",
       "       \"Canoeing Women's Kayak Singles, 500 metres\",\n",
       "       \"Canoeing Women's Kayak Singles, Slalom\", \"Cricket Men's Cricket\",\n",
       "       'Croquet Mixed Doubles', 'Croquet Mixed Singles, One Ball',\n",
       "       'Croquet Mixed Singles, Two Balls',\n",
       "       \"Cross Country Skiing Men's 10 kilometres\",\n",
       "       \"Cross Country Skiing Men's 10/10 kilometres Pursuit\",\n",
       "       \"Cross Country Skiing Men's 10/15 kilometres Pursuit\",\n",
       "       \"Cross Country Skiing Men's 15 kilometres\",\n",
       "       \"Cross Country Skiing Men's 18 kilometres\",\n",
       "       \"Cross Country Skiing Men's 30 kilometres\",\n",
       "       \"Cross Country Skiing Men's 30 km Skiathlon\",\n",
       "       \"Cross Country Skiing Men's 4 x 10 kilometres Relay\",\n",
       "       \"Cross Country Skiing Men's 50 kilometres\",\n",
       "       \"Cross Country Skiing Men's Sprint\",\n",
       "       \"Cross Country Skiing Men's Team Sprint\",\n",
       "       \"Cross Country Skiing Women's 10 kilometres\",\n",
       "       \"Cross Country Skiing Women's 15 kilometres\",\n",
       "       \"Cross Country Skiing Women's 15 km Skiathlon\",\n",
       "       \"Cross Country Skiing Women's 20 kilometres\",\n",
       "       \"Cross Country Skiing Women's 3 x 5 kilometres Relay\",\n",
       "       \"Cross Country Skiing Women's 30 kilometres\",\n",
       "       \"Cross Country Skiing Women's 4 x 5 kilometres Relay\",\n",
       "       \"Cross Country Skiing Women's 5 kilometres\",\n",
       "       \"Cross Country Skiing Women's 5/10 kilometres Pursuit\",\n",
       "       \"Cross Country Skiing Women's 5/5 kilometres Pursuit\",\n",
       "       \"Cross Country Skiing Women's Sprint\",\n",
       "       \"Cross Country Skiing Women's Team Sprint\",\n",
       "       \"Curling Men's Curling\", \"Curling Women's Curling\",\n",
       "       \"Cycling Men's 1 mile\", \"Cycling Men's 1,000 metres Time Trial\",\n",
       "       \"Cycling Men's 1/2 mile\", \"Cycling Men's 1/3 mile\",\n",
       "       \"Cycling Men's 1/4 mile\", \"Cycling Men's 10,000 metres\",\n",
       "       \"Cycling Men's 100 kilometres\",\n",
       "       \"Cycling Men's 100 kilometres Team Time Trial\",\n",
       "       \"Cycling Men's 12-Hours Race\", \"Cycling Men's 2 mile\",\n",
       "       \"Cycling Men's 20 kilometres\", \"Cycling Men's 25 kilometres\",\n",
       "       \"Cycling Men's 25 mile\", \"Cycling Men's 333 metres Time Trial\",\n",
       "       \"Cycling Men's 5 mile\", \"Cycling Men's 5,000 metres\",\n",
       "       \"Cycling Men's 50 kilometres\", \"Cycling Men's BMX\",\n",
       "       \"Cycling Men's Individual Pursuit, 4,000 metres\",\n",
       "       \"Cycling Men's Individual Time Trial\", \"Cycling Men's Keirin\",\n",
       "       \"Cycling Men's Madison\",\n",
       "       \"Cycling Men's Mountainbike, Cross-Country\",\n",
       "       \"Cycling Men's Omnium\", \"Cycling Men's Points Race\",\n",
       "       \"Cycling Men's Road Race, Individual\",\n",
       "       \"Cycling Men's Road Race, Team\", \"Cycling Men's Sprint\",\n",
       "       \"Cycling Men's Tandem Sprint, 2,000 metres\",\n",
       "       \"Cycling Men's Team Pursuit, 1,980 yards\",\n",
       "       \"Cycling Men's Team Pursuit, 4,000 metres\",\n",
       "       \"Cycling Men's Team Sprint\",\n",
       "       \"Cycling Women's 500 metres Time Trial\", \"Cycling Women's BMX\",\n",
       "       \"Cycling Women's Individual Pursuit, 3,000 metres\",\n",
       "       \"Cycling Women's Individual Time Trial\", \"Cycling Women's Keirin\",\n",
       "       \"Cycling Women's Mountainbike, Cross-Country\",\n",
       "       \"Cycling Women's Omnium\", \"Cycling Women's Points Race\",\n",
       "       \"Cycling Women's Road Race, Individual\", \"Cycling Women's Sprint\",\n",
       "       \"Cycling Women's Team Pursuit\", \"Cycling Women's Team Sprint\",\n",
       "       \"Diving Men's Plain High\", \"Diving Men's Platform\",\n",
       "       \"Diving Men's Springboard\", \"Diving Men's Synchronized Platform\",\n",
       "       \"Diving Men's Synchronized Springboard\",\n",
       "       \"Diving Women's Plain High\", \"Diving Women's Platform\",\n",
       "       \"Diving Women's Springboard\",\n",
       "       \"Diving Women's Synchronized Platform\",\n",
       "       \"Diving Women's Synchronized Springboard\",\n",
       "       \"Equestrianism Men's Dressage, Individual\",\n",
       "       \"Equestrianism Men's Dressage, Team\",\n",
       "       \"Equestrianism Men's Jumping, Individual\",\n",
       "       \"Equestrianism Men's Jumping, Team\",\n",
       "       \"Equestrianism Men's Three-Day Event, Individual\",\n",
       "       \"Equestrianism Men's Three-Day Event, Team\",\n",
       "       \"Equestrianism Men's Vaulting, Individual\",\n",
       "       \"Equestrianism Men's Vaulting, Team\",\n",
       "       'Equestrianism Mixed Dressage, Individual',\n",
       "       'Equestrianism Mixed Dressage, Team',\n",
       "       'Equestrianism Mixed Four-In-Hand Competition',\n",
       "       'Equestrianism Mixed Hacks And Hunter Combined',\n",
       "       'Equestrianism Mixed High Jump',\n",
       "       'Equestrianism Mixed Jumping, Individual',\n",
       "       'Equestrianism Mixed Jumping, Team',\n",
       "       'Equestrianism Mixed Long Jump',\n",
       "       'Equestrianism Mixed Three-Day Event, Individual',\n",
       "       'Equestrianism Mixed Three-Day Event, Team',\n",
       "       \"Fencing Men's Foil, Individual\",\n",
       "       \"Fencing Men's Foil, Masters, Individual\",\n",
       "       \"Fencing Men's Foil, Team\", \"Fencing Men's Sabre, Individual\",\n",
       "       \"Fencing Men's Sabre, Individual, Three Hits\",\n",
       "       \"Fencing Men's Sabre, Masters, Individual\",\n",
       "       \"Fencing Men's Sabre, Team\",\n",
       "       \"Fencing Men's Single Sticks, Individual\",\n",
       "       \"Fencing Men's epee, Individual\",\n",
       "       \"Fencing Men's epee, Masters and Amateurs, Individual\",\n",
       "       \"Fencing Men's epee, Masters, Individual\",\n",
       "       \"Fencing Men's epee, Team\", \"Fencing Women's Foil, Individual\",\n",
       "       \"Fencing Women's Foil, Team\", \"Fencing Women's Sabre, Individual\",\n",
       "       \"Fencing Women's Sabre, Team\", \"Fencing Women's epee, Individual\",\n",
       "       \"Fencing Women's epee, Team\", \"Figure Skating Men's Singles\",\n",
       "       \"Figure Skating Men's Special Figures\",\n",
       "       'Figure Skating Mixed Ice Dancing', 'Figure Skating Mixed Pairs',\n",
       "       'Figure Skating Mixed Team', \"Figure Skating Women's Singles\",\n",
       "       \"Football Men's Football\", \"Football Women's Football\",\n",
       "       \"Freestyle Skiing Men's Aerials\",\n",
       "       \"Freestyle Skiing Men's Halfpipe\", \"Freestyle Skiing Men's Moguls\",\n",
       "       \"Freestyle Skiing Men's Ski Cross\",\n",
       "       \"Freestyle Skiing Men's Slopestyle\",\n",
       "       \"Freestyle Skiing Women's Aerials\",\n",
       "       \"Freestyle Skiing Women's Halfpipe\",\n",
       "       \"Freestyle Skiing Women's Moguls\",\n",
       "       \"Freestyle Skiing Women's Ski Cross\",\n",
       "       \"Freestyle Skiing Women's Slopestyle\", \"Golf Men's Individual\",\n",
       "       \"Golf Men's Team\", \"Golf Women's Individual\",\n",
       "       \"Gymnastics Men's Club Swinging\",\n",
       "       \"Gymnastics Men's Floor Exercise\",\n",
       "       \"Gymnastics Men's Horizontal Bar\",\n",
       "       \"Gymnastics Men's Horizontal Bar, Teams\",\n",
       "       \"Gymnastics Men's Horse Vault\",\n",
       "       \"Gymnastics Men's Individual All-Around\",\n",
       "       \"Gymnastics Men's Individual All-Around, 4 Events\",\n",
       "       \"Gymnastics Men's Individual All-Around, 5 Events\",\n",
       "       \"Gymnastics Men's Individual All-Around, Apparatus Work\",\n",
       "       \"Gymnastics Men's Individual All-Around, Field Sports\",\n",
       "       \"Gymnastics Men's Parallel Bars\",\n",
       "       \"Gymnastics Men's Parallel Bars, Teams\",\n",
       "       \"Gymnastics Men's Pommelled Horse\", \"Gymnastics Men's Rings\",\n",
       "       \"Gymnastics Men's Rope Climbing\", \"Gymnastics Men's Side Horse\",\n",
       "       \"Gymnastics Men's Team All-Around\",\n",
       "       \"Gymnastics Men's Team All-Around, Free System\",\n",
       "       \"Gymnastics Men's Team All-Around, Swedish System\",\n",
       "       \"Gymnastics Men's Tumbling\", \"Gymnastics Women's Balance Beam\",\n",
       "       \"Gymnastics Women's Floor Exercise\",\n",
       "       \"Gymnastics Women's Horse Vault\",\n",
       "       \"Gymnastics Women's Individual All-Around\",\n",
       "       \"Gymnastics Women's Team All-Around\",\n",
       "       \"Gymnastics Women's Team Portable Apparatus\",\n",
       "       \"Gymnastics Women's Uneven Bars\", \"Handball Men's Handball\",\n",
       "       \"Handball Women's Handball\", \"Hockey Men's Hockey\",\n",
       "       \"Hockey Women's Hockey\", \"Ice Hockey Men's Ice Hockey\",\n",
       "       \"Ice Hockey Women's Ice Hockey\", \"Jeu De Paume Men's Singles\",\n",
       "       \"Judo Men's Extra-Lightweight\", \"Judo Men's Half-Heavyweight\",\n",
       "       \"Judo Men's Half-Lightweight\", \"Judo Men's Half-Middleweight\",\n",
       "       \"Judo Men's Heavyweight\", \"Judo Men's Lightweight\",\n",
       "       \"Judo Men's Middleweight\", \"Judo Men's Open Class\",\n",
       "       \"Judo Women's Extra-Lightweight\", \"Judo Women's Half-Heavyweight\",\n",
       "       \"Judo Women's Half-Lightweight\", \"Judo Women's Half-Middleweight\",\n",
       "       \"Judo Women's Heavyweight\", \"Judo Women's Lightweight\",\n",
       "       \"Judo Women's Middleweight\", \"Lacrosse Men's Lacrosse\",\n",
       "       \"Luge Men's Singles\", \"Luge Mixed (Men)'s Doubles\",\n",
       "       'Luge Mixed Team Relay', \"Luge Women's Singles\",\n",
       "       \"Military Ski Patrol Men's Military Ski Patrol\",\n",
       "       \"Modern Pentathlon Men's Individual\",\n",
       "       \"Modern Pentathlon Men's Team\",\n",
       "       \"Modern Pentathlon Women's Individual\",\n",
       "       'Motorboating Mixed A-Class (Open)',\n",
       "       'Motorboating Mixed B-Class (Under 60 Feet)',\n",
       "       'Motorboating Mixed C-Class', \"Nordic Combined Men's Individual\",\n",
       "       \"Nordic Combined Men's Large Hill / 10 km, Individual\",\n",
       "       \"Nordic Combined Men's Normal Hill / 10 km, Individual\",\n",
       "       \"Nordic Combined Men's Sprint\", \"Nordic Combined Men's Team\",\n",
       "       \"Polo Men's Polo\", \"Racquets Men's Doubles\",\n",
       "       \"Racquets Men's Singles\", \"Rhythmic Gymnastics Women's Group\",\n",
       "       \"Rhythmic Gymnastics Women's Individual\", \"Roque Men's Singles\",\n",
       "       \"Rowing Men's 17-Man Naval Rowing Boats\",\n",
       "       \"Rowing Men's 6-Man Naval Rowing Boats\",\n",
       "       \"Rowing Men's Coxed Eights\", \"Rowing Men's Coxed Fours\",\n",
       "       \"Rowing Men's Coxed Fours, Inriggers\",\n",
       "       \"Rowing Men's Coxed Fours, Outriggers\", \"Rowing Men's Coxed Pairs\",\n",
       "       \"Rowing Men's Coxed Pairs (1 kilometres)\",\n",
       "       \"Rowing Men's Coxed Pairs (1 mile)\", \"Rowing Men's Coxless Fours\",\n",
       "       \"Rowing Men's Coxless Pairs\", \"Rowing Men's Double Sculls\",\n",
       "       \"Rowing Men's Lightweight Coxless Fours\",\n",
       "       \"Rowing Men's Lightweight Double Sculls\",\n",
       "       \"Rowing Men's Quadruple Sculls\", \"Rowing Men's Single Sculls\",\n",
       "       \"Rowing Women's Coxed Eights\", \"Rowing Women's Coxed Fours\",\n",
       "       \"Rowing Women's Coxed Quadruple Sculls\",\n",
       "       \"Rowing Women's Coxless Fours\", \"Rowing Women's Coxless Pairs\",\n",
       "       \"Rowing Women's Double Sculls\",\n",
       "       \"Rowing Women's Lightweight Double Sculls\",\n",
       "       \"Rowing Women's Quadruple Sculls\", \"Rowing Women's Single Sculls\",\n",
       "       \"Rugby Men's Rugby\", \"Rugby Sevens Men's Rugby Sevens\",\n",
       "       \"Rugby Sevens Women's Rugby Sevens\",\n",
       "       \"Sailing Men's One Person Dinghy\",\n",
       "       \"Sailing Men's One Person Heavyweight Dinghy\",\n",
       "       \"Sailing Men's Skiff\", \"Sailing Men's Two Person Dinghy\",\n",
       "       \"Sailing Men's Two Person Keelboat\", \"Sailing Men's Windsurfer\",\n",
       "       'Sailing Mixed 0-0.5 Ton', 'Sailing Mixed 0.5-1 Ton',\n",
       "       'Sailing Mixed 1-2 Ton', 'Sailing Mixed 10 metres',\n",
       "       'Sailing Mixed 10-20 Ton', 'Sailing Mixed 12 foot',\n",
       "       'Sailing Mixed 12 metres', 'Sailing Mixed 18 foot',\n",
       "       'Sailing Mixed 2-3 Ton', 'Sailing Mixed 20+ Ton',\n",
       "       'Sailing Mixed 3-10 Ton', 'Sailing Mixed 30 metres',\n",
       "       'Sailing Mixed 40 metres', 'Sailing Mixed 5.5 metres',\n",
       "       'Sailing Mixed 6 metres', 'Sailing Mixed 6.5 metres',\n",
       "       'Sailing Mixed 7 metres', 'Sailing Mixed 8 metres',\n",
       "       'Sailing Mixed Multihull', 'Sailing Mixed One Person Dinghy',\n",
       "       'Sailing Mixed Open', 'Sailing Mixed Skiff',\n",
       "       'Sailing Mixed Three Person Keelboat',\n",
       "       'Sailing Mixed Two Person Dinghy',\n",
       "       'Sailing Mixed Two Person Heavyweight Dinghy',\n",
       "       'Sailing Mixed Two Person Keelboat', 'Sailing Mixed Windsurfer',\n",
       "       \"Sailing Women's One Person Dinghy\", \"Sailing Women's Skiff\",\n",
       "       \"Sailing Women's Three Person Keelboat\",\n",
       "       \"Sailing Women's Two Person Dinghy\", \"Sailing Women's Windsurfer\",\n",
       "       \"Shooting Men's Air Pistol, 10 metres\",\n",
       "       \"Shooting Men's Air Rifle, 10 metres\",\n",
       "       \"Shooting Men's Double Trap\",\n",
       "       \"Shooting Men's Dueling Pistol Au Commandement, 25 metres\",\n",
       "       \"Shooting Men's Dueling Pistol Au Vise 20 metres\",\n",
       "       \"Shooting Men's Dueling Pistol, 30 metres\",\n",
       "       \"Shooting Men's Dueling Pistol, 30 metres, Team\",\n",
       "       \"Shooting Men's Free Pistol, 25 metres\",\n",
       "       \"Shooting Men's Free Pistol, 30 metres\",\n",
       "       \"Shooting Men's Free Pistol, 50 metres\",\n",
       "       \"Shooting Men's Free Pistol, 50 metres, Team\",\n",
       "       \"Shooting Men's Free Pistol, 50 yards\",\n",
       "       \"Shooting Men's Free Pistol, 50 yards, Team\",\n",
       "       \"Shooting Men's Free Rifle, 1,000 Yards\",\n",
       "       \"Shooting Men's Free Rifle, 400, 600 and 800 metres, Team\",\n",
       "       \"Shooting Men's Free Rifle, Any Position, 300 metres\",\n",
       "       \"Shooting Men's Free Rifle, Kneeling, 300 metres\",\n",
       "       \"Shooting Men's Free Rifle, Prone, 300 metres\",\n",
       "       \"Shooting Men's Free Rifle, Prone, 600 metres\",\n",
       "       \"Shooting Men's Free Rifle, Standing, 300 metres\",\n",
       "       \"Shooting Men's Free Rifle, Three Positions, 300 metres\",\n",
       "       \"Shooting Men's Free Rifle, Three Positions, 300 metres, Team\",\n",
       "       \"Shooting Men's Military Pistol, 25 metres\",\n",
       "       \"Shooting Men's Military Pistol, 30 metres\",\n",
       "       \"Shooting Men's Military Pistol, Team\",\n",
       "       \"Shooting Men's Military Revolver, 1873-1874 Gras Model, 20 metres\",\n",
       "       \"Shooting Men's Military Revolver, 20 metres\",\n",
       "       \"Shooting Men's Military Rifle, 1873-1874 Gras Model, Kneeling Or Standing, 200 metres\",\n",
       "       \"Shooting Men's Military Rifle, 200 metres\",\n",
       "       \"Shooting Men's Military Rifle, 200, 400, 500 and 600 metres, Team\",\n",
       "       \"Shooting Men's Military Rifle, 200/500/600/800/900/1,000 Yards, Team\",\n",
       "       \"Shooting Men's Military Rifle, 300 metres and 600 metres, Prone, Team\",\n",
       "       \"Shooting Men's Military Rifle, Any Position, 600 metres\",\n",
       "       \"Shooting Men's Military Rifle, Kneeling Or Standing, 300 metres\",\n",
       "       \"Shooting Men's Military Rifle, Prone, 300 metres\",\n",
       "       \"Shooting Men's Military Rifle, Prone, 300 metres, Team\",\n",
       "       \"Shooting Men's Military Rifle, Prone, 600 metres\",\n",
       "       \"Shooting Men's Military Rifle, Prone, 600 metres, Team\",\n",
       "       \"Shooting Men's Military Rifle, Standing, 300 metres\",\n",
       "       \"Shooting Men's Military Rifle, Standing, 300 metres, Team\",\n",
       "       \"Shooting Men's Military Rifle, Three Positions, 300 metres\",\n",
       "       \"Shooting Men's Muzzle-Loading Pistol, 25 metres\",\n",
       "       \"Shooting Men's Rapid-Fire Pistol, 25 metres\",\n",
       "       \"Shooting Men's Running Target, 10 metres\",\n",
       "       \"Shooting Men's Running Target, 50 metres\",\n",
       "       \"Shooting Men's Running Target, Double Shot\",\n",
       "       \"Shooting Men's Running Target, Double Shot, Team\",\n",
       "       \"Shooting Men's Running Target, Single And Double Shot\",\n",
       "       \"Shooting Men's Running Target, Single Shot\",\n",
       "       \"Shooting Men's Running Target, Single Shot, Team\",\n",
       "       \"Shooting Men's Skeet\",\n",
       "       \"Shooting Men's Small Bore-Rifle, Standing, 50 metres, Team\",\n",
       "       \"Shooting Men's Small-Bore Rifle, 50 and 100 yards, Team\",\n",
       "       \"Shooting Men's Small-Bore Rifle, Any Position, 50 metres\",\n",
       "       \"Shooting Men's Small-Bore Rifle, Disappearing Target, 25 metres\",\n",
       "       \"Shooting Men's Small-Bore Rifle, Disappearing Target, 25 metres, Team\",\n",
       "       \"Shooting Men's Small-Bore Rifle, Disappearing Target, 25 yards\",\n",
       "       \"Shooting Men's Small-Bore Rifle, Moving Target, 25 yards\",\n",
       "       \"Shooting Men's Small-Bore Rifle, Prone, 50 and 100 yards\",\n",
       "       \"Shooting Men's Small-Bore Rifle, Prone, 50 metres\",\n",
       "       \"Shooting Men's Small-Bore Rifle, Prone, 50 metres, Team\",\n",
       "       \"Shooting Men's Small-Bore Rifle, Standing, 50 metres\",\n",
       "       \"Shooting Men's Small-Bore Rifle, Three Positions, 50 metres\",\n",
       "       \"Shooting Men's Trap\",\n",
       "       \"Shooting Men's Trap, Double Shot, 14 metres\",\n",
       "       \"Shooting Men's Trap, Single Shot, 16 metres\",\n",
       "       \"Shooting Men's Trap, Team\", \"Shooting Men's Unknown Event\",\n",
       "       'Shooting Mixed Free Pistol, 50 metres',\n",
       "       'Shooting Mixed Free Rifle, Three Positions, 300 metres',\n",
       "       'Shooting Mixed Rapid-Fire Pistol, 25 metres',\n",
       "       'Shooting Mixed Running Target, 50 metres', 'Shooting Mixed Skeet',\n",
       "       'Shooting Mixed Small-Bore Rifle, Prone, 50 metres',\n",
       "       'Shooting Mixed Small-Bore Rifle, Three Positions, 50 metres',\n",
       "       'Shooting Mixed Trap', \"Shooting Women's Air Pistol, 10 metres\",\n",
       "       \"Shooting Women's Air Rifle, 10 metres\",\n",
       "       \"Shooting Women's Double Trap\", \"Shooting Women's Skeet\",\n",
       "       \"Shooting Women's Small-Bore Rifle, Three Positions, 50 metres\",\n",
       "       \"Shooting Women's Sporting Pistol, 25 metres\",\n",
       "       \"Shooting Women's Trap\",\n",
       "       \"Short Track Speed Skating Men's 1,000 metres\",\n",
       "       \"Short Track Speed Skating Men's 1,500 metres\",\n",
       "       \"Short Track Speed Skating Men's 5,000 metres Relay\",\n",
       "       \"Short Track Speed Skating Men's 500 metres\",\n",
       "       \"Short Track Speed Skating Women's 1,000 metres\",\n",
       "       \"Short Track Speed Skating Women's 1,500 metres\",\n",
       "       \"Short Track Speed Skating Women's 3,000 metres Relay\",\n",
       "       \"Short Track Speed Skating Women's 500 metres\",\n",
       "       \"Skeleton Men's Skeleton\", \"Skeleton Women's Skeleton\",\n",
       "       \"Ski Jumping Men's Large Hill, Individual\",\n",
       "       \"Ski Jumping Men's Large Hill, Team\",\n",
       "       \"Ski Jumping Men's Normal Hill, Individual\",\n",
       "       \"Ski Jumping Women's Normal Hill, Individual\",\n",
       "       \"Snowboarding Men's Boardercross\",\n",
       "       \"Snowboarding Men's Giant Slalom\", \"Snowboarding Men's Halfpipe\",\n",
       "       \"Snowboarding Men's Parallel Giant Slalom\",\n",
       "       \"Snowboarding Men's Parallel Slalom\",\n",
       "       \"Snowboarding Men's Slopestyle\",\n",
       "       \"Snowboarding Women's Boardercross\",\n",
       "       \"Snowboarding Women's Giant Slalom\",\n",
       "       \"Snowboarding Women's Halfpipe\",\n",
       "       \"Snowboarding Women's Parallel Giant Slalom\",\n",
       "       \"Snowboarding Women's Parallel Slalom\",\n",
       "       \"Snowboarding Women's Slopestyle\", \"Softball Women's Softball\",\n",
       "       \"Speed Skating Men's 1,000 metres\",\n",
       "       \"Speed Skating Men's 1,500 metres\",\n",
       "       \"Speed Skating Men's 10,000 metres\",\n",
       "       \"Speed Skating Men's 5,000 metres\",\n",
       "       \"Speed Skating Men's 500 metres\", \"Speed Skating Men's Allround\",\n",
       "       \"Speed Skating Men's Team Pursuit (8 laps)\",\n",
       "       \"Speed Skating Women's 1,000 metres\",\n",
       "       \"Speed Skating Women's 1,500 metres\",\n",
       "       \"Speed Skating Women's 3,000 metres\",\n",
       "       \"Speed Skating Women's 5,000 metres\",\n",
       "       \"Speed Skating Women's 500 metres\",\n",
       "       \"Speed Skating Women's Team Pursuit (6 laps)\",\n",
       "       \"Swimming Men's 1,000 metres Freestyle\",\n",
       "       \"Swimming Men's 1,200 metres Freestyle\",\n",
       "       \"Swimming Men's 1,500 metres Freestyle\",\n",
       "       \"Swimming Men's 10 kilometres Open Water\",\n",
       "       \"Swimming Men's 100 Yard Backstroke\",\n",
       "       \"Swimming Men's 100 metres Backstroke\",\n",
       "       \"Swimming Men's 100 metres Breaststroke\",\n",
       "       \"Swimming Men's 100 metres Butterfly\",\n",
       "       \"Swimming Men's 100 metres Freestyle\",\n",
       "       \"Swimming Men's 100 metres Freestyle For Sailors\",\n",
       "       \"Swimming Men's 100 yard Freestyle\",\n",
       "       \"Swimming Men's 200 metres Backstroke\",\n",
       "       \"Swimming Men's 200 metres Breaststroke\",\n",
       "       \"Swimming Men's 200 metres Butterfly\",\n",
       "       \"Swimming Men's 200 metres Freestyle\",\n",
       "       \"Swimming Men's 200 metres Individual Medley\",\n",
       "       \"Swimming Men's 200 metres Obstacle Course\",\n",
       "       \"Swimming Men's 200 metres Team Swimming\",\n",
       "       \"Swimming Men's 220 yard Freestyle\",\n",
       "       \"Swimming Men's 4 x 100 metres Freestyle Relay\",\n",
       "       \"Swimming Men's 4 x 100 metres Medley Relay\",\n",
       "       \"Swimming Men's 4 x 200 metres Freestyle Relay\",\n",
       "       \"Swimming Men's 4 x 250 metres Freestyle Relay\",\n",
       "       \"Swimming Men's 4 x 50 Yard Freestyle Relay\",\n",
       "       \"Swimming Men's 4,000 metres Freestyle\",\n",
       "       \"Swimming Men's 400 metres Breaststroke\",\n",
       "       \"Swimming Men's 400 metres Freestyle\",\n",
       "       \"Swimming Men's 400 metres Individual Medley\",\n",
       "       \"Swimming Men's 440 Yard Breaststroke\",\n",
       "       \"Swimming Men's 440 yard Freestyle\",\n",
       "       \"Swimming Men's 50 metres Freestyle\",\n",
       "       \"Swimming Men's 50 yard Freestyle\",\n",
       "       \"Swimming Men's 500 metres Freestyle\",\n",
       "       \"Swimming Men's 880 yard Freestyle\",\n",
       "       \"Swimming Men's One Mile Freestyle\",\n",
       "       \"Swimming Men's Plunge For Distance\",\n",
       "       \"Swimming Men's Underwater Swimming\",\n",
       "       \"Swimming Women's 10 kilometres Open Water\",\n",
       "       \"Swimming Women's 100 metres Backstroke\",\n",
       "       \"Swimming Women's 100 metres Breaststroke\",\n",
       "       \"Swimming Women's 100 metres Butterfly\",\n",
       "       \"Swimming Women's 100 metres Freestyle\",\n",
       "       \"Swimming Women's 200 metres Backstroke\",\n",
       "       \"Swimming Women's 200 metres Breaststroke\",\n",
       "       \"Swimming Women's 200 metres Butterfly\",\n",
       "       \"Swimming Women's 200 metres Freestyle\",\n",
       "       \"Swimming Women's 200 metres Individual Medley\",\n",
       "       \"Swimming Women's 300 metres Freestyle\",\n",
       "       \"Swimming Women's 4 x 100 metres Freestyle Relay\",\n",
       "       \"Swimming Women's 4 x 100 metres Medley Relay\",\n",
       "       \"Swimming Women's 4 x 200 metres Freestyle Relay\",\n",
       "       \"Swimming Women's 400 metres Freestyle\",\n",
       "       \"Swimming Women's 400 metres Individual Medley\",\n",
       "       \"Swimming Women's 50 metres Freestyle\",\n",
       "       \"Swimming Women's 800 metres Freestyle\",\n",
       "       \"Synchronized Swimming Women's Duet\",\n",
       "       \"Synchronized Swimming Women's Solo\",\n",
       "       \"Synchronized Swimming Women's Team\", \"Table Tennis Men's Doubles\",\n",
       "       \"Table Tennis Men's Singles\", \"Table Tennis Men's Team\",\n",
       "       \"Table Tennis Women's Doubles\", \"Table Tennis Women's Singles\",\n",
       "       \"Table Tennis Women's Team\", \"Taekwondo Men's Featherweight\",\n",
       "       \"Taekwondo Men's Flyweight\", \"Taekwondo Men's Heavyweight\",\n",
       "       \"Taekwondo Men's Welterweight\", \"Taekwondo Women's Featherweight\",\n",
       "       \"Taekwondo Women's Flyweight\", \"Taekwondo Women's Heavyweight\",\n",
       "       \"Taekwondo Women's Welterweight\", \"Tennis Men's Doubles\",\n",
       "       \"Tennis Men's Doubles, Covered Courts\", \"Tennis Men's Singles\",\n",
       "       \"Tennis Men's Singles, Covered Courts\", 'Tennis Mixed Doubles',\n",
       "       'Tennis Mixed Doubles, Covered Courts', \"Tennis Women's Doubles\",\n",
       "       \"Tennis Women's Singles\", \"Tennis Women's Singles, Covered Courts\",\n",
       "       \"Trampolining Men's Individual\", \"Trampolining Women's Individual\",\n",
       "       \"Triathlon Men's Olympic Distance\",\n",
       "       \"Triathlon Women's Olympic Distance\",\n",
       "       \"Tug-Of-War Men's Tug-Of-War\", \"Volleyball Men's Volleyball\",\n",
       "       \"Volleyball Women's Volleyball\", \"Water Polo Men's Water Polo\",\n",
       "       \"Water Polo Women's Water Polo\",\n",
       "       \"Weightlifting Men's All-Around Dumbbell Contest\",\n",
       "       \"Weightlifting Men's Bantamweight\",\n",
       "       \"Weightlifting Men's Featherweight\",\n",
       "       \"Weightlifting Men's Flyweight\", \"Weightlifting Men's Heavyweight\",\n",
       "       \"Weightlifting Men's Heavyweight I\",\n",
       "       \"Weightlifting Men's Heavyweight II\",\n",
       "       \"Weightlifting Men's Light-Heavyweight\",\n",
       "       \"Weightlifting Men's Lightweight\",\n",
       "       \"Weightlifting Men's Middle-Heavyweight\",\n",
       "       \"Weightlifting Men's Middleweight\",\n",
       "       \"Weightlifting Men's Super-Heavyweight\",\n",
       "       \"Weightlifting Men's Unlimited, One Hand\",\n",
       "       \"Weightlifting Men's Unlimited, Two Hands\",\n",
       "       \"Weightlifting Women's Featherweight\",\n",
       "       \"Weightlifting Women's Flyweight\",\n",
       "       \"Weightlifting Women's Heavyweight\",\n",
       "       \"Weightlifting Women's Light-Heavyweight\",\n",
       "       \"Weightlifting Women's Lightweight\",\n",
       "       \"Weightlifting Women's Middleweight\",\n",
       "       \"Weightlifting Women's Super-Heavyweight\",\n",
       "       \"Wrestling Men's All-Around, Greco-Roman\",\n",
       "       \"Wrestling Men's Bantamweight, Freestyle\",\n",
       "       \"Wrestling Men's Bantamweight, Greco-Roman\",\n",
       "       \"Wrestling Men's Featherweight, Freestyle\",\n",
       "       \"Wrestling Men's Featherweight, Greco-Roman\",\n",
       "       \"Wrestling Men's Flyweight, Freestyle\",\n",
       "       \"Wrestling Men's Flyweight, Greco-Roman\",\n",
       "       \"Wrestling Men's Heavyweight, Freestyle\",\n",
       "       \"Wrestling Men's Heavyweight, Greco-Roman\",\n",
       "       \"Wrestling Men's Light-Flyweight, Freestyle\",\n",
       "       \"Wrestling Men's Light-Flyweight, Greco-Roman\",\n",
       "       \"Wrestling Men's Light-Heavyweight, Freestyle\",\n",
       "       \"Wrestling Men's Light-Heavyweight, Greco-Roman\",\n",
       "       \"Wrestling Men's Lightweight, Freestyle\",\n",
       "       \"Wrestling Men's Lightweight, Greco-Roman\",\n",
       "       \"Wrestling Men's Middleweight A, Greco-Roman\",\n",
       "       \"Wrestling Men's Middleweight B, Greco-Roman\",\n",
       "       \"Wrestling Men's Middleweight, Freestyle\",\n",
       "       \"Wrestling Men's Middleweight, Greco-Roman\",\n",
       "       \"Wrestling Men's Super-Heavyweight, Freestyle\",\n",
       "       \"Wrestling Men's Super-Heavyweight, Greco-Roman\",\n",
       "       \"Wrestling Men's Unlimited Class, Greco-Roman\",\n",
       "       \"Wrestling Men's Welterweight, Freestyle\",\n",
       "       \"Wrestling Men's Welterweight, Greco-Roman\",\n",
       "       \"Wrestling Women's Featherweight, Freestyle\",\n",
       "       \"Wrestling Women's Flyweight, Freestyle\",\n",
       "       \"Wrestling Women's Heavyweight, Freestyle\",\n",
       "       \"Wrestling Women's Light-Heavyweight, Freestyle\",\n",
       "       \"Wrestling Women's Lightweight, Freestyle\",\n",
       "       \"Wrestling Women's Middleweight, Freestyle\"], dtype=object)"
      ]
     },
     "execution_count": 146,
     "metadata": {},
     "output_type": "execute_result"
    }
   ],
   "source": [
    "# Посмотрим на все уникальные виды спорта\n",
    "np.unique(og[:, dict_names['Event']])"
   ]
  },
  {
   "cell_type": "code",
   "execution_count": 147,
   "metadata": {},
   "outputs": [
    {
     "data": {
      "text/plain": [
       "23.848140495867767"
      ]
     },
     "execution_count": 147,
     "metadata": {},
     "output_type": "execute_result"
    }
   ],
   "source": [
    "# Посмотрим  на средний возраст мужчин в беге на 100 метров\n",
    "og[og[:, dict_names[\"Event\"]] == \"Athletics Men's 100 metres\", \n",
    "         dict_names['Age']\n",
    "  ].mean()"
   ]
  },
  {
   "cell_type": "code",
   "execution_count": 148,
   "metadata": {
    "scrolled": true
   },
   "outputs": [
    {
     "name": "stdout",
     "output_type": "stream",
     "text": [
      "1896    380 строк\n",
      "1900    1936 строк\n",
      "1904    1301 строк\n",
      "1906    1733 строк\n",
      "1908    3101 строк\n",
      "1912    4040 строк\n",
      "1920    4292 строк\n",
      "1924    5693 строк\n",
      "1928    5574 строк\n",
      "1932    3321 строк\n",
      "1936    7401 строк\n",
      "1948    7480 строк\n",
      "1952    9358 строк\n",
      "1956    6434 строк\n",
      "1960    9235 строк\n",
      "1964    9480 строк\n",
      "1968    10479 строк\n",
      "1972    11959 строк\n",
      "1976    10502 строк\n",
      "1980    8937 строк\n",
      "1984    11588 строк\n",
      "1988    14676 строк\n",
      "1992    16413 строк\n",
      "1994    3160 строк\n",
      "1996    13780 строк\n",
      "1998    3605 строк\n",
      "2000    13821 строк\n",
      "2002    4109 строк\n",
      "2004    13443 строк\n",
      "2006    4382 строк\n",
      "2008    13602 строк\n",
      "2010    4402 строк\n",
      "2012    12920 строк\n",
      "2014    4891 строк\n",
      "2016    13688 строк\n"
     ]
    }
   ],
   "source": [
    "# Посмотрим на уникальные годы проведения олимпиады\n",
    "for year in np.unique(og[:, dict_names[\"Year\"]]):\n",
    "    print(year, \" \", f\" {og[og[:, dict_names['Year']] == year].shape[0]} строк\")"
   ]
  },
  {
   "cell_type": "markdown",
   "metadata": {},
   "source": [
    "Как видим, объем данных для каждой олимпиады несколько различается. Поэтому будем анализировать олимпиады, начиная с 1912 года (более 4000 строк данных и более для каждой).\n",
    "У каждого персонально будет свой год, для которого он будет выполнять  задания 4-10\n",
    "Данный год будет выбираться рандомно в конце лекции. (Если в данный год было две олимпиады, то выбираем летнюю)"
   ]
  },
  {
   "cell_type": "code",
   "execution_count": 149,
   "metadata": {},
   "outputs": [
    {
     "data": {
      "text/plain": [
       "[('Гарбузов Иван Константинович', 1960),\n",
       " ('Филиппов Антон Павлович', 1964),\n",
       " ('Сидорякин Виталий Дмитриевич', 1980),\n",
       " ('Егорова Анна Сергеевна ', 1912),\n",
       " ('Каширин Егор Михайлович', 1998),\n",
       " ('Красиков Евгений Владимирович', 2006),\n",
       " ('Калёнов Алексей Аркадьевич', 1956),\n",
       " ('Монгуш Тенгиз Анатольевич', 1952),\n",
       " ('Пустоваров Артем Андреевич', 2012),\n",
       " ('Валл Федор Викторович', 2002),\n",
       " ('Суван-оол Орлан Владимирович', 1996),\n",
       " ('Хомушку Ганна Алексеевна', 1932),\n",
       " ('Хамитов Давид Альбертович', 2004),\n",
       " ('Базуева Мария Дмитриевна', 1992),\n",
       " ('Царева Мария Сергеевна', 1948),\n",
       " ('Селезнев Дмитрий Владимирович', 1984),\n",
       " ('Мурадян Акоп Араратович', 1928),\n",
       " ('Панчук Александр Сергеевич', 1936),\n",
       " ('Пашинина Татьяна Викторовна', 1976),\n",
       " ('Евменов Максим Андреевич', 2008),\n",
       " ('Едовина Алина Игоревна', 1994),\n",
       " ('Бориско Данила Ильич ', 1972),\n",
       " ('Кузьмин Никита Кириллович', 1924),\n",
       " ('Фрольцов Григорий Максимович', 2016),\n",
       " ('Косинов Андрей Вячеславович', 2010),\n",
       " ('Загарнюк Елизавета Максимовна', 2014),\n",
       " ('Наумова Анастасия Юрьевна', 2000),\n",
       " ('Карасева Алина Александровна', 1920),\n",
       " ('Братков Герман Сергеевич', 1988),\n",
       " ('Захаров Алексей Сергееивч', 1968)]"
      ]
     },
     "execution_count": 149,
     "metadata": {},
     "output_type": "execute_result"
    }
   ],
   "source": [
    "all_years = np.unique(og[:, dict_names['Year']])[5:]\n",
    "np.random.shuffle(all_years)\n",
    "import os\n",
    "os.chdir(\"/Users/iakubovskii/Machine_Learning/RANEPA/\")\n",
    "finteh_list = pd.read_excel(\"ФинТех-05-20.xlsx\").rename(columns = {\"Unnamed: 0\":\"index\"})\n",
    "finteh_list_names = np.array(finteh_list['ФИО'])\n",
    "np.random.shuffle(finteh_list_names)\n",
    "students_years_list = list(zip(finteh_list_names, all_years))\n",
    "students_years_list"
   ]
  },
  {
   "cell_type": "code",
   "execution_count": 40,
   "metadata": {},
   "outputs": [],
   "source": [
    "# Ваш датафрейм:\n",
    "year = 2016\n",
    "df = og[og[:, dict_names[\"Year\"]] == year]"
   ]
  },
  {
   "cell_type": "markdown",
   "metadata": {},
   "source": [
    "**Задание 4**. Описательные статистики (10 баллов)\n",
    "- Вычислите средние, дисперсии и стандартные отклонения (несмещенные) для всех количественных признаков\n",
    "- Вычислите коэффициент корреляции между ростом и весом спортсменов\n",
    "- Найдите самого высокого и самого худого спортсменов олимпиады (имя и фамилия, вид спорта)\n",
    "- Выведите 5%, 10%, 25%, 50%, 75% и 95% квантили распределения веса спортсменов отдельно для мужчин и отдельно для женщин. Проинтерпретируйте.\n",
    "- Выведите наиболее и наименее популярные в выборке виды спорта (больше и меньше всего участников)"
   ]
  },
  {
   "cell_type": "code",
   "execution_count": 85,
   "metadata": {},
   "outputs": [
    {
     "data": {
      "text/plain": [
       "Index(['ID', 'Name', 'Sex', 'Age', 'Height', 'Weight', 'Team', 'NOC', 'Games',\n",
       "       'Year', 'Season', 'City', 'Sport', 'Event'],\n",
       "      dtype='object')"
      ]
     },
     "execution_count": 85,
     "metadata": {},
     "output_type": "execute_result"
    }
   ],
   "source": [
    "data.columns"
   ]
  },
  {
   "cell_type": "code",
   "execution_count": 165,
   "metadata": {},
   "outputs": [
    {
     "data": {
      "text/plain": [
       "{'ID': 0,\n",
       " 'Name': 1,\n",
       " 'Sex': 2,\n",
       " 'Age': 3,\n",
       " 'Height': 4,\n",
       " 'Weight': 5,\n",
       " 'Team': 6,\n",
       " 'NOC': 7,\n",
       " 'Games': 8,\n",
       " 'Year': 9,\n",
       " 'Season': 10,\n",
       " 'City': 11,\n",
       " 'Sport': 12,\n",
       " 'Event': 13}"
      ]
     },
     "execution_count": 165,
     "metadata": {},
     "output_type": "execute_result"
    }
   ],
   "source": [
    "dict_names"
   ]
  },
  {
   "cell_type": "code",
   "execution_count": 42,
   "metadata": {},
   "outputs": [],
   "source": [
    "# Создадим словарик, где ключ - это индекс, а значение - название столбца\n",
    "dict_names_reverse = {v:k for k,v in  dict_names.items()}"
   ]
  },
  {
   "cell_type": "code",
   "execution_count": 43,
   "metadata": {
    "scrolled": true
   },
   "outputs": [
    {
     "name": "stdout",
     "output_type": "stream",
     "text": [
      "Выборочное среднее для переменной Age = 26.20791934541204\n",
      "Выборочная дисперсия генеральной совокупности (несмещенная) для переменной Age = 30.91767820143403\n",
      "Выборочное стандартное отклонение генеральной совокупности (несмещенное) для переменной Age отклонение = 5.560366732638597\n",
      "----------------------------------------------------------------------------------------------------\n",
      "Выборочное среднее для переменной Height = 176.020967270602\n",
      "Выборочная дисперсия генеральной совокупности (несмещенная) для переменной Height = 129.21012511093423\n",
      "Выборочное стандартное отклонение генеральной совокупности (несмещенное) для переменной Height отклонение = 11.367063170007205\n",
      "----------------------------------------------------------------------------------------------------\n",
      "Выборочное среднее для переменной Weight = 70.97253068381063\n",
      "Выборочная дисперсия генеральной совокупности (несмещенная) для переменной Weight = 242.95577347389153\n",
      "Выборочное стандартное отклонение генеральной совокупности (несмещенное) для переменной Weight отклонение = 15.587038637082141\n",
      "----------------------------------------------------------------------------------------------------\n"
     ]
    }
   ],
   "source": [
    "def desc_stats(number):\n",
    "    x = df[:, number]\n",
    "    print(f\"Выборочное среднее для переменной {dict_names_reverse[number]} = {x.mean()}\")\n",
    "    print(f\"Выборочная дисперсия генеральной совокупности (несмещенная) для переменной {dict_names_reverse[number]} = {x.var(ddof = 1)}\")\n",
    "    print(f\"Выборочное стандартное отклонение генеральной совокупности (несмещенное) для переменной {dict_names_reverse[number]} отклонение = {x.std(ddof = 1)}\")\n",
    "    return\n",
    "desc_stats(3)\n",
    "print(\"-\"*100)\n",
    "desc_stats(4)\n",
    "print(\"-\"*100)\n",
    "desc_stats(5)\n",
    "print(\"-\"*100)"
   ]
  },
  {
   "cell_type": "code",
   "execution_count": 44,
   "metadata": {},
   "outputs": [
    {
     "data": {
      "text/plain": [
       "array([[170.0],\n",
       "       [167.0],\n",
       "       [167.0],\n",
       "       ...,\n",
       "       [174.0],\n",
       "       [174.0],\n",
       "       [171.0]], dtype=object)"
      ]
     },
     "execution_count": 44,
     "metadata": {},
     "output_type": "execute_result"
    }
   ],
   "source": [
    "df[:, 4].reshape(-1, 1)"
   ]
  },
  {
   "cell_type": "code",
   "execution_count": 45,
   "metadata": {},
   "outputs": [
    {
     "name": "stdout",
     "output_type": "stream",
     "text": [
      "<class 'pandas.core.frame.DataFrame'>\n",
      "RangeIndex: 271116 entries, 0 to 271115\n",
      "Data columns (total 14 columns):\n",
      " #   Column  Non-Null Count   Dtype  \n",
      "---  ------  --------------   -----  \n",
      " 0   ID      271116 non-null  int64  \n",
      " 1   Name    271116 non-null  object \n",
      " 2   Sex     271116 non-null  object \n",
      " 3   Age     271116 non-null  float64\n",
      " 4   Height  271116 non-null  float64\n",
      " 5   Weight  271116 non-null  float64\n",
      " 6   Team    271116 non-null  object \n",
      " 7   NOC     271116 non-null  object \n",
      " 8   Games   271116 non-null  object \n",
      " 9   Year    271116 non-null  int64  \n",
      " 10  Season  271116 non-null  object \n",
      " 11  City    271116 non-null  object \n",
      " 12  Sport   271116 non-null  object \n",
      " 13  Event   271116 non-null  object \n",
      "dtypes: float64(3), int64(2), object(9)\n",
      "memory usage: 29.0+ MB\n"
     ]
    }
   ],
   "source": [
    "data.info()"
   ]
  },
  {
   "cell_type": "code",
   "execution_count": 46,
   "metadata": {},
   "outputs": [
    {
     "data": {
      "text/plain": [
       "0.7782067382369341"
      ]
     },
     "execution_count": 46,
     "metadata": {},
     "output_type": "execute_result"
    }
   ],
   "source": [
    "# Корреляция между ростом и весом\n",
    "np.corrcoef(df[:, 4].astype(float), \n",
    "            df[:, 5].astype(float))[0,1]"
   ]
  },
  {
   "cell_type": "code",
   "execution_count": 47,
   "metadata": {},
   "outputs": [
    {
     "name": "stdout",
     "output_type": "stream",
     "text": [
      "Lia Henrique da Silva Nicolosi\n",
      "Li Muhao\n"
     ]
    }
   ],
   "source": [
    "# Самый худой \n",
    "print(df[np.argmin(df[:, 5]), dict_names['Name']])\n",
    "\n",
    "# Самый высокий\n",
    "print(df[np.argmax(df[:, 4]), dict_names['Name']])"
   ]
  },
  {
   "cell_type": "code",
   "execution_count": 48,
   "metadata": {},
   "outputs": [
    {
     "name": "stdout",
     "output_type": "stream",
     "text": [
      "[57.0 60.0 68.0 77.0 87.0 104.0]\n",
      "[47.0 50.0 55.0 61.0 68.0 80.0]\n"
     ]
    }
   ],
   "source": [
    "# Квантили распределение веса для мужчин и для женщин\n",
    "men_weight = df[df[:, dict_names[\"Sex\"]] == \"M\", 5]\n",
    "women_weight = df[df[:, dict_names[\"Sex\"]] == \"F\", 5]\n",
    "print(np.percentile(men_weight, [5,10,25,50,75,95]))\n",
    "print(np.percentile(women_weight, [5,10,25,50,75,95]))\n"
   ]
  },
  {
   "cell_type": "code",
   "execution_count": 49,
   "metadata": {},
   "outputs": [
    {
     "name": "stdout",
     "output_type": "stream",
     "text": [
      "[\"Boxing Women's Flyweight\", \"Boxing Women's Lightweight\", \"Boxing Women's Middleweight\", \"Weightlifting Women's Flyweight\"]\n",
      "[\"Football Men's Football\"]\n"
     ]
    }
   ],
   "source": [
    "unique, counts = np.unique(df[:, 13], return_counts=True)\n",
    "freq_dict = dict(zip(unique, counts))\n",
    "minval, maxval = min(freq_dict.values()), max(freq_dict.values())\n",
    "the_least_pop = [k for k, v in freq_dict.items() if v==minval]\n",
    "the_most_pop = [k for k, v in freq_dict.items() if v==maxval]\n",
    "# Наименее популярные виды спорта\n",
    "print(the_least_pop) \n",
    "# Наиболее популярные виды спорта\n",
    "print(the_most_pop)"
   ]
  },
  {
   "cell_type": "markdown",
   "metadata": {},
   "source": [
    "**Задание 5**. Проверка гипотез (8 баллов). Ответьте на следующие вопросы, используя процедуру проверки гипотез (уровень значимости 5%):\n",
    "\n",
    "- Одинаковый ли средний возраст спортсменов среди мужчин и женщин?\n",
    "- Проверьте на нормальность распределение веса отдельно для мужчин и для женщин.\n",
    "- Различается ли средний рост спортсменов СССР (России) и США?\n",
    "- Статистически значима ли корреляция между ростом и весом в самом популярном виде спорта отдельно для мужчин и для женщин?\n",
    "\n",
    "Проверка гипотез проводится на основании шагов, описанных в лекции.\n",
    "\n",
    "Будет здорово, если вы еще сопроводите ответ графиками."
   ]
  },
  {
   "cell_type": "code",
   "execution_count": 51,
   "metadata": {},
   "outputs": [],
   "source": [
    "def shapiro_test(x, alpha):\n",
    "    ''' Функция выдает результат теста Шапиро-Уилка на нормальность '''\n",
    "    stat_shapiro, p_shapiro = shapiro(x)\n",
    "    print('stat_shapiro=%.3f, p_shapiro=%.3f' % (stat_shapiro, p_shapiro))\n",
    "    if p_shapiro > alpha:\n",
    "        print('Согласно тесту Шапиро-Уилка на 5% уровне значимости делаем вывод \\\n",
    "    в пользу не отвержения нулевой гипотезы - распределение нормальное')\n",
    "    else:\n",
    "        print('Согласно тесту Шапиро-Уилка на 5% уровне значимости делаем вывод \\\n",
    "    в пользу отвержения нулевой гипотезы \\ - распределение НЕ нормальное')\n",
    "    print(\"\\n\")\n",
    "    return "
   ]
  },
  {
   "cell_type": "code",
   "execution_count": 52,
   "metadata": {},
   "outputs": [
    {
     "name": "stdout",
     "output_type": "stream",
     "text": [
      "stat_shapiro=0.923, p_shapiro=0.000\n",
      "Согласно тесту Шапиро-Уилка на 5% уровне значимости делаем вывод     в пользу отвержения нулевой гипотезы \\ - распределение НЕ нормальное\n",
      "\n",
      "\n",
      "stat_shapiro=0.951, p_shapiro=0.000\n",
      "Согласно тесту Шапиро-Уилка на 5% уровне значимости делаем вывод     в пользу отвержения нулевой гипотезы \\ - распределение НЕ нормальное\n",
      "\n",
      "\n"
     ]
    }
   ],
   "source": [
    "male_age = df[df[:, dict_names[\"Sex\"]] == \"M\", 3]\n",
    "female_age = df[df[:, dict_names[\"Sex\"]] == \"F\", 3]\n",
    "# Проверим на нормальность оба ряда\n",
    "# Тест Шапиро-Уилка\n",
    "from scipy.stats import shapiro\n",
    "# Уровень значимости - 5%\n",
    "alpha = 0.05\n",
    "\n",
    "shapiro_test(male_age, alpha)\n",
    "\n",
    "\n",
    "shapiro_test(female_age, alpha)\n",
    "\n"
   ]
  },
  {
   "cell_type": "code",
   "execution_count": 53,
   "metadata": {},
   "outputs": [
    {
     "name": "stdout",
     "output_type": "stream",
     "text": [
      "stat=20544661.000, p=0.000\n",
      "Распределения различны\n"
     ]
    }
   ],
   "source": [
    "# Применяем тест Манна-Уитни потому что распределения не нормальные \n",
    "#и мы не можем применять параметрические тесты. \n",
    "\n",
    "from scipy.stats import mannwhitneyu\n",
    "stat_mu, p_mu = mannwhitneyu(male_age, female_age)\n",
    "print('stat=%.3f, p=%.3f' % (stat_mu, p_mu))\n",
    "if alpha > 0.05:\n",
    "    print('Распределения одинаковы')\n",
    "else:\n",
    "    print('Распределения различны')\n",
    "# Вывод: различные распределения\n",
    "\n"
   ]
  },
  {
   "cell_type": "code",
   "execution_count": 54,
   "metadata": {},
   "outputs": [
    {
     "name": "stdout",
     "output_type": "stream",
     "text": [
      "stat_shapiro=0.951, p_shapiro=0.000\n",
      "Согласно тесту Шапиро-Уилка на 5% уровне значимости делаем вывод     в пользу отвержения нулевой гипотезы \\ - распределение НЕ нормальное\n",
      "\n",
      "\n",
      "stat_shapiro=0.947, p_shapiro=0.000\n",
      "Согласно тесту Шапиро-Уилка на 5% уровне значимости делаем вывод     в пользу отвержения нулевой гипотезы \\ - распределение НЕ нормальное\n",
      "\n",
      "\n"
     ]
    }
   ],
   "source": [
    "# Нормальность веса\n",
    "male_weight = df[df[:, dict_names[\"Sex\"]] == \"M\", 5]\n",
    "female_weight = df[df[:, dict_names[\"Sex\"]] == \"F\", 5]\n",
    "\n",
    "shapiro_test(male_weight, alpha)\n",
    "shapiro_test(female_weight, alpha)"
   ]
  },
  {
   "cell_type": "code",
   "execution_count": 55,
   "metadata": {},
   "outputs": [
    {
     "name": "stdout",
     "output_type": "stream",
     "text": [
      "stat_shapiro=0.994, p_shapiro=0.123\n",
      "Согласно тесту Шапиро-Уилка на 5% уровне значимости делаем вывод     в пользу не отвержения нулевой гипотезы - распределение нормальное\n",
      "\n",
      "\n",
      "stat_shapiro=0.992, p_shapiro=0.001\n",
      "Согласно тесту Шапиро-Уилка на 5% уровне значимости делаем вывод     в пользу отвержения нулевой гипотезы \\ - распределение НЕ нормальное\n",
      "\n",
      "\n"
     ]
    }
   ],
   "source": [
    "# Различия в росте среди спортсменов США и России\n",
    "height_russia = df[df[:, dict_names[\"Team\"]] == \"Russia\", dict_names[\"Height\"]]\n",
    "height_usa = df[df[:, dict_names[\"Team\"]] == \"United States\", dict_names[\"Height\"]]\n",
    "\n",
    "shapiro_test(height_russia, alpha)\n",
    "shapiro_test(height_usa, alpha)"
   ]
  },
  {
   "cell_type": "code",
   "execution_count": 56,
   "metadata": {},
   "outputs": [
    {
     "name": "stdout",
     "output_type": "stream",
     "text": [
      "stat=128597.000, p=0.019\n",
      "Распределения различны\n"
     ]
    }
   ],
   "source": [
    "# Применяем тест Манна-Уитни потому что распределения не нормальные \n",
    "#и мы не можем применять параметрические тесты. \n",
    "\n",
    "from scipy.stats import mannwhitneyu\n",
    "stat_mu, p_mu = mannwhitneyu(height_russia, height_usa)\n",
    "print('stat=%.3f, p=%.3f' % (stat_mu, p_mu))\n",
    "if alpha > 0.05:\n",
    "    print('Распределения одинаковы')\n",
    "else:\n",
    "    print('Распределения различны')\n",
    "# Вывод: различные распределения"
   ]
  },
  {
   "cell_type": "code",
   "execution_count": 57,
   "metadata": {},
   "outputs": [],
   "source": [
    "# Нет женщин в мужском футболе, поэтому смотрим значимость корреляции без разбивки на пол\n",
    "popular_height = df[df[:, dict_names[\"Event\"]] == the_most_pop, dict_names[\"Height\"]]\n",
    "popular_weight = df[df[:, dict_names[\"Event\"]] == the_most_pop, dict_names[\"Weight\"]]"
   ]
  },
  {
   "cell_type": "code",
   "execution_count": 58,
   "metadata": {},
   "outputs": [
    {
     "name": "stdout",
     "output_type": "stream",
     "text": [
      "Корреляция Пирсона между ростом и весом статистически значима на 0.0005 уровне значимости\n"
     ]
    },
    {
     "data": {
      "text/plain": [
       "0.7036881470231952"
      ]
     },
     "execution_count": 58,
     "metadata": {},
     "output_type": "execute_result"
    }
   ],
   "source": [
    "from scipy.stats import pearsonr\n",
    "stat, p,  = pearsonr(popular_height, popular_weight)\n",
    "if p > alpha:\n",
    "    print(f\"Корреляция Пирсона между ростом и весом статистически НЕ значима на {alpha/100} уровне значимости\")\n",
    "else:\n",
    "    print(f\"Корреляция Пирсона между ростом и весом статистически значима на {alpha/100} уровне значимости\")\n",
    "stat"
   ]
  },
  {
   "cell_type": "markdown",
   "metadata": {},
   "source": [
    "**Задание 6**. Парная и множественная регрессия (12 баллов). Не пользуясь готовыми статистическими пакетами:\n",
    "- Вычислите оценки МНК в регрессии с константой, где зависимая переменная - **Age**, а объясняющая ***Weight***.\n",
    "- Вычислите величину смещения коэффициента при переменной ***Weight***, которое получилось из-за невключения переменной *Height*.\n",
    "- Вычислите оценки МНК в регрессии (с константой) с добавленной переменной *Height*.\n",
    "- Проинтерпретируйте полученные результаты в множественной регрессии."
   ]
  },
  {
   "cell_type": "code",
   "execution_count": 260,
   "metadata": {},
   "outputs": [
    {
     "data": {
      "text/plain": [
       "(13688,)"
      ]
     },
     "execution_count": 260,
     "metadata": {},
     "output_type": "execute_result"
    }
   ],
   "source": [
    "df[:, dict_names[\"Weight\"]].shape"
   ]
  },
  {
   "cell_type": "code",
   "execution_count": 59,
   "metadata": {},
   "outputs": [
    {
     "name": "stdout",
     "output_type": "stream",
     "text": [
      "[[22.63693831]\n",
      " [ 0.05031497]]\n"
     ]
    }
   ],
   "source": [
    "X = df[:, dict_names[\"Weight\"]].reshape(-1,1).astype(float)\n",
    "# Добавим вектор единиц (модели с константой)\n",
    "X_reg = np.hstack([np.ones([X.shape[0], 1]), X])\n",
    "y = df[:, dict_names['Age']].reshape(-1,1).astype(float)\n",
    "coefs_weight = np.linalg.inv(X_reg.T @ X_reg) @ X_reg.T @ y \n",
    "print(coefs_weight)"
   ]
  },
  {
   "cell_type": "code",
   "execution_count": 62,
   "metadata": {},
   "outputs": [
    {
     "name": "stdout",
     "output_type": "stream",
     "text": [
      "[[ 2.29054e+01]\n",
      " [ 5.14000e-02]\n",
      " [-2.00000e-03]]\n",
      "Согласно формуле коэффициент изменился на [-0.00211053], [-0.00211053]\n"
     ]
    }
   ],
   "source": [
    "# Добавим переменную Height\n",
    "\n",
    "X = df[:, [dict_names[\"Weight\"], dict_names[\"Height\"]]].astype(float)\n",
    "# Добавим вектор единиц (модели с константой)\n",
    "X_reg = np.hstack([np.ones([X.shape[0], 1]), X])\n",
    "y = df[:, dict_names['Age']].reshape(-1,1).astype(float)\n",
    "coefs_weight_height = np.linalg.inv(X_reg.T @ X_reg) @ X_reg.T @ y \n",
    "print(coefs_weight_height.round(4))\n",
    "\n",
    "# Смещение по формуле\n",
    "diff_coef_formula = coefs_weight_height[2] * np.cov(X_reg[:, 1], X_reg[:, 2], \n",
    "                                           ddof = 1)[0,1] / np.var(X[:, 1], ddof = 1)\n",
    "# Смещение как разность коэффициентов\n",
    "diff_coef_model = coefs_weight_height[1] - coefs_weight[1]\n",
    "print(f\"Согласно формуле коэффициент изменился на {diff_coef}, {diff_coef_formula}\")"
   ]
  },
  {
   "cell_type": "code",
   "execution_count": 63,
   "metadata": {},
   "outputs": [
    {
     "name": "stdout",
     "output_type": "stream",
     "text": [
      "[-0.00197779]\n",
      "[0.05143741]\n"
     ]
    }
   ],
   "source": [
    "# Интерпретация\n",
    "print(coefs_weight_height[2])\n",
    "# Увеличение роста на 1 см ведет к снижению возраста на -0.00197779 год\n",
    "print(coefs_weight_height[1])\n",
    "# Увеличение веса на 1 кг ведет к росту возраста на 0.05 лет\n",
    "\n"
   ]
  },
  {
   "cell_type": "markdown",
   "metadata": {},
   "source": [
    "**Задание 7**. Проверка гипотез в множественной регрессии (10 баллов). Не пользуясь готовыми статистическими пакетами:\n",
    "\n",
    "- Создайте дамми-переменную ***Male***, которая равна 1, если спортсмен - мужчина и 0, если женщина.\n",
    "- Оцените множественную регрессию (с константой), где объясняемая переменная ***Age***, объясняющие - ***Weight***, \n",
    "***Height***, ***Male***.\n",
    "- Вычислите стандартные ошибки коэффициентов регрессии, t-статистики и p-value\n",
    "- Сделайте вывод о значимости коэффициентов регрессии на 5% уровне значимости\n",
    "- Проверьте гипотезу об одновременной значимости коэффициентов при переменных ***Weight*** и ***Male*** на 5% уровне значимости и сделайте вывод"
   ]
  },
  {
   "cell_type": "code",
   "execution_count": null,
   "metadata": {},
   "outputs": [],
   "source": [
    "X_reg"
   ]
  },
  {
   "cell_type": "code",
   "execution_count": 64,
   "metadata": {},
   "outputs": [
    {
     "name": "stdout",
     "output_type": "stream",
     "text": [
      "[[ 2.41057752e+01]\n",
      " [-8.46210415e-03]\n",
      " [ 4.67598007e-02]\n",
      " [ 5.00561872e-01]]\n"
     ]
    }
   ],
   "source": [
    "# Создаем дамми-переменную Male\n",
    "Male = np.where(df[:,2]==\"M\",1,0).astype(float)\n",
    "\n",
    "age = df[:, 3].reshape(-1,1).astype(float)\n",
    "# Добавим MALE к объясняющим переменным\n",
    "X_reg = np.hstack([df[:, [dict_names['Height'],dict_names['Weight']]], Male.reshape(-1,1)]).astype(float)\n",
    "# Добавим вектор единиц (модели с константой)\n",
    "X_reg = np.hstack([np.ones([X.shape[0], 1]), X_reg])\n",
    "\n",
    "# Оценим множественную регрессию\n",
    "coefs_weight_height_male = np.linalg.inv(X_reg.T @ X_reg) @ X_reg.T @ age \n",
    "print(coefs_weight_height_male)"
   ]
  },
  {
   "cell_type": "code",
   "execution_count": 65,
   "metadata": {},
   "outputs": [
    {
     "name": "stdout",
     "output_type": "stream",
     "text": [
      "[0.96004744 0.0067494  0.00491958 0.11349165]\n",
      "[25.10894163 -1.25375566  9.50483112  4.41056108]\n",
      "[0.0, 0.20995224990709938, 0.0, 1.0389015184575356e-05]\n"
     ]
    }
   ],
   "source": [
    "# Значения, лежащие на подобранной прямой \n",
    "age_fitted = X_reg @ coefs_weight_height_male\n",
    "RSS = np.sum((age - age_fitted)**2)\n",
    "# Стандартные ошибки\n",
    "std_errors = np.sqrt(RSS / (X_reg.shape[0] - X_reg.shape[1]) * np.linalg.inv(X_reg.T @ X_reg))\n",
    "std_errors = np.diag(std_errors)\n",
    "print(std_errors)\n",
    "# t-stats\n",
    "t_stats = coefs_weight_height_male.flatten() / std_errors.flatten()\n",
    "print(t_stats)\n",
    "# p-values\n",
    "import scipy.stats as sts\n",
    "p_values = list(map(lambda x: (1 - sts.t.cdf(abs(x), df = X_reg.shape[0] - X_reg.shape[1])) * 2, \n",
    "                    t_stats))\n",
    "print(p_values)"
   ]
  },
  {
   "cell_type": "code",
   "execution_count": 66,
   "metadata": {
    "scrolled": true
   },
   "outputs": [
    {
     "data": {
      "text/html": [
       "<table class=\"simpletable\">\n",
       "<caption>OLS Regression Results</caption>\n",
       "<tr>\n",
       "  <th>Dep. Variable:</th>            <td>y</td>        <th>  R-squared:         </th> <td>   0.021</td> \n",
       "</tr>\n",
       "<tr>\n",
       "  <th>Model:</th>                   <td>OLS</td>       <th>  Adj. R-squared:    </th> <td>   0.021</td> \n",
       "</tr>\n",
       "<tr>\n",
       "  <th>Method:</th>             <td>Least Squares</td>  <th>  F-statistic:       </th> <td>   99.23</td> \n",
       "</tr>\n",
       "<tr>\n",
       "  <th>Date:</th>             <td>Thu, 03 Dec 2020</td> <th>  Prob (F-statistic):</th> <td>1.53e-63</td> \n",
       "</tr>\n",
       "<tr>\n",
       "  <th>Time:</th>                 <td>09:44:38</td>     <th>  Log-Likelihood:    </th> <td> -42759.</td> \n",
       "</tr>\n",
       "<tr>\n",
       "  <th>No. Observations:</th>      <td> 13688</td>      <th>  AIC:               </th> <td>8.553e+04</td>\n",
       "</tr>\n",
       "<tr>\n",
       "  <th>Df Residuals:</th>          <td> 13684</td>      <th>  BIC:               </th> <td>8.556e+04</td>\n",
       "</tr>\n",
       "<tr>\n",
       "  <th>Df Model:</th>              <td>     3</td>      <th>                     </th>     <td> </td>    \n",
       "</tr>\n",
       "<tr>\n",
       "  <th>Covariance Type:</th>      <td>nonrobust</td>    <th>                     </th>     <td> </td>    \n",
       "</tr>\n",
       "</table>\n",
       "<table class=\"simpletable\">\n",
       "<tr>\n",
       "    <td></td>       <th>coef</th>     <th>std err</th>      <th>t</th>      <th>P>|t|</th>  <th>[0.025</th>    <th>0.975]</th>  \n",
       "</tr>\n",
       "<tr>\n",
       "  <th>const</th> <td>   24.1058</td> <td>    0.960</td> <td>   25.109</td> <td> 0.000</td> <td>   22.224</td> <td>   25.988</td>\n",
       "</tr>\n",
       "<tr>\n",
       "  <th>x1</th>    <td>   -0.0085</td> <td>    0.007</td> <td>   -1.254</td> <td> 0.210</td> <td>   -0.022</td> <td>    0.005</td>\n",
       "</tr>\n",
       "<tr>\n",
       "  <th>x2</th>    <td>    0.0468</td> <td>    0.005</td> <td>    9.505</td> <td> 0.000</td> <td>    0.037</td> <td>    0.056</td>\n",
       "</tr>\n",
       "<tr>\n",
       "  <th>x3</th>    <td>    0.5006</td> <td>    0.113</td> <td>    4.411</td> <td> 0.000</td> <td>    0.278</td> <td>    0.723</td>\n",
       "</tr>\n",
       "</table>\n",
       "<table class=\"simpletable\">\n",
       "<tr>\n",
       "  <th>Omnibus:</th>       <td>3251.299</td> <th>  Durbin-Watson:     </th> <td>   1.469</td>\n",
       "</tr>\n",
       "<tr>\n",
       "  <th>Prob(Omnibus):</th>  <td> 0.000</td>  <th>  Jarque-Bera (JB):  </th> <td>9690.454</td>\n",
       "</tr>\n",
       "<tr>\n",
       "  <th>Skew:</th>           <td> 1.231</td>  <th>  Prob(JB):          </th> <td>    0.00</td>\n",
       "</tr>\n",
       "<tr>\n",
       "  <th>Kurtosis:</th>       <td> 6.306</td>  <th>  Cond. No.          </th> <td>3.89e+03</td>\n",
       "</tr>\n",
       "</table><br/><br/>Warnings:<br/>[1] Standard Errors assume that the covariance matrix of the errors is correctly specified.<br/>[2] The condition number is large, 3.89e+03. This might indicate that there are<br/>strong multicollinearity or other numerical problems."
      ],
      "text/plain": [
       "<class 'statsmodels.iolib.summary.Summary'>\n",
       "\"\"\"\n",
       "                            OLS Regression Results                            \n",
       "==============================================================================\n",
       "Dep. Variable:                      y   R-squared:                       0.021\n",
       "Model:                            OLS   Adj. R-squared:                  0.021\n",
       "Method:                 Least Squares   F-statistic:                     99.23\n",
       "Date:                Thu, 03 Dec 2020   Prob (F-statistic):           1.53e-63\n",
       "Time:                        09:44:38   Log-Likelihood:                -42759.\n",
       "No. Observations:               13688   AIC:                         8.553e+04\n",
       "Df Residuals:                   13684   BIC:                         8.556e+04\n",
       "Df Model:                           3                                         \n",
       "Covariance Type:            nonrobust                                         \n",
       "==============================================================================\n",
       "                 coef    std err          t      P>|t|      [0.025      0.975]\n",
       "------------------------------------------------------------------------------\n",
       "const         24.1058      0.960     25.109      0.000      22.224      25.988\n",
       "x1            -0.0085      0.007     -1.254      0.210      -0.022       0.005\n",
       "x2             0.0468      0.005      9.505      0.000       0.037       0.056\n",
       "x3             0.5006      0.113      4.411      0.000       0.278       0.723\n",
       "==============================================================================\n",
       "Omnibus:                     3251.299   Durbin-Watson:                   1.469\n",
       "Prob(Omnibus):                  0.000   Jarque-Bera (JB):             9690.454\n",
       "Skew:                           1.231   Prob(JB):                         0.00\n",
       "Kurtosis:                       6.306   Cond. No.                     3.89e+03\n",
       "==============================================================================\n",
       "\n",
       "Warnings:\n",
       "[1] Standard Errors assume that the covariance matrix of the errors is correctly specified.\n",
       "[2] The condition number is large, 3.89e+03. This might indicate that there are\n",
       "strong multicollinearity or other numerical problems.\n",
       "\"\"\""
      ]
     },
     "execution_count": 66,
     "metadata": {},
     "output_type": "execute_result"
    }
   ],
   "source": [
    "# Проверим через готовый пакет\n",
    "import statsmodels.api as sm\n",
    "sm.OLS(endog = age, exog = X_reg).fit().summary()"
   ]
  },
  {
   "cell_type": "code",
   "execution_count": 67,
   "metadata": {},
   "outputs": [
    {
     "data": {
      "text/plain": [
       "array([[  1., 170.],\n",
       "       [  1., 167.],\n",
       "       [  1., 167.],\n",
       "       ...,\n",
       "       [  1., 174.],\n",
       "       [  1., 174.],\n",
       "       [  1., 171.]])"
      ]
     },
     "execution_count": 67,
     "metadata": {},
     "output_type": "execute_result"
    }
   ],
   "source": [
    "X_reg[:, [0,1]]"
   ]
  },
  {
   "cell_type": "code",
   "execution_count": 68,
   "metadata": {},
   "outputs": [
    {
     "name": "stdout",
     "output_type": "stream",
     "text": [
      "Данные переменные совместно значимы на 5% уровне значимости\n"
     ]
    }
   ],
   "source": [
    "# Проверка на совместную значимость\n",
    "RSS_long = RSS.copy()\n",
    "# Оцениваем короткую регрессию\n",
    "X_reg_short = X_reg[:, [0,1]]\n",
    "coefs_height = np.linalg.inv(X_reg_short.T @ X_reg_short) @ X_reg_short.T @ age \n",
    "\n",
    "# Значения, лежащие на подобранной прямой \n",
    "age_fitted_short = X_reg_short @ coefs_height\n",
    "RSS_short = np.sum((age - age_fitted_short)**2)\n",
    "\n",
    "F = ((RSS_short - RSS) / (X_reg.shape[1]-1) ) / (RSS_long / (X_reg.shape[0] - X_reg.shape[1]))\n",
    "\n",
    "# Критическое значение для распределение Фишера для 5% уровня значимости \n",
    "crit_f = sts.f.ppf(0.95, X_reg.shape[1]-1, X_reg.shape[0] - X_reg.shape[1])\n",
    "\n",
    "if F > crit_f:\n",
    "    print(\"Данные переменные совместно значимы на 5% уровне значимости\")\n",
    "else:\n",
    "    print(\"Данные переменные совместно НЕ значимы на 5% уровне значимости\")"
   ]
  },
  {
   "cell_type": "markdown",
   "metadata": {},
   "source": [
    "**Задание 8**. Используя результаты предыдущей регрессии:\n",
    "\n",
    "- Постройте корреляционную матрицу объясняющих переменных и проверьте парные коэффициенты корреляции \n",
    "на статистическую значимость (5% уровень)\n",
    "- Проверьте распределение ошибок регрессии на нормальность.\n",
    "- Постройте прогнозные значения зависимой переменной (подобранные значения y) с учетом полученных результатов.\n",
    "- Оцените **вклад** каждой переменной в прогнозе (нужно перемножить коэффициенты регрессии на исходные наблюдения и посмотреть какова их доля в зависимой переменной).\n",
    "- Кратко ответьте, а имеет ли смысл такая регрессия?"
   ]
  },
  {
   "cell_type": "code",
   "execution_count": 78,
   "metadata": {
    "scrolled": true
   },
   "outputs": [
    {
     "data": {
      "text/plain": [
       "array([[1.        , 0.77820674, 0.5233407 ],\n",
       "       [0.77820674, 1.        , 0.52263102],\n",
       "       [0.5233407 , 0.52263102, 1.        ]])"
      ]
     },
     "execution_count": 78,
     "metadata": {},
     "output_type": "execute_result"
    }
   ],
   "source": [
    "# Корреляционная матрица\n",
    "np.corrcoef(X_reg[:, 1:].T)"
   ]
  },
  {
   "cell_type": "code",
   "execution_count": 81,
   "metadata": {},
   "outputs": [
    {
     "name": "stdout",
     "output_type": "stream",
     "text": [
      "Корреляция значимо отличная от нуля\n",
      "0.7782067382369344\n",
      "Корреляция значимо отличная от нуля\n",
      "0.5233407014492549\n",
      "Корреляция значимо отличная от нуля\n",
      "0.5226310199562845\n"
     ]
    }
   ],
   "source": [
    "# Проверяем на значимость\n",
    "from scipy.stats import pearsonr\n",
    "def person_signif(data1, data2, alpha=0.05):\n",
    "    stat, p,  = pearsonr(data1, data2)\n",
    "    if p > alpha:\n",
    "        print(\"Корреляция не значимо отлична от нуля\")\n",
    "        print(stat)\n",
    "    else:\n",
    "        print(\"Корреляция значимо отличная от нуля\")\n",
    "        print(stat)\n",
    "    return\n",
    "person_signif(X_reg[:, 1], X_reg[:, 2])\n",
    "person_signif(X_reg[:, 1], X_reg[:, 3])\n",
    "person_signif(X_reg[:, 2], X_reg[:, 3])"
   ]
  },
  {
   "cell_type": "markdown",
   "metadata": {},
   "source": [
    "$e_i = y_i - \\hat{y_i}$,\n",
    "где $\\hat{y_i} = X\\theta$\n",
    "\n",
    "$X$ - значения для объясняющих факторов, $\\theta$ - коэффициенты в регрессии\n",
    "\n",
    "$e_i$ - остатки, полученные по оцененной модели"
   ]
  },
  {
   "cell_type": "code",
   "execution_count": 87,
   "metadata": {},
   "outputs": [
    {
     "name": "stdout",
     "output_type": "stream",
     "text": [
      "Ошибки распределены не нормально\n",
      "9690.45374929725 0.0\n"
     ]
    },
    {
     "data": {
      "text/plain": [
       "<matplotlib.axes._subplots.AxesSubplot at 0x7fb7d3bd2730>"
      ]
     },
     "execution_count": 87,
     "metadata": {},
     "output_type": "execute_result"
    },
    {
     "data": {
      "image/png": "[encoded data removed]",
      "text/plain": [
       "<Figure size 432x288 with 1 Axes>"
      ]
     },
     "metadata": {
      "needs_background": "light"
     },
     "output_type": "display_data"
    }
   ],
   "source": [
    "import matplotlib.pyplot as plt\n",
    "import seaborn as sns\n",
    "# Проверим ошибки на нормальность\n",
    "# Тест Харке-Бера\n",
    "from scipy.stats import jarque_bera\n",
    "# Получаем остатки в регрессии\n",
    "residuals = age - age_fitted \n",
    "stat_jb, p_jb = jarque_bera(residuals)\n",
    "if p_jb > 0.05:\n",
    "    print(\"Ошибки распределены нормально\")\n",
    "    print(stat_jb, p_jb)\n",
    "else:\n",
    "    print(\"Ошибки распределены не нормально\")\n",
    "    print(stat_jb, p_jb)\n",
    "# Можно построить график плотности распределения\n",
    "sns.distplot(residuals)"
   ]
  },
  {
   "cell_type": "code",
   "execution_count": 94,
   "metadata": {},
   "outputs": [
    {
     "data": {
      "image/png": "[encoded data removed]",
      "text/plain": [
       "<Figure size 432x288 with 1 Axes>"
      ]
     },
     "metadata": {
      "needs_background": "light"
     },
     "output_type": "display_data"
    }
   ],
   "source": [
    "# Прогнозные значения объясняемой переменной\n",
    "plt.plot(age_fitted);"
   ]
  },
  {
   "cell_type": "code",
   "execution_count": 95,
   "metadata": {},
   "outputs": [
    {
     "data": {
      "image/png": "[encoded data removed]",
      "text/plain": [
       "<Figure size 432x288 with 1 Axes>"
      ]
     },
     "metadata": {
      "needs_background": "light"
     },
     "output_type": "display_data"
    }
   ],
   "source": [
    "# Значения объясняемой переменной\n",
    "plt.plot(age);"
   ]
  },
  {
   "cell_type": "code",
   "execution_count": 99,
   "metadata": {
    "scrolled": true
   },
   "outputs": [
    {
     "data": {
      "image/png": "[encoded data removed]",
      "text/plain": [
       "<Figure size 1152x504 with 1 Axes>"
      ]
     },
     "metadata": {
      "needs_background": "light"
     },
     "output_type": "display_data"
    }
   ],
   "source": [
    "# Хороший способ посмотреть на качество подобранной прямой - через sns.regplot\n",
    "plt.figure(figsize = (16,7))\n",
    "sns.regplot(x = X_reg[:, 1], y = age);"
   ]
  },
  {
   "cell_type": "code",
   "execution_count": 110,
   "metadata": {},
   "outputs": [
    {
     "data": {
      "text/plain": [
       "array([[1.        , 0.10816749],\n",
       "       [0.10816749, 1.        ]])"
      ]
     },
     "execution_count": 110,
     "metadata": {},
     "output_type": "execute_result"
    }
   ],
   "source": [
    "# В парной регрессии коэффициент детерминации равен квадрату коэффициента корреляции между признаками\n",
    "np.corrcoef(np.hstack([X_reg[:, 1].reshape(-1,1), age]).T)\n",
    "import statsmodels.api as sm\n",
    "model = sm.OLS(endog = age, exog = X_reg[:, :2]).fit()\n",
    "np.round(0.10816749 ** 2, 5) == np.round(model.rsquared, 5)"
   ]
  },
  {
   "cell_type": "code",
   "execution_count": 145,
   "metadata": {
    "scrolled": true
   },
   "outputs": [
    {
     "data": {
      "text/plain": [
       "array([91.97897349, -5.68342621, 12.66281899,  1.04163374])"
      ]
     },
     "execution_count": 145,
     "metadata": {},
     "output_type": "execute_result"
    }
   ],
   "source": [
    "# Как правило, признаки имеют различные единицы измерения\n",
    "# Из-за этого, мы не можем сравнивать напрямую коэффициенты, полученные при оценивании МНК\n",
    "# Однако, мы можем их сравнить при стандартизации признаков \n",
    "# Другой способ - интерпретировать это как \"вклады\"\n",
    "(np.multiply(X_reg, coefs_weight_height_male.T).sum(axis=0) / age_fitted.sum()) * 100"
   ]
  },
  {
   "cell_type": "code",
   "execution_count": 141,
   "metadata": {},
   "outputs": [
    {
     "data": {
      "text/plain": [
       "array([[ 2.41057752e+01, -8.46210415e-03,  4.67598007e-02,\n",
       "         5.00561872e-01]])"
      ]
     },
     "execution_count": 141,
     "metadata": {},
     "output_type": "execute_result"
    }
   ],
   "source": [
    "coefs_weight_height_male.T"
   ]
  },
  {
   "cell_type": "code",
   "execution_count": 143,
   "metadata": {},
   "outputs": [
    {
     "data": {
      "text/plain": [
       "array([[24.10577519, -1.43855771,  5.84497508,  0.        ]])"
      ]
     },
     "execution_count": 143,
     "metadata": {},
     "output_type": "execute_result"
    }
   ],
   "source": [
    "X_reg[0] * coefs_weight_height_male.T"
   ]
  },
  {
   "cell_type": "code",
   "execution_count": 151,
   "metadata": {},
   "outputs": [
    {
     "data": {
      "text/plain": [
       "array([329959.8507425 , -20388.38219143,  45425.83707587,   3736.69437308])"
      ]
     },
     "execution_count": 151,
     "metadata": {},
     "output_type": "execute_result"
    }
   ],
   "source": [
    "np.multiply(X_reg, coefs_weight_height_male.T).sum(axis=0)"
   ]
  },
  {
   "cell_type": "markdown",
   "metadata": {},
   "source": [
    "Про коэффициент детерминации.\n",
    "\n",
    "Если нам важен прогноз, то чем выше $R^2$, тем лучше и мы пытаемся смоделировать так, чтобы он был как можно выше.\n",
    "\n",
    "Однако, когда прогноз не является основной целью, то нам высокий $R^2$ не особо важен.\n",
    "\n",
    "Еще момент. Такой $R^2$ - in-sample. Поэтому гораздо эффективнее стараться смотреть на $R^2$ - out-sample. \n"
   ]
  },
  {
   "cell_type": "markdown",
   "metadata": {},
   "source": [
    "# Часть 3. Метод ближайших соседей и бутстрап"
   ]
  },
  {
   "cell_type": "markdown",
   "metadata": {},
   "source": [
    "**Задание 9**. Метод ближайших соседей (10 баллов). \n",
    "\n",
    "Создайте целевую переменную ***Male*** (мужчина или женщина) и примените метод ближайших соседей ( для определения пола спортсмена, используя признаки ***Height*** и ***Weight***. Для тренировочной выборки берете 2000 первых наблюдений, а для тестовой - 500 последних наблюдений. Естественно нельзя пользоваться готовыми статистическими пакетами."
   ]
  },
  {
   "cell_type": "code",
   "execution_count": 170,
   "metadata": {},
   "outputs": [],
   "source": [
    "# Целевая переменная на тренировочном наборе данных\n",
    "y_train = X_reg[:2000 , 3].reshape(-1,1)\n",
    "# Объясняющий признак на тренировочной и валидационной выборке\n",
    "\n",
    "# Первые 2000 наблюдений\n",
    "X_train = X_reg[:2000 , 1:3]\n",
    "# Последние 500 наблюдений\n",
    "\n",
    "X_test = X_reg[-500: , 1:3]"
   ]
  },
  {
   "cell_type": "markdown",
   "metadata": {},
   "source": [
    "Эвклидово расстояния:\n",
    "\n",
    "$\\sqrt{(x_1 - y_1)^2 + (x_2 - y_2)^2}$"
   ]
  },
  {
   "cell_type": "code",
   "execution_count": 207,
   "metadata": {},
   "outputs": [],
   "source": [
    "# Стандартизируем объясняющие признаки\n",
    "X_train_knn_scaled = (X_train - np.mean(X_train, axis=0)) / np.std(X_train, axis=0)\n",
    "X_test_knn_scaled = (X_test - np.mean(X_train, axis=0)) / np.std(X_train, axis=0)"
   ]
  },
  {
   "cell_type": "code",
   "execution_count": 216,
   "metadata": {},
   "outputs": [
    {
     "name": "stdout",
     "output_type": "stream",
     "text": [
      "CPU times: user 33.9 ms, sys: 7.17 ms, total: 41.1 ms\n",
      "Wall time: 77 ms\n"
     ]
    },
    {
     "data": {
      "text/plain": [
       "array([[0.],\n",
       "       [0.],\n",
       "       [0.],\n",
       "       [0.],\n",
       "       [1.],\n",
       "       [1.],\n",
       "       [1.],\n",
       "       [0.],\n",
       "       [0.],\n",
       "       [1.],\n",
       "       [1.],\n",
       "       [1.],\n",
       "       [1.],\n",
       "       [0.],\n",
       "       [0.],\n",
       "       [1.],\n",
       "       [1.],\n",
       "       [1.],\n",
       "       [1.],\n",
       "       [0.],\n",
       "       [1.],\n",
       "       [1.],\n",
       "       [0.],\n",
       "       [0.],\n",
       "       [1.],\n",
       "       [1.],\n",
       "       [0.],\n",
       "       [0.],\n",
       "       [1.],\n",
       "       [1.],\n",
       "       [1.],\n",
       "       [0.],\n",
       "       [0.],\n",
       "       [0.],\n",
       "       [1.],\n",
       "       [1.],\n",
       "       [0.],\n",
       "       [0.],\n",
       "       [0.],\n",
       "       [1.],\n",
       "       [0.],\n",
       "       [0.],\n",
       "       [1.],\n",
       "       [0.],\n",
       "       [0.],\n",
       "       [1.],\n",
       "       [0.],\n",
       "       [1.],\n",
       "       [1.],\n",
       "       [1.],\n",
       "       [1.],\n",
       "       [1.],\n",
       "       [1.],\n",
       "       [1.],\n",
       "       [1.],\n",
       "       [1.],\n",
       "       [1.],\n",
       "       [1.],\n",
       "       [1.],\n",
       "       [0.],\n",
       "       [1.],\n",
       "       [1.],\n",
       "       [1.],\n",
       "       [1.],\n",
       "       [1.],\n",
       "       [1.],\n",
       "       [1.],\n",
       "       [1.],\n",
       "       [1.],\n",
       "       [1.],\n",
       "       [0.],\n",
       "       [0.],\n",
       "       [1.],\n",
       "       [0.],\n",
       "       [0.],\n",
       "       [1.],\n",
       "       [1.],\n",
       "       [1.],\n",
       "       [0.],\n",
       "       [1.],\n",
       "       [0.],\n",
       "       [0.],\n",
       "       [0.],\n",
       "       [0.],\n",
       "       [0.],\n",
       "       [0.],\n",
       "       [1.],\n",
       "       [1.],\n",
       "       [1.],\n",
       "       [0.],\n",
       "       [1.],\n",
       "       [1.],\n",
       "       [1.],\n",
       "       [0.],\n",
       "       [0.],\n",
       "       [1.],\n",
       "       [1.],\n",
       "       [0.],\n",
       "       [0.],\n",
       "       [0.],\n",
       "       [0.],\n",
       "       [0.],\n",
       "       [0.],\n",
       "       [0.],\n",
       "       [0.],\n",
       "       [0.],\n",
       "       [0.],\n",
       "       [0.],\n",
       "       [0.],\n",
       "       [0.],\n",
       "       [0.],\n",
       "       [0.],\n",
       "       [0.],\n",
       "       [1.],\n",
       "       [1.],\n",
       "       [1.],\n",
       "       [1.],\n",
       "       [0.],\n",
       "       [1.],\n",
       "       [1.],\n",
       "       [1.],\n",
       "       [1.],\n",
       "       [1.],\n",
       "       [1.],\n",
       "       [0.],\n",
       "       [0.],\n",
       "       [0.],\n",
       "       [1.],\n",
       "       [1.],\n",
       "       [1.],\n",
       "       [0.],\n",
       "       [0.],\n",
       "       [0.],\n",
       "       [1.],\n",
       "       [1.],\n",
       "       [0.],\n",
       "       [0.],\n",
       "       [1.],\n",
       "       [0.],\n",
       "       [0.],\n",
       "       [1.],\n",
       "       [0.],\n",
       "       [0.],\n",
       "       [1.],\n",
       "       [1.],\n",
       "       [1.],\n",
       "       [0.],\n",
       "       [0.],\n",
       "       [0.],\n",
       "       [1.],\n",
       "       [0.],\n",
       "       [1.],\n",
       "       [1.],\n",
       "       [1.],\n",
       "       [0.],\n",
       "       [0.],\n",
       "       [1.],\n",
       "       [1.],\n",
       "       [1.],\n",
       "       [1.],\n",
       "       [0.],\n",
       "       [0.],\n",
       "       [0.],\n",
       "       [1.],\n",
       "       [1.],\n",
       "       [0.],\n",
       "       [0.],\n",
       "       [0.],\n",
       "       [0.],\n",
       "       [0.],\n",
       "       [0.],\n",
       "       [1.],\n",
       "       [0.],\n",
       "       [1.],\n",
       "       [1.],\n",
       "       [1.],\n",
       "       [1.],\n",
       "       [1.],\n",
       "       [0.],\n",
       "       [0.],\n",
       "       [0.],\n",
       "       [1.],\n",
       "       [1.],\n",
       "       [1.],\n",
       "       [0.],\n",
       "       [1.],\n",
       "       [1.],\n",
       "       [0.],\n",
       "       [0.],\n",
       "       [0.],\n",
       "       [0.],\n",
       "       [0.],\n",
       "       [0.],\n",
       "       [1.],\n",
       "       [0.],\n",
       "       [0.],\n",
       "       [1.],\n",
       "       [0.],\n",
       "       [0.],\n",
       "       [0.],\n",
       "       [0.],\n",
       "       [0.],\n",
       "       [0.],\n",
       "       [0.],\n",
       "       [0.],\n",
       "       [0.],\n",
       "       [0.],\n",
       "       [0.],\n",
       "       [1.],\n",
       "       [0.],\n",
       "       [0.],\n",
       "       [0.],\n",
       "       [1.],\n",
       "       [1.],\n",
       "       [0.],\n",
       "       [0.],\n",
       "       [0.],\n",
       "       [0.],\n",
       "       [0.],\n",
       "       [0.],\n",
       "       [1.],\n",
       "       [1.],\n",
       "       [1.],\n",
       "       [0.],\n",
       "       [1.],\n",
       "       [0.],\n",
       "       [0.],\n",
       "       [1.],\n",
       "       [1.],\n",
       "       [1.],\n",
       "       [1.],\n",
       "       [0.],\n",
       "       [0.],\n",
       "       [0.],\n",
       "       [1.],\n",
       "       [1.],\n",
       "       [1.],\n",
       "       [1.],\n",
       "       [1.],\n",
       "       [0.],\n",
       "       [0.],\n",
       "       [0.],\n",
       "       [1.],\n",
       "       [1.],\n",
       "       [1.],\n",
       "       [0.],\n",
       "       [0.],\n",
       "       [0.],\n",
       "       [0.],\n",
       "       [0.],\n",
       "       [1.],\n",
       "       [0.],\n",
       "       [0.],\n",
       "       [1.],\n",
       "       [0.],\n",
       "       [1.],\n",
       "       [1.],\n",
       "       [1.],\n",
       "       [0.],\n",
       "       [0.],\n",
       "       [1.],\n",
       "       [1.],\n",
       "       [1.],\n",
       "       [1.],\n",
       "       [0.],\n",
       "       [0.],\n",
       "       [1.],\n",
       "       [1.],\n",
       "       [1.],\n",
       "       [0.],\n",
       "       [1.],\n",
       "       [1.],\n",
       "       [1.],\n",
       "       [1.],\n",
       "       [1.],\n",
       "       [1.],\n",
       "       [1.],\n",
       "       [1.],\n",
       "       [0.],\n",
       "       [0.],\n",
       "       [0.],\n",
       "       [1.],\n",
       "       [0.],\n",
       "       [1.],\n",
       "       [0.],\n",
       "       [1.],\n",
       "       [1.],\n",
       "       [0.],\n",
       "       [1.],\n",
       "       [0.],\n",
       "       [0.],\n",
       "       [1.],\n",
       "       [1.],\n",
       "       [0.],\n",
       "       [1.],\n",
       "       [1.],\n",
       "       [0.],\n",
       "       [0.],\n",
       "       [1.],\n",
       "       [1.],\n",
       "       [1.],\n",
       "       [1.],\n",
       "       [1.],\n",
       "       [1.],\n",
       "       [1.],\n",
       "       [0.],\n",
       "       [1.],\n",
       "       [0.],\n",
       "       [0.],\n",
       "       [0.],\n",
       "       [0.],\n",
       "       [0.],\n",
       "       [0.],\n",
       "       [0.],\n",
       "       [0.],\n",
       "       [0.],\n",
       "       [1.],\n",
       "       [0.],\n",
       "       [0.],\n",
       "       [1.],\n",
       "       [1.],\n",
       "       [0.],\n",
       "       [1.],\n",
       "       [0.],\n",
       "       [1.],\n",
       "       [1.],\n",
       "       [1.],\n",
       "       [1.],\n",
       "       [1.],\n",
       "       [1.],\n",
       "       [0.],\n",
       "       [1.],\n",
       "       [1.],\n",
       "       [0.],\n",
       "       [0.],\n",
       "       [1.],\n",
       "       [1.],\n",
       "       [1.],\n",
       "       [1.],\n",
       "       [1.],\n",
       "       [0.],\n",
       "       [1.],\n",
       "       [0.],\n",
       "       [1.],\n",
       "       [0.],\n",
       "       [0.],\n",
       "       [1.],\n",
       "       [0.],\n",
       "       [1.],\n",
       "       [0.],\n",
       "       [1.],\n",
       "       [1.],\n",
       "       [0.],\n",
       "       [1.],\n",
       "       [1.],\n",
       "       [1.],\n",
       "       [0.],\n",
       "       [1.],\n",
       "       [1.],\n",
       "       [0.],\n",
       "       [0.],\n",
       "       [0.],\n",
       "       [1.],\n",
       "       [1.],\n",
       "       [1.],\n",
       "       [1.],\n",
       "       [1.],\n",
       "       [0.],\n",
       "       [1.],\n",
       "       [1.],\n",
       "       [1.],\n",
       "       [0.],\n",
       "       [0.],\n",
       "       [0.],\n",
       "       [0.],\n",
       "       [0.],\n",
       "       [0.],\n",
       "       [0.],\n",
       "       [0.],\n",
       "       [0.],\n",
       "       [1.],\n",
       "       [1.],\n",
       "       [1.],\n",
       "       [0.],\n",
       "       [1.],\n",
       "       [1.],\n",
       "       [1.],\n",
       "       [1.],\n",
       "       [1.],\n",
       "       [0.],\n",
       "       [1.],\n",
       "       [0.],\n",
       "       [0.],\n",
       "       [0.],\n",
       "       [1.],\n",
       "       [0.],\n",
       "       [0.],\n",
       "       [0.],\n",
       "       [0.],\n",
       "       [0.],\n",
       "       [1.],\n",
       "       [0.],\n",
       "       [0.],\n",
       "       [0.],\n",
       "       [0.],\n",
       "       [1.],\n",
       "       [0.],\n",
       "       [1.],\n",
       "       [0.],\n",
       "       [1.],\n",
       "       [0.],\n",
       "       [1.],\n",
       "       [0.],\n",
       "       [1.],\n",
       "       [0.],\n",
       "       [1.],\n",
       "       [0.],\n",
       "       [0.],\n",
       "       [0.],\n",
       "       [1.],\n",
       "       [0.],\n",
       "       [1.],\n",
       "       [0.],\n",
       "       [0.],\n",
       "       [0.],\n",
       "       [1.],\n",
       "       [1.],\n",
       "       [1.],\n",
       "       [0.],\n",
       "       [0.],\n",
       "       [0.],\n",
       "       [0.],\n",
       "       [0.],\n",
       "       [0.],\n",
       "       [1.],\n",
       "       [0.],\n",
       "       [0.],\n",
       "       [1.],\n",
       "       [1.],\n",
       "       [0.],\n",
       "       [1.],\n",
       "       [0.],\n",
       "       [0.],\n",
       "       [1.],\n",
       "       [1.],\n",
       "       [1.],\n",
       "       [1.],\n",
       "       [0.],\n",
       "       [1.],\n",
       "       [1.],\n",
       "       [0.],\n",
       "       [1.],\n",
       "       [1.],\n",
       "       [1.],\n",
       "       [1.],\n",
       "       [1.],\n",
       "       [1.],\n",
       "       [0.],\n",
       "       [0.],\n",
       "       [1.],\n",
       "       [1.],\n",
       "       [1.],\n",
       "       [1.],\n",
       "       [1.],\n",
       "       [1.],\n",
       "       [0.],\n",
       "       [0.],\n",
       "       [1.],\n",
       "       [0.],\n",
       "       [0.],\n",
       "       [1.],\n",
       "       [1.],\n",
       "       [1.],\n",
       "       [1.],\n",
       "       [1.],\n",
       "       [0.],\n",
       "       [0.],\n",
       "       [0.],\n",
       "       [1.],\n",
       "       [1.],\n",
       "       [1.],\n",
       "       [1.],\n",
       "       [1.],\n",
       "       [0.],\n",
       "       [1.],\n",
       "       [0.],\n",
       "       [0.],\n",
       "       [1.],\n",
       "       [1.],\n",
       "       [0.],\n",
       "       [1.],\n",
       "       [1.],\n",
       "       [1.],\n",
       "       [1.],\n",
       "       [0.],\n",
       "       [1.],\n",
       "       [0.],\n",
       "       [0.],\n",
       "       [0.],\n",
       "       [0.]])"
      ]
     },
     "execution_count": 216,
     "metadata": {},
     "output_type": "execute_result"
    }
   ],
   "source": [
    "%%time\n",
    "def get_dist(x):\n",
    "    ''' Создаем матрицу с попарными расстояниями между признаками на тестовой выборке\n",
    "    и тренировочной'''\n",
    "    return np.linalg.norm(x - X_train_knn_scaled, axis = 1)\n",
    "dist_mat = np.apply_along_axis(get_dist, 1, X_test_knn_scaled)\n",
    "\n",
    "# Берем 7 ближайших соседей (первые 7 индексов по убыванию в тренировочной выборке)\n",
    "n = 7\n",
    "dist_mat_sort_index = dist_mat.argpartition(kth = n, axis = 1)[:, 0:7]\n",
    "# Заменяем в остортированной матрице расстояний индексы на соответствующие им значения целевой переменной\n",
    "\n",
    "dist_target = np.apply_along_axis(lambda x: y_train[x], 1, dist_mat_sort_index)\n",
    "\n",
    "# Предсказываем целевую переменную методом большинства\n",
    "y_pred = np.round(dist_target.mean(axis = 1),0)\n",
    "y_pred"
   ]
  },
  {
   "cell_type": "markdown",
   "metadata": {},
   "source": [
    "**Задание 10**. Вес спринтеров (10 баллов). \n",
    "\n",
    "Вычислить 95% доверительный интервал с помощью бутстрапа для среднего значения веса спортсменов в беге на 100 метров для мужчин и для женщин."
   ]
  },
  {
   "cell_type": "code",
   "execution_count": 189,
   "metadata": {},
   "outputs": [],
   "source": [
    "male_100 = df[(df[:, 13]==\"Athletics Men's 100 metres\")][:, 5]\n",
    "female_100 = df[(df[:, 13]==\"Athletics Women's 100 metres\")][:, 5]"
   ]
  },
  {
   "cell_type": "code",
   "execution_count": 194,
   "metadata": {},
   "outputs": [
    {
     "name": "stdout",
     "output_type": "stream",
     "text": [
      "95% доверительный интервал для среднего веса мужчин спринтеров \n",
      " [72.48809524 75.82142857]\n",
      "95% доверительный интервал для среднего веса женщин спринтеров \n",
      " [58.0625 61.5875]\n"
     ]
    }
   ],
   "source": [
    "import numpy as np\n",
    "def get_bootstrap_samples(data, n_samples):\n",
    "    # функция для генерации подвыборок с помощью бутстрэпа\n",
    "    indices = np.random.randint(0, len(data), (n_samples, len(data)))\n",
    "    samples = data[indices]\n",
    "    return samples\n",
    "def stat_intervals(stat, alpha):\n",
    "    # функция для интервальной оценки\n",
    "    boundaries = np.percentile(stat, [100 * alpha / 2., 100 * (1 - alpha / 2.)])\n",
    "    return boundaries\n",
    "\n",
    "# ставим seed для воспроизводимости результатов\n",
    "np.random.seed(0)\n",
    "\n",
    "# генерируем выборки с помощью бутстрэра и сразу считаем по каждой из них среднее\n",
    "male_100_mean_weight = [np.mean(sample) \n",
    "                       for sample in get_bootstrap_samples(male_100, 10000)]\n",
    "#  выводим интервальную оценку среднего\n",
    "print(\"95% доверительный интервал для среднего веса мужчин спринтеров \\n\",  \n",
    "      stat_intervals(male_100_mean_weight, 0.025)\n",
    "     )\n",
    "female_100_mean_weight = [np.mean(sample) \n",
    "                       for sample in get_bootstrap_samples(female_100, 10000)]\n",
    "#  выводим интервальную оценку среднего\n",
    "print(\"95% доверительный интервал для среднего веса женщин спринтеров \\n\",  \n",
    "      stat_intervals(female_100_mean_weight, 0.025)\n",
    "     )"
   ]
  }
 ],
 "metadata": {
  "kernelspec": {
   "display_name": "Python 3",
   "language": "python",
   "name": "python3"
  },
  "language_info": {
   "codemirror_mode": {
    "name": "ipython",
    "version": 3
   },
   "file_extension": ".py",
   "mimetype": "text/x-python",
   "name": "python",
   "nbconvert_exporter": "python",
   "pygments_lexer": "ipython3",
   "version": "3.8.3"
  }
 },
 "nbformat": 4,
 "nbformat_minor": 4
}
