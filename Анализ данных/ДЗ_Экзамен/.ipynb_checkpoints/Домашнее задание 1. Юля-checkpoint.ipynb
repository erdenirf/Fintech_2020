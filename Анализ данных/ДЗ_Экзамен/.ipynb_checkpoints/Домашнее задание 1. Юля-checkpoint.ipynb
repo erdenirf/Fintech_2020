{
 "cells": [
  {
   "cell_type": "markdown",
   "metadata": {},
   "source": [
    "# Часть 1. Строковый тип данных и функции"
   ]
  },
  {
   "cell_type": "markdown",
   "metadata": {},
   "source": [
    "**Задание 1**. Тайна моего имени. (10 баллов)\n",
    "\n",
    "Напишите функцию, где на вход подается ваше ФИО (на русском и с пробельными разделителями) и которая в качестве результата выдает следующее:\n",
    "- количество букв\n",
    "- частоту букв (словарик с тем, сколько раз каждая буква встречается)\n",
    "- факториал числа, равному длине фамилии\n",
    "- факториал числа, равному длине имени\n",
    "- модуль разности факториалов чисел от длины имени и фамилии\n"
   ]
  },
  {
   "cell_type": "markdown",
   "metadata": {},
   "source": [
    "**Задание 2**. Тайна имен однокурсников (10 баллов)\n",
    "\n",
    "В этом задании нужно использовать список всех однокурсников. Ваша задача вывести:\n",
    "- самое короткое ФИО (без пробелов)\n",
    "- самое длинное ФИО (без пробелов)\n",
    "- самое популярное ИМЯ\n",
    "- фамилию, где используется наибольшее количество уникальных букв (если таких несколько, то весь список)\n",
    "- разницу между длиной собственого ФИО (разделители - пробелы) и самого длинного ФИО (с разделители - пробелы)"
   ]
  },
  {
   "cell_type": "markdown",
   "metadata": {},
   "source": [
    "**Задание 3**. Беговая дорожка. (10 баллов)\n",
    "\n",
    "Когда я занимаюсь на беговой дорожке, меня часто волнует то, за какое время я пробегу необходимое количество километров при заданной средней скорости (км в час). Ваша задача написать функцию, где на вход подается: \n",
    "- количество километров, которое человек планирует пробежать (целое число от 1 до 40)\n",
    "- средняя скорость, которая задается на беговой дорожке в км / час (целое число от 1 до 20)\n",
    "\n",
    "Функция должна вывести время (в минутах и секундах) за которое человек пробежит данное количество километров при заданной скорости беговой дорожки.\n",
    "\n",
    "Пример. Я ставлю себе скорость в 10 км в час. За какое время в минутах и секундах я пробегу 2 км? "
   ]
  }
 ],
 "metadata": {
  "kernelspec": {
   "display_name": "Python 3",
   "language": "python",
   "name": "python3"
  },
  "language_info": {
   "codemirror_mode": {
    "name": "ipython",
    "version": 3
   },
   "file_extension": ".py",
   "mimetype": "text/x-python",
   "name": "python",
   "nbconvert_exporter": "python",
   "pygments_lexer": "ipython3",
   "version": "3.8.3"
  },
  "toc": {
   "base_numbering": 1,
   "nav_menu": {},
   "number_sections": true,
   "sideBar": true,
   "skip_h1_title": false,
   "title_cell": "Table of Contents",
   "title_sidebar": "Contents",
   "toc_cell": false,
   "toc_position": {},
   "toc_section_display": true,
   "toc_window_display": false
  },
  "varInspector": {
   "cols": {
    "lenName": 16,
    "lenType": 16,
    "lenVar": 40
   },
   "kernels_config": {
    "python": {
     "delete_cmd_postfix": "",
     "delete_cmd_prefix": "del ",
     "library": "var_list.py",
     "varRefreshCmd": "print(var_dic_list())"
    },
    "r": {
     "delete_cmd_postfix": ") ",
     "delete_cmd_prefix": "rm(",
     "library": "var_list.r",
     "varRefreshCmd": "cat(var_dic_list()) "
    }
   },
   "types_to_exclude": [
    "module",
    "function",
    "builtin_function_or_method",
    "instance",
    "_Feature"
   ],
   "window_display": false
  }
 },
 "nbformat": 4,
 "nbformat_minor": 4
}
